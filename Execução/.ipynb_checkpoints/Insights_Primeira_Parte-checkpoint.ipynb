{
 "cells": [
  {
   "cell_type": "markdown",
   "metadata": {},
   "source": [
    "<h1>Importando os Dados</h1>"
   ]
  },
  {
   "cell_type": "code",
   "execution_count": 29,
   "metadata": {},
   "outputs": [
    {
     "data": {
      "text/html": [
       "<div>\n",
       "<style scoped>\n",
       "    .dataframe tbody tr th:only-of-type {\n",
       "        vertical-align: middle;\n",
       "    }\n",
       "\n",
       "    .dataframe tbody tr th {\n",
       "        vertical-align: top;\n",
       "    }\n",
       "\n",
       "    .dataframe thead th {\n",
       "        text-align: right;\n",
       "    }\n",
       "</style>\n",
       "<table border=\"1\" class=\"dataframe\">\n",
       "  <thead>\n",
       "    <tr style=\"text-align: right;\">\n",
       "      <th></th>\n",
       "      <th>id</th>\n",
       "      <th>date</th>\n",
       "      <th>price</th>\n",
       "      <th>bedrooms</th>\n",
       "      <th>bathrooms</th>\n",
       "      <th>sqft_living</th>\n",
       "      <th>sqft_lot</th>\n",
       "      <th>floors</th>\n",
       "      <th>waterfront</th>\n",
       "      <th>view</th>\n",
       "      <th>...</th>\n",
       "      <th>grade</th>\n",
       "      <th>sqft_above</th>\n",
       "      <th>sqft_basement</th>\n",
       "      <th>yr_built</th>\n",
       "      <th>yr_renovated</th>\n",
       "      <th>zipcode</th>\n",
       "      <th>lat</th>\n",
       "      <th>long</th>\n",
       "      <th>sqft_living15</th>\n",
       "      <th>sqft_lot15</th>\n",
       "    </tr>\n",
       "  </thead>\n",
       "  <tbody>\n",
       "    <tr>\n",
       "      <th>4318</th>\n",
       "      <td>8113100850</td>\n",
       "      <td>2015-04-10</td>\n",
       "      <td>402500.0</td>\n",
       "      <td>3</td>\n",
       "      <td>1.00</td>\n",
       "      <td>1290</td>\n",
       "      <td>4000</td>\n",
       "      <td>1.5</td>\n",
       "      <td>0</td>\n",
       "      <td>0</td>\n",
       "      <td>...</td>\n",
       "      <td>7</td>\n",
       "      <td>1290</td>\n",
       "      <td>0</td>\n",
       "      <td>1926</td>\n",
       "      <td>0</td>\n",
       "      <td>98118</td>\n",
       "      <td>47,5462</td>\n",
       "      <td>-122,2770</td>\n",
       "      <td>1160</td>\n",
       "      <td>5040</td>\n",
       "    </tr>\n",
       "    <tr>\n",
       "      <th>10874</th>\n",
       "      <td>8653900070</td>\n",
       "      <td>2014-08-04</td>\n",
       "      <td>791500.0</td>\n",
       "      <td>4</td>\n",
       "      <td>2.50</td>\n",
       "      <td>3250</td>\n",
       "      <td>8970</td>\n",
       "      <td>2.0</td>\n",
       "      <td>0</td>\n",
       "      <td>0</td>\n",
       "      <td>...</td>\n",
       "      <td>10</td>\n",
       "      <td>3250</td>\n",
       "      <td>0</td>\n",
       "      <td>1994</td>\n",
       "      <td>0</td>\n",
       "      <td>98075</td>\n",
       "      <td>47,5862</td>\n",
       "      <td>-122,0370</td>\n",
       "      <td>3240</td>\n",
       "      <td>8449</td>\n",
       "    </tr>\n",
       "    <tr>\n",
       "      <th>20845</th>\n",
       "      <td>993002108</td>\n",
       "      <td>2015-03-30</td>\n",
       "      <td>399995.0</td>\n",
       "      <td>3</td>\n",
       "      <td>1.50</td>\n",
       "      <td>1140</td>\n",
       "      <td>1069</td>\n",
       "      <td>3.0</td>\n",
       "      <td>0</td>\n",
       "      <td>0</td>\n",
       "      <td>...</td>\n",
       "      <td>8</td>\n",
       "      <td>1140</td>\n",
       "      <td>0</td>\n",
       "      <td>2005</td>\n",
       "      <td>0</td>\n",
       "      <td>98103</td>\n",
       "      <td>47,6907</td>\n",
       "      <td>-122,3420</td>\n",
       "      <td>1230</td>\n",
       "      <td>1276</td>\n",
       "    </tr>\n",
       "    <tr>\n",
       "      <th>12483</th>\n",
       "      <td>9528102110</td>\n",
       "      <td>2014-09-17</td>\n",
       "      <td>517000.0</td>\n",
       "      <td>3</td>\n",
       "      <td>2.25</td>\n",
       "      <td>1640</td>\n",
       "      <td>4635</td>\n",
       "      <td>1.5</td>\n",
       "      <td>0</td>\n",
       "      <td>0</td>\n",
       "      <td>...</td>\n",
       "      <td>8</td>\n",
       "      <td>1540</td>\n",
       "      <td>100</td>\n",
       "      <td>1930</td>\n",
       "      <td>0</td>\n",
       "      <td>98115</td>\n",
       "      <td>47,6793</td>\n",
       "      <td>-122,3190</td>\n",
       "      <td>1530</td>\n",
       "      <td>4635</td>\n",
       "    </tr>\n",
       "    <tr>\n",
       "      <th>5414</th>\n",
       "      <td>8058500005</td>\n",
       "      <td>2015-02-03</td>\n",
       "      <td>290000.0</td>\n",
       "      <td>2</td>\n",
       "      <td>1.00</td>\n",
       "      <td>1620</td>\n",
       "      <td>5400</td>\n",
       "      <td>1.0</td>\n",
       "      <td>0</td>\n",
       "      <td>0</td>\n",
       "      <td>...</td>\n",
       "      <td>6</td>\n",
       "      <td>920</td>\n",
       "      <td>700</td>\n",
       "      <td>1926</td>\n",
       "      <td>0</td>\n",
       "      <td>98125</td>\n",
       "      <td>47,7069</td>\n",
       "      <td>-122,2990</td>\n",
       "      <td>1540</td>\n",
       "      <td>7245</td>\n",
       "    </tr>\n",
       "    <tr>\n",
       "      <th>18521</th>\n",
       "      <td>3600072</td>\n",
       "      <td>2015-03-30</td>\n",
       "      <td>680000.0</td>\n",
       "      <td>4</td>\n",
       "      <td>2.75</td>\n",
       "      <td>2220</td>\n",
       "      <td>5310</td>\n",
       "      <td>1.0</td>\n",
       "      <td>0</td>\n",
       "      <td>0</td>\n",
       "      <td>...</td>\n",
       "      <td>7</td>\n",
       "      <td>1170</td>\n",
       "      <td>1050</td>\n",
       "      <td>1951</td>\n",
       "      <td>0</td>\n",
       "      <td>98144</td>\n",
       "      <td>47,5801</td>\n",
       "      <td>-122,2940</td>\n",
       "      <td>1540</td>\n",
       "      <td>4200</td>\n",
       "    </tr>\n",
       "    <tr>\n",
       "      <th>2094</th>\n",
       "      <td>6083000083</td>\n",
       "      <td>2014-06-11</td>\n",
       "      <td>248000.0</td>\n",
       "      <td>5</td>\n",
       "      <td>1.50</td>\n",
       "      <td>1510</td>\n",
       "      <td>9078</td>\n",
       "      <td>1.0</td>\n",
       "      <td>0</td>\n",
       "      <td>0</td>\n",
       "      <td>...</td>\n",
       "      <td>7</td>\n",
       "      <td>1510</td>\n",
       "      <td>0</td>\n",
       "      <td>1959</td>\n",
       "      <td>0</td>\n",
       "      <td>98168</td>\n",
       "      <td>47,4852</td>\n",
       "      <td>-122,3050</td>\n",
       "      <td>1480</td>\n",
       "      <td>9078</td>\n",
       "    </tr>\n",
       "    <tr>\n",
       "      <th>5518</th>\n",
       "      <td>1525059215</td>\n",
       "      <td>2015-02-24</td>\n",
       "      <td>815000.0</td>\n",
       "      <td>5</td>\n",
       "      <td>2.25</td>\n",
       "      <td>3410</td>\n",
       "      <td>35536</td>\n",
       "      <td>2.0</td>\n",
       "      <td>0</td>\n",
       "      <td>0</td>\n",
       "      <td>...</td>\n",
       "      <td>10</td>\n",
       "      <td>2530</td>\n",
       "      <td>880</td>\n",
       "      <td>1974</td>\n",
       "      <td>0</td>\n",
       "      <td>98005</td>\n",
       "      <td>47,6500</td>\n",
       "      <td>-122,1550</td>\n",
       "      <td>3140</td>\n",
       "      <td>43453</td>\n",
       "    </tr>\n",
       "    <tr>\n",
       "      <th>9097</th>\n",
       "      <td>5419801120</td>\n",
       "      <td>2015-01-13</td>\n",
       "      <td>314000.0</td>\n",
       "      <td>3</td>\n",
       "      <td>2.75</td>\n",
       "      <td>1900</td>\n",
       "      <td>8200</td>\n",
       "      <td>2.0</td>\n",
       "      <td>0</td>\n",
       "      <td>0</td>\n",
       "      <td>...</td>\n",
       "      <td>7</td>\n",
       "      <td>1900</td>\n",
       "      <td>0</td>\n",
       "      <td>1984</td>\n",
       "      <td>0</td>\n",
       "      <td>98031</td>\n",
       "      <td>47,4020</td>\n",
       "      <td>-122,1830</td>\n",
       "      <td>1620</td>\n",
       "      <td>8200</td>\n",
       "    </tr>\n",
       "    <tr>\n",
       "      <th>10090</th>\n",
       "      <td>2621420060</td>\n",
       "      <td>2014-07-28</td>\n",
       "      <td>275000.0</td>\n",
       "      <td>4</td>\n",
       "      <td>2.50</td>\n",
       "      <td>2060</td>\n",
       "      <td>5742</td>\n",
       "      <td>2.0</td>\n",
       "      <td>0</td>\n",
       "      <td>0</td>\n",
       "      <td>...</td>\n",
       "      <td>7</td>\n",
       "      <td>2060</td>\n",
       "      <td>0</td>\n",
       "      <td>1999</td>\n",
       "      <td>0</td>\n",
       "      <td>98030</td>\n",
       "      <td>47,3612</td>\n",
       "      <td>-122,1850</td>\n",
       "      <td>1610</td>\n",
       "      <td>7298</td>\n",
       "    </tr>\n",
       "  </tbody>\n",
       "</table>\n",
       "<p>10 rows × 21 columns</p>\n",
       "</div>"
      ],
      "text/plain": [
       "               id        date     price  bedrooms  bathrooms  sqft_living  \\\n",
       "4318   8113100850  2015-04-10  402500.0         3       1.00         1290   \n",
       "10874  8653900070  2014-08-04  791500.0         4       2.50         3250   \n",
       "20845   993002108  2015-03-30  399995.0         3       1.50         1140   \n",
       "12483  9528102110  2014-09-17  517000.0         3       2.25         1640   \n",
       "5414   8058500005  2015-02-03  290000.0         2       1.00         1620   \n",
       "18521     3600072  2015-03-30  680000.0         4       2.75         2220   \n",
       "2094   6083000083  2014-06-11  248000.0         5       1.50         1510   \n",
       "5518   1525059215  2015-02-24  815000.0         5       2.25         3410   \n",
       "9097   5419801120  2015-01-13  314000.0         3       2.75         1900   \n",
       "10090  2621420060  2014-07-28  275000.0         4       2.50         2060   \n",
       "\n",
       "       sqft_lot  floors  waterfront  view  ...  grade  sqft_above  \\\n",
       "4318       4000     1.5           0     0  ...      7        1290   \n",
       "10874      8970     2.0           0     0  ...     10        3250   \n",
       "20845      1069     3.0           0     0  ...      8        1140   \n",
       "12483      4635     1.5           0     0  ...      8        1540   \n",
       "5414       5400     1.0           0     0  ...      6         920   \n",
       "18521      5310     1.0           0     0  ...      7        1170   \n",
       "2094       9078     1.0           0     0  ...      7        1510   \n",
       "5518      35536     2.0           0     0  ...     10        2530   \n",
       "9097       8200     2.0           0     0  ...      7        1900   \n",
       "10090      5742     2.0           0     0  ...      7        2060   \n",
       "\n",
       "       sqft_basement  yr_built  yr_renovated  zipcode      lat       long  \\\n",
       "4318               0      1926             0    98118  47,5462  -122,2770   \n",
       "10874              0      1994             0    98075  47,5862  -122,0370   \n",
       "20845              0      2005             0    98103  47,6907  -122,3420   \n",
       "12483            100      1930             0    98115  47,6793  -122,3190   \n",
       "5414             700      1926             0    98125  47,7069  -122,2990   \n",
       "18521           1050      1951             0    98144  47,5801  -122,2940   \n",
       "2094               0      1959             0    98168  47,4852  -122,3050   \n",
       "5518             880      1974             0    98005  47,6500  -122,1550   \n",
       "9097               0      1984             0    98031  47,4020  -122,1830   \n",
       "10090              0      1999             0    98030  47,3612  -122,1850   \n",
       "\n",
       "      sqft_living15  sqft_lot15  \n",
       "4318           1160        5040  \n",
       "10874          3240        8449  \n",
       "20845          1230        1276  \n",
       "12483          1530        4635  \n",
       "5414           1540        7245  \n",
       "18521          1540        4200  \n",
       "2094           1480        9078  \n",
       "5518           3140       43453  \n",
       "9097           1620        8200  \n",
       "10090          1610        7298  \n",
       "\n",
       "[10 rows x 21 columns]"
      ]
     },
     "execution_count": 29,
     "metadata": {},
     "output_type": "execute_result"
    }
   ],
   "source": [
    "import pandas as pd\n",
    "import numpy as np\n",
    "import matplotlib.pyplot as plt\n",
    "\n",
    "DataFrame = pd.read_csv('kc_house_data.csv', encoding='UTF-8', sep=\";\")\n",
    "DataFrame.sample(10)"
   ]
  },
  {
   "cell_type": "markdown",
   "metadata": {},
   "source": [
    "<h3>A empresa, House Rocket, deseja obter infromações e o direcionamento de mercado de casas na cidade de King County, USA, para isto ela levantou as seguintes questões: </h3>\n",
    "<h3> \n",
    "    <ol>\n",
    "    <li>Quais casas o CEO da House Rocket deveria comprar e por qual preço de compra?</li>  <br>   \n",
    "    <li>Uma vez a casa em posse da empresa, qual o melhor momento para vendê-las e qual seria o preço da venda?</li>   <br>  \n",
    "    <li> A House Rocket deveria fazer uma reforma para aumentar o preço da venda? Quais seriam as sugestões de mudanças? Qual o incremento no preço dado por cada opção de reforma?</li>       \n",
    "    </ol>\n",
    "</h3>"
   ]
  },
  {
   "cell_type": "markdown",
   "metadata": {},
   "source": [
    "<h6>Informações</h6>\n",
    "\n",
    "sqft_basement = tamanho do porão\n",
    "\n",
    "sqft_above = tamanho segundo andar\n",
    "\n",
    "yr_built = ano de construção\n",
    "\n",
    "yr_renovated = ano da reforma"
   ]
  },
  {
   "cell_type": "code",
   "execution_count": 30,
   "metadata": {
    "collapsed": true,
    "scrolled": false
   },
   "outputs": [],
   "source": [
    "Renovated = DataFrame[DataFrame['yr_renovated']!=0]\n",
    "Unrenovated = DataFrame[DataFrame['yr_renovated']==0]"
   ]
  },
  {
   "cell_type": "code",
   "execution_count": 31,
   "metadata": {},
   "outputs": [
    {
     "data": {
      "text/plain": [
       "id               7129300520\n",
       "date             2014-10-13\n",
       "price              221900.0\n",
       "bedrooms                  3\n",
       "bathrooms               1.0\n",
       "sqft_living            1180\n",
       "sqft_lot               5650\n",
       "floors                  1.0\n",
       "waterfront                0\n",
       "view                      0\n",
       "condition                 3\n",
       "grade                     7\n",
       "sqft_above             1180\n",
       "sqft_basement             0\n",
       "yr_built               1955\n",
       "yr_renovated              0\n",
       "zipcode               98178\n",
       "lat                 47,5112\n",
       "long              -122,2570\n",
       "sqft_living15          1340\n",
       "sqft_lot15             5650\n",
       "Name: 0, dtype: object"
      ]
     },
     "execution_count": 31,
     "metadata": {},
     "output_type": "execute_result"
    }
   ],
   "source": [
    "DataFrame.loc[0,:]"
   ]
  },
  {
   "cell_type": "code",
   "execution_count": 32,
   "metadata": {},
   "outputs": [
    {
     "data": {
      "text/plain": [
       "1446211405.583151"
      ]
     },
     "execution_count": 32,
     "metadata": {},
     "output_type": "execute_result"
    }
   ],
   "source": [
    "Ren = Renovated['price'].mean()\n",
    "Ren"
   ]
  },
  {
   "cell_type": "code",
   "execution_count": 33,
   "metadata": {},
   "outputs": [
    {
     "data": {
      "text/plain": [
       "529524767.00782645"
      ]
     },
     "execution_count": 33,
     "metadata": {},
     "output_type": "execute_result"
    }
   ],
   "source": [
    "Unr = Unrenovated['price'].mean()\n",
    "Unr"
   ]
  },
  {
   "cell_type": "code",
   "execution_count": 34,
   "metadata": {},
   "outputs": [
    {
     "name": "stdout",
     "output_type": "stream",
     "text": [
      "916686638.5753247\n"
     ]
    }
   ],
   "source": [
    "print(Ren - Unr)"
   ]
  },
  {
   "cell_type": "markdown",
   "metadata": {},
   "source": [
    "<h3> Pelos passos acima podemos perceber que na média as casas reformadas são mais valorizadas que as casas sem reforma.\n",
    "    \n",
    "Sendo assim seria interessante o CEO reformar a casa antes de Vendê-la.\n",
    "</h3>\n",
    "\n",
    "<h3> Seguindo esta lógica, o recomendado seria o CEO comprar uma casa mais barata para reformar e revender.<br>\n",
    "    \n",
    "Primeiramente será indicado uma casa que esteja entre as mais antigas e consequentemente mais barata (pelo menos este é o esperado).</h3>\n",
    "\n"
   ]
  },
  {
   "cell_type": "code",
   "execution_count": 35,
   "metadata": {},
   "outputs": [
    {
     "name": "stdout",
     "output_type": "stream",
     "text": [
      "               id        date     price  bedrooms  bathrooms  sqft_living  \\\n",
      "14001  2354300456  2015-03-11  130000.0         2        1.0          600   \n",
      "\n",
      "       sqft_lot  floors  waterfront  view  ...  grade  sqft_above  \\\n",
      "14001      1500     1.0           0     0  ...      4         600   \n",
      "\n",
      "       sqft_basement  yr_built  yr_renovated  zipcode      lat       long  \\\n",
      "14001              0      1900             0    98027  47,5289  -122,0330   \n",
      "\n",
      "      sqft_living15  sqft_lot15  \n",
      "14001          1130        6000  \n",
      "\n",
      "[1 rows x 21 columns]\n"
     ]
    },
    {
     "data": {
      "text/plain": [
       "14001    4\n",
       "Name: condition, dtype: int64"
      ]
     },
     "execution_count": 35,
     "metadata": {},
     "output_type": "execute_result"
    }
   ],
   "source": [
    "Cheaper = Unrenovated[Unrenovated['yr_built'] == Unrenovated['yr_built'].min()]\n",
    "CheapestElderHouse = Cheaper[Cheaper['price'] == Cheaper['price'].min()]\n",
    "print(CheapestElderHouse)\n",
    "CheapestElderHouse['condition']"
   ]
  },
  {
   "cell_type": "code",
   "execution_count": 36,
   "metadata": {},
   "outputs": [
    {
     "name": "stdout",
     "output_type": "stream",
     "text": [
      "              id        date    price  bedrooms  bathrooms  sqft_living  \\\n",
      "1149  3421079032  2015-02-17  75000.0         1        0.0          670   \n",
      "\n",
      "      sqft_lot  floors  waterfront  view  ...  grade  sqft_above  \\\n",
      "1149     43377     1.0           0     0  ...      3         670   \n",
      "\n",
      "      sqft_basement  yr_built  yr_renovated  zipcode      lat       long  \\\n",
      "1149              0      1966             0    98022  47,2638  -121,9060   \n",
      "\n",
      "     sqft_living15  sqft_lot15  \n",
      "1149          1160       42882  \n",
      "\n",
      "[1 rows x 21 columns]\n"
     ]
    },
    {
     "data": {
      "text/plain": [
       "1149    3\n",
       "Name: condition, dtype: int64"
      ]
     },
     "execution_count": 36,
     "metadata": {},
     "output_type": "execute_result"
    }
   ],
   "source": [
    "CheapestHouse = Unrenovated[Unrenovated['price'] == Unrenovated['price'].min()]\n",
    "print(CheapestHouse)\n",
    "CheapestHouse['condition']"
   ]
  },
  {
   "cell_type": "markdown",
   "metadata": {},
   "source": [
    "<h3> Diferente do esperado, nos resultados acima foi encontrada a casa barata e mais antiga (130 mil), e também a mais barata independente do ano (75 mil). Analisando os preços pode-se dizer que não existe motivos evidentes para o CEO comprar a casa mais antiga, pois ambas casas tem o espaço de construção parecido (sqft_living) e apesar da casa de 75 mil estar numa condição pior e ter menos banheiros e quartos, isto pode ser solucionado na reforma e valorizar a casa. <br>\n",
    "    \n",
    "Apenas faria sentido comprar a casa antiga se fosse para moradia, pois esta estaria numa melhor condição de moradia e teria mais recursos que a casa de 75 mil.\n",
    "    \n",
    "<br>\n",
    "Sendo assim seria indicado que o CEO comprasse casas baratas no geral, entre 75 mil e 100mil, não importando muito com seu tempo de construção, uma vez que este não indica uma diminuição nos preços e nem com suas condições e itens como banheiros e quartos, uma vez que estes itens poderiam ser construidos numa reforma desde que o \"sqft_lot\" o possibilite.\n",
    "</h3>"
   ]
  },
  {
   "cell_type": "code",
   "execution_count": 37,
   "metadata": {},
   "outputs": [
    {
     "name": "stdout",
     "output_type": "stream",
     "text": [
      "ZipCode com casas mais caras em média 98039 valor médio 14294837700.0\n"
     ]
    }
   ],
   "source": [
    "df = DataFrame.groupby('zipcode').mean()\n",
    "ExpensiveZip = df[df['price'] == df['price'].max()]\n",
    "print('ZipCode com casas mais caras em média', ExpensiveZip.index.values[0], 'valor médio', df['price'].max())"
   ]
  },
  {
   "cell_type": "code",
   "execution_count": 38,
   "metadata": {},
   "outputs": [
    {
     "name": "stdout",
     "output_type": "stream",
     "text": [
      "ZipCode com casas mais baratas em média 98002 valor médio 234284.0351758794\n",
      "média geral é: 568290860.9169481\n"
     ]
    }
   ],
   "source": [
    "CheapZip = df[df['price'] == df['price'].min()]\n",
    "generalMean = DataFrame['price'].mean()\n",
    "print('ZipCode com casas mais baratas em média',CheapZip.index.values[0], 'valor médio', df['price'].min())\n",
    "print('média geral é:', generalMean)"
   ]
  },
  {
   "cell_type": "markdown",
   "metadata": {},
   "source": [
    "<h3> Outra variável que pode impactar o preço da casa é a localização, podemos análisar isso através da coluna \"zipcode\", e como visto anteriormente nos resultados seria interessante evitar o zipcode 98002, já que sua média é de 234.284, enquanto a média geral das casas em King County é de 568.290.860.<br>\n",
    "\n",
    "<br>\n",
    "Sabendo o valor médio das casas em King County, é possível afirmar que a reforma é uma boa estratégia, uma vez que o valor médio das casas reformadas, que é de 1.446.211.405, é maior que o valor médio das casas em geral e das casas não reformadas, como visto anteriormente.\n",
    "</h3>"
   ]
  },
  {
   "cell_type": "code",
   "execution_count": 39,
   "metadata": {
    "scrolled": true
   },
   "outputs": [
    {
     "data": {
      "text/html": [
       "<div>\n",
       "<style scoped>\n",
       "    .dataframe tbody tr th:only-of-type {\n",
       "        vertical-align: middle;\n",
       "    }\n",
       "\n",
       "    .dataframe tbody tr th {\n",
       "        vertical-align: top;\n",
       "    }\n",
       "\n",
       "    .dataframe thead th {\n",
       "        text-align: right;\n",
       "    }\n",
       "</style>\n",
       "<table border=\"1\" class=\"dataframe\">\n",
       "  <thead>\n",
       "    <tr style=\"text-align: right;\">\n",
       "      <th></th>\n",
       "      <th>percentage</th>\n",
       "    </tr>\n",
       "  </thead>\n",
       "  <tbody>\n",
       "    <tr>\n",
       "      <th>311</th>\n",
       "      <td>0.000084</td>\n",
       "    </tr>\n",
       "    <tr>\n",
       "      <th>185</th>\n",
       "      <td>0.000246</td>\n",
       "    </tr>\n",
       "    <tr>\n",
       "      <th>235</th>\n",
       "      <td>0.000406</td>\n",
       "    </tr>\n",
       "    <tr>\n",
       "      <th>4</th>\n",
       "      <td>0.000416</td>\n",
       "    </tr>\n",
       "    <tr>\n",
       "      <th>69</th>\n",
       "      <td>0.000785</td>\n",
       "    </tr>\n",
       "    <tr>\n",
       "      <th>...</th>\n",
       "      <td>...</td>\n",
       "    </tr>\n",
       "    <tr>\n",
       "      <th>217</th>\n",
       "      <td>2404.460813</td>\n",
       "    </tr>\n",
       "    <tr>\n",
       "      <th>103</th>\n",
       "      <td>3751.724138</td>\n",
       "    </tr>\n",
       "    <tr>\n",
       "      <th>215</th>\n",
       "      <td>5375.000000</td>\n",
       "    </tr>\n",
       "    <tr>\n",
       "      <th>299</th>\n",
       "      <td>11495.327103</td>\n",
       "    </tr>\n",
       "    <tr>\n",
       "      <th>91</th>\n",
       "      <td>718875.816993</td>\n",
       "    </tr>\n",
       "  </tbody>\n",
       "</table>\n",
       "<p>177 rows × 1 columns</p>\n",
       "</div>"
      ],
      "text/plain": [
       "        percentage\n",
       "311       0.000084\n",
       "185       0.000246\n",
       "235       0.000406\n",
       "4         0.000416\n",
       "69        0.000785\n",
       "..             ...\n",
       "217    2404.460813\n",
       "103    3751.724138\n",
       "215    5375.000000\n",
       "299   11495.327103\n",
       "91   718875.816993\n",
       "\n",
       "[177 rows x 1 columns]"
      ]
     },
     "execution_count": 39,
     "metadata": {},
     "output_type": "execute_result"
    }
   ],
   "source": [
    "table = DataFrame.iloc[0:0]\n",
    "\n",
    "count = 0\n",
    "valor = DataFrame['id'].duplicated(keep=False)#vetor 'valor' com valores de true ou false para ids duplicados no BD\n",
    "\n",
    "#LOCALIZANDO IDS IGUAIS, OU SEJA VALORES DIFERENTES DA MESMA CASA\n",
    "\n",
    "for i in valor:#pegando os dados do BD que tem ids duplicados por meio do vetor 'valor'\n",
    "    if i == True:\n",
    "        table = table.append(DataFrame.loc[count,:])\n",
    "        \n",
    "    count+=1\n",
    "        \n",
    "table = table.sort_values(by=['id'])\n",
    "vetorizing = table['id'].to_numpy()\n",
    "vetorizing = vetorizing.tolist()\n",
    "meanProfit = vetorizing   \n",
    "\n",
    "#CALCULANDO A VALORIZAÇÃO/DESVALORIZAÇÃO PELO TEMPO ENTRE OS IDS IGUAIS E SALVANDO OS VALORES EM meanProfit\n",
    "\n",
    "for i in range(0,len(vetorizing),1):\n",
    "    if(i+1 < len(vetorizing)):\n",
    "        if(vetorizing[i] == vetorizing[i+1]):\n",
    "            locActual = DataFrame.loc[i,:]\n",
    "            locProx = DataFrame.loc[i+1,:]\n",
    "            if locActual['date'] > locProx['date']:\n",
    "                meanProfit[i] =  (locActual['price']/locProx['price'])\n",
    "            else:\n",
    "                meanProfit[i] = (locProx['price']/locActual['price'])\n",
    "        else:\n",
    "            meanProfit[i] = 0\n",
    "    else:\n",
    "        meanProfit[i] = 0\n",
    "df_meanProfit = pd.DataFrame(meanProfit, columns = ['percentage'])    \n",
    "df_meanProfit = df_meanProfit[df_meanProfit['percentage'] != 0]\n",
    "#Passando de lista para DataFrame e retirando valores zerados\n",
    "\n",
    "df_meanProfit.sort_values(by=['percentage'])"
   ]
  },
  {
   "cell_type": "markdown",
   "metadata": {},
   "source": [
    "<h3> É possível perceber que tem algumas porcentagens muito extremas tanto aumentando, como um aumento de 718875.81%, quanto diminuindo, como um \"aumento\" de 0.000084%, ou seja, uma diminuição. Sendo assim será removido tanto os 5 maiores quanto os 5 menores valores  </h3>"
   ]
  },
  {
   "cell_type": "code",
   "execution_count": 40,
   "metadata": {},
   "outputs": [
    {
     "data": {
      "text/html": [
       "<div>\n",
       "<style scoped>\n",
       "    .dataframe tbody tr th:only-of-type {\n",
       "        vertical-align: middle;\n",
       "    }\n",
       "\n",
       "    .dataframe tbody tr th {\n",
       "        vertical-align: top;\n",
       "    }\n",
       "\n",
       "    .dataframe thead th {\n",
       "        text-align: right;\n",
       "    }\n",
       "</style>\n",
       "<table border=\"1\" class=\"dataframe\">\n",
       "  <thead>\n",
       "    <tr style=\"text-align: right;\">\n",
       "      <th></th>\n",
       "      <th>percentage</th>\n",
       "    </tr>\n",
       "  </thead>\n",
       "  <tbody>\n",
       "    <tr>\n",
       "      <th>313</th>\n",
       "      <td>0.001012</td>\n",
       "    </tr>\n",
       "    <tr>\n",
       "      <th>269</th>\n",
       "      <td>0.002125</td>\n",
       "    </tr>\n",
       "    <tr>\n",
       "      <th>245</th>\n",
       "      <td>0.151250</td>\n",
       "    </tr>\n",
       "    <tr>\n",
       "      <th>191</th>\n",
       "      <td>0.208949</td>\n",
       "    </tr>\n",
       "    <tr>\n",
       "      <th>327</th>\n",
       "      <td>0.251858</td>\n",
       "    </tr>\n",
       "    <tr>\n",
       "      <th>...</th>\n",
       "      <td>...</td>\n",
       "    </tr>\n",
       "    <tr>\n",
       "      <th>183</th>\n",
       "      <td>5.107034</td>\n",
       "    </tr>\n",
       "    <tr>\n",
       "      <th>20</th>\n",
       "      <td>5.194805</td>\n",
       "    </tr>\n",
       "    <tr>\n",
       "      <th>49</th>\n",
       "      <td>5.921053</td>\n",
       "    </tr>\n",
       "    <tr>\n",
       "      <th>153</th>\n",
       "      <td>6.428571</td>\n",
       "    </tr>\n",
       "    <tr>\n",
       "      <th>281</th>\n",
       "      <td>12.058824</td>\n",
       "    </tr>\n",
       "  </tbody>\n",
       "</table>\n",
       "<p>167 rows × 1 columns</p>\n",
       "</div>"
      ],
      "text/plain": [
       "     percentage\n",
       "313    0.001012\n",
       "269    0.002125\n",
       "245    0.151250\n",
       "191    0.208949\n",
       "327    0.251858\n",
       "..          ...\n",
       "183    5.107034\n",
       "20     5.194805\n",
       "49     5.921053\n",
       "153    6.428571\n",
       "281   12.058824\n",
       "\n",
       "[167 rows x 1 columns]"
      ]
     },
     "execution_count": 40,
     "metadata": {},
     "output_type": "execute_result"
    }
   ],
   "source": [
    "for i in range(5):\n",
    "    df_meanProfit = df_meanProfit[df_meanProfit['percentage'] != df_meanProfit['percentage'].max()]\n",
    "    df_meanProfit = df_meanProfit[df_meanProfit['percentage'] != df_meanProfit['percentage'].min()]\n",
    "df_meanProfit.sort_values(by=['percentage'])\n",
    "#Aqui já é possível ver valores mais 'reais', para realização de uma boa análise"
   ]
  },
  {
   "cell_type": "code",
   "execution_count": 41,
   "metadata": {},
   "outputs": [
    {
     "data": {
      "text/plain": [
       "percentage    1.251853\n",
       "dtype: float64"
      ]
     },
     "execution_count": 41,
     "metadata": {},
     "output_type": "execute_result"
    }
   ],
   "source": [
    "df_meanProfit.mean()"
   ]
  },
  {
   "cell_type": "markdown",
   "metadata": {},
   "source": [
    "<h2> Pode-se inferir pelo resultado acima que com o tempo as casas tendem a se valorizar cerca de 25%.\n",
    "<br><br><br>\n",
    "    Sabendo disso abaixo é explorado em qual mês o valor de venda é maior de acordo com os dados.\n",
    "</h2>"
   ]
  },
  {
   "cell_type": "code",
   "execution_count": 42,
   "metadata": {
    "scrolled": true
   },
   "outputs": [
    {
     "name": "stdout",
     "output_type": "stream",
     "text": [
      "a média de valor no mês 1 é de: 3.8E+08\n",
      "a média de valor no mês 2 é de: 5.3E+08\n",
      "a média de valor no mês 3 é de: 4.3E+08\n",
      "a média de valor no mês 4 é de: 2.2E+08\n",
      "a média de valor no mês 5 é de: 5.1E+08\n",
      "a média de valor no mês 6 é de: 5.2E+08\n",
      "a média de valor no mês 7 é de: 1.1E+09\n",
      "a média de valor no mês 8 é de: 6.6E+08\n",
      "a média de valor no mês 9 é de: 5.9E+08\n",
      "a média de valor no mês 10 é de: 7.6E+08\n",
      "a média de valor no mês 11 é de: 4.3E+08\n",
      "a média de valor no mês 12 é de: 6.0E+08\n"
     ]
    }
   ],
   "source": [
    "DataFrame['date'] = pd.to_datetime(DataFrame['date'])\n",
    "for i in range(12):\n",
    "    meanMonth = DataFrame[DataFrame['date'].dt.month == i+1]\n",
    "    print('a média de valor no mês', i+1, 'é de:', format(meanMonth['price'].mean(),'.1E'))"
   ]
  },
  {
   "cell_type": "markdown",
   "metadata": {},
   "source": [
    "<h2> Vimos que o valor de vendas começa a aumentar em maio(5) atinge o auge em julho(7) e\n",
    "em seguida os valores diminuem alcançando uma baixa em novembro(11), porém se mantém com vendas acima do que no primeiro semestre.<br><br><br> Abaixo a análise a ser feita vai além dos meses mas também em qual ano foram feitas essas vendas.</h2>"
   ]
  },
  {
   "cell_type": "code",
   "execution_count": 43,
   "metadata": {},
   "outputs": [
    {
     "name": "stdout",
     "output_type": "stream",
     "text": [
      "a média de valor no mês 1 no ano de 2014 é de: NAN\n",
      "a média de valor no mês 2 no ano de 2014 é de: NAN\n",
      "a média de valor no mês 3 no ano de 2014 é de: NAN\n",
      "a média de valor no mês 4 no ano de 2014 é de: NAN\n",
      "a média de valor no mês 5 no ano de 2014 é de: 3.1E+08\n",
      "a média de valor no mês 6 no ano de 2014 é de: 5.2E+08\n",
      "a média de valor no mês 7 no ano de 2014 é de: 1.1E+09\n",
      "a média de valor no mês 8 no ano de 2014 é de: 6.6E+08\n",
      "a média de valor no mês 9 no ano de 2014 é de: 5.9E+08\n",
      "a média de valor no mês 10 no ano de 2014 é de: 7.6E+08\n",
      "a média de valor no mês 11 no ano de 2014 é de: 4.3E+08\n",
      "a média de valor no mês 12 no ano de 2014 é de: 6.0E+08\n",
      "a média de valor no mês 1 no ano de 2015 é de: 3.8E+08\n",
      "a média de valor no mês 2 no ano de 2015 é de: 5.3E+08\n",
      "a média de valor no mês 3 no ano de 2015 é de: 4.3E+08\n",
      "a média de valor no mês 4 no ano de 2015 é de: 2.2E+08\n",
      "a média de valor no mês 5 no ano de 2015 é de: 1.0E+09\n",
      "a média de valor no mês 6 no ano de 2015 é de: NAN\n",
      "a média de valor no mês 7 no ano de 2015 é de: NAN\n",
      "a média de valor no mês 8 no ano de 2015 é de: NAN\n",
      "a média de valor no mês 9 no ano de 2015 é de: NAN\n",
      "a média de valor no mês 10 no ano de 2015 é de: NAN\n",
      "a média de valor no mês 11 no ano de 2015 é de: NAN\n",
      "a média de valor no mês 12 no ano de 2015 é de: NAN\n"
     ]
    }
   ],
   "source": [
    "for j in range(2014, 2016, 1):\n",
    "    for i in range(12):\n",
    "        meanMonth = DataFrame[DataFrame['date'].dt.month == i+1]\n",
    "        meanMonthPerYear = meanMonth[meanMonth['date'].dt.year == j]\n",
    "        print('a média de valor no mês', i+1, 'no ano de', j,'é de:', format(meanMonthPerYear['price'].mean(),'.1E'))"
   ]
  },
  {
   "cell_type": "markdown",
   "metadata": {},
   "source": [
    "<h2> Nesta análise vê-se que os dados confirmam a ideia de que as vendas a partir de julho tendem a ser maiores e também é possível inferir uma valorização nas casas de 2014 para 2015, desta forma uma estratégia de negócio seria esperar a valorização do imóvel de um ano para o outro, se esta for uma opção viável.<br><br><br> A análise abaixo busca compreender o impacto do número de banheiros no valor da casa.</h2>"
   ]
  },
  {
   "cell_type": "code",
   "execution_count": 44,
   "metadata": {
    "scrolled": false
   },
   "outputs": [
    {
     "name": "stdout",
     "output_type": "stream",
     "text": [
      "a média de valor para 0 banheiros é de: 1.3E+10\n",
      "a média de valor para 7.5 banheiros é de: 4.5E+05\n",
      "a média de valor para 7.75 banheiros é de: 6.9E+09\n",
      "a média de valor para 8 banheiros é de: 5.0E+06\n",
      "a média de valor para 1.0 banheiros é de: 2.7E+07\n",
      "a média de valor para 1.25 banheiros é de: 2.9E+08\n",
      "a média de valor para 1.5 banheiros é de: 8.2E+06\n",
      "a média de valor para 1.75 banheiros é de: 6.2E+07\n",
      "a média de valor para 2.0 banheiros é de: 2.4E+07\n",
      "a média de valor para 2.25 banheiros é de: 2.8E+08\n",
      "a média de valor para 2.5 banheiros é de: 2.9E+08\n",
      "a média de valor para 2.75 banheiros é de: 8.6E+08\n",
      "a média de valor para 3.0 banheiros é de: 6.6E+08\n",
      "a média de valor para 3.25 banheiros é de: 3.5E+09\n",
      "a média de valor para 3.5 banheiros é de: 2.9E+09\n",
      "a média de valor para 3.75 banheiros é de: 3.8E+09\n",
      "a média de valor para 4.0 banheiros é de: 6.9E+09\n",
      "a média de valor para 4.25 banheiros é de: 7.3E+09\n",
      "a média de valor para 4.5 banheiros é de: 9.0E+09\n",
      "a média de valor para 4.75 banheiros é de: 2.2E+10\n",
      "a média de valor para 5.0 banheiros é de: 6.9E+09\n",
      "a média de valor para 5.25 banheiros é de: 4.7E+09\n",
      "a média de valor para 5.5 banheiros é de: 5.5E+08\n",
      "a média de valor para 5.75 banheiros é de: 2.5E+06\n",
      "a média de valor para 6.0 banheiros é de: 1.6E+09\n",
      "a média de valor para 6.25 banheiros é de: 1.4E+09\n",
      "a média de valor para 6.5 banheiros é de: 1.1E+11\n",
      "a média de valor para 6.75 banheiros é de: 2.3E+09\n",
      "a média de valor para 7.0 banheiros é de: NAN\n",
      "a média de valor para 7.25 banheiros é de: NAN\n"
     ]
    }
   ],
   "source": [
    "bathrooms = DataFrame['bathrooms'].value_counts().sort_index()\n",
    "save = bathrooms.tolist()\n",
    "#print(bathrooms)\n",
    "for i in range(len(bathrooms)):\n",
    "    if i>3:\n",
    "        meanVal = DataFrame[DataFrame['bathrooms'] == (i/4)]\n",
    "        print('a média de valor para', i*0.25, 'banheiros é de:', format(meanVal['price'].mean(),'.1E'))\n",
    "        save[i-3] = (meanVal['price'].mean())\n",
    "    else:\n",
    "        if i == 0:\n",
    "            meanVal = DataFrame[DataFrame['bathrooms'] == i]\n",
    "            print('a média de valor para', i, 'banheiros é de:', format(meanVal['price'].mean(),'.1E'))\n",
    "            save[i] = (meanVal['price'].mean())\n",
    "            \n",
    "        elif i==1:\n",
    "            meanVal = DataFrame[DataFrame['bathrooms'] == 7.5]\n",
    "            print('a média de valor para', 7.5, 'banheiros é de:', format(meanVal['price'].mean(),'.1E'))\n",
    "            save[27] = (meanVal['price'].mean())\n",
    "            \n",
    "        elif i==2:\n",
    "            meanVal = DataFrame[DataFrame['bathrooms'] == 7.75]\n",
    "            print('a média de valor para', 7.75, 'banheiros é de:', format(meanVal['price'].mean(),'.1E'))\n",
    "            save[28] = (meanVal['price'].mean())\n",
    "\n",
    "        elif i==3:\n",
    "            meanVal = DataFrame[DataFrame['bathrooms'] == 8]\n",
    "            print('a média de valor para', 8, 'banheiros é de:', format(meanVal['price'].mean(),'.1E'))\n",
    "            save[29] = (meanVal['price'].mean())\n"
   ]
  },
  {
   "cell_type": "markdown",
   "metadata": {},
   "source": [
    "<h2> Os dados da base não são muito claros quanto as quantidades dos banheiros, ou seja, não é explicitado o que são 3.75 banheiros.<br> Desta forma a análise abaixo busca entender apenas os valores exatos.</h2>"
   ]
  },
  {
   "cell_type": "code",
   "execution_count": 45,
   "metadata": {
    "scrolled": false
   },
   "outputs": [
    {
     "name": "stdout",
     "output_type": "stream",
     "text": [
      "banheiros 0.0 média: 1.3E+10\n",
      "banheiros 1.0 média: 2.7E+07\n",
      "banheiros 2.0 média: 2.4E+07\n",
      "banheiros 3.0 média: 6.6E+08\n",
      "banheiros 4.0 média: 6.9E+09\n",
      "banheiros 5.0 média: 6.9E+09\n",
      "banheiros 6.0 média: 1.6E+09\n",
      "banheiros 7.0 média: NAN\n",
      "banheiros 8.0 média: 5.0E+06\n"
     ]
    }
   ],
   "source": [
    "for i in range(len(save)):\n",
    "    if (i-1) % 4 == 0:\n",
    "        print('banheiros', 1+(i-1)/4,'média:', format(save[i],'.1E'))\n",
    "    elif i == 0:\n",
    "        print('banheiros', (i/4),'média:', format(save[i],'.1E'))\n"
   ]
  },
  {
   "cell_type": "markdown",
   "metadata": {},
   "source": [
    "<h2> Desconsiderando as casas com 0 banheiros, que obtêm uma valorização muito superior aos outros imóveis por motivos não compreensíveis, vemos que uma boa casa em termos de valorização deve ter ao menos 3 banheiros, pois com 1 ou 2 banheiros o valor não sofre grande alterações, mas a partir de 3 banheiros é notável a valorização das casas e o limite da valorização é em 6 banheiros, pois utilizando as informações vemos que a partir de 6 banheiros existe uma desvalorização nas médias dos imóveis.<br><br><br> As análises abaixo serão feitas de mesma forma, mas levará em conta o número de quartos, andares, fontes de água frontal e view(que eu assumi como vista para pontos turísticos ou então paisagens).</h2>"
   ]
  },
  {
   "cell_type": "code",
   "execution_count": 46,
   "metadata": {},
   "outputs": [
    {
     "name": "stdout",
     "output_type": "stream",
     "text": [
      "a média de valor para 0 quarto(s) é de: 1.0E+10\n",
      "a média de valor para 1 quarto(s) é de: 6.6E+06\n",
      "a média de valor para 2 quarto(s) é de: 1.1E+08\n",
      "a média de valor para 3 quarto(s) é de: 1.3E+08\n",
      "a média de valor para 4 quarto(s) é de: 7.7E+08\n",
      "a média de valor para 5 quarto(s) é de: 3.1E+09\n",
      "a média de valor para 6 quarto(s) é de: 6.9E+08\n",
      "a média de valor para 7 quarto(s) é de: 1.1E+08\n",
      "a média de valor para 8 quarto(s) é de: 1.1E+06\n",
      "a média de valor para 9 quarto(s) é de: 8.9E+05\n",
      "a média de valor para 10 quarto(s) é de: 3.8E+08\n",
      "a média de valor para 11 quarto(s) é de: 5.2E+05\n",
      "a média de valor para 33 quartos é de: 6.4E+05\n"
     ]
    }
   ],
   "source": [
    "bedrooms = DataFrame['bedrooms'].value_counts().sort_index()\n",
    "save = bedrooms.tolist()\n",
    "#print(bedrooms)\n",
    "for i in range(len(bedrooms)):\n",
    "    if i == 12:\n",
    "        meanVal = DataFrame[DataFrame['bedrooms'] == 33]\n",
    "        print('a média de valor para', 33, 'quartos é de:', format(meanVal['price'].mean(),'.1E'))\n",
    "        save[i] = (meanVal['price'].mean())\n",
    "    else:    \n",
    "        meanVal = DataFrame[DataFrame['bedrooms'] == i]\n",
    "        print('a média de valor para', i, 'quarto(s) é de:', format(meanVal['price'].mean(),'.1E'))\n",
    "        save[i] = (meanVal['price'].mean())\n",
    "\n",
    "        \n",
    "    \n",
    "    "
   ]
  },
  {
   "cell_type": "markdown",
   "metadata": {},
   "source": [
    "<h2> A partir da análise acima é possível concluir que o número adequado de quartos para uma boa valorização do imóvel é entre 2 a 5, no máximo 6, quartos. </h2>"
   ]
  },
  {
   "cell_type": "code",
   "execution_count": 47,
   "metadata": {},
   "outputs": [
    {
     "name": "stdout",
     "output_type": "stream",
     "text": [
      "a média de valor para 1.0 andar(es) é de: 1.7E+08\n",
      "a média de valor para 1.5 andar(es) é de: 3.6E+08\n",
      "a média de valor para 2.0 andar(es) é de: 1.1E+09\n",
      "a média de valor para 2.5 andar(es) é de: 1.3E+09\n",
      "a média de valor para 3.0 andar(es) é de: 5.5E+08\n",
      "a média de valor para 3.5 andar(es) é de: 1.4E+08\n"
     ]
    }
   ],
   "source": [
    "floors = DataFrame['floors'].value_counts().sort_index()\n",
    "save = floors.tolist()\n",
    "#print(floors)\n",
    "for i in range(len(floors)):\n",
    "    meanVal = DataFrame[DataFrame['floors'] == ((i*0.5)+1)]\n",
    "    print('a média de valor para', ((i*0.5)+1), 'andar(es) é de:', format(meanVal['price'].mean(),'.1E'))\n",
    "    save[i] = (meanVal['price'].mean())\n"
   ]
  },
  {
   "cell_type": "markdown",
   "metadata": {},
   "source": [
    "<h2> Assim como nos dados sobre banheiros, nos dados de andares também temos valores além dos inteiros/naturais, análisando apenas os valores do \"mundo real\", ou seja, 1, 2 ou 3 andares, vemos que o ideal do imóvel é ter 2 andares.</h2>"
   ]
  },
  {
   "cell_type": "code",
   "execution_count": 48,
   "metadata": {},
   "outputs": [
    {
     "name": "stdout",
     "output_type": "stream",
     "text": [
      "a média de valor para 0 fonte de água frontal é de: 5.5E+08\n",
      "a média de valor para 1 fonte de água frontal é de: 2.6E+09\n"
     ]
    }
   ],
   "source": [
    "waterfront = DataFrame['waterfront'].value_counts().sort_index()\n",
    "save = waterfront.tolist()\n",
    "#print(waterfront)\n",
    "for i in range(len(waterfront)):\n",
    "    meanVal = DataFrame[DataFrame['waterfront'] == i]\n",
    "    print('a média de valor para', i, 'fonte de água frontal é de:', format(meanVal['price'].mean(),'.1E'))\n",
    "    save[i] = (meanVal['price'].mean())"
   ]
  },
  {
   "cell_type": "markdown",
   "metadata": {},
   "source": [
    "<h2> Sobre os resultados acima, vemos que, se o espaço da casa suporta, seria interessante ter uma fonte de água frontal, pois isso muito provavelmente geraria um aumento no valor da casa.</h2>"
   ]
  },
  {
   "cell_type": "code",
   "execution_count": 49,
   "metadata": {},
   "outputs": [
    {
     "name": "stdout",
     "output_type": "stream",
     "text": [
      "a média de valor para 0 vista(s) é de: 3.8E+08\n",
      "a média de valor para 1 vista(s) é de: 1.9E+09\n",
      "a média de valor para 2 vista(s) é de: 1.3E+09\n",
      "a média de valor para 3 vista(s) é de: 2.7E+09\n",
      "a média de valor para 4 vista(s) é de: 4.9E+09\n"
     ]
    }
   ],
   "source": [
    "view = DataFrame['view'].value_counts().sort_index()\n",
    "save = view.tolist()\n",
    "#print(view)\n",
    "for i in range(len(view)):\n",
    "    meanVal = DataFrame[DataFrame['view'] == i]\n",
    "    print('a média de valor para', i, 'vista(s) é de:', format(meanVal['price'].mean(),'.1E'))\n",
    "    save[i] = (meanVal['price'].mean())"
   ]
  },
  {
   "cell_type": "markdown",
   "metadata": {},
   "source": [
    "<h2> Pelos dados acima pode-se dizer que é interessante para a empresa observar quais casas possuem uma(1) vista no mínimo e de preferência 4 vistas.</h2>\n",
    "\n",
    "\n",
    "<br>\n",
    "<br>\n",
    "<br>\n",
    "\n",
    "<h2>Respondendo as perguntas do início:</h2>"
   ]
  },
  {
   "cell_type": "markdown",
   "metadata": {},
   "source": [
    "<h2> 1. Quais casas o CEO da House Rocket deveria comprar e por qual preço de compra? </h2>\n",
    "\n",
    "<h3>Em resumo as casas que o CEO da House Rocket deveria comprar são:\n",
    "    <ol>\n",
    "        <li>Casas com valores menores que 200 mil</li>\n",
    "        <li>De preferência casas passíveis de serem reformadas, ou seja, que não tenham sido reformadas.</li>\n",
    "        <li>De preferência casas no ZipCode 98039.</li>\n",
    "        <li>Casas de 3 a 5 banheiros, e caso não tenha ao ser comprado é indicada a construção dos mesmos na reforma.</li>\n",
    "        <li>Casas de 2 a 5 quartos, e caso não tenha ao ser comprado é indicada a construção dos mesmos na reforma.</li>\n",
    "        <li>Casas de 2 andares, e caso não tenha ao ser comprado é indicada a construção dos mesmos na reforma.</li>\n",
    "        <li>Casas com 1 fonte de água frontal, e caso não tenha ao ser comprado é indicada a construção da mesma na reforma.</li>\n",
    "        <li>Casas com vista e de preferência com o valor igual a 4.</li>\n",
    "    </ol>\n",
    "</h3>"
   ]
  },
  {
   "cell_type": "code",
   "execution_count": 50,
   "metadata": {},
   "outputs": [
    {
     "data": {
      "text/html": [
       "<div>\n",
       "<style scoped>\n",
       "    .dataframe tbody tr th:only-of-type {\n",
       "        vertical-align: middle;\n",
       "    }\n",
       "\n",
       "    .dataframe tbody tr th {\n",
       "        vertical-align: top;\n",
       "    }\n",
       "\n",
       "    .dataframe thead th {\n",
       "        text-align: right;\n",
       "    }\n",
       "</style>\n",
       "<table border=\"1\" class=\"dataframe\">\n",
       "  <thead>\n",
       "    <tr style=\"text-align: right;\">\n",
       "      <th></th>\n",
       "      <th>id</th>\n",
       "      <th>date</th>\n",
       "      <th>price</th>\n",
       "      <th>bedrooms</th>\n",
       "      <th>bathrooms</th>\n",
       "      <th>sqft_living</th>\n",
       "      <th>sqft_lot</th>\n",
       "      <th>floors</th>\n",
       "      <th>waterfront</th>\n",
       "      <th>view</th>\n",
       "      <th>...</th>\n",
       "      <th>grade</th>\n",
       "      <th>sqft_above</th>\n",
       "      <th>sqft_basement</th>\n",
       "      <th>yr_built</th>\n",
       "      <th>yr_renovated</th>\n",
       "      <th>zipcode</th>\n",
       "      <th>lat</th>\n",
       "      <th>long</th>\n",
       "      <th>sqft_living15</th>\n",
       "      <th>sqft_lot15</th>\n",
       "    </tr>\n",
       "  </thead>\n",
       "  <tbody>\n",
       "    <tr>\n",
       "      <th>4768</th>\n",
       "      <td>4045500130</td>\n",
       "      <td>2014-09-09</td>\n",
       "      <td>154000.0</td>\n",
       "      <td>2</td>\n",
       "      <td>1.00</td>\n",
       "      <td>1040</td>\n",
       "      <td>20524</td>\n",
       "      <td>1.0</td>\n",
       "      <td>0</td>\n",
       "      <td>3</td>\n",
       "      <td>...</td>\n",
       "      <td>6</td>\n",
       "      <td>1040</td>\n",
       "      <td>0</td>\n",
       "      <td>1949</td>\n",
       "      <td>1989</td>\n",
       "      <td>98014</td>\n",
       "      <td>47,6981</td>\n",
       "      <td>-121,8750</td>\n",
       "      <td>1880</td>\n",
       "      <td>38996</td>\n",
       "    </tr>\n",
       "    <tr>\n",
       "      <th>1626</th>\n",
       "      <td>5016003230</td>\n",
       "      <td>2015-02-18</td>\n",
       "      <td>169317.0</td>\n",
       "      <td>2</td>\n",
       "      <td>1.00</td>\n",
       "      <td>790</td>\n",
       "      <td>4000</td>\n",
       "      <td>1.0</td>\n",
       "      <td>0</td>\n",
       "      <td>2</td>\n",
       "      <td>...</td>\n",
       "      <td>7</td>\n",
       "      <td>790</td>\n",
       "      <td>0</td>\n",
       "      <td>1908</td>\n",
       "      <td>0</td>\n",
       "      <td>98112</td>\n",
       "      <td>47,6248</td>\n",
       "      <td>-122,3010</td>\n",
       "      <td>1700</td>\n",
       "      <td>4200</td>\n",
       "    </tr>\n",
       "    <tr>\n",
       "      <th>16842</th>\n",
       "      <td>226109056</td>\n",
       "      <td>2015-03-26</td>\n",
       "      <td>170000.0</td>\n",
       "      <td>1</td>\n",
       "      <td>0.75</td>\n",
       "      <td>850</td>\n",
       "      <td>5600</td>\n",
       "      <td>1.0</td>\n",
       "      <td>0</td>\n",
       "      <td>2</td>\n",
       "      <td>...</td>\n",
       "      <td>6</td>\n",
       "      <td>850</td>\n",
       "      <td>0</td>\n",
       "      <td>1903</td>\n",
       "      <td>1994</td>\n",
       "      <td>98019</td>\n",
       "      <td>47,7654</td>\n",
       "      <td>-121,4800</td>\n",
       "      <td>900</td>\n",
       "      <td>12250</td>\n",
       "    </tr>\n",
       "    <tr>\n",
       "      <th>1849</th>\n",
       "      <td>6052400575</td>\n",
       "      <td>2014-05-14</td>\n",
       "      <td>175000.0</td>\n",
       "      <td>2</td>\n",
       "      <td>1.00</td>\n",
       "      <td>1170</td>\n",
       "      <td>8925</td>\n",
       "      <td>1.0</td>\n",
       "      <td>0</td>\n",
       "      <td>2</td>\n",
       "      <td>...</td>\n",
       "      <td>6</td>\n",
       "      <td>1170</td>\n",
       "      <td>0</td>\n",
       "      <td>1911</td>\n",
       "      <td>0</td>\n",
       "      <td>98198</td>\n",
       "      <td>47,4017</td>\n",
       "      <td>-122,3210</td>\n",
       "      <td>1380</td>\n",
       "      <td>7440</td>\n",
       "    </tr>\n",
       "    <tr>\n",
       "      <th>15248</th>\n",
       "      <td>1320069249</td>\n",
       "      <td>2014-10-20</td>\n",
       "      <td>192500.0</td>\n",
       "      <td>1</td>\n",
       "      <td>1.00</td>\n",
       "      <td>470</td>\n",
       "      <td>63737</td>\n",
       "      <td>1.0</td>\n",
       "      <td>0</td>\n",
       "      <td>2</td>\n",
       "      <td>...</td>\n",
       "      <td>5</td>\n",
       "      <td>470</td>\n",
       "      <td>0</td>\n",
       "      <td>1924</td>\n",
       "      <td>0</td>\n",
       "      <td>98022</td>\n",
       "      <td>47,2163</td>\n",
       "      <td>-121,9840</td>\n",
       "      <td>1350</td>\n",
       "      <td>46762</td>\n",
       "    </tr>\n",
       "  </tbody>\n",
       "</table>\n",
       "<p>5 rows × 21 columns</p>\n",
       "</div>"
      ],
      "text/plain": [
       "               id       date     price  bedrooms  bathrooms  sqft_living  \\\n",
       "4768   4045500130 2014-09-09  154000.0         2       1.00         1040   \n",
       "1626   5016003230 2015-02-18  169317.0         2       1.00          790   \n",
       "16842   226109056 2015-03-26  170000.0         1       0.75          850   \n",
       "1849   6052400575 2014-05-14  175000.0         2       1.00         1170   \n",
       "15248  1320069249 2014-10-20  192500.0         1       1.00          470   \n",
       "\n",
       "       sqft_lot  floors  waterfront  view  ...  grade  sqft_above  \\\n",
       "4768      20524     1.0           0     3  ...      6        1040   \n",
       "1626       4000     1.0           0     2  ...      7         790   \n",
       "16842      5600     1.0           0     2  ...      6         850   \n",
       "1849       8925     1.0           0     2  ...      6        1170   \n",
       "15248     63737     1.0           0     2  ...      5         470   \n",
       "\n",
       "       sqft_basement  yr_built  yr_renovated  zipcode      lat       long  \\\n",
       "4768               0      1949          1989    98014  47,6981  -121,8750   \n",
       "1626               0      1908             0    98112  47,6248  -122,3010   \n",
       "16842              0      1903          1994    98019  47,7654  -121,4800   \n",
       "1849               0      1911             0    98198  47,4017  -122,3210   \n",
       "15248              0      1924             0    98022  47,2163  -121,9840   \n",
       "\n",
       "      sqft_living15  sqft_lot15  \n",
       "4768           1880       38996  \n",
       "1626           1700        4200  \n",
       "16842           900       12250  \n",
       "1849           1380        7440  \n",
       "15248          1350       46762  \n",
       "\n",
       "[5 rows x 21 columns]"
      ]
     },
     "execution_count": 50,
     "metadata": {},
     "output_type": "execute_result"
    }
   ],
   "source": [
    "wantedHouses = DataFrame.iloc[0:0]\n",
    "\n",
    "#1\n",
    "df1 = DataFrame[DataFrame['price'] < 200000]\n",
    "\n",
    "#2\n",
    "#df1 = df1[df1['zipcode'] == 98039]\n",
    "\n",
    "#4\n",
    "\n",
    "wantedHouses = wantedHouses.append(df1[df1['bathrooms'] <= 5])\n",
    "\n",
    "#5\n",
    "df1 = wantedHouses \n",
    "wantedHouses = wantedHouses.loc[wantedHouses['bedrooms'] <= 5]\n",
    "\n",
    "#6\n",
    "df1 = wantedHouses \n",
    "wantedHouses = wantedHouses.loc[wantedHouses['floors'] <= 2]\n",
    "\n",
    "#7 não há casas que tenham fonte\n",
    "wantedHouses = wantedHouses.loc[wantedHouses['waterfront'] <= 1]\n",
    "\n",
    "#8\n",
    "\n",
    "wantedHouses = wantedHouses[wantedHouses['view'] > 0]\n",
    "\n",
    "wantedHouses.sort_values(by = 'price')"
   ]
  },
  {
   "cell_type": "code",
   "execution_count": 51,
   "metadata": {},
   "outputs": [
    {
     "data": {
      "text/plain": [
       "15106.967565816869"
      ]
     },
     "execution_count": 51,
     "metadata": {},
     "output_type": "execute_result"
    }
   ],
   "source": [
    "DataFrame['sqft_lot'].mean()"
   ]
  },
  {
   "cell_type": "markdown",
   "metadata": {},
   "source": [
    "<h3> Essas seriam as 5 melhores opções. Dado as condições possíveis, uma vez que no zipcode preferencial não estão dentro da faixa de preço.\n",
    "    <br><br>\n",
    "A melhor opção seria o imóvel de id igual a 1320069249 com o valor de 192mil, pois é uma casa que atende os requisitos e dado ao seu grande espaço de terreno após uma reforma a empresa conseguiria ter um lucro com a casa, uma vez que uma casa renovada tem a expectativa de aumento, além das outras melhorias possíveis de novos quartos, banheiros, andares e uma fonte de água também podem aumentar o lucro, e por fim ainda sobrar espaço no terreno. \n",
    "    <br><br>\n",
    "    Tudo isso levado em conta, é possível que a divisão deste terreno seja utilizado para construção de novas casas, pois o terreno deste imóvel é enorme, dado por \"sqft_lot\" = 63737, sendo 4 vezes o tamanho médio dos imóveis, desta forma além de lucrar com a reforma na casa já existente é possível lucrar com novos imóveis construídos.</h3>"
   ]
  },
  {
   "cell_type": "markdown",
   "metadata": {},
   "source": [
    "<h2> 2. Uma vez a casa em posse da empresa, qual o melhor momento para vendê-las e qual seria o preço da venda? </h2>\n",
    "\n",
    "<h3>\n",
    "    Caso a casa passe após a reforma de 1 quarto para 3 quartos, 1 banheiro para 3 banheiros, 2 andares e uma fonte de água na frente da casa. É possível que o valor desta casa triplique facilmente, uma vez que os dados informam que essas alterações seriam suficientes para aumentar o valor da casa em mais de 10 vezes, porém sabemos que somente essas alterações não seriam suficientes, seria necessário um maior conhecimento do mercado local, analisar seu posicionamento (zipcode) entre outros fatores que não é possível ser analisado pelos dados. Desta forma a afirmação de que o valor possa triplicar não foge à realidade dos dados e nem à realidade dos negócios, podendo assim dar um \"norte\" para empresa sobre um possível retorno na venda da casa pós reforma.\n",
    "    \n",
    "</h3>"
   ]
  },
  {
   "cell_type": "markdown",
   "metadata": {},
   "source": [
    "<h2> 3. A House Rocket deveria fazer uma reforma para aumentar o preço da venda? Quais seriam as sugestões de mudanças? Qual o incremento no preço dado por cada opção de reforma? </h2>"
   ]
  },
  {
   "cell_type": "markdown",
   "metadata": {},
   "source": [
    "<h3>\n",
    "    <ol>\n",
    "        <li> A House Rocket deveria fazer uma reforma para aumentar o preço da venda?</li>\n",
    "            <p style=\"font-size: 18px;\">-Sim, seria recomendado pois como foi analisado é esperado uma valorização após a reforma, baseado na média de valores das casas reformadas e das não reformadas.</p><br>\n",
    "        <li> Quais seriam as sugestões de mudanças?</li>\n",
    "        <p>Como foi visto anteriormente os requisitos para uma casa com um bom valor de mercado são os seguintes:</p>\n",
    "        <p>\n",
    "        * 3 a 5 banheiros.<br>\n",
    "        * 2 a 5 quartos.<br>\n",
    "        * 2 andares.<br>\n",
    "        * 1 fonte de água frontal.<br>\n",
    "        * vista e de preferência com o valor igual a 4.</p><br>\n",
    "        <p> Os dados indicam um aumento muito absurdo, exemplo: o preço médio de casas de um banheiro para casas com 5 banheiros é de 100 vezes o preço. <br><br> A análise que pode ser feita é de que existe um aumento no valor da casa se esta possuir mais recursos, como mais banheiros, quartos, etc. Sendo assim, pode-se dizer que os valores citados acima seriam encontrados em casas com uma maior valorização, mas que não necessáriamente, você ter 5 banheiros em uma casa esta terá sua valorização multiplicada por 100.</p><br>\n",
    "        <li> Qual o incremento no preço dado por cada opção de reforma?</li>\n",
    "        <p>Essa informação está muito enviesada nos dados, uma vez que não temos uma mesma casa (mesmo ID) que tenha construído mais um banheiro ou um quarto. Sendo assim, seria necessárias casas que tenham havido mudanças em sua construção, por exemplo, uma casa que tenha construído mais um banheiro, para saber o impacto do mesmo no preço, isso acontecendo diversas vezes poderíamos calcular um valor de valorização mais exato.<br>\n",
    "Com os dados atuais a única afirmação possível de ser feita é que dado uma casa com os requisitos citados acima, o esperado é que esta tenha um alto valor em relação a casas que não cumprem esses requisitos.\n",
    "</p><br>\n",
    "    </ol>\n",
    "    \n",
    "</h3>\n",
    "\n",
    "   "
   ]
  },
  {
   "cell_type": "code",
   "execution_count": null,
   "metadata": {
    "collapsed": true
   },
   "outputs": [],
   "source": []
  }
 ],
 "metadata": {
  "kernelspec": {
   "display_name": "Python 3",
   "language": "python",
   "name": "python3"
  },
  "language_info": {
   "codemirror_mode": {
    "name": "ipython",
    "version": 3
   },
   "file_extension": ".py",
   "mimetype": "text/x-python",
   "name": "python",
   "nbconvert_exporter": "python",
   "pygments_lexer": "ipython3",
   "version": "3.6.1"
  }
 },
 "nbformat": 4,
 "nbformat_minor": 5
}
