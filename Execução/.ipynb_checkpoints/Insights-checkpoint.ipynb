{
 "cells": [
  {
   "cell_type": "markdown",
   "id": "03a24d73",
   "metadata": {},
   "source": [
    "<h1>Importando os Dados</h1>"
   ]
  },
  {
   "cell_type": "code",
   "execution_count": 1,
   "id": "742b9b37",
   "metadata": {},
   "outputs": [
    {
     "data": {
      "text/html": [
       "<div>\n",
       "<style scoped>\n",
       "    .dataframe tbody tr th:only-of-type {\n",
       "        vertical-align: middle;\n",
       "    }\n",
       "\n",
       "    .dataframe tbody tr th {\n",
       "        vertical-align: top;\n",
       "    }\n",
       "\n",
       "    .dataframe thead th {\n",
       "        text-align: right;\n",
       "    }\n",
       "</style>\n",
       "<table border=\"1\" class=\"dataframe\">\n",
       "  <thead>\n",
       "    <tr style=\"text-align: right;\">\n",
       "      <th></th>\n",
       "      <th>id</th>\n",
       "      <th>date</th>\n",
       "      <th>price</th>\n",
       "      <th>bedrooms</th>\n",
       "      <th>bathrooms</th>\n",
       "      <th>sqft_living</th>\n",
       "      <th>sqft_lot</th>\n",
       "      <th>floors</th>\n",
       "      <th>waterfront</th>\n",
       "      <th>view</th>\n",
       "      <th>...</th>\n",
       "      <th>grade</th>\n",
       "      <th>sqft_above</th>\n",
       "      <th>sqft_basement</th>\n",
       "      <th>yr_built</th>\n",
       "      <th>yr_renovated</th>\n",
       "      <th>zipcode</th>\n",
       "      <th>lat</th>\n",
       "      <th>long</th>\n",
       "      <th>sqft_living15</th>\n",
       "      <th>sqft_lot15</th>\n",
       "    </tr>\n",
       "  </thead>\n",
       "  <tbody>\n",
       "    <tr>\n",
       "      <th>606</th>\n",
       "      <td>6865200444</td>\n",
       "      <td>2014-05-05</td>\n",
       "      <td>531000.0</td>\n",
       "      <td>2</td>\n",
       "      <td>3.00</td>\n",
       "      <td>1270</td>\n",
       "      <td>1175</td>\n",
       "      <td>2.0</td>\n",
       "      <td>0</td>\n",
       "      <td>0</td>\n",
       "      <td>...</td>\n",
       "      <td>8</td>\n",
       "      <td>1110</td>\n",
       "      <td>160</td>\n",
       "      <td>2000</td>\n",
       "      <td>0</td>\n",
       "      <td>98103</td>\n",
       "      <td>47,6634</td>\n",
       "      <td>-122,3400</td>\n",
       "      <td>1290</td>\n",
       "      <td>1800</td>\n",
       "    </tr>\n",
       "    <tr>\n",
       "      <th>11704</th>\n",
       "      <td>5207200160</td>\n",
       "      <td>2014-10-10</td>\n",
       "      <td>490000.0</td>\n",
       "      <td>3</td>\n",
       "      <td>2.25</td>\n",
       "      <td>2380</td>\n",
       "      <td>6000</td>\n",
       "      <td>1.0</td>\n",
       "      <td>0</td>\n",
       "      <td>0</td>\n",
       "      <td>...</td>\n",
       "      <td>8</td>\n",
       "      <td>2040</td>\n",
       "      <td>340</td>\n",
       "      <td>1961</td>\n",
       "      <td>0</td>\n",
       "      <td>98115</td>\n",
       "      <td>47,6955</td>\n",
       "      <td>-122,2750</td>\n",
       "      <td>1680</td>\n",
       "      <td>7200</td>\n",
       "    </tr>\n",
       "    <tr>\n",
       "      <th>15480</th>\n",
       "      <td>6131600285</td>\n",
       "      <td>2014-10-24</td>\n",
       "      <td>195500.0</td>\n",
       "      <td>4</td>\n",
       "      <td>1.00</td>\n",
       "      <td>1230</td>\n",
       "      <td>8636</td>\n",
       "      <td>1.5</td>\n",
       "      <td>0</td>\n",
       "      <td>0</td>\n",
       "      <td>...</td>\n",
       "      <td>6</td>\n",
       "      <td>1230</td>\n",
       "      <td>0</td>\n",
       "      <td>1954</td>\n",
       "      <td>0</td>\n",
       "      <td>98002</td>\n",
       "      <td>47,3231</td>\n",
       "      <td>-122,2190</td>\n",
       "      <td>1168</td>\n",
       "      <td>8316</td>\n",
       "    </tr>\n",
       "    <tr>\n",
       "      <th>12223</th>\n",
       "      <td>5347200162</td>\n",
       "      <td>2014-05-28</td>\n",
       "      <td>210000.0</td>\n",
       "      <td>2</td>\n",
       "      <td>1.50</td>\n",
       "      <td>880</td>\n",
       "      <td>1157</td>\n",
       "      <td>2.0</td>\n",
       "      <td>0</td>\n",
       "      <td>0</td>\n",
       "      <td>...</td>\n",
       "      <td>7</td>\n",
       "      <td>880</td>\n",
       "      <td>0</td>\n",
       "      <td>2007</td>\n",
       "      <td>0</td>\n",
       "      <td>98126</td>\n",
       "      <td>47,5188</td>\n",
       "      <td>-122,3760</td>\n",
       "      <td>1070</td>\n",
       "      <td>1203</td>\n",
       "    </tr>\n",
       "    <tr>\n",
       "      <th>18925</th>\n",
       "      <td>2325069054</td>\n",
       "      <td>2014-05-21</td>\n",
       "      <td>225000.0</td>\n",
       "      <td>2</td>\n",
       "      <td>1.00</td>\n",
       "      <td>1396</td>\n",
       "      <td>111949</td>\n",
       "      <td>1.0</td>\n",
       "      <td>0</td>\n",
       "      <td>0</td>\n",
       "      <td>...</td>\n",
       "      <td>7</td>\n",
       "      <td>1396</td>\n",
       "      <td>0</td>\n",
       "      <td>1940</td>\n",
       "      <td>1997</td>\n",
       "      <td>98053</td>\n",
       "      <td>47,6374</td>\n",
       "      <td>-122,0070</td>\n",
       "      <td>2020</td>\n",
       "      <td>111949</td>\n",
       "    </tr>\n",
       "    <tr>\n",
       "      <th>13523</th>\n",
       "      <td>452001475</td>\n",
       "      <td>2014-09-02</td>\n",
       "      <td>477000.0</td>\n",
       "      <td>3</td>\n",
       "      <td>1.00</td>\n",
       "      <td>960</td>\n",
       "      <td>3600</td>\n",
       "      <td>1.0</td>\n",
       "      <td>0</td>\n",
       "      <td>0</td>\n",
       "      <td>...</td>\n",
       "      <td>7</td>\n",
       "      <td>960</td>\n",
       "      <td>0</td>\n",
       "      <td>1906</td>\n",
       "      <td>0</td>\n",
       "      <td>98117</td>\n",
       "      <td>47,6758</td>\n",
       "      <td>-122,3690</td>\n",
       "      <td>1580</td>\n",
       "      <td>5000</td>\n",
       "    </tr>\n",
       "    <tr>\n",
       "      <th>7414</th>\n",
       "      <td>7214400005</td>\n",
       "      <td>2015-03-13</td>\n",
       "      <td>663500.0</td>\n",
       "      <td>2</td>\n",
       "      <td>1.00</td>\n",
       "      <td>1310</td>\n",
       "      <td>5200</td>\n",
       "      <td>1.0</td>\n",
       "      <td>0</td>\n",
       "      <td>0</td>\n",
       "      <td>...</td>\n",
       "      <td>7</td>\n",
       "      <td>910</td>\n",
       "      <td>400</td>\n",
       "      <td>1946</td>\n",
       "      <td>0</td>\n",
       "      <td>98115</td>\n",
       "      <td>47,6784</td>\n",
       "      <td>-122,3040</td>\n",
       "      <td>1320</td>\n",
       "      <td>4794</td>\n",
       "    </tr>\n",
       "    <tr>\n",
       "      <th>17308</th>\n",
       "      <td>6072400470</td>\n",
       "      <td>2014-11-13</td>\n",
       "      <td>518000.0</td>\n",
       "      <td>4</td>\n",
       "      <td>2.50</td>\n",
       "      <td>2070</td>\n",
       "      <td>10244</td>\n",
       "      <td>1.0</td>\n",
       "      <td>0</td>\n",
       "      <td>0</td>\n",
       "      <td>...</td>\n",
       "      <td>8</td>\n",
       "      <td>1370</td>\n",
       "      <td>700</td>\n",
       "      <td>1969</td>\n",
       "      <td>0</td>\n",
       "      <td>98006</td>\n",
       "      <td>47,5592</td>\n",
       "      <td>-122,1780</td>\n",
       "      <td>2070</td>\n",
       "      <td>9683</td>\n",
       "    </tr>\n",
       "    <tr>\n",
       "      <th>19405</th>\n",
       "      <td>9202650040</td>\n",
       "      <td>2014-09-26</td>\n",
       "      <td>401000.0</td>\n",
       "      <td>3</td>\n",
       "      <td>1.00</td>\n",
       "      <td>1120</td>\n",
       "      <td>8321</td>\n",
       "      <td>1.0</td>\n",
       "      <td>0</td>\n",
       "      <td>0</td>\n",
       "      <td>...</td>\n",
       "      <td>6</td>\n",
       "      <td>1120</td>\n",
       "      <td>0</td>\n",
       "      <td>1941</td>\n",
       "      <td>1987</td>\n",
       "      <td>98027</td>\n",
       "      <td>47,5631</td>\n",
       "      <td>-122,0910</td>\n",
       "      <td>1980</td>\n",
       "      <td>8671</td>\n",
       "    </tr>\n",
       "    <tr>\n",
       "      <th>19703</th>\n",
       "      <td>301401370</td>\n",
       "      <td>2014-07-31</td>\n",
       "      <td>319900.0</td>\n",
       "      <td>4</td>\n",
       "      <td>2.75</td>\n",
       "      <td>2475</td>\n",
       "      <td>4276</td>\n",
       "      <td>2.0</td>\n",
       "      <td>0</td>\n",
       "      <td>0</td>\n",
       "      <td>...</td>\n",
       "      <td>7</td>\n",
       "      <td>2475</td>\n",
       "      <td>0</td>\n",
       "      <td>2014</td>\n",
       "      <td>0</td>\n",
       "      <td>98002</td>\n",
       "      <td>47,3450</td>\n",
       "      <td>-122,2100</td>\n",
       "      <td>2475</td>\n",
       "      <td>4000</td>\n",
       "    </tr>\n",
       "  </tbody>\n",
       "</table>\n",
       "<p>10 rows × 21 columns</p>\n",
       "</div>"
      ],
      "text/plain": [
       "               id        date     price  bedrooms  bathrooms  sqft_living  \\\n",
       "606    6865200444  2014-05-05  531000.0         2       3.00         1270   \n",
       "11704  5207200160  2014-10-10  490000.0         3       2.25         2380   \n",
       "15480  6131600285  2014-10-24  195500.0         4       1.00         1230   \n",
       "12223  5347200162  2014-05-28  210000.0         2       1.50          880   \n",
       "18925  2325069054  2014-05-21  225000.0         2       1.00         1396   \n",
       "13523   452001475  2014-09-02  477000.0         3       1.00          960   \n",
       "7414   7214400005  2015-03-13  663500.0         2       1.00         1310   \n",
       "17308  6072400470  2014-11-13  518000.0         4       2.50         2070   \n",
       "19405  9202650040  2014-09-26  401000.0         3       1.00         1120   \n",
       "19703   301401370  2014-07-31  319900.0         4       2.75         2475   \n",
       "\n",
       "       sqft_lot  floors  waterfront  view  ...  grade  sqft_above  \\\n",
       "606        1175     2.0           0     0  ...      8        1110   \n",
       "11704      6000     1.0           0     0  ...      8        2040   \n",
       "15480      8636     1.5           0     0  ...      6        1230   \n",
       "12223      1157     2.0           0     0  ...      7         880   \n",
       "18925    111949     1.0           0     0  ...      7        1396   \n",
       "13523      3600     1.0           0     0  ...      7         960   \n",
       "7414       5200     1.0           0     0  ...      7         910   \n",
       "17308     10244     1.0           0     0  ...      8        1370   \n",
       "19405      8321     1.0           0     0  ...      6        1120   \n",
       "19703      4276     2.0           0     0  ...      7        2475   \n",
       "\n",
       "       sqft_basement  yr_built  yr_renovated  zipcode      lat       long  \\\n",
       "606              160      2000             0    98103  47,6634  -122,3400   \n",
       "11704            340      1961             0    98115  47,6955  -122,2750   \n",
       "15480              0      1954             0    98002  47,3231  -122,2190   \n",
       "12223              0      2007             0    98126  47,5188  -122,3760   \n",
       "18925              0      1940          1997    98053  47,6374  -122,0070   \n",
       "13523              0      1906             0    98117  47,6758  -122,3690   \n",
       "7414             400      1946             0    98115  47,6784  -122,3040   \n",
       "17308            700      1969             0    98006  47,5592  -122,1780   \n",
       "19405              0      1941          1987    98027  47,5631  -122,0910   \n",
       "19703              0      2014             0    98002  47,3450  -122,2100   \n",
       "\n",
       "      sqft_living15  sqft_lot15  \n",
       "606            1290        1800  \n",
       "11704          1680        7200  \n",
       "15480          1168        8316  \n",
       "12223          1070        1203  \n",
       "18925          2020      111949  \n",
       "13523          1580        5000  \n",
       "7414           1320        4794  \n",
       "17308          2070        9683  \n",
       "19405          1980        8671  \n",
       "19703          2475        4000  \n",
       "\n",
       "[10 rows x 21 columns]"
      ]
     },
     "execution_count": 1,
     "metadata": {},
     "output_type": "execute_result"
    }
   ],
   "source": [
    "import pandas as pd\n",
    "import numpy as np\n",
    "import matplotlib.pyplot as plt\n",
    "\n",
    "DataFrame = pd.read_csv('kc_house_data.csv', encoding='UTF-8', sep=\";\")\n",
    "DataFrame.sample(10)"
   ]
  },
  {
   "cell_type": "markdown",
   "id": "f27da6bb",
   "metadata": {},
   "source": [
    "<h3>A empresa, House Rocket, deseja obter infromações e o direcionamento de mercado de casas na cidade de King County, USA, para isto ela levantou as seguintes questões: </h3>\n",
    "<h3> \n",
    "    <ol>\n",
    "    <li>Quais casas o CEO da House Rocket deveria comprar e por qual preço de compra?</li>  <br>   \n",
    "    <li>Uma vez a casa em posse da empresa, qual o melhor momento para vendê-las e qual seria o preço da venda?</li>   <br>  \n",
    "    <li> A House Rocket deveria fazer uma reforma para aumentar o preço da venda? Quais seriam as sugestões de mudanças? Qual o incremento no preço dado por cada opção de reforma?</li>       \n",
    "    </ol>\n",
    "</h3>"
   ]
  },
  {
   "cell_type": "markdown",
   "id": "36f06712",
   "metadata": {},
   "source": [
    "<h6>Informações</h6>\n",
    "\n",
    "sqft_basement = tamanho do porão\n",
    "\n",
    "sqft_above = tamanho segundo andar\n",
    "\n",
    "yr_built = ano de construção\n",
    "\n",
    "yr_renovated = ano da reforma"
   ]
  },
  {
   "cell_type": "code",
   "execution_count": 2,
   "id": "758c0548",
   "metadata": {
    "scrolled": false
   },
   "outputs": [],
   "source": [
    "Renovated = DataFrame[DataFrame['yr_renovated']!=0]\n",
    "Unrenovated = DataFrame[DataFrame['yr_renovated']==0]"
   ]
  },
  {
   "cell_type": "code",
   "execution_count": 3,
   "id": "2aff7bea",
   "metadata": {},
   "outputs": [
    {
     "data": {
      "text/plain": [
       "id               7129300520\n",
       "date             2014-10-13\n",
       "price              221900.0\n",
       "bedrooms                  3\n",
       "bathrooms               1.0\n",
       "sqft_living            1180\n",
       "sqft_lot               5650\n",
       "floors                  1.0\n",
       "waterfront                0\n",
       "view                      0\n",
       "condition                 3\n",
       "grade                     7\n",
       "sqft_above             1180\n",
       "sqft_basement             0\n",
       "yr_built               1955\n",
       "yr_renovated              0\n",
       "zipcode               98178\n",
       "lat                 47,5112\n",
       "long              -122,2570\n",
       "sqft_living15          1340\n",
       "sqft_lot15             5650\n",
       "Name: 0, dtype: object"
      ]
     },
     "execution_count": 3,
     "metadata": {},
     "output_type": "execute_result"
    }
   ],
   "source": [
    "DataFrame.loc[0,:]"
   ]
  },
  {
   "cell_type": "code",
   "execution_count": 4,
   "id": "f4de286e",
   "metadata": {},
   "outputs": [
    {
     "data": {
      "text/plain": [
       "1446211405.583151"
      ]
     },
     "execution_count": 4,
     "metadata": {},
     "output_type": "execute_result"
    }
   ],
   "source": [
    "Ren = Renovated['price'].mean()\n",
    "Ren"
   ]
  },
  {
   "cell_type": "code",
   "execution_count": 5,
   "id": "559705ca",
   "metadata": {},
   "outputs": [
    {
     "data": {
      "text/plain": [
       "529524767.00782645"
      ]
     },
     "execution_count": 5,
     "metadata": {},
     "output_type": "execute_result"
    }
   ],
   "source": [
    "Unr = Unrenovated['price'].mean()\n",
    "Unr"
   ]
  },
  {
   "cell_type": "code",
   "execution_count": 6,
   "id": "bed1e69f",
   "metadata": {},
   "outputs": [
    {
     "name": "stdout",
     "output_type": "stream",
     "text": [
      "916686638.5753247\n"
     ]
    }
   ],
   "source": [
    "print(Ren - Unr)"
   ]
  },
  {
   "cell_type": "markdown",
   "id": "0c3c7a12",
   "metadata": {},
   "source": [
    "<h3> Pelos passos acima podemos perceber que na média as casas reformadas são mais valorizadas que as casas sem reforma.\n",
    "    \n",
    "Sendo assim seria interessante o CEO reformar a casa antes de Vendê-la.\n",
    "</h3>\n",
    "\n",
    "<h3> Seguindo esta lógica, o recomendado seria o CEO comprar uma casa mais barata para reformar e revender.<br>\n",
    "    \n",
    "Primeiramente será indicado uma casa que esteja entre as mais antigas e consequentemente mais barata (pelo menos este é o esperado).</h3>\n",
    "\n"
   ]
  },
  {
   "cell_type": "code",
   "execution_count": 7,
   "id": "e50ef7f7",
   "metadata": {},
   "outputs": [
    {
     "name": "stdout",
     "output_type": "stream",
     "text": [
      "               id        date     price  bedrooms  bathrooms  sqft_living  \\\n",
      "14001  2354300456  2015-03-11  130000.0         2        1.0          600   \n",
      "\n",
      "       sqft_lot  floors  waterfront  view  ...  grade  sqft_above  \\\n",
      "14001      1500     1.0           0     0  ...      4         600   \n",
      "\n",
      "       sqft_basement  yr_built  yr_renovated  zipcode      lat       long  \\\n",
      "14001              0      1900             0    98027  47,5289  -122,0330   \n",
      "\n",
      "      sqft_living15  sqft_lot15  \n",
      "14001          1130        6000  \n",
      "\n",
      "[1 rows x 21 columns]\n"
     ]
    },
    {
     "data": {
      "text/plain": [
       "14001    4\n",
       "Name: condition, dtype: int64"
      ]
     },
     "execution_count": 7,
     "metadata": {},
     "output_type": "execute_result"
    }
   ],
   "source": [
    "Cheaper = Unrenovated[Unrenovated['yr_built'] == Unrenovated['yr_built'].min()]\n",
    "CheapestElderHouse = Cheaper[Cheaper['price'] == Cheaper['price'].min()]\n",
    "print(CheapestElderHouse)\n",
    "CheapestElderHouse['condition']"
   ]
  },
  {
   "cell_type": "code",
   "execution_count": 8,
   "id": "2d4c6357",
   "metadata": {},
   "outputs": [
    {
     "name": "stdout",
     "output_type": "stream",
     "text": [
      "              id        date    price  bedrooms  bathrooms  sqft_living  \\\n",
      "1149  3421079032  2015-02-17  75000.0         1        0.0          670   \n",
      "\n",
      "      sqft_lot  floors  waterfront  view  ...  grade  sqft_above  \\\n",
      "1149     43377     1.0           0     0  ...      3         670   \n",
      "\n",
      "      sqft_basement  yr_built  yr_renovated  zipcode      lat       long  \\\n",
      "1149              0      1966             0    98022  47,2638  -121,9060   \n",
      "\n",
      "     sqft_living15  sqft_lot15  \n",
      "1149          1160       42882  \n",
      "\n",
      "[1 rows x 21 columns]\n"
     ]
    },
    {
     "data": {
      "text/plain": [
       "1149    3\n",
       "Name: condition, dtype: int64"
      ]
     },
     "execution_count": 8,
     "metadata": {},
     "output_type": "execute_result"
    }
   ],
   "source": [
    "CheapestHouse = Unrenovated[Unrenovated['price'] == Unrenovated['price'].min()]\n",
    "print(CheapestHouse)\n",
    "CheapestHouse['condition']"
   ]
  },
  {
   "cell_type": "markdown",
   "id": "f534327e",
   "metadata": {},
   "source": [
    "<h3> Diferente do esperado, nos resultados acima foi encontrada a casa barata e mais antiga (130 mil), e também a mais barata independente do ano (75 mil). Analisando os preços pode-se dizer que não existe motivos evidentes para o CEO comprar a casa mais antiga, pois ambas casas tem o espaço de construção parecido (sqft_living) e apesar da casa de 75 mil estar numa condição pior e ter menos banheiros e quartos, isto pode ser solucionado na reforma e valorizar a casa. <br>\n",
    "    \n",
    "Apenas faria sentido comprar a casa antiga se fosse para moradia, pois esta estaria numa melhor condição de moradia e teria mais recursos que a casa de 75 mil.\n",
    "    \n",
    "<br>\n",
    "Sendo assim seria indicado que o CEO comprasse casas baratas no geral, entre 75 mil e 100mil, não importando muito com seu tempo de construção, uma vez que este não indica uma diminuição nos preços e nem com suas condições e itens como banheiros e quartos, uma vez que estes itens poderiam ser construidos numa reforma desde que o \"sqft_lot\" o possibilite.\n",
    "</h3>"
   ]
  },
  {
   "cell_type": "code",
   "execution_count": 9,
   "id": "7cdfe33e",
   "metadata": {},
   "outputs": [
    {
     "name": "stdout",
     "output_type": "stream",
     "text": [
      "ZipCode com casas mais caras em média 98039 valor médio 14294837700.0\n"
     ]
    }
   ],
   "source": [
    "df = DataFrame.groupby('zipcode').mean()\n",
    "ExpensiveZip = df[df['price'] == df['price'].max()]\n",
    "print('ZipCode com casas mais caras em média', ExpensiveZip.index.values[0], 'valor médio', df['price'].max())"
   ]
  },
  {
   "cell_type": "code",
   "execution_count": 10,
   "id": "6939d7a4",
   "metadata": {},
   "outputs": [
    {
     "name": "stdout",
     "output_type": "stream",
     "text": [
      "ZipCode com casas mais baratas em média 98002 valor médio 234284.0351758794\n",
      "média geral é: 568290860.9169481\n"
     ]
    }
   ],
   "source": [
    "CheapZip = df[df['price'] == df['price'].min()]\n",
    "generalMean = DataFrame['price'].mean()\n",
    "print('ZipCode com casas mais baratas em média',CheapZip.index.values[0], 'valor médio', df['price'].min())\n",
    "print('média geral é:', generalMean)"
   ]
  },
  {
   "cell_type": "markdown",
   "id": "fc1bdc0a",
   "metadata": {},
   "source": [
    "<h3> Outra variável que pode impactar o preço da casa é a localização, podemos análisar isso através da coluna \"zipcode\", e como visto anteriormente nos resultados seria interessante evitar o zipcode 98002, já que sua média é de 234.284, enquanto a média geral das casas em King County é de 568.290.860.<br>\n",
    "\n",
    "<br>\n",
    "Sabendo o valor médio das casas em King County, é possível afirmar que a reforma é uma boa estratégia, uma vez que o valor médio das casas reformadas, que é de 1.446.211.405, é maior que o valor médio das casas em geral e das casas não reformadas, como visto anteriormente.\n",
    "</h3>"
   ]
  },
  {
   "cell_type": "code",
   "execution_count": 11,
   "id": "8be60abf",
   "metadata": {
    "scrolled": true
   },
   "outputs": [
    {
     "data": {
      "text/html": [
       "<div>\n",
       "<style scoped>\n",
       "    .dataframe tbody tr th:only-of-type {\n",
       "        vertical-align: middle;\n",
       "    }\n",
       "\n",
       "    .dataframe tbody tr th {\n",
       "        vertical-align: top;\n",
       "    }\n",
       "\n",
       "    .dataframe thead th {\n",
       "        text-align: right;\n",
       "    }\n",
       "</style>\n",
       "<table border=\"1\" class=\"dataframe\">\n",
       "  <thead>\n",
       "    <tr style=\"text-align: right;\">\n",
       "      <th></th>\n",
       "      <th>percentage</th>\n",
       "    </tr>\n",
       "  </thead>\n",
       "  <tbody>\n",
       "    <tr>\n",
       "      <th>311</th>\n",
       "      <td>0.000084</td>\n",
       "    </tr>\n",
       "    <tr>\n",
       "      <th>185</th>\n",
       "      <td>0.000246</td>\n",
       "    </tr>\n",
       "    <tr>\n",
       "      <th>235</th>\n",
       "      <td>0.000406</td>\n",
       "    </tr>\n",
       "    <tr>\n",
       "      <th>4</th>\n",
       "      <td>0.000416</td>\n",
       "    </tr>\n",
       "    <tr>\n",
       "      <th>69</th>\n",
       "      <td>0.000785</td>\n",
       "    </tr>\n",
       "    <tr>\n",
       "      <th>...</th>\n",
       "      <td>...</td>\n",
       "    </tr>\n",
       "    <tr>\n",
       "      <th>217</th>\n",
       "      <td>2404.460813</td>\n",
       "    </tr>\n",
       "    <tr>\n",
       "      <th>103</th>\n",
       "      <td>3751.724138</td>\n",
       "    </tr>\n",
       "    <tr>\n",
       "      <th>215</th>\n",
       "      <td>5375.000000</td>\n",
       "    </tr>\n",
       "    <tr>\n",
       "      <th>299</th>\n",
       "      <td>11495.327103</td>\n",
       "    </tr>\n",
       "    <tr>\n",
       "      <th>91</th>\n",
       "      <td>718875.816993</td>\n",
       "    </tr>\n",
       "  </tbody>\n",
       "</table>\n",
       "<p>177 rows × 1 columns</p>\n",
       "</div>"
      ],
      "text/plain": [
       "        percentage\n",
       "311       0.000084\n",
       "185       0.000246\n",
       "235       0.000406\n",
       "4         0.000416\n",
       "69        0.000785\n",
       "..             ...\n",
       "217    2404.460813\n",
       "103    3751.724138\n",
       "215    5375.000000\n",
       "299   11495.327103\n",
       "91   718875.816993\n",
       "\n",
       "[177 rows x 1 columns]"
      ]
     },
     "execution_count": 11,
     "metadata": {},
     "output_type": "execute_result"
    }
   ],
   "source": [
    "table = DataFrame.iloc[0:0]\n",
    "\n",
    "count = 0\n",
    "valor = DataFrame['id'].duplicated(keep=False)#vetor 'valor' com valores de true ou false para ids duplicados no BD\n",
    "\n",
    "#LOCALIZANDO IDS IGUAIS, OU SEJA VALORES DIFERENTES DA MESMA CASA\n",
    "\n",
    "for i in valor:#pegando os dados do BD que tem ids duplicados por meio do vetor 'valor'\n",
    "    if i == True:\n",
    "        table = table.append(DataFrame.loc[count,:])\n",
    "        \n",
    "    count+=1\n",
    "        \n",
    "table = table.sort_values(by=['id'])\n",
    "vetorizing = table['id'].to_numpy()\n",
    "vetorizing = vetorizing.tolist()\n",
    "meanProfit = vetorizing   \n",
    "\n",
    "#CALCULANDO A VALORIZAÇÃO/DESVALORIZAÇÃO PELO TEMPO ENTRE OS IDS IGUAIS E SALVANDO OS VALORES EM meanProfit\n",
    "\n",
    "for i in range(0,len(vetorizing),1):\n",
    "    if(i+1 < len(vetorizing)):\n",
    "        if(vetorizing[i] == vetorizing[i+1]):\n",
    "            locActual = DataFrame.loc[i,:]\n",
    "            locProx = DataFrame.loc[i+1,:]\n",
    "            if locActual['date'] > locProx['date']:\n",
    "                meanProfit[i] =  (locActual['price']/locProx['price'])\n",
    "            else:\n",
    "                meanProfit[i] = (locProx['price']/locActual['price'])\n",
    "        else:\n",
    "            meanProfit[i] = 0\n",
    "    else:\n",
    "        meanProfit[i] = 0\n",
    "df_meanProfit = pd.DataFrame(meanProfit, columns = ['percentage'])    \n",
    "df_meanProfit = df_meanProfit[df_meanProfit['percentage'] != 0]\n",
    "#Passando de lista para DataFrame e retirando valores zerados\n",
    "\n",
    "df_meanProfit.sort_values(by=['percentage'])"
   ]
  },
  {
   "cell_type": "markdown",
   "id": "95804877",
   "metadata": {},
   "source": [
    "<h3> É possível perceber que tem algumas porcentagens muito extremas tanto aumentando, como um aumento de 718875.81%, quanto diminuindo, como um \"aumento\" de 0.000084%, ou seja, uma diminuição. Sendo assim será removido tanto os 5 maiores quanto os 5 menores valores  </h3>"
   ]
  },
  {
   "cell_type": "code",
   "execution_count": 12,
   "id": "2825ba70",
   "metadata": {},
   "outputs": [
    {
     "data": {
      "text/html": [
       "<div>\n",
       "<style scoped>\n",
       "    .dataframe tbody tr th:only-of-type {\n",
       "        vertical-align: middle;\n",
       "    }\n",
       "\n",
       "    .dataframe tbody tr th {\n",
       "        vertical-align: top;\n",
       "    }\n",
       "\n",
       "    .dataframe thead th {\n",
       "        text-align: right;\n",
       "    }\n",
       "</style>\n",
       "<table border=\"1\" class=\"dataframe\">\n",
       "  <thead>\n",
       "    <tr style=\"text-align: right;\">\n",
       "      <th></th>\n",
       "      <th>percentage</th>\n",
       "    </tr>\n",
       "  </thead>\n",
       "  <tbody>\n",
       "    <tr>\n",
       "      <th>313</th>\n",
       "      <td>0.001012</td>\n",
       "    </tr>\n",
       "    <tr>\n",
       "      <th>269</th>\n",
       "      <td>0.002125</td>\n",
       "    </tr>\n",
       "    <tr>\n",
       "      <th>245</th>\n",
       "      <td>0.151250</td>\n",
       "    </tr>\n",
       "    <tr>\n",
       "      <th>191</th>\n",
       "      <td>0.208949</td>\n",
       "    </tr>\n",
       "    <tr>\n",
       "      <th>327</th>\n",
       "      <td>0.251858</td>\n",
       "    </tr>\n",
       "    <tr>\n",
       "      <th>...</th>\n",
       "      <td>...</td>\n",
       "    </tr>\n",
       "    <tr>\n",
       "      <th>183</th>\n",
       "      <td>5.107034</td>\n",
       "    </tr>\n",
       "    <tr>\n",
       "      <th>20</th>\n",
       "      <td>5.194805</td>\n",
       "    </tr>\n",
       "    <tr>\n",
       "      <th>49</th>\n",
       "      <td>5.921053</td>\n",
       "    </tr>\n",
       "    <tr>\n",
       "      <th>153</th>\n",
       "      <td>6.428571</td>\n",
       "    </tr>\n",
       "    <tr>\n",
       "      <th>281</th>\n",
       "      <td>12.058824</td>\n",
       "    </tr>\n",
       "  </tbody>\n",
       "</table>\n",
       "<p>167 rows × 1 columns</p>\n",
       "</div>"
      ],
      "text/plain": [
       "     percentage\n",
       "313    0.001012\n",
       "269    0.002125\n",
       "245    0.151250\n",
       "191    0.208949\n",
       "327    0.251858\n",
       "..          ...\n",
       "183    5.107034\n",
       "20     5.194805\n",
       "49     5.921053\n",
       "153    6.428571\n",
       "281   12.058824\n",
       "\n",
       "[167 rows x 1 columns]"
      ]
     },
     "execution_count": 12,
     "metadata": {},
     "output_type": "execute_result"
    }
   ],
   "source": [
    "for i in range(5):\n",
    "    df_meanProfit = df_meanProfit[df_meanProfit['percentage'] != df_meanProfit['percentage'].max()]\n",
    "    df_meanProfit = df_meanProfit[df_meanProfit['percentage'] != df_meanProfit['percentage'].min()]\n",
    "df_meanProfit.sort_values(by=['percentage'])\n",
    "#Aqui já é possível ver valores mais 'reais', para realização de uma boa análise"
   ]
  },
  {
   "cell_type": "code",
   "execution_count": 13,
   "id": "a1cf17d5",
   "metadata": {},
   "outputs": [
    {
     "data": {
      "text/plain": [
       "percentage    1.251853\n",
       "dtype: float64"
      ]
     },
     "execution_count": 13,
     "metadata": {},
     "output_type": "execute_result"
    }
   ],
   "source": [
    "df_meanProfit.mean()"
   ]
  },
  {
   "cell_type": "markdown",
   "id": "7846a286",
   "metadata": {},
   "source": [
    "<h2> Pode-se inferir pelo resultado acima que com o tempo as casas tendem a se valorizar cerca de 25%.\n",
    "<br><br><br>\n",
    "    Sabendo disso abaixo é explorado em qual mês o valor de venda é maior de acordo com os dados.\n",
    "</h2>"
   ]
  },
  {
   "cell_type": "code",
   "execution_count": 14,
   "id": "126738ac",
   "metadata": {
    "scrolled": true
   },
   "outputs": [
    {
     "name": "stdout",
     "output_type": "stream",
     "text": [
      "a média de valor no mês 1 é de: 3.8E+08\n",
      "a média de valor no mês 2 é de: 5.3E+08\n",
      "a média de valor no mês 3 é de: 4.3E+08\n",
      "a média de valor no mês 4 é de: 2.2E+08\n",
      "a média de valor no mês 5 é de: 5.1E+08\n",
      "a média de valor no mês 6 é de: 5.2E+08\n",
      "a média de valor no mês 7 é de: 1.1E+09\n",
      "a média de valor no mês 8 é de: 6.6E+08\n",
      "a média de valor no mês 9 é de: 5.9E+08\n",
      "a média de valor no mês 10 é de: 7.6E+08\n",
      "a média de valor no mês 11 é de: 4.3E+08\n",
      "a média de valor no mês 12 é de: 6.0E+08\n"
     ]
    }
   ],
   "source": [
    "DataFrame['date'] = pd.to_datetime(DataFrame['date'])\n",
    "for i in range(12):\n",
    "    meanMonth = DataFrame[DataFrame['date'].dt.month == i+1]\n",
    "    print('a média de valor no mês', i+1, 'é de:', format(meanMonth['price'].mean(),'.1E'))"
   ]
  },
  {
   "cell_type": "markdown",
   "id": "64fd625d",
   "metadata": {},
   "source": [
    "<h2> Vimos que o valor de vendas começa a aumentar em maio(5) atinge o auge em julho(7) e\n",
    "em seguida os valores diminuem alcançando uma baixa em novembro(11), porém se mantém com vendas acima do que no primeiro semestre.<br><br><br> Abaixo a análise a ser feita vai além dos meses mas também em qual ano foram feitas essas vendas.</h2>"
   ]
  },
  {
   "cell_type": "code",
   "execution_count": 15,
   "id": "75d20dff",
   "metadata": {},
   "outputs": [
    {
     "name": "stdout",
     "output_type": "stream",
     "text": [
      "a média de valor no mês 1 no ano de 2014 é de: NAN\n",
      "a média de valor no mês 2 no ano de 2014 é de: NAN\n",
      "a média de valor no mês 3 no ano de 2014 é de: NAN\n",
      "a média de valor no mês 4 no ano de 2014 é de: NAN\n",
      "a média de valor no mês 5 no ano de 2014 é de: 3.1E+08\n",
      "a média de valor no mês 6 no ano de 2014 é de: 5.2E+08\n",
      "a média de valor no mês 7 no ano de 2014 é de: 1.1E+09\n",
      "a média de valor no mês 8 no ano de 2014 é de: 6.6E+08\n",
      "a média de valor no mês 9 no ano de 2014 é de: 5.9E+08\n",
      "a média de valor no mês 10 no ano de 2014 é de: 7.6E+08\n",
      "a média de valor no mês 11 no ano de 2014 é de: 4.3E+08\n",
      "a média de valor no mês 12 no ano de 2014 é de: 6.0E+08\n",
      "a média de valor no mês 1 no ano de 2015 é de: 3.8E+08\n",
      "a média de valor no mês 2 no ano de 2015 é de: 5.3E+08\n",
      "a média de valor no mês 3 no ano de 2015 é de: 4.3E+08\n",
      "a média de valor no mês 4 no ano de 2015 é de: 2.2E+08\n",
      "a média de valor no mês 5 no ano de 2015 é de: 1.0E+09\n",
      "a média de valor no mês 6 no ano de 2015 é de: NAN\n",
      "a média de valor no mês 7 no ano de 2015 é de: NAN\n",
      "a média de valor no mês 8 no ano de 2015 é de: NAN\n",
      "a média de valor no mês 9 no ano de 2015 é de: NAN\n",
      "a média de valor no mês 10 no ano de 2015 é de: NAN\n",
      "a média de valor no mês 11 no ano de 2015 é de: NAN\n",
      "a média de valor no mês 12 no ano de 2015 é de: NAN\n"
     ]
    }
   ],
   "source": [
    "for j in range(2014, 2016, 1):\n",
    "    for i in range(12):\n",
    "        meanMonth = DataFrame[DataFrame['date'].dt.month == i+1]\n",
    "        meanMonthPerYear = meanMonth[meanMonth['date'].dt.year == j]\n",
    "        print('a média de valor no mês', i+1, 'no ano de', j,'é de:', format(meanMonthPerYear['price'].mean(),'.1E'))"
   ]
  },
  {
   "cell_type": "markdown",
   "id": "915cea7e",
   "metadata": {},
   "source": [
    "<h2> Nesta análise vê-se que os dados confirmam a ideia de que as vendas a partir de julho tendem a ser maiores e também é possível inferir uma valorização nas casas de 2014 para 2015, desta forma uma estratégia de negócio seria esperar a valorização do imóvel de um ano para o outro, se esta for uma opção viável.<br><br><br> A análise abaixo busca compreender o impacto do número de banheiros no valor da casa.</h2>"
   ]
  },
  {
   "cell_type": "code",
   "execution_count": 16,
   "id": "0108934c",
   "metadata": {
    "scrolled": false
   },
   "outputs": [
    {
     "name": "stdout",
     "output_type": "stream",
     "text": [
      "a média de valor para 0 banheiros é de: 1.3E+10\n",
      "a média de valor para 7.5 banheiros é de: 4.5E+05\n",
      "a média de valor para 7.75 banheiros é de: 6.9E+09\n",
      "a média de valor para 8 banheiros é de: 5.0E+06\n",
      "a média de valor para 1.0 banheiros é de: 2.7E+07\n",
      "a média de valor para 1.25 banheiros é de: 2.9E+08\n",
      "a média de valor para 1.5 banheiros é de: 8.2E+06\n",
      "a média de valor para 1.75 banheiros é de: 6.2E+07\n",
      "a média de valor para 2.0 banheiros é de: 2.4E+07\n",
      "a média de valor para 2.25 banheiros é de: 2.8E+08\n",
      "a média de valor para 2.5 banheiros é de: 2.9E+08\n",
      "a média de valor para 2.75 banheiros é de: 8.6E+08\n",
      "a média de valor para 3.0 banheiros é de: 6.6E+08\n",
      "a média de valor para 3.25 banheiros é de: 3.5E+09\n",
      "a média de valor para 3.5 banheiros é de: 2.9E+09\n",
      "a média de valor para 3.75 banheiros é de: 3.8E+09\n",
      "a média de valor para 4.0 banheiros é de: 6.9E+09\n",
      "a média de valor para 4.25 banheiros é de: 7.3E+09\n",
      "a média de valor para 4.5 banheiros é de: 9.0E+09\n",
      "a média de valor para 4.75 banheiros é de: 2.2E+10\n",
      "a média de valor para 5.0 banheiros é de: 6.9E+09\n",
      "a média de valor para 5.25 banheiros é de: 4.7E+09\n",
      "a média de valor para 5.5 banheiros é de: 5.5E+08\n",
      "a média de valor para 5.75 banheiros é de: 2.5E+06\n",
      "a média de valor para 6.0 banheiros é de: 1.6E+09\n",
      "a média de valor para 6.25 banheiros é de: 1.4E+09\n",
      "a média de valor para 6.5 banheiros é de: 1.1E+11\n",
      "a média de valor para 6.75 banheiros é de: 2.3E+09\n",
      "a média de valor para 7.0 banheiros é de: NAN\n",
      "a média de valor para 7.25 banheiros é de: NAN\n"
     ]
    }
   ],
   "source": [
    "bathrooms = DataFrame['bathrooms'].value_counts().sort_index()\n",
    "save = bathrooms.tolist()\n",
    "#print(bathrooms)\n",
    "for i in range(len(bathrooms)):\n",
    "    if i>3:\n",
    "        meanVal = DataFrame[DataFrame['bathrooms'] == (i/4)]\n",
    "        print('a média de valor para', i*0.25, 'banheiros é de:', format(meanVal['price'].mean(),'.1E'))\n",
    "        save[i-3] = (meanVal['price'].mean())\n",
    "    else:\n",
    "        if i == 0:\n",
    "            meanVal = DataFrame[DataFrame['bathrooms'] == i]\n",
    "            print('a média de valor para', i, 'banheiros é de:', format(meanVal['price'].mean(),'.1E'))\n",
    "            save[i] = (meanVal['price'].mean())\n",
    "            \n",
    "        elif i==1:\n",
    "            meanVal = DataFrame[DataFrame['bathrooms'] == 7.5]\n",
    "            print('a média de valor para', 7.5, 'banheiros é de:', format(meanVal['price'].mean(),'.1E'))\n",
    "            save[27] = (meanVal['price'].mean())\n",
    "            \n",
    "        elif i==2:\n",
    "            meanVal = DataFrame[DataFrame['bathrooms'] == 7.75]\n",
    "            print('a média de valor para', 7.75, 'banheiros é de:', format(meanVal['price'].mean(),'.1E'))\n",
    "            save[28] = (meanVal['price'].mean())\n",
    "\n",
    "        elif i==3:\n",
    "            meanVal = DataFrame[DataFrame['bathrooms'] == 8]\n",
    "            print('a média de valor para', 8, 'banheiros é de:', format(meanVal['price'].mean(),'.1E'))\n",
    "            save[29] = (meanVal['price'].mean())\n"
   ]
  },
  {
   "cell_type": "markdown",
   "id": "429e207f",
   "metadata": {},
   "source": [
    "<h2> Os dados da base não são muito claros quanto as quantidades dos banheiros, ou seja, não é explicitado o que são 3.75 banheiros.<br> Desta forma a análise abaixo busca entender apenas os valores exatos.</h2>"
   ]
  },
  {
   "cell_type": "code",
   "execution_count": 17,
   "id": "29c1a4d1",
   "metadata": {
    "scrolled": false
   },
   "outputs": [
    {
     "name": "stdout",
     "output_type": "stream",
     "text": [
      "banheiros 0.0 média: 1.3E+10\n",
      "banheiros 1.0 média: 2.7E+07\n",
      "banheiros 2.0 média: 2.4E+07\n",
      "banheiros 3.0 média: 6.6E+08\n",
      "banheiros 4.0 média: 6.9E+09\n",
      "banheiros 5.0 média: 6.9E+09\n",
      "banheiros 6.0 média: 1.6E+09\n",
      "banheiros 7.0 média: NAN\n",
      "banheiros 8.0 média: 5.0E+06\n"
     ]
    }
   ],
   "source": [
    "for i in range(len(save)):\n",
    "    if (i-1) % 4 == 0:\n",
    "        print('banheiros', 1+(i-1)/4,'média:', format(save[i],'.1E'))\n",
    "    elif i == 0:\n",
    "        print('banheiros', (i/4),'média:', format(save[i],'.1E'))\n"
   ]
  },
  {
   "cell_type": "markdown",
   "id": "9ed36d19",
   "metadata": {},
   "source": [
    "<h2> Desconsiderando as casas com 0 banheiros, que obtêm uma valorização muito superior aos outros imóveis por motivos não compreensíveis, vemos que uma boa casa em termos de valorização deve ter ao menos 3 banheiros, pois com 1 ou 2 banheiros o valor não sofre grande alterações, mas a partir de 3 banheiros é notável a valorização das casas e o limite da valorização é em 6 banheiros, pois utilizando as informações vemos que a partir de 6 banheiros existe uma desvalorização nas médias dos imóveis.<br><br><br> As análises abaixo serão feitas de mesma forma, mas levará em conta o número de quartos, andares, fontes de água frontal e view(que eu assumi como vista para pontos turísticos ou então paisagens).</h2>"
   ]
  },
  {
   "cell_type": "code",
   "execution_count": 18,
   "id": "43406ba9",
   "metadata": {},
   "outputs": [
    {
     "name": "stdout",
     "output_type": "stream",
     "text": [
      "a média de valor para 0 quarto(s) é de: 1.0E+10\n",
      "a média de valor para 1 quarto(s) é de: 6.6E+06\n",
      "a média de valor para 2 quarto(s) é de: 1.1E+08\n",
      "a média de valor para 3 quarto(s) é de: 1.3E+08\n",
      "a média de valor para 4 quarto(s) é de: 7.7E+08\n",
      "a média de valor para 5 quarto(s) é de: 3.1E+09\n",
      "a média de valor para 6 quarto(s) é de: 6.9E+08\n",
      "a média de valor para 7 quarto(s) é de: 1.1E+08\n",
      "a média de valor para 8 quarto(s) é de: 1.1E+06\n",
      "a média de valor para 9 quarto(s) é de: 8.9E+05\n",
      "a média de valor para 10 quarto(s) é de: 3.8E+08\n",
      "a média de valor para 11 quarto(s) é de: 5.2E+05\n",
      "a média de valor para 33 quartos é de: 6.4E+05\n"
     ]
    }
   ],
   "source": [
    "bedrooms = DataFrame['bedrooms'].value_counts().sort_index()\n",
    "save = bedrooms.tolist()\n",
    "#print(bedrooms)\n",
    "for i in range(len(bedrooms)):\n",
    "    if i == 12:\n",
    "        meanVal = DataFrame[DataFrame['bedrooms'] == 33]\n",
    "        print('a média de valor para', 33, 'quartos é de:', format(meanVal['price'].mean(),'.1E'))\n",
    "        save[i] = (meanVal['price'].mean())\n",
    "    else:    \n",
    "        meanVal = DataFrame[DataFrame['bedrooms'] == i]\n",
    "        print('a média de valor para', i, 'quarto(s) é de:', format(meanVal['price'].mean(),'.1E'))\n",
    "        save[i] = (meanVal['price'].mean())\n",
    "\n",
    "        \n",
    "    \n",
    "    "
   ]
  },
  {
   "cell_type": "markdown",
   "id": "d9967b79",
   "metadata": {},
   "source": [
    "<h2> A partir da análise acima é possível concluir que o número adequado de quartos para uma boa valorização do imóvel é entre 2 a 5, no máximo 6, quartos. </h2>"
   ]
  },
  {
   "cell_type": "code",
   "execution_count": 19,
   "id": "5c2389e2",
   "metadata": {},
   "outputs": [
    {
     "name": "stdout",
     "output_type": "stream",
     "text": [
      "a média de valor para 1.0 andar(es) é de: 1.7E+08\n",
      "a média de valor para 1.5 andar(es) é de: 3.6E+08\n",
      "a média de valor para 2.0 andar(es) é de: 1.1E+09\n",
      "a média de valor para 2.5 andar(es) é de: 1.3E+09\n",
      "a média de valor para 3.0 andar(es) é de: 5.5E+08\n",
      "a média de valor para 3.5 andar(es) é de: 1.4E+08\n"
     ]
    }
   ],
   "source": [
    "floors = DataFrame['floors'].value_counts().sort_index()\n",
    "save = floors.tolist()\n",
    "#print(floors)\n",
    "for i in range(len(floors)):\n",
    "    meanVal = DataFrame[DataFrame['floors'] == ((i*0.5)+1)]\n",
    "    print('a média de valor para', ((i*0.5)+1), 'andar(es) é de:', format(meanVal['price'].mean(),'.1E'))\n",
    "    save[i] = (meanVal['price'].mean())\n"
   ]
  },
  {
   "cell_type": "markdown",
   "id": "b371f75c",
   "metadata": {},
   "source": [
    "<h2> Assim como nos dados sobre banheiros, nos dados de andares também temos valores além dos inteiros/naturais, análisando apenas os valores do \"mundo real\", ou seja, 1, 2 ou 3 andares, vemos que o ideal do imóvel é ter 2 andares.</h2>"
   ]
  },
  {
   "cell_type": "code",
   "execution_count": 20,
   "id": "4c12cede",
   "metadata": {},
   "outputs": [
    {
     "name": "stdout",
     "output_type": "stream",
     "text": [
      "a média de valor para 0 fonte de água frontal é de: 5.5E+08\n",
      "a média de valor para 1 fonte de água frontal é de: 2.6E+09\n"
     ]
    }
   ],
   "source": [
    "waterfront = DataFrame['waterfront'].value_counts().sort_index()\n",
    "save = waterfront.tolist()\n",
    "#print(waterfront)\n",
    "for i in range(len(waterfront)):\n",
    "    meanVal = DataFrame[DataFrame['waterfront'] == i]\n",
    "    print('a média de valor para', i, 'fonte de água frontal é de:', format(meanVal['price'].mean(),'.1E'))\n",
    "    save[i] = (meanVal['price'].mean())"
   ]
  },
  {
   "cell_type": "markdown",
   "id": "06091312",
   "metadata": {},
   "source": [
    "<h2> Sobre os resultados acima, vemos que, se o espaço da casa suporta, seria interessante ter uma fonte de água frontal, pois isso muito provavelmente geraria um aumento no valor da casa.</h2>"
   ]
  },
  {
   "cell_type": "code",
   "execution_count": 21,
   "id": "f9c0f010",
   "metadata": {},
   "outputs": [
    {
     "name": "stdout",
     "output_type": "stream",
     "text": [
      "a média de valor para 0 vista(s) é de: 3.8E+08\n",
      "a média de valor para 1 vista(s) é de: 1.9E+09\n",
      "a média de valor para 2 vista(s) é de: 1.3E+09\n",
      "a média de valor para 3 vista(s) é de: 2.7E+09\n",
      "a média de valor para 4 vista(s) é de: 4.9E+09\n"
     ]
    }
   ],
   "source": [
    "view = DataFrame['view'].value_counts().sort_index()\n",
    "save = view.tolist()\n",
    "#print(view)\n",
    "for i in range(len(view)):\n",
    "    meanVal = DataFrame[DataFrame['view'] == i]\n",
    "    print('a média de valor para', i, 'vista(s) é de:', format(meanVal['price'].mean(),'.1E'))\n",
    "    save[i] = (meanVal['price'].mean())"
   ]
  },
  {
   "cell_type": "markdown",
   "id": "a43ca92d",
   "metadata": {},
   "source": [
    "<h2> Pelos dados acima pode-se dizer que é interessante para a empresa observar quais casas possuem uma(1) vista no mínimo e de preferência 4 vistas.</h2>\n",
    "\n",
    "\n",
    "<br>\n",
    "<br>\n",
    "<br>\n",
    "\n",
    "<h2>Respondendo as perguntas do início:</h2>"
   ]
  },
  {
   "cell_type": "markdown",
   "id": "17a9e0b3",
   "metadata": {},
   "source": [
    "<h2> 1. Quais casas o CEO da House Rocket deveria comprar e por qual preço de compra? </h2>\n",
    "\n",
    "<h3>Em resumo as casas que o CEO da House Rocket deveria comprar são:\n",
    "    <ol>\n",
    "        <li>Casas com valores menores que 200 mil</li>\n",
    "        <li>De preferência casas passíveis de serem reformadas, ou seja, que não tenham sido reformadas.</li>\n",
    "        <li>De preferência casas no ZipCode 98039.</li>\n",
    "        <li>Casas de 3 a 5 banheiros, e caso não tenha ao ser comprado é indicada a contrução dos mesmos na reforma.</li>\n",
    "        <li>Casas de 2 a 5 quartos, e caso não tenha ao ser comprado é indicada a contrução dos mesmos na reforma.</li>\n",
    "        <li>Casas de 2 andares, e caso não tenha ao ser comprado é indicada a contrução dos mesmos na reforma.</li>\n",
    "        <li>Casas com 1 fonte de água fronta, e caso não tenha ao ser comprado é indicada a contrução da mesma na reforma.</li>\n",
    "        <li>Casas com vista e de preferência com o valor igual a 4.</li>\n",
    "    </ol>\n",
    "</h3>"
   ]
  },
  {
   "cell_type": "code",
   "execution_count": 22,
   "id": "7bccd507",
   "metadata": {},
   "outputs": [
    {
     "data": {
      "text/html": [
       "<div>\n",
       "<style scoped>\n",
       "    .dataframe tbody tr th:only-of-type {\n",
       "        vertical-align: middle;\n",
       "    }\n",
       "\n",
       "    .dataframe tbody tr th {\n",
       "        vertical-align: top;\n",
       "    }\n",
       "\n",
       "    .dataframe thead th {\n",
       "        text-align: right;\n",
       "    }\n",
       "</style>\n",
       "<table border=\"1\" class=\"dataframe\">\n",
       "  <thead>\n",
       "    <tr style=\"text-align: right;\">\n",
       "      <th></th>\n",
       "      <th>id</th>\n",
       "      <th>date</th>\n",
       "      <th>price</th>\n",
       "      <th>bedrooms</th>\n",
       "      <th>bathrooms</th>\n",
       "      <th>sqft_living</th>\n",
       "      <th>sqft_lot</th>\n",
       "      <th>floors</th>\n",
       "      <th>waterfront</th>\n",
       "      <th>view</th>\n",
       "      <th>...</th>\n",
       "      <th>grade</th>\n",
       "      <th>sqft_above</th>\n",
       "      <th>sqft_basement</th>\n",
       "      <th>yr_built</th>\n",
       "      <th>yr_renovated</th>\n",
       "      <th>zipcode</th>\n",
       "      <th>lat</th>\n",
       "      <th>long</th>\n",
       "      <th>sqft_living15</th>\n",
       "      <th>sqft_lot15</th>\n",
       "    </tr>\n",
       "  </thead>\n",
       "  <tbody>\n",
       "    <tr>\n",
       "      <th>4768</th>\n",
       "      <td>4045500130</td>\n",
       "      <td>2014-09-09</td>\n",
       "      <td>154000.0</td>\n",
       "      <td>2</td>\n",
       "      <td>1.00</td>\n",
       "      <td>1040</td>\n",
       "      <td>20524</td>\n",
       "      <td>1.0</td>\n",
       "      <td>0</td>\n",
       "      <td>3</td>\n",
       "      <td>...</td>\n",
       "      <td>6</td>\n",
       "      <td>1040</td>\n",
       "      <td>0</td>\n",
       "      <td>1949</td>\n",
       "      <td>1989</td>\n",
       "      <td>98014</td>\n",
       "      <td>47,6981</td>\n",
       "      <td>-121,8750</td>\n",
       "      <td>1880</td>\n",
       "      <td>38996</td>\n",
       "    </tr>\n",
       "    <tr>\n",
       "      <th>1626</th>\n",
       "      <td>5016003230</td>\n",
       "      <td>2015-02-18</td>\n",
       "      <td>169317.0</td>\n",
       "      <td>2</td>\n",
       "      <td>1.00</td>\n",
       "      <td>790</td>\n",
       "      <td>4000</td>\n",
       "      <td>1.0</td>\n",
       "      <td>0</td>\n",
       "      <td>2</td>\n",
       "      <td>...</td>\n",
       "      <td>7</td>\n",
       "      <td>790</td>\n",
       "      <td>0</td>\n",
       "      <td>1908</td>\n",
       "      <td>0</td>\n",
       "      <td>98112</td>\n",
       "      <td>47,6248</td>\n",
       "      <td>-122,3010</td>\n",
       "      <td>1700</td>\n",
       "      <td>4200</td>\n",
       "    </tr>\n",
       "    <tr>\n",
       "      <th>16842</th>\n",
       "      <td>226109056</td>\n",
       "      <td>2015-03-26</td>\n",
       "      <td>170000.0</td>\n",
       "      <td>1</td>\n",
       "      <td>0.75</td>\n",
       "      <td>850</td>\n",
       "      <td>5600</td>\n",
       "      <td>1.0</td>\n",
       "      <td>0</td>\n",
       "      <td>2</td>\n",
       "      <td>...</td>\n",
       "      <td>6</td>\n",
       "      <td>850</td>\n",
       "      <td>0</td>\n",
       "      <td>1903</td>\n",
       "      <td>1994</td>\n",
       "      <td>98019</td>\n",
       "      <td>47,7654</td>\n",
       "      <td>-121,4800</td>\n",
       "      <td>900</td>\n",
       "      <td>12250</td>\n",
       "    </tr>\n",
       "    <tr>\n",
       "      <th>1849</th>\n",
       "      <td>6052400575</td>\n",
       "      <td>2014-05-14</td>\n",
       "      <td>175000.0</td>\n",
       "      <td>2</td>\n",
       "      <td>1.00</td>\n",
       "      <td>1170</td>\n",
       "      <td>8925</td>\n",
       "      <td>1.0</td>\n",
       "      <td>0</td>\n",
       "      <td>2</td>\n",
       "      <td>...</td>\n",
       "      <td>6</td>\n",
       "      <td>1170</td>\n",
       "      <td>0</td>\n",
       "      <td>1911</td>\n",
       "      <td>0</td>\n",
       "      <td>98198</td>\n",
       "      <td>47,4017</td>\n",
       "      <td>-122,3210</td>\n",
       "      <td>1380</td>\n",
       "      <td>7440</td>\n",
       "    </tr>\n",
       "    <tr>\n",
       "      <th>15248</th>\n",
       "      <td>1320069249</td>\n",
       "      <td>2014-10-20</td>\n",
       "      <td>192500.0</td>\n",
       "      <td>1</td>\n",
       "      <td>1.00</td>\n",
       "      <td>470</td>\n",
       "      <td>63737</td>\n",
       "      <td>1.0</td>\n",
       "      <td>0</td>\n",
       "      <td>2</td>\n",
       "      <td>...</td>\n",
       "      <td>5</td>\n",
       "      <td>470</td>\n",
       "      <td>0</td>\n",
       "      <td>1924</td>\n",
       "      <td>0</td>\n",
       "      <td>98022</td>\n",
       "      <td>47,2163</td>\n",
       "      <td>-121,9840</td>\n",
       "      <td>1350</td>\n",
       "      <td>46762</td>\n",
       "    </tr>\n",
       "  </tbody>\n",
       "</table>\n",
       "<p>5 rows × 21 columns</p>\n",
       "</div>"
      ],
      "text/plain": [
       "               id       date     price  bedrooms  bathrooms  sqft_living  \\\n",
       "4768   4045500130 2014-09-09  154000.0         2       1.00         1040   \n",
       "1626   5016003230 2015-02-18  169317.0         2       1.00          790   \n",
       "16842   226109056 2015-03-26  170000.0         1       0.75          850   \n",
       "1849   6052400575 2014-05-14  175000.0         2       1.00         1170   \n",
       "15248  1320069249 2014-10-20  192500.0         1       1.00          470   \n",
       "\n",
       "       sqft_lot  floors  waterfront  view  ...  grade  sqft_above  \\\n",
       "4768      20524     1.0           0     3  ...      6        1040   \n",
       "1626       4000     1.0           0     2  ...      7         790   \n",
       "16842      5600     1.0           0     2  ...      6         850   \n",
       "1849       8925     1.0           0     2  ...      6        1170   \n",
       "15248     63737     1.0           0     2  ...      5         470   \n",
       "\n",
       "       sqft_basement  yr_built  yr_renovated  zipcode      lat       long  \\\n",
       "4768               0      1949          1989    98014  47,6981  -121,8750   \n",
       "1626               0      1908             0    98112  47,6248  -122,3010   \n",
       "16842              0      1903          1994    98019  47,7654  -121,4800   \n",
       "1849               0      1911             0    98198  47,4017  -122,3210   \n",
       "15248              0      1924             0    98022  47,2163  -121,9840   \n",
       "\n",
       "      sqft_living15  sqft_lot15  \n",
       "4768           1880       38996  \n",
       "1626           1700        4200  \n",
       "16842           900       12250  \n",
       "1849           1380        7440  \n",
       "15248          1350       46762  \n",
       "\n",
       "[5 rows x 21 columns]"
      ]
     },
     "execution_count": 22,
     "metadata": {},
     "output_type": "execute_result"
    }
   ],
   "source": [
    "wantedHouses = DataFrame.iloc[0:0]\n",
    "\n",
    "#1\n",
    "df1 = DataFrame[DataFrame['price'] < 200000]\n",
    "\n",
    "#2\n",
    "#df1 = df1[df1['zipcode'] == 98039]\n",
    "\n",
    "#4\n",
    "\n",
    "wantedHouses = wantedHouses.append(df1[df1['bathrooms'] <= 5])\n",
    "\n",
    "#5\n",
    "df1 = wantedHouses \n",
    "wantedHouses = wantedHouses.loc[wantedHouses['bedrooms'] <= 5]\n",
    "\n",
    "#6\n",
    "df1 = wantedHouses \n",
    "wantedHouses = wantedHouses.loc[wantedHouses['floors'] <= 2]\n",
    "\n",
    "#7 não há casas que tenham fonte\n",
    "wantedHouses = wantedHouses.loc[wantedHouses['waterfront'] <= 1]\n",
    "\n",
    "#8\n",
    "\n",
    "wantedHouses = wantedHouses[wantedHouses['view'] > 0]\n",
    "\n",
    "wantedHouses.sort_values(by = 'price')"
   ]
  },
  {
   "cell_type": "code",
   "execution_count": 23,
   "id": "ed9ee766",
   "metadata": {},
   "outputs": [
    {
     "data": {
      "text/plain": [
       "15106.967565816869"
      ]
     },
     "execution_count": 23,
     "metadata": {},
     "output_type": "execute_result"
    }
   ],
   "source": [
    "DataFrame['sqft_lot'].mean()"
   ]
  },
  {
   "cell_type": "markdown",
   "id": "5de8bb70",
   "metadata": {},
   "source": [
    "<h3> Essas seriam as 5 melhores opções. Dado as condições possíveis, uma vez que no zipcode preferencial não estão dentro da faixa de preço.\n",
    "    <br><br>\n",
    "A melhor opção seria o imóvel de id igual a 1320069249 com o valor de 192mil, pois é uma casa que atende os requisitos e dado ao seu grande espaço de terreno após uma reforma a empresa conseguiria ter um lucro com a casa, uma vez que uma casa renovada tem a espectativa de aumento, além das outras melhorias possíveis de novos quartos, banheiros, andares e uma fonte de água também podem aumentar o lucro, e por fim ainda sobrar espaço no terreno. \n",
    "    <br><br>\n",
    "    Tudo isso levado em conta, é possível que a divisão deste terreno seja utilizado para construção de novas casas, pois o terreno deste imóvel é enorme, dado por \"sqft_lot\" = 63737, sendo 4 vezes o tamanho médio dos imóveis, desta forma além de lucrar com a reforma na casa já existente é possível lucrar com novos imóveis contruídos.</h3>"
   ]
  },
  {
   "cell_type": "markdown",
   "id": "fe3c2ae2",
   "metadata": {},
   "source": [
    "<h2> 2. Uma vez a casa em posse da empresa, qual o melhor momento para vendê-las e qual seria o preço da venda? </h2>\n",
    "\n",
    "<h3>\n",
    "    Caso a casa passe após a reforma de 1 quarto para 3 quartos, 1 banheiro para 3 banheiros, 2 andares e uma fonte de água na frente da casa. É possível que o valor desta casa triplique facilmente, uma vez que os dados informam que essas alterções seriam suficientes para aumentar o valor da casa em mais de 10 vezes, porém sabemos que somente essas alterações não seriam suficientes, seria necessário um maior conhecimento do mercado local, analisar seu posicionamento(zipcode) entre outros fatores que não é possível ser analisado pelos dados. Desta forma a afirmação de que o valor possa triplicar não foge a realidade dos dados e ao mesmo tempo não foge a realidade dos negócios, podendo assim dar um \"norte\" para empresa sobre um possível retorno na venda da casa pós reforma.\n",
    "    \n",
    "</h3>"
   ]
  },
  {
   "cell_type": "markdown",
   "id": "0b5ffa03",
   "metadata": {},
   "source": [
    "<h2> 3. A House Rocket deveria fazer uma reforma para aumentar o preço da venda? Quais seriam as sugestões de mudanças? Qual o incremento no preço dado por cada opção de reforma? </h2>"
   ]
  },
  {
   "cell_type": "markdown",
   "id": "ef49643b",
   "metadata": {},
   "source": [
    "<h3>\n",
    "    <ol>\n",
    "        <li> A House Rocket deveria fazer uma reforma para aumentar o preço da venda?</li>\n",
    "            <p style=\"font-size: 14px;\">-Sim, seria recomendado pois como foi analisado é esperado uma valorização após a reforma, baseado na média de valores das casas reformadas e das não reformadas.</p><br>\n",
    "        <li> Quais seriam as sugestões de mudanças?</li>\n",
    "            <p>Como foi visto anteriormente os requisitos para uma casa com um bom valor de mercado são os seguintes:</p>\n",
    "        <p>\n",
    "        * 3 a 5 banheiros.<br>\n",
    "        * 2 a 5 quartos.<br>\n",
    "        * 2 andares.<br>\n",
    "        * 1 fonte de água fronta.<br>\n",
    "        * vista e de preferência com o valor igual a 4.</p><br>\n",
    "        <p> Os dados indicam um aumento muito absurdo, exemplo: o preço médio de casas de um banheiro para casas com 5 banheiros é de 100 vezes o preço. <br><br> A análise que pode ser feita é de que existe um aumento no valor da casa se esta possuir mais recursos, como mais banheiros, quartos, etc. Sendo assim, pode-se dizer que os valores citados acima seriam encontrados em casas com uma maior valorização, mas que não necessáriamente, você ter 5 banheiros em uma casa esta terá sua valorização multiplicada por 100.</p>\n",
    "\n",
    "    \n",
    "</h3>"
   ]
  },
  {
   "cell_type": "code",
   "execution_count": null,
   "id": "a75d9086",
   "metadata": {},
   "outputs": [],
   "source": []
  }
 ],
 "metadata": {
  "kernelspec": {
   "display_name": "Python 3",
   "language": "python",
   "name": "python3"
  },
  "language_info": {
   "codemirror_mode": {
    "name": "ipython",
    "version": 3
   },
   "file_extension": ".py",
   "mimetype": "text/x-python",
   "name": "python",
   "nbconvert_exporter": "python",
   "pygments_lexer": "ipython3",
   "version": "3.8.8"
  }
 },
 "nbformat": 4,
 "nbformat_minor": 5
}
