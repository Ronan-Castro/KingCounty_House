{
 "cells": [
  {
   "cell_type": "markdown",
   "id": "8a09c6ba",
   "metadata": {},
   "source": [
    "<h1>Importando os Dados</h1>"
   ]
  },
  {
   "cell_type": "code",
   "execution_count": 1,
   "id": "3d318e10",
   "metadata": {},
   "outputs": [
    {
     "data": {
      "text/html": [
       "<div>\n",
       "<style scoped>\n",
       "    .dataframe tbody tr th:only-of-type {\n",
       "        vertical-align: middle;\n",
       "    }\n",
       "\n",
       "    .dataframe tbody tr th {\n",
       "        vertical-align: top;\n",
       "    }\n",
       "\n",
       "    .dataframe thead th {\n",
       "        text-align: right;\n",
       "    }\n",
       "</style>\n",
       "<table border=\"1\" class=\"dataframe\">\n",
       "  <thead>\n",
       "    <tr style=\"text-align: right;\">\n",
       "      <th></th>\n",
       "      <th>id</th>\n",
       "      <th>date</th>\n",
       "      <th>price</th>\n",
       "      <th>bedrooms</th>\n",
       "      <th>bathrooms</th>\n",
       "      <th>sqft_living</th>\n",
       "      <th>sqft_lot</th>\n",
       "      <th>floors</th>\n",
       "      <th>waterfront</th>\n",
       "      <th>view</th>\n",
       "      <th>...</th>\n",
       "      <th>grade</th>\n",
       "      <th>sqft_above</th>\n",
       "      <th>sqft_basement</th>\n",
       "      <th>yr_built</th>\n",
       "      <th>yr_renovated</th>\n",
       "      <th>zipcode</th>\n",
       "      <th>lat</th>\n",
       "      <th>long</th>\n",
       "      <th>sqft_living15</th>\n",
       "      <th>sqft_lot15</th>\n",
       "    </tr>\n",
       "  </thead>\n",
       "  <tbody>\n",
       "    <tr>\n",
       "      <th>0</th>\n",
       "      <td>7129300520</td>\n",
       "      <td>2014-10-13</td>\n",
       "      <td>221900.0</td>\n",
       "      <td>3</td>\n",
       "      <td>1.00</td>\n",
       "      <td>1180</td>\n",
       "      <td>5650</td>\n",
       "      <td>1.0</td>\n",
       "      <td>0</td>\n",
       "      <td>0</td>\n",
       "      <td>...</td>\n",
       "      <td>7</td>\n",
       "      <td>1180</td>\n",
       "      <td>0</td>\n",
       "      <td>1955</td>\n",
       "      <td>0</td>\n",
       "      <td>98178</td>\n",
       "      <td>47,5112</td>\n",
       "      <td>-122,2570</td>\n",
       "      <td>1340</td>\n",
       "      <td>5650</td>\n",
       "    </tr>\n",
       "    <tr>\n",
       "      <th>1</th>\n",
       "      <td>6414100192</td>\n",
       "      <td>2014-12-09</td>\n",
       "      <td>538000.0</td>\n",
       "      <td>3</td>\n",
       "      <td>2.25</td>\n",
       "      <td>2570</td>\n",
       "      <td>7242</td>\n",
       "      <td>2.0</td>\n",
       "      <td>0</td>\n",
       "      <td>0</td>\n",
       "      <td>...</td>\n",
       "      <td>7</td>\n",
       "      <td>2170</td>\n",
       "      <td>400</td>\n",
       "      <td>1951</td>\n",
       "      <td>1991</td>\n",
       "      <td>98125</td>\n",
       "      <td>47,7210</td>\n",
       "      <td>-122,3190</td>\n",
       "      <td>1690</td>\n",
       "      <td>7639</td>\n",
       "    </tr>\n",
       "    <tr>\n",
       "      <th>2</th>\n",
       "      <td>5631500400</td>\n",
       "      <td>2015-02-25</td>\n",
       "      <td>180000.0</td>\n",
       "      <td>2</td>\n",
       "      <td>1.00</td>\n",
       "      <td>770</td>\n",
       "      <td>10000</td>\n",
       "      <td>1.0</td>\n",
       "      <td>0</td>\n",
       "      <td>0</td>\n",
       "      <td>...</td>\n",
       "      <td>6</td>\n",
       "      <td>770</td>\n",
       "      <td>0</td>\n",
       "      <td>1933</td>\n",
       "      <td>0</td>\n",
       "      <td>98028</td>\n",
       "      <td>47,7379</td>\n",
       "      <td>-122,2330</td>\n",
       "      <td>2720</td>\n",
       "      <td>8062</td>\n",
       "    </tr>\n",
       "    <tr>\n",
       "      <th>3</th>\n",
       "      <td>2487200875</td>\n",
       "      <td>2014-12-09</td>\n",
       "      <td>604000.0</td>\n",
       "      <td>4</td>\n",
       "      <td>3.00</td>\n",
       "      <td>1960</td>\n",
       "      <td>5000</td>\n",
       "      <td>1.0</td>\n",
       "      <td>0</td>\n",
       "      <td>0</td>\n",
       "      <td>...</td>\n",
       "      <td>7</td>\n",
       "      <td>1050</td>\n",
       "      <td>910</td>\n",
       "      <td>1965</td>\n",
       "      <td>0</td>\n",
       "      <td>98136</td>\n",
       "      <td>47,5208</td>\n",
       "      <td>-122,3930</td>\n",
       "      <td>1360</td>\n",
       "      <td>5000</td>\n",
       "    </tr>\n",
       "    <tr>\n",
       "      <th>4</th>\n",
       "      <td>1954400510</td>\n",
       "      <td>2015-02-18</td>\n",
       "      <td>510000.0</td>\n",
       "      <td>3</td>\n",
       "      <td>2.00</td>\n",
       "      <td>1680</td>\n",
       "      <td>8080</td>\n",
       "      <td>1.0</td>\n",
       "      <td>0</td>\n",
       "      <td>0</td>\n",
       "      <td>...</td>\n",
       "      <td>8</td>\n",
       "      <td>1680</td>\n",
       "      <td>0</td>\n",
       "      <td>1987</td>\n",
       "      <td>0</td>\n",
       "      <td>98074</td>\n",
       "      <td>47,6168</td>\n",
       "      <td>-122,0450</td>\n",
       "      <td>1800</td>\n",
       "      <td>7503</td>\n",
       "    </tr>\n",
       "  </tbody>\n",
       "</table>\n",
       "<p>5 rows × 21 columns</p>\n",
       "</div>"
      ],
      "text/plain": [
       "           id        date     price  bedrooms  bathrooms  sqft_living  \\\n",
       "0  7129300520  2014-10-13  221900.0         3       1.00         1180   \n",
       "1  6414100192  2014-12-09  538000.0         3       2.25         2570   \n",
       "2  5631500400  2015-02-25  180000.0         2       1.00          770   \n",
       "3  2487200875  2014-12-09  604000.0         4       3.00         1960   \n",
       "4  1954400510  2015-02-18  510000.0         3       2.00         1680   \n",
       "\n",
       "   sqft_lot  floors  waterfront  view  ...  grade  sqft_above  sqft_basement  \\\n",
       "0      5650     1.0           0     0  ...      7        1180              0   \n",
       "1      7242     2.0           0     0  ...      7        2170            400   \n",
       "2     10000     1.0           0     0  ...      6         770              0   \n",
       "3      5000     1.0           0     0  ...      7        1050            910   \n",
       "4      8080     1.0           0     0  ...      8        1680              0   \n",
       "\n",
       "   yr_built  yr_renovated  zipcode      lat       long sqft_living15  \\\n",
       "0      1955             0    98178  47,5112  -122,2570          1340   \n",
       "1      1951          1991    98125  47,7210  -122,3190          1690   \n",
       "2      1933             0    98028  47,7379  -122,2330          2720   \n",
       "3      1965             0    98136  47,5208  -122,3930          1360   \n",
       "4      1987             0    98074  47,6168  -122,0450          1800   \n",
       "\n",
       "   sqft_lot15  \n",
       "0        5650  \n",
       "1        7639  \n",
       "2        8062  \n",
       "3        5000  \n",
       "4        7503  \n",
       "\n",
       "[5 rows x 21 columns]"
      ]
     },
     "execution_count": 1,
     "metadata": {},
     "output_type": "execute_result"
    }
   ],
   "source": [
    "import pandas as pd\n",
    "import numpy as np\n",
    "import matplotlib.pyplot as plt\n",
    "import seaborn as sns\n",
    "\n",
    "OldDataFrame = pd.read_csv('kc_house_data.csv', encoding='UTF-8', sep=\";\")\n",
    "DataFrame = OldDataFrame.query('price <= 1000000')\n",
    "DataFrame.head()"
   ]
  },
  {
   "cell_type": "markdown",
   "id": "6ea6680e",
   "metadata": {},
   "source": [
    "<h3>A empresa, House Rocket, deseja obter infromações e o direcionamento de mercado de casas na cidade de King County, USA, para isto ela levantou as seguintes questões: </h3>\n",
    "<h3> \n",
    "    <ol>\n",
    "    <li>Quais casas o CEO da House Rocket deveria comprar e por qual preço de compra?</li>  <br>   \n",
    "    <li>Uma vez a casa em posse da empresa, qual o melhor momento para vendê-las e qual seria o preço da venda?</li>   <br>  \n",
    "    <li> A House Rocket deveria fazer uma reforma para aumentar o preço da venda? Quais seriam as sugestões de mudanças? Qual o incremento no preço dado por cada opção de reforma?</li>       \n",
    "    </ol>\n",
    "</h3>"
   ]
  },
  {
   "cell_type": "markdown",
   "id": "4b8ffb7d",
   "metadata": {},
   "source": [
    "<h6>Informações</h6>\n",
    "\n",
    "sqft_basement = tamanho do porão\n",
    "\n",
    "sqft_above = tamanho segundo andar\n",
    "\n",
    "yr_built = ano de construção\n",
    "\n",
    "yr_renovated = ano da reforma"
   ]
  },
  {
   "cell_type": "markdown",
   "id": "296cde92",
   "metadata": {},
   "source": [
    "# Observando casas reformadas para calcular sua valorização"
   ]
  },
  {
   "cell_type": "code",
   "execution_count": 2,
   "id": "6cab1e5a",
   "metadata": {
    "scrolled": false
   },
   "outputs": [],
   "source": [
    "Renovated = DataFrame[DataFrame['yr_renovated']!=0]\n",
    "Unrenovated = DataFrame[DataFrame['yr_renovated']==0]"
   ]
  },
  {
   "cell_type": "code",
   "execution_count": 3,
   "id": "17ddba93",
   "metadata": {},
   "outputs": [
    {
     "data": {
      "text/html": [
       "<div>\n",
       "<style scoped>\n",
       "    .dataframe tbody tr th:only-of-type {\n",
       "        vertical-align: middle;\n",
       "    }\n",
       "\n",
       "    .dataframe tbody tr th {\n",
       "        vertical-align: top;\n",
       "    }\n",
       "\n",
       "    .dataframe thead th {\n",
       "        text-align: right;\n",
       "    }\n",
       "</style>\n",
       "<table border=\"1\" class=\"dataframe\">\n",
       "  <thead>\n",
       "    <tr style=\"text-align: right;\">\n",
       "      <th></th>\n",
       "      <th>id</th>\n",
       "      <th>date</th>\n",
       "      <th>price</th>\n",
       "      <th>bedrooms</th>\n",
       "      <th>bathrooms</th>\n",
       "      <th>sqft_living</th>\n",
       "      <th>sqft_lot</th>\n",
       "      <th>floors</th>\n",
       "      <th>waterfront</th>\n",
       "      <th>view</th>\n",
       "      <th>...</th>\n",
       "      <th>grade</th>\n",
       "      <th>sqft_above</th>\n",
       "      <th>sqft_basement</th>\n",
       "      <th>yr_built</th>\n",
       "      <th>yr_renovated</th>\n",
       "      <th>zipcode</th>\n",
       "      <th>lat</th>\n",
       "      <th>long</th>\n",
       "      <th>sqft_living15</th>\n",
       "      <th>sqft_lot15</th>\n",
       "    </tr>\n",
       "  </thead>\n",
       "  <tbody>\n",
       "    <tr>\n",
       "      <th>0</th>\n",
       "      <td>7129300520</td>\n",
       "      <td>2014-10-13</td>\n",
       "      <td>221900.0</td>\n",
       "      <td>3</td>\n",
       "      <td>1.00</td>\n",
       "      <td>1180</td>\n",
       "      <td>5650</td>\n",
       "      <td>1.0</td>\n",
       "      <td>0</td>\n",
       "      <td>0</td>\n",
       "      <td>...</td>\n",
       "      <td>7</td>\n",
       "      <td>1180</td>\n",
       "      <td>0</td>\n",
       "      <td>1955</td>\n",
       "      <td>0</td>\n",
       "      <td>98178</td>\n",
       "      <td>47,5112</td>\n",
       "      <td>-122,2570</td>\n",
       "      <td>1340</td>\n",
       "      <td>5650</td>\n",
       "    </tr>\n",
       "    <tr>\n",
       "      <th>1</th>\n",
       "      <td>6414100192</td>\n",
       "      <td>2014-12-09</td>\n",
       "      <td>538000.0</td>\n",
       "      <td>3</td>\n",
       "      <td>2.25</td>\n",
       "      <td>2570</td>\n",
       "      <td>7242</td>\n",
       "      <td>2.0</td>\n",
       "      <td>0</td>\n",
       "      <td>0</td>\n",
       "      <td>...</td>\n",
       "      <td>7</td>\n",
       "      <td>2170</td>\n",
       "      <td>400</td>\n",
       "      <td>1951</td>\n",
       "      <td>1991</td>\n",
       "      <td>98125</td>\n",
       "      <td>47,7210</td>\n",
       "      <td>-122,3190</td>\n",
       "      <td>1690</td>\n",
       "      <td>7639</td>\n",
       "    </tr>\n",
       "    <tr>\n",
       "      <th>2</th>\n",
       "      <td>5631500400</td>\n",
       "      <td>2015-02-25</td>\n",
       "      <td>180000.0</td>\n",
       "      <td>2</td>\n",
       "      <td>1.00</td>\n",
       "      <td>770</td>\n",
       "      <td>10000</td>\n",
       "      <td>1.0</td>\n",
       "      <td>0</td>\n",
       "      <td>0</td>\n",
       "      <td>...</td>\n",
       "      <td>6</td>\n",
       "      <td>770</td>\n",
       "      <td>0</td>\n",
       "      <td>1933</td>\n",
       "      <td>0</td>\n",
       "      <td>98028</td>\n",
       "      <td>47,7379</td>\n",
       "      <td>-122,2330</td>\n",
       "      <td>2720</td>\n",
       "      <td>8062</td>\n",
       "    </tr>\n",
       "    <tr>\n",
       "      <th>3</th>\n",
       "      <td>2487200875</td>\n",
       "      <td>2014-12-09</td>\n",
       "      <td>604000.0</td>\n",
       "      <td>4</td>\n",
       "      <td>3.00</td>\n",
       "      <td>1960</td>\n",
       "      <td>5000</td>\n",
       "      <td>1.0</td>\n",
       "      <td>0</td>\n",
       "      <td>0</td>\n",
       "      <td>...</td>\n",
       "      <td>7</td>\n",
       "      <td>1050</td>\n",
       "      <td>910</td>\n",
       "      <td>1965</td>\n",
       "      <td>0</td>\n",
       "      <td>98136</td>\n",
       "      <td>47,5208</td>\n",
       "      <td>-122,3930</td>\n",
       "      <td>1360</td>\n",
       "      <td>5000</td>\n",
       "    </tr>\n",
       "    <tr>\n",
       "      <th>4</th>\n",
       "      <td>1954400510</td>\n",
       "      <td>2015-02-18</td>\n",
       "      <td>510000.0</td>\n",
       "      <td>3</td>\n",
       "      <td>2.00</td>\n",
       "      <td>1680</td>\n",
       "      <td>8080</td>\n",
       "      <td>1.0</td>\n",
       "      <td>0</td>\n",
       "      <td>0</td>\n",
       "      <td>...</td>\n",
       "      <td>8</td>\n",
       "      <td>1680</td>\n",
       "      <td>0</td>\n",
       "      <td>1987</td>\n",
       "      <td>0</td>\n",
       "      <td>98074</td>\n",
       "      <td>47,6168</td>\n",
       "      <td>-122,0450</td>\n",
       "      <td>1800</td>\n",
       "      <td>7503</td>\n",
       "    </tr>\n",
       "    <tr>\n",
       "      <th>...</th>\n",
       "      <td>...</td>\n",
       "      <td>...</td>\n",
       "      <td>...</td>\n",
       "      <td>...</td>\n",
       "      <td>...</td>\n",
       "      <td>...</td>\n",
       "      <td>...</td>\n",
       "      <td>...</td>\n",
       "      <td>...</td>\n",
       "      <td>...</td>\n",
       "      <td>...</td>\n",
       "      <td>...</td>\n",
       "      <td>...</td>\n",
       "      <td>...</td>\n",
       "      <td>...</td>\n",
       "      <td>...</td>\n",
       "      <td>...</td>\n",
       "      <td>...</td>\n",
       "      <td>...</td>\n",
       "      <td>...</td>\n",
       "      <td>...</td>\n",
       "    </tr>\n",
       "    <tr>\n",
       "      <th>21608</th>\n",
       "      <td>263000018</td>\n",
       "      <td>2014-05-21</td>\n",
       "      <td>360000.0</td>\n",
       "      <td>3</td>\n",
       "      <td>2.50</td>\n",
       "      <td>1530</td>\n",
       "      <td>1131</td>\n",
       "      <td>3.0</td>\n",
       "      <td>0</td>\n",
       "      <td>0</td>\n",
       "      <td>...</td>\n",
       "      <td>8</td>\n",
       "      <td>1530</td>\n",
       "      <td>0</td>\n",
       "      <td>2009</td>\n",
       "      <td>0</td>\n",
       "      <td>98103</td>\n",
       "      <td>47,6993</td>\n",
       "      <td>-122,3460</td>\n",
       "      <td>1530</td>\n",
       "      <td>1509</td>\n",
       "    </tr>\n",
       "    <tr>\n",
       "      <th>21609</th>\n",
       "      <td>6600060120</td>\n",
       "      <td>2015-02-23</td>\n",
       "      <td>400000.0</td>\n",
       "      <td>4</td>\n",
       "      <td>2.50</td>\n",
       "      <td>2310</td>\n",
       "      <td>5813</td>\n",
       "      <td>2.0</td>\n",
       "      <td>0</td>\n",
       "      <td>0</td>\n",
       "      <td>...</td>\n",
       "      <td>8</td>\n",
       "      <td>2310</td>\n",
       "      <td>0</td>\n",
       "      <td>2014</td>\n",
       "      <td>0</td>\n",
       "      <td>98146</td>\n",
       "      <td>47,5107</td>\n",
       "      <td>-122,3620</td>\n",
       "      <td>1830</td>\n",
       "      <td>7200</td>\n",
       "    </tr>\n",
       "    <tr>\n",
       "      <th>21610</th>\n",
       "      <td>1523300141</td>\n",
       "      <td>2014-06-23</td>\n",
       "      <td>402101.0</td>\n",
       "      <td>2</td>\n",
       "      <td>0.75</td>\n",
       "      <td>1020</td>\n",
       "      <td>1350</td>\n",
       "      <td>2.0</td>\n",
       "      <td>0</td>\n",
       "      <td>0</td>\n",
       "      <td>...</td>\n",
       "      <td>7</td>\n",
       "      <td>1020</td>\n",
       "      <td>0</td>\n",
       "      <td>2009</td>\n",
       "      <td>0</td>\n",
       "      <td>98144</td>\n",
       "      <td>47,5944</td>\n",
       "      <td>-122,2990</td>\n",
       "      <td>1020</td>\n",
       "      <td>2007</td>\n",
       "    </tr>\n",
       "    <tr>\n",
       "      <th>21611</th>\n",
       "      <td>291310100</td>\n",
       "      <td>2015-01-16</td>\n",
       "      <td>400000.0</td>\n",
       "      <td>3</td>\n",
       "      <td>2.50</td>\n",
       "      <td>1600</td>\n",
       "      <td>2388</td>\n",
       "      <td>2.0</td>\n",
       "      <td>0</td>\n",
       "      <td>0</td>\n",
       "      <td>...</td>\n",
       "      <td>8</td>\n",
       "      <td>1600</td>\n",
       "      <td>0</td>\n",
       "      <td>2004</td>\n",
       "      <td>0</td>\n",
       "      <td>98027</td>\n",
       "      <td>47,5345</td>\n",
       "      <td>-122,0690</td>\n",
       "      <td>1410</td>\n",
       "      <td>1287</td>\n",
       "    </tr>\n",
       "    <tr>\n",
       "      <th>21612</th>\n",
       "      <td>1523300157</td>\n",
       "      <td>2014-10-15</td>\n",
       "      <td>325000.0</td>\n",
       "      <td>2</td>\n",
       "      <td>0.75</td>\n",
       "      <td>1020</td>\n",
       "      <td>1076</td>\n",
       "      <td>2.0</td>\n",
       "      <td>0</td>\n",
       "      <td>0</td>\n",
       "      <td>...</td>\n",
       "      <td>7</td>\n",
       "      <td>1020</td>\n",
       "      <td>0</td>\n",
       "      <td>2008</td>\n",
       "      <td>0</td>\n",
       "      <td>98144</td>\n",
       "      <td>47,5941</td>\n",
       "      <td>-122,2990</td>\n",
       "      <td>1020</td>\n",
       "      <td>1357</td>\n",
       "    </tr>\n",
       "  </tbody>\n",
       "</table>\n",
       "<p>20148 rows × 21 columns</p>\n",
       "</div>"
      ],
      "text/plain": [
       "               id        date     price  bedrooms  bathrooms  sqft_living  \\\n",
       "0      7129300520  2014-10-13  221900.0         3       1.00         1180   \n",
       "1      6414100192  2014-12-09  538000.0         3       2.25         2570   \n",
       "2      5631500400  2015-02-25  180000.0         2       1.00          770   \n",
       "3      2487200875  2014-12-09  604000.0         4       3.00         1960   \n",
       "4      1954400510  2015-02-18  510000.0         3       2.00         1680   \n",
       "...           ...         ...       ...       ...        ...          ...   \n",
       "21608   263000018  2014-05-21  360000.0         3       2.50         1530   \n",
       "21609  6600060120  2015-02-23  400000.0         4       2.50         2310   \n",
       "21610  1523300141  2014-06-23  402101.0         2       0.75         1020   \n",
       "21611   291310100  2015-01-16  400000.0         3       2.50         1600   \n",
       "21612  1523300157  2014-10-15  325000.0         2       0.75         1020   \n",
       "\n",
       "       sqft_lot  floors  waterfront  view  ...  grade  sqft_above  \\\n",
       "0          5650     1.0           0     0  ...      7        1180   \n",
       "1          7242     2.0           0     0  ...      7        2170   \n",
       "2         10000     1.0           0     0  ...      6         770   \n",
       "3          5000     1.0           0     0  ...      7        1050   \n",
       "4          8080     1.0           0     0  ...      8        1680   \n",
       "...         ...     ...         ...   ...  ...    ...         ...   \n",
       "21608      1131     3.0           0     0  ...      8        1530   \n",
       "21609      5813     2.0           0     0  ...      8        2310   \n",
       "21610      1350     2.0           0     0  ...      7        1020   \n",
       "21611      2388     2.0           0     0  ...      8        1600   \n",
       "21612      1076     2.0           0     0  ...      7        1020   \n",
       "\n",
       "       sqft_basement  yr_built  yr_renovated  zipcode      lat       long  \\\n",
       "0                  0      1955             0    98178  47,5112  -122,2570   \n",
       "1                400      1951          1991    98125  47,7210  -122,3190   \n",
       "2                  0      1933             0    98028  47,7379  -122,2330   \n",
       "3                910      1965             0    98136  47,5208  -122,3930   \n",
       "4                  0      1987             0    98074  47,6168  -122,0450   \n",
       "...              ...       ...           ...      ...      ...        ...   \n",
       "21608              0      2009             0    98103  47,6993  -122,3460   \n",
       "21609              0      2014             0    98146  47,5107  -122,3620   \n",
       "21610              0      2009             0    98144  47,5944  -122,2990   \n",
       "21611              0      2004             0    98027  47,5345  -122,0690   \n",
       "21612              0      2008             0    98144  47,5941  -122,2990   \n",
       "\n",
       "      sqft_living15  sqft_lot15  \n",
       "0              1340        5650  \n",
       "1              1690        7639  \n",
       "2              2720        8062  \n",
       "3              1360        5000  \n",
       "4              1800        7503  \n",
       "...             ...         ...  \n",
       "21608          1530        1509  \n",
       "21609          1830        7200  \n",
       "21610          1020        2007  \n",
       "21611          1410        1287  \n",
       "21612          1020        1357  \n",
       "\n",
       "[20148 rows x 21 columns]"
      ]
     },
     "execution_count": 3,
     "metadata": {},
     "output_type": "execute_result"
    }
   ],
   "source": [
    "DataFrame.loc[:,:]"
   ]
  },
  {
   "cell_type": "code",
   "execution_count": 4,
   "id": "f8c079b0",
   "metadata": {},
   "outputs": [
    {
     "data": {
      "text/plain": [
       "544612.3682065217"
      ]
     },
     "execution_count": 4,
     "metadata": {},
     "output_type": "execute_result"
    }
   ],
   "source": [
    "Ren = Renovated['price'].mean()\n",
    "Ren"
   ]
  },
  {
   "cell_type": "code",
   "execution_count": 5,
   "id": "1eeb4ac4",
   "metadata": {},
   "outputs": [
    {
     "data": {
      "text/plain": [
       "464784.7875025757"
      ]
     },
     "execution_count": 5,
     "metadata": {},
     "output_type": "execute_result"
    }
   ],
   "source": [
    "Unr = Unrenovated['price'].mean()\n",
    "Unr"
   ]
  },
  {
   "cell_type": "code",
   "execution_count": 6,
   "id": "03479001",
   "metadata": {},
   "outputs": [
    {
     "name": "stdout",
     "output_type": "stream",
     "text": [
      "79827.580703946\n"
     ]
    }
   ],
   "source": [
    "print(Ren - Unr)"
   ]
  },
  {
   "cell_type": "markdown",
   "id": "dc8fddab",
   "metadata": {},
   "source": [
    "<h3> Pelos passos acima podemos perceber que na média as casas reformadas são mais valorizadas que as casas sem reforma.\n",
    "    \n",
    "Sendo assim seria interessante o CEO reformar a casa antes de Vendê-la.\n",
    "</h3>\n",
    "\n",
    "<h3> Seguindo esta lógica, o recomendado seria o CEO comprar uma casa mais barata para reformar e revender.<br>\n",
    "    \n",
    "Primeiramente será analisada a casa que esteja entre as mais antigas e será verificado se esta resulta na casa mais barata, ou em um preço baixo.</h3>\n",
    "\n"
   ]
  },
  {
   "cell_type": "markdown",
   "id": "ec8e0b16",
   "metadata": {},
   "source": [
    "# Buscando a casa mais antiga para comparar com o preço da mais barata"
   ]
  },
  {
   "cell_type": "code",
   "execution_count": 7,
   "id": "ce634765",
   "metadata": {},
   "outputs": [
    {
     "name": "stdout",
     "output_type": "stream",
     "text": [
      "               id        date     price  bedrooms  bathrooms  sqft_living  \\\n",
      "14001  2354300456  2015-03-11  130000.0         2        1.0          600   \n",
      "\n",
      "       sqft_lot  floors  waterfront  view  ...  grade  sqft_above  \\\n",
      "14001      1500     1.0           0     0  ...      4         600   \n",
      "\n",
      "       sqft_basement  yr_built  yr_renovated  zipcode      lat       long  \\\n",
      "14001              0      1900             0    98027  47,5289  -122,0330   \n",
      "\n",
      "      sqft_living15  sqft_lot15  \n",
      "14001          1130        6000  \n",
      "\n",
      "[1 rows x 21 columns]\n"
     ]
    },
    {
     "data": {
      "text/plain": [
       "14001    4\n",
       "Name: condition, dtype: int64"
      ]
     },
     "execution_count": 7,
     "metadata": {},
     "output_type": "execute_result"
    }
   ],
   "source": [
    "Cheaper = Unrenovated[Unrenovated['yr_built'] == Unrenovated['yr_built'].min()]\n",
    "CheapestElderHouse = Cheaper[Cheaper['price'] == Cheaper['price'].min()]\n",
    "print(CheapestElderHouse)\n",
    "CheapestElderHouse['condition']"
   ]
  },
  {
   "cell_type": "code",
   "execution_count": 8,
   "id": "90592f63",
   "metadata": {},
   "outputs": [
    {
     "name": "stdout",
     "output_type": "stream",
     "text": [
      "              id        date    price  bedrooms  bathrooms  sqft_living  \\\n",
      "1149  3421079032  2015-02-17  75000.0         1        0.0          670   \n",
      "\n",
      "      sqft_lot  floors  waterfront  view  ...  grade  sqft_above  \\\n",
      "1149     43377     1.0           0     0  ...      3         670   \n",
      "\n",
      "      sqft_basement  yr_built  yr_renovated  zipcode      lat       long  \\\n",
      "1149              0      1966             0    98022  47,2638  -121,9060   \n",
      "\n",
      "     sqft_living15  sqft_lot15  \n",
      "1149          1160       42882  \n",
      "\n",
      "[1 rows x 21 columns]\n"
     ]
    },
    {
     "data": {
      "text/plain": [
       "1149    3\n",
       "Name: condition, dtype: int64"
      ]
     },
     "execution_count": 8,
     "metadata": {},
     "output_type": "execute_result"
    }
   ],
   "source": [
    "CheapestHouse = Unrenovated[Unrenovated['price'] == Unrenovated['price'].min()]\n",
    "print(CheapestHouse)\n",
    "CheapestHouse['condition']"
   ]
  },
  {
   "cell_type": "code",
   "execution_count": 9,
   "id": "3348011d",
   "metadata": {},
   "outputs": [
    {
     "data": {
      "text/plain": [
       "3.4047548143736353"
      ]
     },
     "execution_count": 9,
     "metadata": {},
     "output_type": "execute_result"
    }
   ],
   "source": [
    "DataFrame.condition.mean()"
   ]
  },
  {
   "cell_type": "markdown",
   "id": "c4600067",
   "metadata": {},
   "source": [
    "<h3> Diferente do esperado, nos resultados acima foi encontrada a casa mais antiga não renovada no valor de 130 mil, e também a mais barata encontrada no banco de dados, no valor de 75 mil.\n",
    "    \n",
    "    Analisando os preços pode-se dizer que não existe motivos evidentes para o CEO comprar a casa mais antiga, pois ambas casas tem o espaço de construção parecido (sqft_living) e apesar da casa de 75 mil estar numa condição pior e ter menos banheiros e quartos, isto pode ser solucionado na reforma, valorizando a casa, além de pagar 55 mil a menos. <br>\n",
    "    \n",
    "Apenas faria sentido comprar a casa antiga se fosse para uso imediato, sem pretensões de lucro, pois ela dispõe de uma melhor condição de moradia e recursos que a casa de 75 mil.\n",
    "    \n",
    "<br>\n",
    "Sendo assim seria indicado que o CEO comprasse casas baratas no geral, entre 75 mil e 100mil, não importando muito com seu tempo de construção, uma vez que este não indica uma diminuição nos preços e nem com suas condições e itens como banheiros e quartos, uma vez que estes itens poderiam ser construidos numa reforma desde que o \"sqft_lot\" o possibilite.\n",
    "</h3>"
   ]
  },
  {
   "cell_type": "markdown",
   "id": "246b0347",
   "metadata": {},
   "source": [
    "# Entendendo se o ZipCode impacta nos preços das casas"
   ]
  },
  {
   "cell_type": "code",
   "execution_count": 10,
   "id": "6d476659",
   "metadata": {},
   "outputs": [
    {
     "name": "stdout",
     "output_type": "stream",
     "text": [
      "ZipCode com casas mais caras em média 98039 valor médio 900833.3333333334\n"
     ]
    }
   ],
   "source": [
    "df = DataFrame.groupby('zipcode').mean()\n",
    "df2 = DataFrame.groupby('zipcode').median()\n",
    "df3 = DataFrame.groupby('zipcode').std()\n",
    "ExpensiveZip = df[df['price'] == df['price'].max()]\n",
    "print('ZipCode com casas mais caras em média', ExpensiveZip.index.values[0], 'valor médio', df['price'].max())"
   ]
  },
  {
   "cell_type": "code",
   "execution_count": 11,
   "id": "cc42d2a0",
   "metadata": {},
   "outputs": [
    {
     "name": "stdout",
     "output_type": "stream",
     "text": [
      "ZipCode com as casas de médias mais baratas fica no  [98002] valor médio de: 234284\n",
      "média geral é de: 467700\n",
      "ZipCode com as casas de menor mediana fica no  [98002 98168] valor médio de: 235000\n",
      "média geral é de: 434000\n",
      "ZipCode com as casas com menor desvio padrão fica no  [98002] valor médio de: 52041\n",
      "média geral é de: 196360\n"
     ]
    }
   ],
   "source": [
    "CheapZip = df[df['price'] == df['price'].min()]\n",
    "CheapZipmedian = df2[df2['price'] == df2['price'].min()]\n",
    "CheapZipstd = df3[df3['price'] == df3['price'].min()]\n",
    "generalMean = DataFrame['price'].mean()\n",
    "generalMedian = DataFrame['price'].median()\n",
    "generalstd = DataFrame['price'].std()\n",
    "print('ZipCode com as casas de médias mais baratas fica no ',CheapZip.index.values,\n",
    "      'valor médio de: %i' %(df['price'].min()))\n",
    "print('média geral é de: %i' %(generalMean))\n",
    "print('ZipCode com as casas de menor mediana fica no ',CheapZipmedian.index.values,\n",
    "      'valor médio de: %i' %(df2['price'].min()))\n",
    "print('média geral é de: %i' %(generalMedian))\n",
    "print('ZipCode com as casas com menor desvio padrão fica no ',CheapZipstd.index.values,\n",
    "      'valor médio de: %i' %(df3['price'].min()))\n",
    "print('média geral é de: %i' %(generalstd))"
   ]
  },
  {
   "cell_type": "markdown",
   "id": "5e02309d",
   "metadata": {},
   "source": [
    "<h3> Outra variável que pode impactar o preço da casa é a localização, podemos análisar isso através da coluna \"zipcode\", e como visto anteriormente nos resultados seria interessante evitar o zipcode 98002, já que as medidas estatísticas apontam para um baixo valor das casas além de uma taxa de preço com pequenas variações, ou seja, muito provavelmente a localização tem grande impacto no valor da casa.<br>\n",
    "\n",
    "<br>\n",
    "Sabendo o valor médio das casas em King County, é possível afirmar que a reforma é uma boa estratégia, uma vez que o valor médio das casas reformadas, que é de 1.446.211.405, é maior que o valor médio das casas em geral e das casas não reformadas, como visto anteriormente.\n",
    "</h3>"
   ]
  },
  {
   "cell_type": "code",
   "execution_count": 12,
   "id": "84e33bba",
   "metadata": {},
   "outputs": [],
   "source": [
    "ID_Duplo = DataFrame[DataFrame['id'].duplicated(keep = False)]\n",
    "\n",
    "ID_Duplo_Length = ID_Duplo.shape[0]"
   ]
  },
  {
   "cell_type": "code",
   "execution_count": 13,
   "id": "732174ee",
   "metadata": {
    "scrolled": false
   },
   "outputs": [
    {
     "data": {
      "text/html": [
       "<div>\n",
       "<style scoped>\n",
       "    .dataframe tbody tr th:only-of-type {\n",
       "        vertical-align: middle;\n",
       "    }\n",
       "\n",
       "    .dataframe tbody tr th {\n",
       "        vertical-align: top;\n",
       "    }\n",
       "\n",
       "    .dataframe thead th {\n",
       "        text-align: right;\n",
       "    }\n",
       "</style>\n",
       "<table border=\"1\" class=\"dataframe\">\n",
       "  <thead>\n",
       "    <tr style=\"text-align: right;\">\n",
       "      <th></th>\n",
       "      <th>percentage</th>\n",
       "    </tr>\n",
       "  </thead>\n",
       "  <tbody>\n",
       "    <tr>\n",
       "      <th>114</th>\n",
       "      <td>0.945946</td>\n",
       "    </tr>\n",
       "    <tr>\n",
       "      <th>39</th>\n",
       "      <td>0.960686</td>\n",
       "    </tr>\n",
       "    <tr>\n",
       "      <th>6</th>\n",
       "      <td>0.976628</td>\n",
       "    </tr>\n",
       "    <tr>\n",
       "      <th>87</th>\n",
       "      <td>0.978000</td>\n",
       "    </tr>\n",
       "    <tr>\n",
       "      <th>131</th>\n",
       "      <td>0.990291</td>\n",
       "    </tr>\n",
       "    <tr>\n",
       "      <th>...</th>\n",
       "      <td>...</td>\n",
       "    </tr>\n",
       "    <tr>\n",
       "      <th>59</th>\n",
       "      <td>2.681707</td>\n",
       "    </tr>\n",
       "    <tr>\n",
       "      <th>83</th>\n",
       "      <td>2.764706</td>\n",
       "    </tr>\n",
       "    <tr>\n",
       "      <th>121</th>\n",
       "      <td>2.969697</td>\n",
       "    </tr>\n",
       "    <tr>\n",
       "      <th>139</th>\n",
       "      <td>3.308271</td>\n",
       "    </tr>\n",
       "    <tr>\n",
       "      <th>116</th>\n",
       "      <td>4.218009</td>\n",
       "    </tr>\n",
       "  </tbody>\n",
       "</table>\n",
       "<p>152 rows × 1 columns</p>\n",
       "</div>"
      ],
      "text/plain": [
       "     percentage\n",
       "114    0.945946\n",
       "39     0.960686\n",
       "6      0.976628\n",
       "87     0.978000\n",
       "131    0.990291\n",
       "..          ...\n",
       "59     2.681707\n",
       "83     2.764706\n",
       "121    2.969697\n",
       "139    3.308271\n",
       "116    4.218009\n",
       "\n",
       "[152 rows x 1 columns]"
      ]
     },
     "execution_count": 13,
     "metadata": {},
     "output_type": "execute_result"
    }
   ],
   "source": [
    "#CALCULANDO A VALORIZAÇÃO/DESVALORIZAÇÃO PELO TEMPO ENTRE OS IDS IGUAIS E SALVANDO OS VALORES EM meanProfit\n",
    "meanProfit = []\n",
    "for i in range(0, ID_Duplo_Length, 2):\n",
    "    if(i+1 < ID_Duplo_Length):\n",
    "        locActual = ID_Duplo.iloc[i,:]\n",
    "        locProx = ID_Duplo.iloc[i+1,:]\n",
    "        if(locActual.id == locProx.id):\n",
    "            if locActual['date'] > locProx['date']:\n",
    "                meanProfit.append(locActual['price']/locProx['price'])\n",
    "            else:\n",
    "                meanProfit.append(locProx['price']/locActual['price'])\n",
    "        else:\n",
    "            meanProfit.append(0)\n",
    "    else:\n",
    "        meanProfit.append(0)\n",
    "        \n",
    "#montando DataFrame com a valorização ou desvalorização dos imóveis\n",
    "df_meanProfit = pd.DataFrame(meanProfit, columns = ['percentage'])    \n",
    "df_meanProfit = df_meanProfit[df_meanProfit['percentage'] != 0]\n",
    "#Passando de lista para DataFrame e retirando valores zerados\n",
    "\n",
    "df_meanProfit.sort_values(by=['percentage'])"
   ]
  },
  {
   "cell_type": "markdown",
   "id": "fe2770fe",
   "metadata": {},
   "source": [
    "<h3> É possível perceber que existem algumas porcentagens atuando como outliers para cima, como um aumento de 718875.81%, quanto para baixo, como um \"aumento\" de 0.000084%, ou seja, uma diminuição. Sendo assim será removido tanto os 5 maiores quanto os 5 menores valores  </h3>"
   ]
  },
  {
   "cell_type": "code",
   "execution_count": 14,
   "id": "8adf0aa2",
   "metadata": {},
   "outputs": [
    {
     "data": {
      "text/plain": [
       "percentage    1.612801\n",
       "dtype: float64"
      ]
     },
     "execution_count": 14,
     "metadata": {},
     "output_type": "execute_result"
    }
   ],
   "source": [
    "df_meanProfit.mean()"
   ]
  },
  {
   "cell_type": "code",
   "execution_count": 15,
   "id": "67d33db6",
   "metadata": {},
   "outputs": [
    {
     "data": {
      "text/plain": [
       "percentage    1.592067\n",
       "dtype: float64"
      ]
     },
     "execution_count": 15,
     "metadata": {},
     "output_type": "execute_result"
    }
   ],
   "source": [
    "df_meanProfit.median()"
   ]
  },
  {
   "cell_type": "code",
   "execution_count": 16,
   "id": "8d7aa333",
   "metadata": {},
   "outputs": [
    {
     "data": {
      "text/html": [
       "<div>\n",
       "<style scoped>\n",
       "    .dataframe tbody tr th:only-of-type {\n",
       "        vertical-align: middle;\n",
       "    }\n",
       "\n",
       "    .dataframe tbody tr th {\n",
       "        vertical-align: top;\n",
       "    }\n",
       "\n",
       "    .dataframe thead th {\n",
       "        text-align: right;\n",
       "    }\n",
       "</style>\n",
       "<table border=\"1\" class=\"dataframe\">\n",
       "  <thead>\n",
       "    <tr style=\"text-align: right;\">\n",
       "      <th></th>\n",
       "      <th>percentage</th>\n",
       "    </tr>\n",
       "  </thead>\n",
       "  <tbody>\n",
       "    <tr>\n",
       "      <th>0</th>\n",
       "      <td>1.000000</td>\n",
       "    </tr>\n",
       "    <tr>\n",
       "      <th>1</th>\n",
       "      <td>1.238095</td>\n",
       "    </tr>\n",
       "  </tbody>\n",
       "</table>\n",
       "</div>"
      ],
      "text/plain": [
       "   percentage\n",
       "0    1.000000\n",
       "1    1.238095"
      ]
     },
     "execution_count": 16,
     "metadata": {},
     "output_type": "execute_result"
    }
   ],
   "source": [
    "df_meanProfit.mode()"
   ]
  },
  {
   "cell_type": "code",
   "execution_count": 17,
   "id": "15912823",
   "metadata": {},
   "outputs": [
    {
     "data": {
      "text/plain": [
       "<AxesSubplot:title={'center':'Distribuição de Frequências - Acumulo dos valores dos calculos da valorização com o tempo'}, xlabel='Porcentagem de valorização', ylabel='Count'>"
      ]
     },
     "execution_count": 17,
     "metadata": {},
     "output_type": "execute_result"
    },
    {
     "data": {
      "image/png": "[encoded data removed]",
      "text/plain": [
       "<Figure size 864x432 with 1 Axes>"
      ]
     },
     "metadata": {
      "needs_background": "light"
     },
     "output_type": "display_data"
    }
   ],
   "source": [
    "ax = sns.histplot((df_meanProfit-1)*100, bins = 70, kde = True)\n",
    "\n",
    "ax.figure.set_size_inches(12, 6)\n",
    "ax.set_title('Distribuição de Frequências - Acumulo dos valores dos calculos da valorização com o tempo', fontsize=18)\n",
    "ax.set_xlabel('Porcentagem de valorização', fontsize=14)\n",
    "ax"
   ]
  },
  {
   "cell_type": "markdown",
   "id": "300a3c69",
   "metadata": {},
   "source": [
    "<h2> Pode-se inferir pelo resultado da média que as casas tendem a valorizar cerca de 25% com o tempo, porém se analisarmos a mediana, a moda e o gráfico acima, é possível observar que o maioria das casas tendem a desvalorizar com o tempo, uma vez que a mediana é menor que 1, ou seja, existe uma desvalorização na maioria das casas, o que também é possível de se observar no gráfico. Sendo assim, apenas esperar o tempo passar, não garantirá uma venda em um valor maior.\n",
    "<br><br><br>\n",
    "    Abaixo é explorado em qual mês o valor de venda é maior de acordo com os dados.\n",
    "</h2>"
   ]
  },
  {
   "cell_type": "code",
   "execution_count": 18,
   "id": "27a6bd02",
   "metadata": {
    "scrolled": true
   },
   "outputs": [
    {
     "name": "stdout",
     "output_type": "stream",
     "text": [
      "a média de valor no mês 1 é de: 4.5E+05\n",
      "a média de valor no mês 2 é de: 4.5E+05\n",
      "a média de valor no mês 3 é de: 4.7E+05\n",
      "a média de valor no mês 4 é de: 4.9E+05\n",
      "a média de valor no mês 5 é de: 4.7E+05\n",
      "a média de valor no mês 6 é de: 4.8E+05\n",
      "a média de valor no mês 7 é de: 4.7E+05\n",
      "a média de valor no mês 8 é de: 4.7E+05\n",
      "a média de valor no mês 9 é de: 4.7E+05\n",
      "a média de valor no mês 10 é de: 4.6E+05\n",
      "a média de valor no mês 11 é de: 4.5E+05\n",
      "a média de valor no mês 12 é de: 4.5E+05\n"
     ]
    },
    {
     "name": "stderr",
     "output_type": "stream",
     "text": [
      "C:\\Users\\nethe\\AppData\\Local\\Temp/ipykernel_13724/970191112.py:1: SettingWithCopyWarning: \n",
      "A value is trying to be set on a copy of a slice from a DataFrame.\n",
      "Try using .loc[row_indexer,col_indexer] = value instead\n",
      "\n",
      "See the caveats in the documentation: https://pandas.pydata.org/pandas-docs/stable/user_guide/indexing.html#returning-a-view-versus-a-copy\n",
      "  DataFrame['date'] = pd.to_datetime(DataFrame['date'])\n"
     ]
    }
   ],
   "source": [
    "DataFrame['date'] = pd.to_datetime(DataFrame['date'])\n",
    "for i in range(12):\n",
    "    meanMonth = DataFrame[DataFrame['date'].dt.month == i+1]\n",
    "    print('a média de valor no mês', i+1, 'é de:', format(meanMonth['price'].mean(),'.1E'))"
   ]
  },
  {
   "cell_type": "code",
   "execution_count": 19,
   "id": "1d9c7e49",
   "metadata": {},
   "outputs": [
    {
     "name": "stderr",
     "output_type": "stream",
     "text": [
      "C:\\Users\\nethe\\AppData\\Local\\Temp/ipykernel_13724/1353701225.py:2: SettingWithCopyWarning: \n",
      "A value is trying to be set on a copy of a slice from a DataFrame.\n",
      "Try using .loc[row_indexer,col_indexer] = value instead\n",
      "\n",
      "See the caveats in the documentation: https://pandas.pydata.org/pandas-docs/stable/user_guide/indexing.html#returning-a-view-versus-a-copy\n",
      "  data_month['month'] = data_month['date'].dt.month\n"
     ]
    },
    {
     "data": {
      "text/plain": [
       "<AxesSubplot:title={'center':'Média dos preços das casas de acordo com o mês'}, xlabel='Mês', ylabel='Preço em Bilhões'>"
      ]
     },
     "execution_count": 19,
     "metadata": {},
     "output_type": "execute_result"
    },
    {
     "data": {
      "image/png": "[encoded data removed]",
      "text/plain": [
       "<Figure size 864x432 with 1 Axes>"
      ]
     },
     "metadata": {
      "needs_background": "light"
     },
     "output_type": "display_data"
    }
   ],
   "source": [
    "data_month = DataFrame\n",
    "data_month['month'] = data_month['date'].dt.month\n",
    "\n",
    "\n",
    "ax = sns.barplot(x = [i for i in range(1,13)], y =data_month.groupby('month').price.mean())\n",
    "\n",
    "ax.figure.set_size_inches(12, 6)\n",
    "ax.set_title('Média dos preços das casas de acordo com o mês', fontsize=18)\n",
    "ax.set_xlabel('Mês', fontsize=14)\n",
    "ax.set_ylabel('Preço em Bilhões', fontsize=14)\n",
    "ax"
   ]
  },
  {
   "cell_type": "markdown",
   "id": "519b546f",
   "metadata": {},
   "source": [
    "<h2> Vimos que o valor de vendas começa a aumentar em maio(5) atinge o auge em julho(7) e\n",
    "em seguida os valores diminuem alcançando uma baixa em novembro(11), se igualando com vendas do primeiro semestre exceto abril(4).<br><br><br> Abaixo a análise a ser feita vai além dos meses mas também em qual ano foram feitas essas vendas.</h2>"
   ]
  },
  {
   "cell_type": "code",
   "execution_count": 20,
   "id": "8567bc6e",
   "metadata": {},
   "outputs": [
    {
     "name": "stdout",
     "output_type": "stream",
     "text": [
      "a média de valor no mês 1 no ano de 2014 é de: NAN\n",
      "a média de valor no mês 2 no ano de 2014 é de: NAN\n",
      "a média de valor no mês 3 no ano de 2014 é de: NAN\n",
      "a média de valor no mês 4 no ano de 2014 é de: NAN\n",
      "a média de valor no mês 5 no ano de 2014 é de: 4.7E+05\n",
      "a média de valor no mês 6 no ano de 2014 é de: 4.8E+05\n",
      "a média de valor no mês 7 no ano de 2014 é de: 4.7E+05\n",
      "a média de valor no mês 8 no ano de 2014 é de: 4.7E+05\n",
      "a média de valor no mês 9 no ano de 2014 é de: 4.7E+05\n",
      "a média de valor no mês 10 no ano de 2014 é de: 4.6E+05\n",
      "a média de valor no mês 11 no ano de 2014 é de: 4.5E+05\n",
      "a média de valor no mês 12 no ano de 2014 é de: 4.5E+05\n",
      "a média de valor no mês 1 no ano de 2015 é de: 4.5E+05\n",
      "a média de valor no mês 2 no ano de 2015 é de: 4.5E+05\n",
      "a média de valor no mês 3 no ano de 2015 é de: 4.7E+05\n",
      "a média de valor no mês 4 no ano de 2015 é de: 4.9E+05\n",
      "a média de valor no mês 5 no ano de 2015 é de: 4.7E+05\n",
      "a média de valor no mês 6 no ano de 2015 é de: NAN\n",
      "a média de valor no mês 7 no ano de 2015 é de: NAN\n",
      "a média de valor no mês 8 no ano de 2015 é de: NAN\n",
      "a média de valor no mês 9 no ano de 2015 é de: NAN\n",
      "a média de valor no mês 10 no ano de 2015 é de: NAN\n",
      "a média de valor no mês 11 no ano de 2015 é de: NAN\n",
      "a média de valor no mês 12 no ano de 2015 é de: NAN\n"
     ]
    }
   ],
   "source": [
    "for j in range(2014, 2016, 1):\n",
    "    for i in range(12):\n",
    "        meanMonth = DataFrame[DataFrame['date'].dt.month == i+1]\n",
    "        meanMonthPerYear = meanMonth[meanMonth['date'].dt.year == j]\n",
    "        print('a média de valor no mês', i+1, 'no ano de', j,'é de:', format(meanMonthPerYear['price'].mean(),'.1E'))"
   ]
  },
  {
   "cell_type": "code",
   "execution_count": 21,
   "id": "c9022314",
   "metadata": {},
   "outputs": [
    {
     "name": "stderr",
     "output_type": "stream",
     "text": [
      "C:\\Users\\nethe\\AppData\\Local\\Temp/ipykernel_13724/1689871648.py:2: SettingWithCopyWarning: \n",
      "A value is trying to be set on a copy of a slice from a DataFrame.\n",
      "Try using .loc[row_indexer,col_indexer] = value instead\n",
      "\n",
      "See the caveats in the documentation: https://pandas.pydata.org/pandas-docs/stable/user_guide/indexing.html#returning-a-view-versus-a-copy\n",
      "  data_month['year-month'] = (data_month['date'].dt.year).astype(str) + '/' + (data_month['date'].dt.month).astype(str)\n"
     ]
    },
    {
     "data": {
      "text/plain": [
       "Index(['2015/4', '2014/7', '2014/6', '2014/8', '2014/10', '2015/3', '2014/9',\n",
       "       '2014/5', '2014/12', '2014/11', '2015/2', '2015/1', '2015/5'],\n",
       "      dtype='object')"
      ]
     },
     "execution_count": 21,
     "metadata": {},
     "output_type": "execute_result"
    }
   ],
   "source": [
    "data_month = DataFrame\n",
    "data_month['year-month'] = (data_month['date'].dt.year).astype(str) + '/' + (data_month['date'].dt.month).astype(str)\n",
    "label = data_month['year-month'].value_counts().index\n",
    "label "
   ]
  },
  {
   "cell_type": "code",
   "execution_count": 22,
   "id": "1b47f1a3",
   "metadata": {},
   "outputs": [
    {
     "data": {
      "text/plain": [
       "Index(['2014/10', '2014/11', '2014/12', '2014/5', '2014/6', '2014/7', '2014/8',\n",
       "       '2014/9', '2015/1', '2015/2', '2015/3', '2015/4', '2015/5'],\n",
       "      dtype='object', name='year-month')"
      ]
     },
     "execution_count": 22,
     "metadata": {},
     "output_type": "execute_result"
    }
   ],
   "source": [
    "label = ['2015/04', '2014/07', '2014/06', '2014/08', '2014/10', '2015/03', '2014/09',\n",
    "       '2014/05', '2014/12', '2014/11', '2015/02', '2015/01', '2015/05']\n",
    "label = sorted(label)\n",
    "values = data_month.groupby('year-month').price.mean()\n",
    "\n",
    "values.index"
   ]
  },
  {
   "cell_type": "code",
   "execution_count": 23,
   "id": "973ed85a",
   "metadata": {},
   "outputs": [
    {
     "data": {
      "text/plain": [
       "<AxesSubplot:title={'center':'Média dos preços das casas de acordo com o mês e ano'}, xlabel='Ano / Mês', ylabel='Preço em Bilhões'>"
      ]
     },
     "execution_count": 23,
     "metadata": {},
     "output_type": "execute_result"
    },
    {
     "data": {
      "image/png": "[encoded data removed]",
      "text/plain": [
       "<Figure size 864x432 with 1 Axes>"
      ]
     },
     "metadata": {
      "needs_background": "light"
     },
     "output_type": "display_data"
    }
   ],
   "source": [
    "values.index = ['2014/10', '2014/11', '2014/12', '2014/05', '2014/06', '2014/07', '2014/08',\n",
    "       '2014/09', '2015/01', '2015/02', '2015/03', '2015/04', '2015/05']\n",
    "\n",
    "ax = sns.barplot(x = label , y = values.sort_index())\n",
    "ax.figure.set_size_inches(12, 6)\n",
    "ax.set_title('Média dos preços das casas de acordo com o mês e ano', fontsize=18)\n",
    "ax.set_xlabel('Ano / Mês', fontsize=14)\n",
    "ax.set_ylabel('Preço em Bilhões', fontsize=14)\n",
    "ax"
   ]
  },
  {
   "cell_type": "markdown",
   "id": "0f6e7825",
   "metadata": {},
   "source": [
    "<h2> Nesta análise vê-se que os dados confirmam a ideia de que as vendas a partir de julho tendem a ser maiores e também é possível inferir uma valorização nas casas de 2014 para 2015, desta forma uma estratégia de negócio seria esperar a valorização do imóvel de um ano para o outro, se esta for uma opção viável.<br><br><br> A análise abaixo busca compreender o impacto do número de banheiros no valor da casa.</h2>"
   ]
  },
  {
   "cell_type": "code",
   "execution_count": 24,
   "id": "b23e9714",
   "metadata": {},
   "outputs": [
    {
     "name": "stderr",
     "output_type": "stream",
     "text": [
      "C:\\Users\\nethe\\AppData\\Local\\Temp/ipykernel_13724/2159553197.py:4: SettingWithCopyWarning: \n",
      "A value is trying to be set on a copy of a slice from a DataFrame.\n",
      "Try using .loc[row_indexer,col_indexer] = value instead\n",
      "\n",
      "See the caveats in the documentation: https://pandas.pydata.org/pandas-docs/stable/user_guide/indexing.html#returning-a-view-versus-a-copy\n",
      "  df_bathrooms['frequencia'] =  pd.cut(x = df_bathrooms.bathrooms,\n"
     ]
    },
    {
     "data": {
      "text/plain": [
       "390085.19155099575"
      ]
     },
     "execution_count": 24,
     "metadata": {},
     "output_type": "execute_result"
    }
   ],
   "source": [
    "classes = [0, 0.99, 1.99, 2.99, 3.99, 4.99, 5.99, 6.99, 100]\n",
    "labels = [0, 1, 2, 3, 4, 5, 6, '7+']\n",
    "df_bathrooms = DataFrame\n",
    "df_bathrooms['frequencia'] =  pd.cut(x = df_bathrooms.bathrooms,\n",
    "         bins = classes,\n",
    "         labels = labels,\n",
    "         include_lowest = True)\n",
    "df_bathrooms[df_bathrooms['frequencia'] == 1].price.mean()"
   ]
  },
  {
   "cell_type": "code",
   "execution_count": 25,
   "id": "4afd5911",
   "metadata": {},
   "outputs": [
    {
     "data": {
      "text/plain": [
       "Text(0, 0.5, 'Preço em 10 Bilhões')"
      ]
     },
     "execution_count": 25,
     "metadata": {},
     "output_type": "execute_result"
    },
    {
     "data": {
      "image/png": "[encoded data removed]",
      "text/plain": [
       "<Figure size 864x432 with 1 Axes>"
      ]
     },
     "metadata": {
      "needs_background": "light"
     },
     "output_type": "display_data"
    }
   ],
   "source": [
    "ax = sns.barplot(x = labels, y = df_bathrooms.groupby('frequencia').price.mean())\n",
    "\n",
    "ax.figure.set_size_inches(12, 6)\n",
    "ax.set_title('Média dos preços das casas de acordo com o número de banheiros', fontsize=18)\n",
    "ax.set_xlabel('Número de banheiros', fontsize=14)\n",
    "ax.set_ylabel('Preço em 10 Bilhões', fontsize=14)"
   ]
  },
  {
   "cell_type": "code",
   "execution_count": 26,
   "id": "b65850fc",
   "metadata": {},
   "outputs": [
    {
     "data": {
      "text/plain": [
       "Text(0, 0.5, 'Preço em 100 Milhões')"
      ]
     },
     "execution_count": 26,
     "metadata": {},
     "output_type": "execute_result"
    },
    {
     "data": {
      "image/png": "[encoded data removed]",
      "text/plain": [
       "<Figure size 864x432 with 1 Axes>"
      ]
     },
     "metadata": {
      "needs_background": "light"
     },
     "output_type": "display_data"
    }
   ],
   "source": [
    "ax = sns.barplot(x = labels, y = df_bathrooms.groupby('frequencia').price.median())\n",
    "\n",
    "ax.figure.set_size_inches(12, 6)\n",
    "ax.set_title('Mediana dos preços das casas de acordo com o número de banheiros', fontsize=18)\n",
    "ax.set_xlabel('Número de banheiros', fontsize=14)\n",
    "ax.set_ylabel('Preço em 100 Milhões', fontsize=14)"
   ]
  },
  {
   "cell_type": "code",
   "execution_count": 27,
   "id": "bbd055b3",
   "metadata": {},
   "outputs": [
    {
     "data": {
      "text/plain": [
       "Text(0, 0.5, 'Preço em 10 Bilhões')"
      ]
     },
     "execution_count": 27,
     "metadata": {},
     "output_type": "execute_result"
    },
    {
     "data": {
      "image/png": "[encoded data removed]",
      "text/plain": [
       "<Figure size 864x432 with 1 Axes>"
      ]
     },
     "metadata": {
      "needs_background": "light"
     },
     "output_type": "display_data"
    }
   ],
   "source": [
    "ax = sns.barplot(x = labels, y = df_bathrooms.groupby('frequencia').price.std())\n",
    "\n",
    "ax.figure.set_size_inches(12, 6)\n",
    "ax.set_title('Desvio padrão dos preços das casas de acordo com o número de banheiros', fontsize=18)\n",
    "ax.set_xlabel('Número de banheiros', fontsize=14)\n",
    "ax.set_ylabel('Preço em 10 Bilhões', fontsize=14)"
   ]
  },
  {
   "cell_type": "markdown",
   "id": "7baa6664",
   "metadata": {},
   "source": [
    "<h2> Pode-se observar que o número de banheiros provavelmente não é a variável que mais afeta o preço das casas, porém é interessante analisar que as casas da classe 6 banheiros tem uma valorização alta.</h2>"
   ]
  },
  {
   "cell_type": "markdown",
   "id": "0404b14b",
   "metadata": {},
   "source": [
    "<h2> As análises abaixo serão feitas de mesma forma, mas levará em conta o número de quartos, andares, fontes de água frontal e view(que eu assumi como vista para pontos turísticos ou então paisagens).</h2>"
   ]
  },
  {
   "cell_type": "code",
   "execution_count": 28,
   "id": "aff21b9c",
   "metadata": {},
   "outputs": [
    {
     "name": "stdout",
     "output_type": "stream",
     "text": [
      "a média de valor para 0 quarto(s) é de: 2.7E+05\n",
      "a média de valor para 1 quarto(s) é de: 3.1E+05\n",
      "a média de valor para 2 quarto(s) é de: 3.9E+05\n",
      "a média de valor para 3 quarto(s) é de: 4.3E+05\n",
      "a média de valor para 4 quarto(s) é de: 5.3E+05\n",
      "a média de valor para 5 quarto(s) é de: 5.7E+05\n",
      "a média de valor para 6 quarto(s) é de: 5.7E+05\n",
      "a média de valor para 7 quarto(s) é de: 6.2E+05\n",
      "a média de valor para 8 quarto(s) é de: 5.9E+05\n",
      "a média de valor para 9 quarto(s) é de: 6.7E+05\n",
      "a média de valor para 10 quarto(s) é de: 6.6E+05\n",
      "a média de valor para 11 quarto(s) é de: 5.2E+05\n",
      "a média de valor para 33 quartos é de: 6.4E+05\n"
     ]
    }
   ],
   "source": [
    "bedrooms = DataFrame['bedrooms'].value_counts().sort_index()\n",
    "save = bedrooms.tolist()\n",
    "#print(bedrooms)\n",
    "for i in range(len(bedrooms)):\n",
    "    if i == 12:\n",
    "        meanVal = DataFrame[DataFrame['bedrooms'] == 33]\n",
    "        print('a média de valor para', 33, 'quartos é de:', format(meanVal['price'].mean(),'.1E'))\n",
    "        save[i] = (meanVal['price'].mean())\n",
    "    else:    \n",
    "        meanVal = DataFrame[DataFrame['bedrooms'] == i]\n",
    "        print('a média de valor para', i, 'quarto(s) é de:', format(meanVal['price'].mean(),'.1E'))\n",
    "        save[i] = (meanVal['price'].mean())\n",
    "\n",
    "        \n",
    "    \n",
    "    "
   ]
  },
  {
   "cell_type": "code",
   "execution_count": 29,
   "id": "f996c32e",
   "metadata": {},
   "outputs": [
    {
     "name": "stderr",
     "output_type": "stream",
     "text": [
      "C:\\Users\\nethe\\AppData\\Local\\Temp/ipykernel_13724/1834681100.py:4: SettingWithCopyWarning: \n",
      "A value is trying to be set on a copy of a slice from a DataFrame.\n",
      "Try using .loc[row_indexer,col_indexer] = value instead\n",
      "\n",
      "See the caveats in the documentation: https://pandas.pydata.org/pandas-docs/stable/user_guide/indexing.html#returning-a-view-versus-a-copy\n",
      "  df_bedrooms['frequencia'] =  pd.cut(x = df_bedrooms.bedrooms,\n"
     ]
    },
    {
     "data": {
      "text/plain": [
       "312949.16161616164"
      ]
     },
     "execution_count": 29,
     "metadata": {},
     "output_type": "execute_result"
    }
   ],
   "source": [
    "classes = [0, 0.99, 1.99, 2.99, 3.99, 4.99, 5.99, 6.99, 100]\n",
    "labels = [0, 1, 2, 3, 4, 5, 6, '7+']\n",
    "df_bedrooms = DataFrame\n",
    "df_bedrooms['frequencia'] =  pd.cut(x = df_bedrooms.bedrooms,\n",
    "         bins = classes,\n",
    "         labels = labels,\n",
    "         include_lowest = True)\n",
    "df_bathrooms[df_bathrooms['frequencia'] == 1].price.mean()"
   ]
  },
  {
   "cell_type": "code",
   "execution_count": 30,
   "id": "00a8d085",
   "metadata": {},
   "outputs": [
    {
     "data": {
      "text/plain": [
       "Text(0, 0.5, 'Preço em 10 Bilhões')"
      ]
     },
     "execution_count": 30,
     "metadata": {},
     "output_type": "execute_result"
    },
    {
     "data": {
      "image/png": "[encoded data removed]",
      "text/plain": [
       "<Figure size 864x432 with 1 Axes>"
      ]
     },
     "metadata": {
      "needs_background": "light"
     },
     "output_type": "display_data"
    }
   ],
   "source": [
    "ax = sns.barplot(x = labels, y = df_bedrooms.groupby('frequencia').price.mean())\n",
    "\n",
    "ax.figure.set_size_inches(12, 6)\n",
    "ax.set_title('Média dos preços das casas de acordo com o número de quartos', fontsize=18)\n",
    "ax.set_xlabel('Número de quartos', fontsize=14)\n",
    "ax.set_ylabel('Preço em 10 Bilhões', fontsize=14)"
   ]
  },
  {
   "cell_type": "code",
   "execution_count": 31,
   "id": "d08d2ffd",
   "metadata": {},
   "outputs": [
    {
     "data": {
      "text/plain": [
       "Text(0, 0.5, 'Preço')"
      ]
     },
     "execution_count": 31,
     "metadata": {},
     "output_type": "execute_result"
    },
    {
     "data": {
      "image/png": "[encoded data removed]",
      "text/plain": [
       "<Figure size 864x432 with 1 Axes>"
      ]
     },
     "metadata": {
      "needs_background": "light"
     },
     "output_type": "display_data"
    }
   ],
   "source": [
    "ax = sns.barplot(x = labels, y = df_bedrooms.groupby('frequencia').price.median())\n",
    "\n",
    "ax.figure.set_size_inches(12, 6)\n",
    "ax.set_title('Mediana dos preços das casas de acordo com o número de quartos', fontsize=18)\n",
    "ax.set_xlabel('Número de quartos', fontsize=14)\n",
    "ax.set_ylabel('Preço', fontsize=14)"
   ]
  },
  {
   "cell_type": "code",
   "execution_count": 32,
   "id": "3457f0e7",
   "metadata": {},
   "outputs": [
    {
     "data": {
      "text/plain": [
       "Text(0, 0.5, 'Preço em 10 Bilhões')"
      ]
     },
     "execution_count": 32,
     "metadata": {},
     "output_type": "execute_result"
    },
    {
     "data": {
      "image/png": "[encoded data removed]",
      "text/plain": [
       "<Figure size 864x432 with 1 Axes>"
      ]
     },
     "metadata": {
      "needs_background": "light"
     },
     "output_type": "display_data"
    }
   ],
   "source": [
    "ax = sns.barplot(x = labels, y = df_bedrooms.groupby('frequencia').price.std())\n",
    "\n",
    "ax.figure.set_size_inches(12, 6)\n",
    "ax.set_title('Desvio padrão dos preços das casas de acordo com o número de quartos', fontsize=18)\n",
    "ax.set_xlabel('Número de quartos', fontsize=14)\n",
    "ax.set_ylabel('Preço em 10 Bilhões', fontsize=14)"
   ]
  },
  {
   "cell_type": "markdown",
   "id": "d69e4d85",
   "metadata": {},
   "source": [
    "<h2> Pela média é possível concluir que ter quartos é uma decisão ruim, o que me faz pensar que estes dados não são apenas de casas e sim de qualquer construção, incluindo edifícios para negócios. Entretanto, observando a mediana e desvio padrão podemos perceber que o aumento de quartos tende a aumentar a mediana e o desvio padrão em comparação com a média, sendo assim podemos concluir que o número de quartos influência o valor de uma casa, não de um edifício de negócio onde não existe a necessidade de um quarto. Sendo assim percebo que para analisar melhor a base de dados seria necessário separar as casas das demais construções.</h2>"
   ]
  },
  {
   "cell_type": "code",
   "execution_count": 33,
   "id": "098687f5",
   "metadata": {},
   "outputs": [
    {
     "name": "stdout",
     "output_type": "stream",
     "text": [
      "a média de valor para 1.0 andar(es) é de: 4.1E+05\n",
      "a média de valor para 1.5 andar(es) é de: 5.1E+05\n",
      "a média de valor para 2.0 andar(es) é de: 5.3E+05\n",
      "a média de valor para 2.5 andar(es) é de: 6.3E+05\n",
      "a média de valor para 3.0 andar(es) é de: 5.0E+05\n",
      "a média de valor para 3.5 andar(es) é de: 5.1E+05\n"
     ]
    }
   ],
   "source": [
    "floors = DataFrame['floors'].value_counts().sort_index()\n",
    "save = floors.tolist()\n",
    "#print(floors)\n",
    "for i in range(len(floors)):\n",
    "    meanVal = DataFrame[DataFrame['floors'] == ((i*0.5)+1)]\n",
    "    print('a média de valor para', ((i*0.5)+1), 'andar(es) é de:', format(meanVal['price'].mean(),'.1E'))\n",
    "    save[i] = (meanVal['price'].mean())\n"
   ]
  },
  {
   "cell_type": "code",
   "execution_count": 34,
   "id": "e4ac5706",
   "metadata": {},
   "outputs": [
    {
     "name": "stderr",
     "output_type": "stream",
     "text": [
      "C:\\Users\\nethe\\AppData\\Local\\Temp/ipykernel_13724/2460776139.py:4: SettingWithCopyWarning: \n",
      "A value is trying to be set on a copy of a slice from a DataFrame.\n",
      "Try using .loc[row_indexer,col_indexer] = value instead\n",
      "\n",
      "See the caveats in the documentation: https://pandas.pydata.org/pandas-docs/stable/user_guide/indexing.html#returning-a-view-versus-a-copy\n",
      "  df_floors['frequencia'] =  pd.cut(x = df_floors.floors,\n"
     ]
    }
   ],
   "source": [
    "classes = [1, 1.99, 2.99, 100]\n",
    "labels = [ 1, 2, '3+']\n",
    "df_floors = DataFrame\n",
    "df_floors['frequencia'] =  pd.cut(x = df_floors.floors,\n",
    "         bins = classes,\n",
    "         labels = labels,\n",
    "         include_lowest = True)"
   ]
  },
  {
   "cell_type": "code",
   "execution_count": 35,
   "id": "680d2614",
   "metadata": {},
   "outputs": [
    {
     "data": {
      "text/plain": [
       "Text(0, 0.5, 'Preço em Bilhões')"
      ]
     },
     "execution_count": 35,
     "metadata": {},
     "output_type": "execute_result"
    },
    {
     "data": {
      "image/png": "[encoded data removed]",
      "text/plain": [
       "<Figure size 864x432 with 1 Axes>"
      ]
     },
     "metadata": {
      "needs_background": "light"
     },
     "output_type": "display_data"
    }
   ],
   "source": [
    "ax = sns.barplot(x = labels, y = df_floors.groupby('frequencia').price.mean())\n",
    "\n",
    "ax.figure.set_size_inches(12, 6)\n",
    "ax.set_title('Média dos preços das casas de acordo com o número de andares', fontsize=18)\n",
    "ax.set_xlabel('Número de andares', fontsize=14)\n",
    "ax.set_ylabel('Preço em Bilhões', fontsize=14)"
   ]
  },
  {
   "cell_type": "code",
   "execution_count": 36,
   "id": "3a745850",
   "metadata": {},
   "outputs": [
    {
     "data": {
      "text/plain": [
       "Text(0, 0.5, 'Preço')"
      ]
     },
     "execution_count": 36,
     "metadata": {},
     "output_type": "execute_result"
    },
    {
     "data": {
      "image/png": "[encoded data removed]",
      "text/plain": [
       "<Figure size 864x432 with 1 Axes>"
      ]
     },
     "metadata": {
      "needs_background": "light"
     },
     "output_type": "display_data"
    }
   ],
   "source": [
    "ax = sns.barplot(x = labels, y = df_floors.groupby('frequencia').price.median())\n",
    "\n",
    "ax.figure.set_size_inches(12, 6)\n",
    "ax.set_title('Mediana dos preços das casas de acordo com o número de andares', fontsize=18)\n",
    "ax.set_xlabel('Número de andares', fontsize=14)\n",
    "ax.set_ylabel('Preço', fontsize=14)"
   ]
  },
  {
   "cell_type": "code",
   "execution_count": 37,
   "id": "68917a6c",
   "metadata": {},
   "outputs": [
    {
     "data": {
      "text/plain": [
       "Text(0, 0.5, 'Preço em 10 Bilhões')"
      ]
     },
     "execution_count": 37,
     "metadata": {},
     "output_type": "execute_result"
    },
    {
     "data": {
      "image/png": "[encoded data removed]",
      "text/plain": [
       "<Figure size 864x432 with 1 Axes>"
      ]
     },
     "metadata": {
      "needs_background": "light"
     },
     "output_type": "display_data"
    }
   ],
   "source": [
    "ax = sns.barplot(x = labels, y = df_floors.groupby('frequencia').price.std())\n",
    "\n",
    "ax.figure.set_size_inches(12, 6)\n",
    "ax.set_title('Desvio Padrão dos preços das casas de acordo com o número de andares', fontsize=18)\n",
    "ax.set_xlabel('Número de andares', fontsize=14)\n",
    "ax.set_ylabel('Preço em 10 Bilhões', fontsize=14)"
   ]
  },
  {
   "cell_type": "markdown",
   "id": "64becd36",
   "metadata": {},
   "source": [
    "<h2> Assim como nos dados sobre banheiros, nos dados de andares vemos que o ideal do imóvel é ter 2 andares, pois este se mantém em alta tanto na média quanto na mediana, porém como seu desvio padrão também é elevado, podemos concluir que não é somente a quantidade de andares que afetará o preço da casa ou edifício.</h2>"
   ]
  },
  {
   "cell_type": "code",
   "execution_count": 38,
   "id": "1d8aa46f",
   "metadata": {},
   "outputs": [
    {
     "name": "stdout",
     "output_type": "stream",
     "text": [
      "a média de valor para 0 fonte de água frontal é de: 4.7E+05\n",
      "a média de valor para 1 fonte de água frontal é de: 6.6E+05\n"
     ]
    }
   ],
   "source": [
    "waterfront = DataFrame['waterfront'].value_counts().sort_index()\n",
    "save = waterfront.tolist()\n",
    "#print(waterfront)\n",
    "for i in range(len(waterfront)):\n",
    "    meanVal = DataFrame[DataFrame['waterfront'] == i]\n",
    "    print('a média de valor para', i, 'fonte de água frontal é de:', format(meanVal['price'].mean(),'.1E'))\n",
    "    save[i] = (meanVal['price'].mean())"
   ]
  },
  {
   "cell_type": "code",
   "execution_count": 39,
   "id": "3f087a18",
   "metadata": {},
   "outputs": [
    {
     "name": "stdout",
     "output_type": "stream",
     "text": [
      "\n"
     ]
    },
    {
     "data": {
      "image/png": "[encoded data removed]",
      "text/plain": [
       "<Figure size 864x432 with 1 Axes>"
      ]
     },
     "metadata": {
      "needs_background": "light"
     },
     "output_type": "display_data"
    }
   ],
   "source": [
    "ax = sns.barplot(x = [0,1], y = df_floors.groupby('waterfront').price.mean())\n",
    "\n",
    "ax.figure.set_size_inches(12, 6)\n",
    "ax.set_title('Média dos preços das casas de acordo com o número de fontes de água frontal', fontsize=18)\n",
    "ax.set_xlabel('Número de fontes de água frontal', fontsize=14)\n",
    "ax.set_ylabel('Preço em Bilhões', fontsize=14)\n",
    "print()"
   ]
  },
  {
   "cell_type": "code",
   "execution_count": 40,
   "id": "b0f49d14",
   "metadata": {},
   "outputs": [
    {
     "name": "stdout",
     "output_type": "stream",
     "text": [
      "\n"
     ]
    },
    {
     "data": {
      "image/png": "[encoded data removed]",
      "text/plain": [
       "<Figure size 864x432 with 1 Axes>"
      ]
     },
     "metadata": {
      "needs_background": "light"
     },
     "output_type": "display_data"
    }
   ],
   "source": [
    "ax = sns.barplot(x = [0,1], y = df_floors.groupby('waterfront').price.median())\n",
    "\n",
    "ax.figure.set_size_inches(12, 6)\n",
    "ax.set_title('Média dos preços das casas de acordo com o número de fontes de água frontal', fontsize=18)\n",
    "ax.set_xlabel('Número de fontes de água frontal', fontsize=14)\n",
    "ax.set_ylabel('Preço em Milhões', fontsize=14)\n",
    "print()"
   ]
  },
  {
   "cell_type": "code",
   "execution_count": 41,
   "id": "5161035c",
   "metadata": {},
   "outputs": [
    {
     "name": "stdout",
     "output_type": "stream",
     "text": [
      "\n"
     ]
    },
    {
     "data": {
      "image/png": "[encoded data removed]",
      "text/plain": [
       "<Figure size 864x432 with 1 Axes>"
      ]
     },
     "metadata": {
      "needs_background": "light"
     },
     "output_type": "display_data"
    }
   ],
   "source": [
    "ax = sns.barplot(x = [0,1], y = df_floors.groupby('waterfront').price.std())\n",
    "\n",
    "ax.figure.set_size_inches(12, 6)\n",
    "ax.set_title('Média dos preços das casas de acordo com o número de fontes de água frontal', fontsize=18)\n",
    "ax.set_xlabel('Número de fontes de água frontal', fontsize=14)\n",
    "ax.set_ylabel('Preço em 10 Bilhões', fontsize=14)\n",
    "print()"
   ]
  },
  {
   "cell_type": "markdown",
   "id": "a2127317",
   "metadata": {},
   "source": [
    "<h2> Sobre os resultados acima, vemos que com uma mediana na casa dos milhões e com o desvio padrão e média na casa dos bilhões podemos concluir que a fonte pode até influênciar o valor, mas certamente não é um fator principal neste quesito.</h2>"
   ]
  },
  {
   "cell_type": "code",
   "execution_count": 42,
   "id": "4c7e8037",
   "metadata": {},
   "outputs": [
    {
     "name": "stdout",
     "output_type": "stream",
     "text": [
      "a média de valor para 0 vista(s) é de: 4.6E+05\n",
      "a média de valor para 1 vista(s) é de: 6.1E+05\n",
      "a média de valor para 2 vista(s) é de: 6.0E+05\n",
      "a média de valor para 3 vista(s) é de: 6.2E+05\n",
      "a média de valor para 4 vista(s) é de: 7.3E+05\n"
     ]
    }
   ],
   "source": [
    "view = DataFrame['view'].value_counts().sort_index()\n",
    "save = view.tolist()\n",
    "#print(view)\n",
    "for i in range(len(view)):\n",
    "    meanVal = DataFrame[DataFrame['view'] == i]\n",
    "    print('a média de valor para', i, 'vista(s) é de:', format(meanVal['price'].mean(),'.1E'))\n",
    "    save[i] = (meanVal['price'].mean())"
   ]
  },
  {
   "cell_type": "code",
   "execution_count": 43,
   "id": "8d34b599",
   "metadata": {},
   "outputs": [
    {
     "name": "stderr",
     "output_type": "stream",
     "text": [
      "C:\\Users\\nethe\\AppData\\Local\\Temp/ipykernel_13724/1444613015.py:4: SettingWithCopyWarning: \n",
      "A value is trying to be set on a copy of a slice from a DataFrame.\n",
      "Try using .loc[row_indexer,col_indexer] = value instead\n",
      "\n",
      "See the caveats in the documentation: https://pandas.pydata.org/pandas-docs/stable/user_guide/indexing.html#returning-a-view-versus-a-copy\n",
      "  df_view['frequencia'] =  pd.cut(x = df_view.view,\n"
     ]
    }
   ],
   "source": [
    "classes = [0, 0.99, 1.99, 2.99, 3.99, 100]\n",
    "labels = [ 0, 1, 2, 3, '4+']\n",
    "df_view = DataFrame\n",
    "df_view['frequencia'] =  pd.cut(x = df_view.view,\n",
    "         bins = classes,\n",
    "         labels = labels,\n",
    "         include_lowest = True)"
   ]
  },
  {
   "cell_type": "code",
   "execution_count": 44,
   "id": "8aecbe76",
   "metadata": {},
   "outputs": [
    {
     "data": {
      "text/plain": [
       "Text(0, 0.5, 'Preço em Bilhões')"
      ]
     },
     "execution_count": 44,
     "metadata": {},
     "output_type": "execute_result"
    },
    {
     "data": {
      "image/png": "[encoded data removed]",
      "text/plain": [
       "<Figure size 864x432 with 1 Axes>"
      ]
     },
     "metadata": {
      "needs_background": "light"
     },
     "output_type": "display_data"
    }
   ],
   "source": [
    "ax = sns.barplot(x = labels, y = df_view.groupby('frequencia').price.mean())\n",
    "\n",
    "ax.figure.set_size_inches(12, 6)\n",
    "ax.set_title('Média dos preços das casas de acordo com o número de \"vista\"', fontsize=18)\n",
    "ax.set_xlabel('Número de \"vista\"', fontsize=14)\n",
    "ax.set_ylabel('Preço em Bilhões', fontsize=14)"
   ]
  },
  {
   "cell_type": "code",
   "execution_count": 45,
   "id": "e06e7c80",
   "metadata": {},
   "outputs": [
    {
     "data": {
      "text/plain": [
       "Text(0, 0.5, 'Preço em Milhões')"
      ]
     },
     "execution_count": 45,
     "metadata": {},
     "output_type": "execute_result"
    },
    {
     "data": {
      "image/png": "[encoded data removed]",
      "text/plain": [
       "<Figure size 864x432 with 1 Axes>"
      ]
     },
     "metadata": {
      "needs_background": "light"
     },
     "output_type": "display_data"
    }
   ],
   "source": [
    "ax = sns.barplot(x = labels, y = df_view.groupby('frequencia').price.median())\n",
    "\n",
    "ax.figure.set_size_inches(12, 6)\n",
    "ax.set_title('Mediana dos preços das casas de acordo com o número de \"vista\"', fontsize=18)\n",
    "ax.set_xlabel('Número de \"vista\"', fontsize=14)\n",
    "ax.set_ylabel('Preço em Milhões', fontsize=14)"
   ]
  },
  {
   "cell_type": "code",
   "execution_count": 46,
   "id": "41457993",
   "metadata": {},
   "outputs": [
    {
     "data": {
      "text/plain": [
       "Text(0, 0.5, 'Preço em 10 Bilhões')"
      ]
     },
     "execution_count": 46,
     "metadata": {},
     "output_type": "execute_result"
    },
    {
     "data": {
      "image/png": "[encoded data removed]",
      "text/plain": [
       "<Figure size 864x432 with 1 Axes>"
      ]
     },
     "metadata": {
      "needs_background": "light"
     },
     "output_type": "display_data"
    }
   ],
   "source": [
    "ax = sns.barplot(x = labels, y = df_view.groupby('frequencia').price.std())\n",
    "\n",
    "ax.figure.set_size_inches(12, 6)\n",
    "ax.set_title('Desvio Padrão dos preços das casas de acordo com o número de \"vista\"', fontsize=18)\n",
    "ax.set_xlabel('Número de \"vista\"', fontsize=14)\n",
    "ax.set_ylabel('Preço em 10 Bilhões', fontsize=14)"
   ]
  },
  {
   "cell_type": "markdown",
   "id": "e2273c97",
   "metadata": {},
   "source": [
    "<h2> Pelos dados acima pode-se dizer que é interessante para a empresa observar quais casas possuem uma(1) vista no mínimo e de preferência 4 vistas. Isso se dá por conta da média e mediana crescente de acordo com o n° de vistas, porém o desvio padrão é muito alto. Sendo assim, a vista afeta o preço, porém não é garantia de uma valorização gigantesca na casa.</h2>\n",
    "\n",
    "\n",
    "<br>\n",
    "<br>\n",
    "<br>\n",
    "\n",
    "<h2>Respondendo as perguntas do início:</h2>"
   ]
  },
  {
   "cell_type": "code",
   "execution_count": 47,
   "id": "39c6865f",
   "metadata": {},
   "outputs": [
    {
     "name": "stderr",
     "output_type": "stream",
     "text": [
      "C:\\Users\\nethe\\AppData\\Local\\Temp/ipykernel_13724/3278992763.py:5: SettingWithCopyWarning: \n",
      "A value is trying to be set on a copy of a slice from a DataFrame.\n",
      "Try using .loc[row_indexer,col_indexer] = value instead\n",
      "\n",
      "See the caveats in the documentation: https://pandas.pydata.org/pandas-docs/stable/user_guide/indexing.html#returning-a-view-versus-a-copy\n",
      "  df_sqf['frequencia'] = pd.cut(x = df_sqf.sqft_living,\n"
     ]
    }
   ],
   "source": [
    "classes = [0, 2000, 4000, 6000, 8000, 100000]\n",
    "labels = [ '0-2000', '2000-4000', '4000-6000', '6000-8000', '8000+']\n",
    "\n",
    "df_sqf = DataFrame\n",
    "df_sqf['frequencia'] = pd.cut(x = df_sqf.sqft_living,\n",
    "         bins = classes,\n",
    "         labels = labels,\n",
    "         include_lowest = True)"
   ]
  },
  {
   "cell_type": "code",
   "execution_count": 48,
   "id": "afbdf785",
   "metadata": {},
   "outputs": [
    {
     "data": {
      "text/plain": [
       "Text(0, 0.5, 'Preço em 10 Bilhões')"
      ]
     },
     "execution_count": 48,
     "metadata": {},
     "output_type": "execute_result"
    },
    {
     "data": {
      "image/png": "[encoded data removed]",
      "text/plain": [
       "<Figure size 864x432 with 1 Axes>"
      ]
     },
     "metadata": {
      "needs_background": "light"
     },
     "output_type": "display_data"
    }
   ],
   "source": [
    "ax = sns.barplot(x = labels, y = df_sqf.groupby('frequencia').price.mean())\n",
    "\n",
    "ax.figure.set_size_inches(12, 6)\n",
    "ax.set_title('Média dos preços das casas de acordo com o tamanho do lote', fontsize=18)\n",
    "ax.set_xlabel('Tamanho do lote', fontsize=14)\n",
    "ax.set_ylabel('Preço em 10 Bilhões', fontsize=14)"
   ]
  },
  {
   "cell_type": "code",
   "execution_count": 49,
   "id": "c6b1e9cf",
   "metadata": {},
   "outputs": [
    {
     "data": {
      "text/plain": [
       "Text(0, 0.5, 'Preço em 10 Bilhões')"
      ]
     },
     "execution_count": 49,
     "metadata": {},
     "output_type": "execute_result"
    },
    {
     "data": {
      "image/png": "[encoded data removed]",
      "text/plain": [
       "<Figure size 864x432 with 1 Axes>"
      ]
     },
     "metadata": {
      "needs_background": "light"
     },
     "output_type": "display_data"
    }
   ],
   "source": [
    "ax = sns.barplot(x = labels, y = df_sqf.groupby('frequencia').price.median())\n",
    "\n",
    "ax.figure.set_size_inches(12, 6)\n",
    "ax.set_title('Mediana dos preços das casas de acordo com o tamanho do lote', fontsize=18)\n",
    "ax.set_xlabel('Número de \"vista\"', fontsize=14)\n",
    "ax.set_ylabel('Preço em 10 Bilhões', fontsize=14)"
   ]
  },
  {
   "cell_type": "code",
   "execution_count": 50,
   "id": "431b9704",
   "metadata": {},
   "outputs": [
    {
     "data": {
      "text/plain": [
       "Text(0, 0.5, 'Preço em 10 Bilhões')"
      ]
     },
     "execution_count": 50,
     "metadata": {},
     "output_type": "execute_result"
    },
    {
     "data": {
      "image/png": "[encoded data removed]",
      "text/plain": [
       "<Figure size 864x432 with 1 Axes>"
      ]
     },
     "metadata": {
      "needs_background": "light"
     },
     "output_type": "display_data"
    }
   ],
   "source": [
    "ax = sns.barplot(x = labels, y = df_sqf.groupby('frequencia').price.std())\n",
    "\n",
    "ax.figure.set_size_inches(12, 6)\n",
    "ax.set_title('Desvio Padrão dos preços das casas de acordo com o tamanho do lote', fontsize=18)\n",
    "ax.set_xlabel('Número de \"vista\"', fontsize=14)\n",
    "ax.set_ylabel('Preço em 10 Bilhões', fontsize=14)"
   ]
  },
  {
   "cell_type": "markdown",
   "id": "524eeb6c",
   "metadata": {},
   "source": []
  },
  {
   "cell_type": "code",
   "execution_count": 51,
   "id": "4542ebc2",
   "metadata": {},
   "outputs": [
    {
     "data": {
      "text/plain": [
       "Text(0, 0.5, 'Preço em 10 Bilhões')"
      ]
     },
     "execution_count": 51,
     "metadata": {},
     "output_type": "execute_result"
    },
    {
     "data": {
      "image/png": "[encoded data removed]",
      "text/plain": [
       "<Figure size 864x432 with 1 Axes>"
      ]
     },
     "metadata": {
      "needs_background": "light"
     },
     "output_type": "display_data"
    }
   ],
   "source": [
    "ax = sns.boxplot(y = DataFrame.price)\n",
    "\n",
    "ax.figure.set_size_inches(12, 6)\n",
    "ax.set_title('Média dos preços das casas de acordo com o número de \"vista\"', fontsize=18)\n",
    "ax.set_xlabel('Número de \"vista\"', fontsize=14)\n",
    "ax.set_ylabel('Preço em 10 Bilhões', fontsize=14)"
   ]
  },
  {
   "cell_type": "code",
   "execution_count": 52,
   "id": "157640dd",
   "metadata": {},
   "outputs": [
    {
     "data": {
      "text/plain": [
       "Text(0, 0.5, 'Preço em 10 Bilhões')"
      ]
     },
     "execution_count": 52,
     "metadata": {},
     "output_type": "execute_result"
    },
    {
     "data": {
      "image/png": "[encoded data removed]",
      "text/plain": [
       "<Figure size 864x432 with 1 Axes>"
      ]
     },
     "metadata": {
      "needs_background": "light"
     },
     "output_type": "display_data"
    }
   ],
   "source": [
    "ax = sns.boxplot(y = DataFrame.query('price < 1000000').price)\n",
    "\n",
    "ax.figure.set_size_inches(12, 6)\n",
    "ax.set_title('Média dos preços das casas de acordo com o número de \"vista\"', fontsize=18)\n",
    "ax.set_xlabel('Número de \"vista\"', fontsize=14)\n",
    "ax.set_ylabel('Preço em 10 Bilhões', fontsize=14)"
   ]
  },
  {
   "cell_type": "markdown",
   "id": "fdd12fbc",
   "metadata": {},
   "source": [
    "<h1>Dado os boxplots, é notada a presença de diversos outliers que distorcem as informações. Sendo assim, o projeto será refatorado dividindo as bases em duas bases de dados, Casas e Casas de Luxo.</h1>"
   ]
  },
  {
   "cell_type": "code",
   "execution_count": 53,
   "id": "ef0d97c9",
   "metadata": {
    "scrolled": true
   },
   "outputs": [
    {
     "data": {
      "text/html": [
       "<div>\n",
       "<style scoped>\n",
       "    .dataframe tbody tr th:only-of-type {\n",
       "        vertical-align: middle;\n",
       "    }\n",
       "\n",
       "    .dataframe tbody tr th {\n",
       "        vertical-align: top;\n",
       "    }\n",
       "\n",
       "    .dataframe thead th {\n",
       "        text-align: right;\n",
       "    }\n",
       "</style>\n",
       "<table border=\"1\" class=\"dataframe\">\n",
       "  <thead>\n",
       "    <tr style=\"text-align: right;\">\n",
       "      <th></th>\n",
       "      <th>id</th>\n",
       "      <th>date</th>\n",
       "      <th>price</th>\n",
       "      <th>bedrooms</th>\n",
       "      <th>bathrooms</th>\n",
       "      <th>sqft_living</th>\n",
       "      <th>sqft_lot</th>\n",
       "      <th>floors</th>\n",
       "      <th>waterfront</th>\n",
       "      <th>view</th>\n",
       "      <th>...</th>\n",
       "      <th>yr_built</th>\n",
       "      <th>yr_renovated</th>\n",
       "      <th>zipcode</th>\n",
       "      <th>lat</th>\n",
       "      <th>long</th>\n",
       "      <th>sqft_living15</th>\n",
       "      <th>sqft_lot15</th>\n",
       "      <th>month</th>\n",
       "      <th>year-month</th>\n",
       "      <th>frequencia</th>\n",
       "    </tr>\n",
       "  </thead>\n",
       "  <tbody>\n",
       "    <tr>\n",
       "      <th>0</th>\n",
       "      <td>7129300520</td>\n",
       "      <td>2014-10-13</td>\n",
       "      <td>221900.0</td>\n",
       "      <td>3</td>\n",
       "      <td>1.00</td>\n",
       "      <td>1180</td>\n",
       "      <td>5650</td>\n",
       "      <td>1.0</td>\n",
       "      <td>0</td>\n",
       "      <td>0</td>\n",
       "      <td>...</td>\n",
       "      <td>1955</td>\n",
       "      <td>0</td>\n",
       "      <td>98178</td>\n",
       "      <td>47,5112</td>\n",
       "      <td>-122,2570</td>\n",
       "      <td>1340</td>\n",
       "      <td>5650</td>\n",
       "      <td>10</td>\n",
       "      <td>2014/10</td>\n",
       "      <td>0-2000</td>\n",
       "    </tr>\n",
       "    <tr>\n",
       "      <th>1</th>\n",
       "      <td>6414100192</td>\n",
       "      <td>2014-12-09</td>\n",
       "      <td>538000.0</td>\n",
       "      <td>3</td>\n",
       "      <td>2.25</td>\n",
       "      <td>2570</td>\n",
       "      <td>7242</td>\n",
       "      <td>2.0</td>\n",
       "      <td>0</td>\n",
       "      <td>0</td>\n",
       "      <td>...</td>\n",
       "      <td>1951</td>\n",
       "      <td>1991</td>\n",
       "      <td>98125</td>\n",
       "      <td>47,7210</td>\n",
       "      <td>-122,3190</td>\n",
       "      <td>1690</td>\n",
       "      <td>7639</td>\n",
       "      <td>12</td>\n",
       "      <td>2014/12</td>\n",
       "      <td>2000-4000</td>\n",
       "    </tr>\n",
       "    <tr>\n",
       "      <th>2</th>\n",
       "      <td>5631500400</td>\n",
       "      <td>2015-02-25</td>\n",
       "      <td>180000.0</td>\n",
       "      <td>2</td>\n",
       "      <td>1.00</td>\n",
       "      <td>770</td>\n",
       "      <td>10000</td>\n",
       "      <td>1.0</td>\n",
       "      <td>0</td>\n",
       "      <td>0</td>\n",
       "      <td>...</td>\n",
       "      <td>1933</td>\n",
       "      <td>0</td>\n",
       "      <td>98028</td>\n",
       "      <td>47,7379</td>\n",
       "      <td>-122,2330</td>\n",
       "      <td>2720</td>\n",
       "      <td>8062</td>\n",
       "      <td>2</td>\n",
       "      <td>2015/2</td>\n",
       "      <td>0-2000</td>\n",
       "    </tr>\n",
       "    <tr>\n",
       "      <th>3</th>\n",
       "      <td>2487200875</td>\n",
       "      <td>2014-12-09</td>\n",
       "      <td>604000.0</td>\n",
       "      <td>4</td>\n",
       "      <td>3.00</td>\n",
       "      <td>1960</td>\n",
       "      <td>5000</td>\n",
       "      <td>1.0</td>\n",
       "      <td>0</td>\n",
       "      <td>0</td>\n",
       "      <td>...</td>\n",
       "      <td>1965</td>\n",
       "      <td>0</td>\n",
       "      <td>98136</td>\n",
       "      <td>47,5208</td>\n",
       "      <td>-122,3930</td>\n",
       "      <td>1360</td>\n",
       "      <td>5000</td>\n",
       "      <td>12</td>\n",
       "      <td>2014/12</td>\n",
       "      <td>0-2000</td>\n",
       "    </tr>\n",
       "    <tr>\n",
       "      <th>4</th>\n",
       "      <td>1954400510</td>\n",
       "      <td>2015-02-18</td>\n",
       "      <td>510000.0</td>\n",
       "      <td>3</td>\n",
       "      <td>2.00</td>\n",
       "      <td>1680</td>\n",
       "      <td>8080</td>\n",
       "      <td>1.0</td>\n",
       "      <td>0</td>\n",
       "      <td>0</td>\n",
       "      <td>...</td>\n",
       "      <td>1987</td>\n",
       "      <td>0</td>\n",
       "      <td>98074</td>\n",
       "      <td>47,6168</td>\n",
       "      <td>-122,0450</td>\n",
       "      <td>1800</td>\n",
       "      <td>7503</td>\n",
       "      <td>2</td>\n",
       "      <td>2015/2</td>\n",
       "      <td>0-2000</td>\n",
       "    </tr>\n",
       "  </tbody>\n",
       "</table>\n",
       "<p>5 rows × 24 columns</p>\n",
       "</div>"
      ],
      "text/plain": [
       "           id       date     price  bedrooms  bathrooms  sqft_living  \\\n",
       "0  7129300520 2014-10-13  221900.0         3       1.00         1180   \n",
       "1  6414100192 2014-12-09  538000.0         3       2.25         2570   \n",
       "2  5631500400 2015-02-25  180000.0         2       1.00          770   \n",
       "3  2487200875 2014-12-09  604000.0         4       3.00         1960   \n",
       "4  1954400510 2015-02-18  510000.0         3       2.00         1680   \n",
       "\n",
       "   sqft_lot  floors  waterfront  view  ...  yr_built  yr_renovated  zipcode  \\\n",
       "0      5650     1.0           0     0  ...      1955             0    98178   \n",
       "1      7242     2.0           0     0  ...      1951          1991    98125   \n",
       "2     10000     1.0           0     0  ...      1933             0    98028   \n",
       "3      5000     1.0           0     0  ...      1965             0    98136   \n",
       "4      8080     1.0           0     0  ...      1987             0    98074   \n",
       "\n",
       "       lat       long  sqft_living15  sqft_lot15 month year-month  frequencia  \n",
       "0  47,5112  -122,2570           1340        5650    10    2014/10      0-2000  \n",
       "1  47,7210  -122,3190           1690        7639    12    2014/12   2000-4000  \n",
       "2  47,7379  -122,2330           2720        8062     2     2015/2      0-2000  \n",
       "3  47,5208  -122,3930           1360        5000    12    2014/12      0-2000  \n",
       "4  47,6168  -122,0450           1800        7503     2     2015/2      0-2000  \n",
       "\n",
       "[5 rows x 24 columns]"
      ]
     },
     "execution_count": 53,
     "metadata": {},
     "output_type": "execute_result"
    }
   ],
   "source": [
    "DataFrame.head()"
   ]
  },
  {
   "cell_type": "code",
   "execution_count": 54,
   "id": "beab48bf",
   "metadata": {
    "scrolled": false
   },
   "outputs": [
    {
     "data": {
      "text/html": [
       "<div>\n",
       "<style scoped>\n",
       "    .dataframe tbody tr th:only-of-type {\n",
       "        vertical-align: middle;\n",
       "    }\n",
       "\n",
       "    .dataframe tbody tr th {\n",
       "        vertical-align: top;\n",
       "    }\n",
       "\n",
       "    .dataframe thead th {\n",
       "        text-align: right;\n",
       "    }\n",
       "</style>\n",
       "<table border=\"1\" class=\"dataframe\">\n",
       "  <thead>\n",
       "    <tr style=\"text-align: right;\">\n",
       "      <th></th>\n",
       "      <th>bedrooms</th>\n",
       "      <th>bathrooms</th>\n",
       "      <th>floors</th>\n",
       "      <th>waterfront</th>\n",
       "      <th>view</th>\n",
       "      <th>condition</th>\n",
       "      <th>grade</th>\n",
       "      <th>Renovated</th>\n",
       "    </tr>\n",
       "  </thead>\n",
       "  <tbody>\n",
       "    <tr>\n",
       "      <th>0</th>\n",
       "      <td>3</td>\n",
       "      <td>1.00</td>\n",
       "      <td>1.0</td>\n",
       "      <td>0</td>\n",
       "      <td>0</td>\n",
       "      <td>3</td>\n",
       "      <td>7</td>\n",
       "      <td>False</td>\n",
       "    </tr>\n",
       "    <tr>\n",
       "      <th>1</th>\n",
       "      <td>3</td>\n",
       "      <td>2.25</td>\n",
       "      <td>2.0</td>\n",
       "      <td>0</td>\n",
       "      <td>0</td>\n",
       "      <td>3</td>\n",
       "      <td>7</td>\n",
       "      <td>True</td>\n",
       "    </tr>\n",
       "    <tr>\n",
       "      <th>2</th>\n",
       "      <td>2</td>\n",
       "      <td>1.00</td>\n",
       "      <td>1.0</td>\n",
       "      <td>0</td>\n",
       "      <td>0</td>\n",
       "      <td>3</td>\n",
       "      <td>6</td>\n",
       "      <td>False</td>\n",
       "    </tr>\n",
       "    <tr>\n",
       "      <th>3</th>\n",
       "      <td>4</td>\n",
       "      <td>3.00</td>\n",
       "      <td>1.0</td>\n",
       "      <td>0</td>\n",
       "      <td>0</td>\n",
       "      <td>5</td>\n",
       "      <td>7</td>\n",
       "      <td>False</td>\n",
       "    </tr>\n",
       "    <tr>\n",
       "      <th>4</th>\n",
       "      <td>3</td>\n",
       "      <td>2.00</td>\n",
       "      <td>1.0</td>\n",
       "      <td>0</td>\n",
       "      <td>0</td>\n",
       "      <td>3</td>\n",
       "      <td>8</td>\n",
       "      <td>False</td>\n",
       "    </tr>\n",
       "    <tr>\n",
       "      <th>...</th>\n",
       "      <td>...</td>\n",
       "      <td>...</td>\n",
       "      <td>...</td>\n",
       "      <td>...</td>\n",
       "      <td>...</td>\n",
       "      <td>...</td>\n",
       "      <td>...</td>\n",
       "      <td>...</td>\n",
       "    </tr>\n",
       "    <tr>\n",
       "      <th>21608</th>\n",
       "      <td>3</td>\n",
       "      <td>2.50</td>\n",
       "      <td>3.0</td>\n",
       "      <td>0</td>\n",
       "      <td>0</td>\n",
       "      <td>3</td>\n",
       "      <td>8</td>\n",
       "      <td>False</td>\n",
       "    </tr>\n",
       "    <tr>\n",
       "      <th>21609</th>\n",
       "      <td>4</td>\n",
       "      <td>2.50</td>\n",
       "      <td>2.0</td>\n",
       "      <td>0</td>\n",
       "      <td>0</td>\n",
       "      <td>3</td>\n",
       "      <td>8</td>\n",
       "      <td>False</td>\n",
       "    </tr>\n",
       "    <tr>\n",
       "      <th>21610</th>\n",
       "      <td>2</td>\n",
       "      <td>0.75</td>\n",
       "      <td>2.0</td>\n",
       "      <td>0</td>\n",
       "      <td>0</td>\n",
       "      <td>3</td>\n",
       "      <td>7</td>\n",
       "      <td>False</td>\n",
       "    </tr>\n",
       "    <tr>\n",
       "      <th>21611</th>\n",
       "      <td>3</td>\n",
       "      <td>2.50</td>\n",
       "      <td>2.0</td>\n",
       "      <td>0</td>\n",
       "      <td>0</td>\n",
       "      <td>3</td>\n",
       "      <td>8</td>\n",
       "      <td>False</td>\n",
       "    </tr>\n",
       "    <tr>\n",
       "      <th>21612</th>\n",
       "      <td>2</td>\n",
       "      <td>0.75</td>\n",
       "      <td>2.0</td>\n",
       "      <td>0</td>\n",
       "      <td>0</td>\n",
       "      <td>3</td>\n",
       "      <td>7</td>\n",
       "      <td>False</td>\n",
       "    </tr>\n",
       "  </tbody>\n",
       "</table>\n",
       "<p>20148 rows × 8 columns</p>\n",
       "</div>"
      ],
      "text/plain": [
       "       bedrooms  bathrooms  floors  waterfront  view  condition  grade  \\\n",
       "0             3       1.00     1.0           0     0          3      7   \n",
       "1             3       2.25     2.0           0     0          3      7   \n",
       "2             2       1.00     1.0           0     0          3      6   \n",
       "3             4       3.00     1.0           0     0          5      7   \n",
       "4             3       2.00     1.0           0     0          3      8   \n",
       "...         ...        ...     ...         ...   ...        ...    ...   \n",
       "21608         3       2.50     3.0           0     0          3      8   \n",
       "21609         4       2.50     2.0           0     0          3      8   \n",
       "21610         2       0.75     2.0           0     0          3      7   \n",
       "21611         3       2.50     2.0           0     0          3      8   \n",
       "21612         2       0.75     2.0           0     0          3      7   \n",
       "\n",
       "       Renovated  \n",
       "0          False  \n",
       "1           True  \n",
       "2          False  \n",
       "3          False  \n",
       "4          False  \n",
       "...          ...  \n",
       "21608      False  \n",
       "21609      False  \n",
       "21610      False  \n",
       "21611      False  \n",
       "21612      False  \n",
       "\n",
       "[20148 rows x 8 columns]"
      ]
     },
     "execution_count": 54,
     "metadata": {},
     "output_type": "execute_result"
    }
   ],
   "source": [
    "lista_drop = ['id', 'price', 'date', 'sqft_living', 'sqft_above','sqft_lot', 'lat', 'long','sqft_living15', 'sqft_lot15',\\\n",
    "              'sqft_basement', 'frequencia', 'month', 'year-month', 'zipcode', 'yr_built']\n",
    "df = DataFrame.drop(lista_drop, axis = 1) # valores para classificação\n",
    "filt = []\n",
    "filt = df['yr_renovated'] != 0\n",
    "df['Renovated'] = filt\n",
    "df.drop(['yr_renovated'], axis = 1,inplace = True)\n",
    "df"
   ]
  },
  {
   "cell_type": "code",
   "execution_count": 55,
   "id": "8b2351cc",
   "metadata": {},
   "outputs": [
    {
     "data": {
      "text/plain": [
       "False    19412\n",
       "True       736\n",
       "Name: Renovated, dtype: int64"
      ]
     },
     "execution_count": 55,
     "metadata": {},
     "output_type": "execute_result"
    }
   ],
   "source": [
    "df.Renovated.value_counts()"
   ]
  },
  {
   "cell_type": "code",
   "execution_count": 56,
   "id": "b1790e94",
   "metadata": {},
   "outputs": [],
   "source": [
    "Price = DataFrame.price # Preço"
   ]
  },
  {
   "cell_type": "code",
   "execution_count": 57,
   "id": "b0a4622a",
   "metadata": {},
   "outputs": [
    {
     "data": {
      "text/html": [
       "<div>\n",
       "<style scoped>\n",
       "    .dataframe tbody tr th:only-of-type {\n",
       "        vertical-align: middle;\n",
       "    }\n",
       "\n",
       "    .dataframe tbody tr th {\n",
       "        vertical-align: top;\n",
       "    }\n",
       "\n",
       "    .dataframe thead th {\n",
       "        text-align: right;\n",
       "    }\n",
       "</style>\n",
       "<table border=\"1\" class=\"dataframe\">\n",
       "  <thead>\n",
       "    <tr style=\"text-align: right;\">\n",
       "      <th></th>\n",
       "      <th>bedrooms</th>\n",
       "      <th>bathrooms</th>\n",
       "      <th>floors</th>\n",
       "      <th>waterfront</th>\n",
       "      <th>view</th>\n",
       "      <th>condition</th>\n",
       "      <th>grade</th>\n",
       "      <th>Renovated</th>\n",
       "    </tr>\n",
       "  </thead>\n",
       "  <tbody>\n",
       "    <tr>\n",
       "      <th>1814</th>\n",
       "      <td>3</td>\n",
       "      <td>2.50</td>\n",
       "      <td>1.0</td>\n",
       "      <td>0</td>\n",
       "      <td>0</td>\n",
       "      <td>3</td>\n",
       "      <td>8</td>\n",
       "      <td>False</td>\n",
       "    </tr>\n",
       "    <tr>\n",
       "      <th>8037</th>\n",
       "      <td>5</td>\n",
       "      <td>1.50</td>\n",
       "      <td>1.5</td>\n",
       "      <td>0</td>\n",
       "      <td>0</td>\n",
       "      <td>3</td>\n",
       "      <td>8</td>\n",
       "      <td>False</td>\n",
       "    </tr>\n",
       "    <tr>\n",
       "      <th>6789</th>\n",
       "      <td>3</td>\n",
       "      <td>2.00</td>\n",
       "      <td>1.0</td>\n",
       "      <td>0</td>\n",
       "      <td>0</td>\n",
       "      <td>3</td>\n",
       "      <td>8</td>\n",
       "      <td>False</td>\n",
       "    </tr>\n",
       "    <tr>\n",
       "      <th>4005</th>\n",
       "      <td>3</td>\n",
       "      <td>1.75</td>\n",
       "      <td>1.0</td>\n",
       "      <td>0</td>\n",
       "      <td>0</td>\n",
       "      <td>4</td>\n",
       "      <td>7</td>\n",
       "      <td>False</td>\n",
       "    </tr>\n",
       "    <tr>\n",
       "      <th>18160</th>\n",
       "      <td>4</td>\n",
       "      <td>2.00</td>\n",
       "      <td>1.0</td>\n",
       "      <td>0</td>\n",
       "      <td>0</td>\n",
       "      <td>3</td>\n",
       "      <td>7</td>\n",
       "      <td>False</td>\n",
       "    </tr>\n",
       "    <tr>\n",
       "      <th>...</th>\n",
       "      <td>...</td>\n",
       "      <td>...</td>\n",
       "      <td>...</td>\n",
       "      <td>...</td>\n",
       "      <td>...</td>\n",
       "      <td>...</td>\n",
       "      <td>...</td>\n",
       "      <td>...</td>\n",
       "    </tr>\n",
       "    <tr>\n",
       "      <th>12068</th>\n",
       "      <td>4</td>\n",
       "      <td>2.00</td>\n",
       "      <td>1.0</td>\n",
       "      <td>0</td>\n",
       "      <td>0</td>\n",
       "      <td>5</td>\n",
       "      <td>8</td>\n",
       "      <td>False</td>\n",
       "    </tr>\n",
       "    <tr>\n",
       "      <th>12791</th>\n",
       "      <td>2</td>\n",
       "      <td>1.00</td>\n",
       "      <td>1.0</td>\n",
       "      <td>0</td>\n",
       "      <td>0</td>\n",
       "      <td>3</td>\n",
       "      <td>7</td>\n",
       "      <td>False</td>\n",
       "    </tr>\n",
       "    <tr>\n",
       "      <th>5767</th>\n",
       "      <td>4</td>\n",
       "      <td>2.00</td>\n",
       "      <td>1.5</td>\n",
       "      <td>0</td>\n",
       "      <td>0</td>\n",
       "      <td>4</td>\n",
       "      <td>8</td>\n",
       "      <td>False</td>\n",
       "    </tr>\n",
       "    <tr>\n",
       "      <th>920</th>\n",
       "      <td>3</td>\n",
       "      <td>2.00</td>\n",
       "      <td>1.0</td>\n",
       "      <td>0</td>\n",
       "      <td>0</td>\n",
       "      <td>3</td>\n",
       "      <td>7</td>\n",
       "      <td>False</td>\n",
       "    </tr>\n",
       "    <tr>\n",
       "      <th>16905</th>\n",
       "      <td>2</td>\n",
       "      <td>1.50</td>\n",
       "      <td>1.0</td>\n",
       "      <td>0</td>\n",
       "      <td>0</td>\n",
       "      <td>3</td>\n",
       "      <td>8</td>\n",
       "      <td>False</td>\n",
       "    </tr>\n",
       "  </tbody>\n",
       "</table>\n",
       "<p>13499 rows × 8 columns</p>\n",
       "</div>"
      ],
      "text/plain": [
       "       bedrooms  bathrooms  floors  waterfront  view  condition  grade  \\\n",
       "1814          3       2.50     1.0           0     0          3      8   \n",
       "8037          5       1.50     1.5           0     0          3      8   \n",
       "6789          3       2.00     1.0           0     0          3      8   \n",
       "4005          3       1.75     1.0           0     0          4      7   \n",
       "18160         4       2.00     1.0           0     0          3      7   \n",
       "...         ...        ...     ...         ...   ...        ...    ...   \n",
       "12068         4       2.00     1.0           0     0          5      8   \n",
       "12791         2       1.00     1.0           0     0          3      7   \n",
       "5767          4       2.00     1.5           0     0          4      8   \n",
       "920           3       2.00     1.0           0     0          3      7   \n",
       "16905         2       1.50     1.0           0     0          3      8   \n",
       "\n",
       "       Renovated  \n",
       "1814       False  \n",
       "8037       False  \n",
       "6789       False  \n",
       "4005       False  \n",
       "18160      False  \n",
       "...          ...  \n",
       "12068      False  \n",
       "12791      False  \n",
       "5767       False  \n",
       "920        False  \n",
       "16905      False  \n",
       "\n",
       "[13499 rows x 8 columns]"
      ]
     },
     "execution_count": 57,
     "metadata": {},
     "output_type": "execute_result"
    }
   ],
   "source": [
    "from sklearn.model_selection import train_test_split\n",
    "from sklearn.utils.multiclass import type_of_target\n",
    "X_train, X_test, y_train, y_test = \\\n",
    "  train_test_split(df,\n",
    "                   Price,\n",
    "                   test_size=0.33, \n",
    "                   random_state=42)\n",
    "X_train"
   ]
  },
  {
   "cell_type": "code",
   "execution_count": 138,
   "id": "c44558ea",
   "metadata": {},
   "outputs": [
    {
     "data": {
      "text/html": [
       "<div>\n",
       "<style scoped>\n",
       "    .dataframe tbody tr th:only-of-type {\n",
       "        vertical-align: middle;\n",
       "    }\n",
       "\n",
       "    .dataframe tbody tr th {\n",
       "        vertical-align: top;\n",
       "    }\n",
       "\n",
       "    .dataframe thead th {\n",
       "        text-align: right;\n",
       "    }\n",
       "</style>\n",
       "<table border=\"1\" class=\"dataframe\">\n",
       "  <thead>\n",
       "    <tr style=\"text-align: right;\">\n",
       "      <th></th>\n",
       "      <th>bedrooms</th>\n",
       "      <th>bathrooms</th>\n",
       "      <th>floors</th>\n",
       "      <th>waterfront</th>\n",
       "      <th>view</th>\n",
       "      <th>condition</th>\n",
       "      <th>grade</th>\n",
       "      <th>Renovated</th>\n",
       "    </tr>\n",
       "  </thead>\n",
       "  <tbody>\n",
       "    <tr>\n",
       "      <th>13214</th>\n",
       "      <td>3</td>\n",
       "      <td>1.0</td>\n",
       "      <td>1.0</td>\n",
       "      <td>0</td>\n",
       "      <td>0</td>\n",
       "      <td>3</td>\n",
       "      <td>7</td>\n",
       "      <td>True</td>\n",
       "    </tr>\n",
       "  </tbody>\n",
       "</table>\n",
       "</div>"
      ],
      "text/plain": [
       "       bedrooms  bathrooms  floors  waterfront  view  condition  grade  \\\n",
       "13214         3        1.0     1.0           0     0          3      7   \n",
       "\n",
       "       Renovated  \n",
       "13214       True  "
      ]
     },
     "execution_count": 138,
     "metadata": {},
     "output_type": "execute_result"
    }
   ],
   "source": [
    "X_test.sample(1)"
   ]
  },
  {
   "cell_type": "code",
   "execution_count": 71,
   "id": "eadea8e9",
   "metadata": {},
   "outputs": [
    {
     "name": "stderr",
     "output_type": "stream",
     "text": [
      "C:\\ProgramData\\Anaconda3\\lib\\site-packages\\sklearn\\neural_network\\_multilayer_perceptron.py:614: ConvergenceWarning: Stochastic Optimizer: Maximum iterations (200) reached and the optimization hasn't converged yet.\n",
      "  warnings.warn(\n"
     ]
    },
    {
     "name": "stdout",
     "output_type": "stream",
     "text": [
      "0.005564746578432847\n",
      "       OriginalPrice   MLPrice\n",
      "1149         75000.0   90000.0\n",
      "8274         82000.0  225000.0\n",
      "5866         89000.0  230000.0\n",
      "3108         89950.0  106000.0\n",
      "10770        92000.0   90000.0\n",
      "...              ...       ...\n",
      "5689       1000000.0  875000.0\n",
      "2653       1000000.0  472000.0\n",
      "15431      1000000.0  834500.0\n",
      "4959       1000000.0  995000.0\n",
      "3252       1000000.0  835000.0\n",
      "\n",
      "[6649 rows x 2 columns]\n",
      "       OriginalPrice    MLPrice\n",
      "13628       105500.0    78000.0\n",
      "16619       338500.0    82500.0\n",
      "9549        275000.0    82500.0\n",
      "1149         75000.0    90000.0\n",
      "13072       155000.0    90000.0\n",
      "...              ...        ...\n",
      "15988       825000.0   999950.0\n",
      "15211       915000.0   999950.0\n",
      "62          505000.0   999950.0\n",
      "15006       535000.0  1000000.0\n",
      "8469        695000.0  1000000.0\n",
      "\n",
      "[6649 rows x 2 columns]\n"
     ]
    }
   ],
   "source": [
    "from sklearn.neural_network import MLPClassifier\n",
    "MLPC = MLPClassifier()\n",
    "MLPC.fit(X_train, y_train)\n",
    "MLPC_stats = MLPC.score(X_test, y_test)\n",
    "print(MLPC_stats)\n",
    "resolutionMLPC = MLPC.predict(X_test)\n",
    "resMLPC = pd.DataFrame(resolutionMLPC, index = X_test.index.tolist())\n",
    "dfrealresMLPC = pd.DataFrame(y_test)\n",
    "resultMLPC = pd.concat([dfrealresMLPC, resMLPC], axis=1, ignore_index=True)\n",
    "#a= np.array(resultMLPC[1]).tolist()\n",
    "#print(a[:420])\n",
    "resultMLPC = resultMLPC.sort_values(by= 0, ascending=True)\n",
    "resultMLPC = resultMLPC.rename(columns = {0: 'OriginalPrice', 1: 'MLPrice'}, inplace = False)\n",
    "botTopML = resultMLPC.sort_values(by= 'MLPrice', ascending=True)\n",
    "print(resultMLPC)#bot 5 e top 5 pela nota do enem\n",
    "print(botTopML)#bot 5 e top 5 pelo machine learning"
   ]
  },
  {
   "cell_type": "code",
   "execution_count": 72,
   "id": "34fb3143",
   "metadata": {},
   "outputs": [
    {
     "data": {
      "text/plain": [
       "142222.97623702814"
      ]
     },
     "execution_count": 72,
     "metadata": {},
     "output_type": "execute_result"
    }
   ],
   "source": [
    "abs(botTopML.diff(axis = 1).MLPrice).mean()"
   ]
  },
  {
   "cell_type": "code",
   "execution_count": 73,
   "id": "1b1ae78b",
   "metadata": {},
   "outputs": [
    {
     "data": {
      "text/plain": [
       "120059.67225611908"
      ]
     },
     "execution_count": 73,
     "metadata": {},
     "output_type": "execute_result"
    }
   ],
   "source": [
    "abs(botTopML.diff(axis = 1).MLPrice).std()"
   ]
  },
  {
   "cell_type": "code",
   "execution_count": 74,
   "id": "d84329b9",
   "metadata": {},
   "outputs": [
    {
     "data": {
      "text/plain": [
       "114550.0"
      ]
     },
     "execution_count": 74,
     "metadata": {},
     "output_type": "execute_result"
    }
   ],
   "source": [
    "abs(botTopML.diff(axis = 1).MLPrice).median()"
   ]
  },
  {
   "cell_type": "code",
   "execution_count": 75,
   "id": "94efe871",
   "metadata": {},
   "outputs": [
    {
     "data": {
      "text/html": [
       "<div>\n",
       "<style scoped>\n",
       "    .dataframe tbody tr th:only-of-type {\n",
       "        vertical-align: middle;\n",
       "    }\n",
       "\n",
       "    .dataframe tbody tr th {\n",
       "        vertical-align: top;\n",
       "    }\n",
       "\n",
       "    .dataframe thead th {\n",
       "        text-align: right;\n",
       "    }\n",
       "</style>\n",
       "<table border=\"1\" class=\"dataframe\">\n",
       "  <thead>\n",
       "    <tr style=\"text-align: right;\">\n",
       "      <th></th>\n",
       "      <th>OriginalPrice</th>\n",
       "      <th>MLPrice</th>\n",
       "    </tr>\n",
       "  </thead>\n",
       "  <tbody>\n",
       "    <tr>\n",
       "      <th>13628</th>\n",
       "      <td>105500.0</td>\n",
       "      <td>78000.0</td>\n",
       "    </tr>\n",
       "    <tr>\n",
       "      <th>16619</th>\n",
       "      <td>338500.0</td>\n",
       "      <td>82500.0</td>\n",
       "    </tr>\n",
       "    <tr>\n",
       "      <th>9549</th>\n",
       "      <td>275000.0</td>\n",
       "      <td>82500.0</td>\n",
       "    </tr>\n",
       "    <tr>\n",
       "      <th>1149</th>\n",
       "      <td>75000.0</td>\n",
       "      <td>90000.0</td>\n",
       "    </tr>\n",
       "    <tr>\n",
       "      <th>13072</th>\n",
       "      <td>155000.0</td>\n",
       "      <td>90000.0</td>\n",
       "    </tr>\n",
       "    <tr>\n",
       "      <th>...</th>\n",
       "      <td>...</td>\n",
       "      <td>...</td>\n",
       "    </tr>\n",
       "    <tr>\n",
       "      <th>1022</th>\n",
       "      <td>375000.0</td>\n",
       "      <td>245000.0</td>\n",
       "    </tr>\n",
       "    <tr>\n",
       "      <th>1668</th>\n",
       "      <td>550000.0</td>\n",
       "      <td>245000.0</td>\n",
       "    </tr>\n",
       "    <tr>\n",
       "      <th>11549</th>\n",
       "      <td>290000.0</td>\n",
       "      <td>245000.0</td>\n",
       "    </tr>\n",
       "    <tr>\n",
       "      <th>18937</th>\n",
       "      <td>291000.0</td>\n",
       "      <td>245000.0</td>\n",
       "    </tr>\n",
       "    <tr>\n",
       "      <th>5636</th>\n",
       "      <td>420000.0</td>\n",
       "      <td>245000.0</td>\n",
       "    </tr>\n",
       "  </tbody>\n",
       "</table>\n",
       "<p>1000 rows × 2 columns</p>\n",
       "</div>"
      ],
      "text/plain": [
       "       OriginalPrice   MLPrice\n",
       "13628       105500.0   78000.0\n",
       "16619       338500.0   82500.0\n",
       "9549        275000.0   82500.0\n",
       "1149         75000.0   90000.0\n",
       "13072       155000.0   90000.0\n",
       "...              ...       ...\n",
       "1022        375000.0  245000.0\n",
       "1668        550000.0  245000.0\n",
       "11549       290000.0  245000.0\n",
       "18937       291000.0  245000.0\n",
       "5636        420000.0  245000.0\n",
       "\n",
       "[1000 rows x 2 columns]"
      ]
     },
     "execution_count": 75,
     "metadata": {},
     "output_type": "execute_result"
    }
   ],
   "source": [
    "botTopML.head(1000)"
   ]
  },
  {
   "cell_type": "code",
   "execution_count": 84,
   "id": "2cfc0a37",
   "metadata": {},
   "outputs": [
    {
     "name": "stderr",
     "output_type": "stream",
     "text": [
      "C:\\ProgramData\\Anaconda3\\lib\\site-packages\\sklearn\\linear_model\\_logistic.py:763: ConvergenceWarning: lbfgs failed to converge (status=1):\n",
      "STOP: TOTAL NO. of ITERATIONS REACHED LIMIT.\n",
      "\n",
      "Increase the number of iterations (max_iter) or scale the data as shown in:\n",
      "    https://scikit-learn.org/stable/modules/preprocessing.html\n",
      "Please also refer to the documentation for alternative solver options:\n",
      "    https://scikit-learn.org/stable/modules/linear_model.html#logistic-regression\n",
      "  n_iter_i = _check_optimize_result(\n"
     ]
    },
    {
     "name": "stdout",
     "output_type": "stream",
     "text": [
      "0.009775906151300948\n",
      "       OriginalPrice   MLPrice\n",
      "1149         75000.0  175000.0\n",
      "8274         82000.0  250000.0\n",
      "5866         89000.0  230000.0\n",
      "3108         89950.0  190000.0\n",
      "10770        92000.0  250000.0\n",
      "...              ...       ...\n",
      "5689       1000000.0  650000.0\n",
      "2653       1000000.0  800000.0\n",
      "15431      1000000.0  649000.0\n",
      "4959       1000000.0  850000.0\n",
      "3252       1000000.0  995000.0\n",
      "\n",
      "[6649 rows x 2 columns]\n",
      "       OriginalPrice    MLPrice\n",
      "15712       150000.0   120000.0\n",
      "15540       135000.0   160000.0\n",
      "9831        204950.0   170000.0\n",
      "10481       484000.0   170000.0\n",
      "11674       255000.0   170000.0\n",
      "...              ...        ...\n",
      "13907       925000.0   995000.0\n",
      "9325        960000.0   995000.0\n",
      "3615        870000.0   995000.0\n",
      "3252       1000000.0   995000.0\n",
      "16171       960000.0  1000000.0\n",
      "\n",
      "[6649 rows x 2 columns]\n"
     ]
    }
   ],
   "source": [
    "from sklearn.linear_model import LogisticRegression\n",
    "LR = LogisticRegression(max_iter=1000)\n",
    "LR.fit(X_train, y_train)\n",
    "LR_stats = LR.score(X_test, y_test)\n",
    "print(LR_stats)\n",
    "resolutionLR = LR.predict(X_test)\n",
    "resLR = pd.DataFrame(resolutionLR, index = X_test.index.tolist())\n",
    "dfresLR = pd.DataFrame(y_test)\n",
    "resultLR = pd.concat([dfresLR, resLR], axis=1, ignore_index=True)\n",
    "resultLR = resultLR.sort_values(by= 0, ascending=True)\n",
    "resultLR = resultLR.rename(columns = {0: 'OriginalPrice', 1: 'MLPrice'}, inplace = False)\n",
    "botTopMLLR = resultLR.sort_values(by= 'MLPrice', ascending=True)\n",
    "print(resultLR)#bot 5 e top 5 pela nota do enem\n",
    "print(botTopMLLR)#bot 5 e top 5 pelo machine learning"
   ]
  },
  {
   "cell_type": "code",
   "execution_count": 85,
   "id": "ac0a8ace",
   "metadata": {},
   "outputs": [
    {
     "data": {
      "text/plain": [
       "124859.95518123027"
      ]
     },
     "execution_count": 85,
     "metadata": {},
     "output_type": "execute_result"
    }
   ],
   "source": [
    "abs(botTopMLLR.diff(axis = 1).MLPrice).mean()"
   ]
  },
  {
   "cell_type": "code",
   "execution_count": 86,
   "id": "e8640f22",
   "metadata": {},
   "outputs": [
    {
     "data": {
      "text/plain": [
       "100245.20356897324"
      ]
     },
     "execution_count": 86,
     "metadata": {},
     "output_type": "execute_result"
    }
   ],
   "source": [
    "abs(botTopMLLR.diff(axis = 1).MLPrice).std()"
   ]
  },
  {
   "cell_type": "code",
   "execution_count": 87,
   "id": "6f4f715e",
   "metadata": {},
   "outputs": [
    {
     "data": {
      "text/plain": [
       "101000.0"
      ]
     },
     "execution_count": 87,
     "metadata": {},
     "output_type": "execute_result"
    }
   ],
   "source": [
    "abs(botTopMLLR.diff(axis = 1).MLPrice).median()"
   ]
  },
  {
   "cell_type": "code",
   "execution_count": 92,
   "id": "60525bde",
   "metadata": {},
   "outputs": [
    {
     "data": {
      "text/html": [
       "<div>\n",
       "<style scoped>\n",
       "    .dataframe tbody tr th:only-of-type {\n",
       "        vertical-align: middle;\n",
       "    }\n",
       "\n",
       "    .dataframe tbody tr th {\n",
       "        vertical-align: top;\n",
       "    }\n",
       "\n",
       "    .dataframe thead th {\n",
       "        text-align: right;\n",
       "    }\n",
       "</style>\n",
       "<table border=\"1\" class=\"dataframe\">\n",
       "  <thead>\n",
       "    <tr style=\"text-align: right;\">\n",
       "      <th></th>\n",
       "      <th>OriginalPrice</th>\n",
       "      <th>MLPrice</th>\n",
       "    </tr>\n",
       "  </thead>\n",
       "  <tbody>\n",
       "    <tr>\n",
       "      <th>15712</th>\n",
       "      <td>150000.0</td>\n",
       "      <td>120000.0</td>\n",
       "    </tr>\n",
       "    <tr>\n",
       "      <th>15540</th>\n",
       "      <td>135000.0</td>\n",
       "      <td>160000.0</td>\n",
       "    </tr>\n",
       "    <tr>\n",
       "      <th>9831</th>\n",
       "      <td>204950.0</td>\n",
       "      <td>170000.0</td>\n",
       "    </tr>\n",
       "    <tr>\n",
       "      <th>10481</th>\n",
       "      <td>484000.0</td>\n",
       "      <td>170000.0</td>\n",
       "    </tr>\n",
       "    <tr>\n",
       "      <th>11674</th>\n",
       "      <td>255000.0</td>\n",
       "      <td>170000.0</td>\n",
       "    </tr>\n",
       "    <tr>\n",
       "      <th>1149</th>\n",
       "      <td>75000.0</td>\n",
       "      <td>175000.0</td>\n",
       "    </tr>\n",
       "    <tr>\n",
       "      <th>19121</th>\n",
       "      <td>182000.0</td>\n",
       "      <td>175000.0</td>\n",
       "    </tr>\n",
       "    <tr>\n",
       "      <th>17603</th>\n",
       "      <td>124000.0</td>\n",
       "      <td>175000.0</td>\n",
       "    </tr>\n",
       "    <tr>\n",
       "      <th>15131</th>\n",
       "      <td>135000.0</td>\n",
       "      <td>175000.0</td>\n",
       "    </tr>\n",
       "    <tr>\n",
       "      <th>3629</th>\n",
       "      <td>510000.0</td>\n",
       "      <td>175000.0</td>\n",
       "    </tr>\n",
       "    <tr>\n",
       "      <th>9231</th>\n",
       "      <td>230000.0</td>\n",
       "      <td>175000.0</td>\n",
       "    </tr>\n",
       "    <tr>\n",
       "      <th>6480</th>\n",
       "      <td>217000.0</td>\n",
       "      <td>175000.0</td>\n",
       "    </tr>\n",
       "    <tr>\n",
       "      <th>19438</th>\n",
       "      <td>375000.0</td>\n",
       "      <td>175000.0</td>\n",
       "    </tr>\n",
       "    <tr>\n",
       "      <th>12252</th>\n",
       "      <td>128750.0</td>\n",
       "      <td>175000.0</td>\n",
       "    </tr>\n",
       "    <tr>\n",
       "      <th>12389</th>\n",
       "      <td>237000.0</td>\n",
       "      <td>175000.0</td>\n",
       "    </tr>\n",
       "  </tbody>\n",
       "</table>\n",
       "</div>"
      ],
      "text/plain": [
       "       OriginalPrice   MLPrice\n",
       "15712       150000.0  120000.0\n",
       "15540       135000.0  160000.0\n",
       "9831        204950.0  170000.0\n",
       "10481       484000.0  170000.0\n",
       "11674       255000.0  170000.0\n",
       "1149         75000.0  175000.0\n",
       "19121       182000.0  175000.0\n",
       "17603       124000.0  175000.0\n",
       "15131       135000.0  175000.0\n",
       "3629        510000.0  175000.0\n",
       "9231        230000.0  175000.0\n",
       "6480        217000.0  175000.0\n",
       "19438       375000.0  175000.0\n",
       "12252       128750.0  175000.0\n",
       "12389       237000.0  175000.0"
      ]
     },
     "execution_count": 92,
     "metadata": {},
     "output_type": "execute_result"
    }
   ],
   "source": [
    "botTopMLLR.head(15)"
   ]
  },
  {
   "cell_type": "code",
   "execution_count": 93,
   "id": "d373276a",
   "metadata": {},
   "outputs": [
    {
     "data": {
      "text/html": [
       "<div>\n",
       "<style scoped>\n",
       "    .dataframe tbody tr th:only-of-type {\n",
       "        vertical-align: middle;\n",
       "    }\n",
       "\n",
       "    .dataframe tbody tr th {\n",
       "        vertical-align: top;\n",
       "    }\n",
       "\n",
       "    .dataframe thead th {\n",
       "        text-align: right;\n",
       "    }\n",
       "</style>\n",
       "<table border=\"1\" class=\"dataframe\">\n",
       "  <thead>\n",
       "    <tr style=\"text-align: right;\">\n",
       "      <th></th>\n",
       "      <th>OriginalPrice</th>\n",
       "      <th>MLPrice</th>\n",
       "    </tr>\n",
       "  </thead>\n",
       "  <tbody>\n",
       "    <tr>\n",
       "      <th>15712</th>\n",
       "      <td>150000.0</td>\n",
       "      <td>120000.0</td>\n",
       "    </tr>\n",
       "    <tr>\n",
       "      <th>15540</th>\n",
       "      <td>135000.0</td>\n",
       "      <td>160000.0</td>\n",
       "    </tr>\n",
       "    <tr>\n",
       "      <th>9831</th>\n",
       "      <td>204950.0</td>\n",
       "      <td>170000.0</td>\n",
       "    </tr>\n",
       "    <tr>\n",
       "      <th>10481</th>\n",
       "      <td>484000.0</td>\n",
       "      <td>170000.0</td>\n",
       "    </tr>\n",
       "    <tr>\n",
       "      <th>11674</th>\n",
       "      <td>255000.0</td>\n",
       "      <td>170000.0</td>\n",
       "    </tr>\n",
       "    <tr>\n",
       "      <th>...</th>\n",
       "      <td>...</td>\n",
       "      <td>...</td>\n",
       "    </tr>\n",
       "    <tr>\n",
       "      <th>13907</th>\n",
       "      <td>925000.0</td>\n",
       "      <td>995000.0</td>\n",
       "    </tr>\n",
       "    <tr>\n",
       "      <th>9325</th>\n",
       "      <td>960000.0</td>\n",
       "      <td>995000.0</td>\n",
       "    </tr>\n",
       "    <tr>\n",
       "      <th>3615</th>\n",
       "      <td>870000.0</td>\n",
       "      <td>995000.0</td>\n",
       "    </tr>\n",
       "    <tr>\n",
       "      <th>3252</th>\n",
       "      <td>1000000.0</td>\n",
       "      <td>995000.0</td>\n",
       "    </tr>\n",
       "    <tr>\n",
       "      <th>16171</th>\n",
       "      <td>960000.0</td>\n",
       "      <td>1000000.0</td>\n",
       "    </tr>\n",
       "  </tbody>\n",
       "</table>\n",
       "<p>6649 rows × 2 columns</p>\n",
       "</div>"
      ],
      "text/plain": [
       "       OriginalPrice    MLPrice\n",
       "15712       150000.0   120000.0\n",
       "15540       135000.0   160000.0\n",
       "9831        204950.0   170000.0\n",
       "10481       484000.0   170000.0\n",
       "11674       255000.0   170000.0\n",
       "...              ...        ...\n",
       "13907       925000.0   995000.0\n",
       "9325        960000.0   995000.0\n",
       "3615        870000.0   995000.0\n",
       "3252       1000000.0   995000.0\n",
       "16171       960000.0  1000000.0\n",
       "\n",
       "[6649 rows x 2 columns]"
      ]
     },
     "execution_count": 93,
     "metadata": {},
     "output_type": "execute_result"
    }
   ],
   "source": [
    "botTopMLLR"
   ]
  },
  {
   "cell_type": "code",
   "execution_count": 94,
   "id": "c8c855ed",
   "metadata": {
    "scrolled": false
   },
   "outputs": [
    {
     "data": {
      "text/html": [
       "<div>\n",
       "<style scoped>\n",
       "    .dataframe tbody tr th:only-of-type {\n",
       "        vertical-align: middle;\n",
       "    }\n",
       "\n",
       "    .dataframe tbody tr th {\n",
       "        vertical-align: top;\n",
       "    }\n",
       "\n",
       "    .dataframe thead th {\n",
       "        text-align: right;\n",
       "    }\n",
       "</style>\n",
       "<table border=\"1\" class=\"dataframe\">\n",
       "  <thead>\n",
       "    <tr style=\"text-align: right;\">\n",
       "      <th></th>\n",
       "      <th>OriginalPrice</th>\n",
       "      <th>MLPrice</th>\n",
       "    </tr>\n",
       "  </thead>\n",
       "  <tbody>\n",
       "    <tr>\n",
       "      <th>13628</th>\n",
       "      <td>105500.0</td>\n",
       "      <td>78000.0</td>\n",
       "    </tr>\n",
       "    <tr>\n",
       "      <th>16619</th>\n",
       "      <td>338500.0</td>\n",
       "      <td>82500.0</td>\n",
       "    </tr>\n",
       "    <tr>\n",
       "      <th>9549</th>\n",
       "      <td>275000.0</td>\n",
       "      <td>82500.0</td>\n",
       "    </tr>\n",
       "    <tr>\n",
       "      <th>1149</th>\n",
       "      <td>75000.0</td>\n",
       "      <td>90000.0</td>\n",
       "    </tr>\n",
       "    <tr>\n",
       "      <th>13072</th>\n",
       "      <td>155000.0</td>\n",
       "      <td>90000.0</td>\n",
       "    </tr>\n",
       "    <tr>\n",
       "      <th>...</th>\n",
       "      <td>...</td>\n",
       "      <td>...</td>\n",
       "    </tr>\n",
       "    <tr>\n",
       "      <th>15988</th>\n",
       "      <td>825000.0</td>\n",
       "      <td>999950.0</td>\n",
       "    </tr>\n",
       "    <tr>\n",
       "      <th>15211</th>\n",
       "      <td>915000.0</td>\n",
       "      <td>999950.0</td>\n",
       "    </tr>\n",
       "    <tr>\n",
       "      <th>62</th>\n",
       "      <td>505000.0</td>\n",
       "      <td>999950.0</td>\n",
       "    </tr>\n",
       "    <tr>\n",
       "      <th>15006</th>\n",
       "      <td>535000.0</td>\n",
       "      <td>1000000.0</td>\n",
       "    </tr>\n",
       "    <tr>\n",
       "      <th>8469</th>\n",
       "      <td>695000.0</td>\n",
       "      <td>1000000.0</td>\n",
       "    </tr>\n",
       "  </tbody>\n",
       "</table>\n",
       "<p>6649 rows × 2 columns</p>\n",
       "</div>"
      ],
      "text/plain": [
       "       OriginalPrice    MLPrice\n",
       "13628       105500.0    78000.0\n",
       "16619       338500.0    82500.0\n",
       "9549        275000.0    82500.0\n",
       "1149         75000.0    90000.0\n",
       "13072       155000.0    90000.0\n",
       "...              ...        ...\n",
       "15988       825000.0   999950.0\n",
       "15211       915000.0   999950.0\n",
       "62          505000.0   999950.0\n",
       "15006       535000.0  1000000.0\n",
       "8469        695000.0  1000000.0\n",
       "\n",
       "[6649 rows x 2 columns]"
      ]
     },
     "execution_count": 94,
     "metadata": {},
     "output_type": "execute_result"
    }
   ],
   "source": [
    "botTopML"
   ]
  },
  {
   "cell_type": "code",
   "execution_count": 98,
   "id": "a2f9b334",
   "metadata": {},
   "outputs": [
    {
     "data": {
      "text/html": [
       "<div>\n",
       "<style scoped>\n",
       "    .dataframe tbody tr th:only-of-type {\n",
       "        vertical-align: middle;\n",
       "    }\n",
       "\n",
       "    .dataframe tbody tr th {\n",
       "        vertical-align: top;\n",
       "    }\n",
       "\n",
       "    .dataframe thead th {\n",
       "        text-align: right;\n",
       "    }\n",
       "</style>\n",
       "<table border=\"1\" class=\"dataframe\">\n",
       "  <thead>\n",
       "    <tr style=\"text-align: right;\">\n",
       "      <th></th>\n",
       "      <th>bedrooms</th>\n",
       "      <th>bathrooms</th>\n",
       "      <th>floors</th>\n",
       "      <th>waterfront</th>\n",
       "      <th>view</th>\n",
       "      <th>condition</th>\n",
       "      <th>grade</th>\n",
       "      <th>Renovated</th>\n",
       "    </tr>\n",
       "  </thead>\n",
       "  <tbody>\n",
       "    <tr>\n",
       "      <th>0</th>\n",
       "      <td>3</td>\n",
       "      <td>1.00</td>\n",
       "      <td>1.0</td>\n",
       "      <td>0</td>\n",
       "      <td>0</td>\n",
       "      <td>3</td>\n",
       "      <td>7</td>\n",
       "      <td>False</td>\n",
       "    </tr>\n",
       "    <tr>\n",
       "      <th>1</th>\n",
       "      <td>3</td>\n",
       "      <td>2.25</td>\n",
       "      <td>2.0</td>\n",
       "      <td>0</td>\n",
       "      <td>0</td>\n",
       "      <td>3</td>\n",
       "      <td>7</td>\n",
       "      <td>True</td>\n",
       "    </tr>\n",
       "    <tr>\n",
       "      <th>2</th>\n",
       "      <td>2</td>\n",
       "      <td>1.00</td>\n",
       "      <td>1.0</td>\n",
       "      <td>0</td>\n",
       "      <td>0</td>\n",
       "      <td>3</td>\n",
       "      <td>6</td>\n",
       "      <td>False</td>\n",
       "    </tr>\n",
       "    <tr>\n",
       "      <th>3</th>\n",
       "      <td>4</td>\n",
       "      <td>3.00</td>\n",
       "      <td>1.0</td>\n",
       "      <td>0</td>\n",
       "      <td>0</td>\n",
       "      <td>5</td>\n",
       "      <td>7</td>\n",
       "      <td>False</td>\n",
       "    </tr>\n",
       "    <tr>\n",
       "      <th>4</th>\n",
       "      <td>3</td>\n",
       "      <td>2.00</td>\n",
       "      <td>1.0</td>\n",
       "      <td>0</td>\n",
       "      <td>0</td>\n",
       "      <td>3</td>\n",
       "      <td>8</td>\n",
       "      <td>False</td>\n",
       "    </tr>\n",
       "    <tr>\n",
       "      <th>...</th>\n",
       "      <td>...</td>\n",
       "      <td>...</td>\n",
       "      <td>...</td>\n",
       "      <td>...</td>\n",
       "      <td>...</td>\n",
       "      <td>...</td>\n",
       "      <td>...</td>\n",
       "      <td>...</td>\n",
       "    </tr>\n",
       "    <tr>\n",
       "      <th>21608</th>\n",
       "      <td>3</td>\n",
       "      <td>2.50</td>\n",
       "      <td>3.0</td>\n",
       "      <td>0</td>\n",
       "      <td>0</td>\n",
       "      <td>3</td>\n",
       "      <td>8</td>\n",
       "      <td>False</td>\n",
       "    </tr>\n",
       "    <tr>\n",
       "      <th>21609</th>\n",
       "      <td>4</td>\n",
       "      <td>2.50</td>\n",
       "      <td>2.0</td>\n",
       "      <td>0</td>\n",
       "      <td>0</td>\n",
       "      <td>3</td>\n",
       "      <td>8</td>\n",
       "      <td>False</td>\n",
       "    </tr>\n",
       "    <tr>\n",
       "      <th>21610</th>\n",
       "      <td>2</td>\n",
       "      <td>0.75</td>\n",
       "      <td>2.0</td>\n",
       "      <td>0</td>\n",
       "      <td>0</td>\n",
       "      <td>3</td>\n",
       "      <td>7</td>\n",
       "      <td>False</td>\n",
       "    </tr>\n",
       "    <tr>\n",
       "      <th>21611</th>\n",
       "      <td>3</td>\n",
       "      <td>2.50</td>\n",
       "      <td>2.0</td>\n",
       "      <td>0</td>\n",
       "      <td>0</td>\n",
       "      <td>3</td>\n",
       "      <td>8</td>\n",
       "      <td>False</td>\n",
       "    </tr>\n",
       "    <tr>\n",
       "      <th>21612</th>\n",
       "      <td>2</td>\n",
       "      <td>0.75</td>\n",
       "      <td>2.0</td>\n",
       "      <td>0</td>\n",
       "      <td>0</td>\n",
       "      <td>3</td>\n",
       "      <td>7</td>\n",
       "      <td>False</td>\n",
       "    </tr>\n",
       "  </tbody>\n",
       "</table>\n",
       "<p>20148 rows × 8 columns</p>\n",
       "</div>"
      ],
      "text/plain": [
       "       bedrooms  bathrooms  floors  waterfront  view  condition  grade  \\\n",
       "0             3       1.00     1.0           0     0          3      7   \n",
       "1             3       2.25     2.0           0     0          3      7   \n",
       "2             2       1.00     1.0           0     0          3      6   \n",
       "3             4       3.00     1.0           0     0          5      7   \n",
       "4             3       2.00     1.0           0     0          3      8   \n",
       "...         ...        ...     ...         ...   ...        ...    ...   \n",
       "21608         3       2.50     3.0           0     0          3      8   \n",
       "21609         4       2.50     2.0           0     0          3      8   \n",
       "21610         2       0.75     2.0           0     0          3      7   \n",
       "21611         3       2.50     2.0           0     0          3      8   \n",
       "21612         2       0.75     2.0           0     0          3      7   \n",
       "\n",
       "       Renovated  \n",
       "0          False  \n",
       "1           True  \n",
       "2          False  \n",
       "3          False  \n",
       "4          False  \n",
       "...          ...  \n",
       "21608      False  \n",
       "21609      False  \n",
       "21610      False  \n",
       "21611      False  \n",
       "21612      False  \n",
       "\n",
       "[20148 rows x 8 columns]"
      ]
     },
     "execution_count": 98,
     "metadata": {},
     "output_type": "execute_result"
    }
   ],
   "source": [
    "df"
   ]
  },
  {
   "cell_type": "code",
   "execution_count": 111,
   "id": "2b0566cd",
   "metadata": {},
   "outputs": [
    {
     "data": {
      "text/plain": [
       "[3, 2, 4, 5, 1, 6, 7, 8, 0, 9, 11, 10, 33]"
      ]
     },
     "execution_count": 111,
     "metadata": {},
     "output_type": "execute_result"
    }
   ],
   "source": [
    "quartos = []\n",
    "for quarto in df.bedrooms.unique():\n",
    "    quartos.append(quarto)\n",
    "quartos"
   ]
  },
  {
   "cell_type": "code",
   "execution_count": 112,
   "id": "d33e47e8",
   "metadata": {},
   "outputs": [
    {
     "data": {
      "text/plain": [
       "[1.0,\n",
       " 2.25,\n",
       " 3.0,\n",
       " 2.0,\n",
       " 1.5,\n",
       " 2.5,\n",
       " 1.75,\n",
       " 2.75,\n",
       " 3.25,\n",
       " 4.0,\n",
       " 3.5,\n",
       " 0.75,\n",
       " 4.25,\n",
       " 1.25,\n",
       " 4.5,\n",
       " 3.75,\n",
       " 0.0,\n",
       " 4.75,\n",
       " 5.0,\n",
       " 0.5,\n",
       " 6.75,\n",
       " 5.25,\n",
       " 7.5,\n",
       " 5.5,\n",
       " 5.75,\n",
       " 6.0]"
      ]
     },
     "execution_count": 112,
     "metadata": {},
     "output_type": "execute_result"
    }
   ],
   "source": [
    "banheiros = []\n",
    "for banheiro in df.bathrooms.unique():\n",
    "    banheiros.append(banheiro)\n",
    "banheiros"
   ]
  },
  {
   "cell_type": "code",
   "execution_count": 113,
   "id": "43268a6d",
   "metadata": {},
   "outputs": [
    {
     "data": {
      "text/plain": [
       "[1.0, 2.0, 1.5, 3.0, 2.5, 3.5]"
      ]
     },
     "execution_count": 113,
     "metadata": {},
     "output_type": "execute_result"
    }
   ],
   "source": [
    "andares = []\n",
    "for andar in df.floors.unique():\n",
    "    andares.append(andar)\n",
    "andares"
   ]
  },
  {
   "cell_type": "code",
   "execution_count": 114,
   "id": "c5dacaa2",
   "metadata": {},
   "outputs": [
    {
     "data": {
      "text/plain": [
       "[0, 1]"
      ]
     },
     "execution_count": 114,
     "metadata": {},
     "output_type": "execute_result"
    }
   ],
   "source": [
    "fontes = []\n",
    "for fonte in df.waterfront.unique():\n",
    "    fontes.append(fonte)\n",
    "fontes"
   ]
  },
  {
   "cell_type": "code",
   "execution_count": 116,
   "id": "bba91d0a",
   "metadata": {},
   "outputs": [
    {
     "data": {
      "text/plain": [
       "[0, 3, 4, 2, 1]"
      ]
     },
     "execution_count": 116,
     "metadata": {},
     "output_type": "execute_result"
    }
   ],
   "source": [
    "vistas = []\n",
    "for vista in df.view.unique():\n",
    "    vistas.append(vista)\n",
    "vistas"
   ]
  },
  {
   "cell_type": "code",
   "execution_count": 115,
   "id": "05f52862",
   "metadata": {},
   "outputs": [
    {
     "data": {
      "text/plain": [
       "[3, 5, 4, 1, 2]"
      ]
     },
     "execution_count": 115,
     "metadata": {},
     "output_type": "execute_result"
    }
   ],
   "source": [
    "condicoes = []\n",
    "for condicao in df.condition.unique():\n",
    "    condicoes.append(condicao)\n",
    "condicoes"
   ]
  },
  {
   "cell_type": "code",
   "execution_count": 119,
   "id": "5e03ac0c",
   "metadata": {},
   "outputs": [
    {
     "data": {
      "text/plain": [
       "[7, 6, 8, 9, 5, 10, 4, 11, 3, 12, 1]"
      ]
     },
     "execution_count": 119,
     "metadata": {},
     "output_type": "execute_result"
    }
   ],
   "source": [
    "avaliacoes = []\n",
    "for avaliacao in df.grade.unique():\n",
    "    avaliacoes.append(avaliacao)\n",
    "avaliacoes"
   ]
  },
  {
   "cell_type": "code",
   "execution_count": 120,
   "id": "6f3c27f2",
   "metadata": {},
   "outputs": [
    {
     "data": {
      "text/plain": [
       "[False, True]"
      ]
     },
     "execution_count": 120,
     "metadata": {},
     "output_type": "execute_result"
    }
   ],
   "source": [
    "reformadas = []\n",
    "for reformada in df.Renovated.unique():\n",
    "    reformadas.append(reformada)\n",
    "reformadas"
   ]
  },
  {
   "cell_type": "code",
   "execution_count": 139,
   "id": "519c11ca",
   "metadata": {},
   "outputs": [
    {
     "data": {
      "text/plain": [
       "{'quartos': [3, 2, 4, 5, 1, 6, 7, 8, 0, 9, 11, 10, 33],\n",
       " 'banheiros': [1.0,\n",
       "  2.25,\n",
       "  3.0,\n",
       "  2.0,\n",
       "  1.5,\n",
       "  2.5,\n",
       "  1.75,\n",
       "  2.75,\n",
       "  3.25,\n",
       "  4.0,\n",
       "  3.5,\n",
       "  0.75,\n",
       "  4.25,\n",
       "  1.25,\n",
       "  4.5,\n",
       "  3.75,\n",
       "  0.0,\n",
       "  4.75,\n",
       "  5.0,\n",
       "  0.5,\n",
       "  6.75,\n",
       "  5.25,\n",
       "  7.5,\n",
       "  5.5,\n",
       "  5.75,\n",
       "  6.0],\n",
       " 'andares': [1.0, 2.0, 1.5, 3.0, 2.5, 3.5],\n",
       " 'fontes': [0, 1],\n",
       " 'vistas': [0, 3, 4, 2, 1],\n",
       " 'condicoes': [3, 5, 4, 1, 2],\n",
       " 'avaliacoes': [7, 6, 8, 9, 5, 10, 4, 11, 3, 12, 1],\n",
       " 'reformadas': [False, True]}"
      ]
     },
     "execution_count": 139,
     "metadata": {},
     "output_type": "execute_result"
    }
   ],
   "source": [
    "dcnr = {'quartos' : quartos, 'banheiros' : banheiros, 'andares' : andares, 'fontes': fontes, 'vistas' : vistas, \n",
    "        'condicoes' : condicoes, 'avaliacoes' : avaliacoes, 'reformadas' : reformadas}\n",
    "dcnr"
   ]
  },
  {
   "cell_type": "code",
   "execution_count": 165,
   "id": "85304baf",
   "metadata": {
    "scrolled": false
   },
   "outputs": [
    {
     "name": "stdout",
     "output_type": "stream",
     "text": [
      "3\n",
      "1.0\n",
      "1.0\n",
      "0\n",
      "0\n",
      "3\n",
      "7\n",
      "False\n"
     ]
    }
   ],
   "source": [
    "\n",
    "for item in dcnr:\n",
    "    print(dcnr[item][0])"
   ]
  },
  {
   "cell_type": "code",
   "execution_count": 166,
   "id": "c3392ece",
   "metadata": {},
   "outputs": [
    {
     "name": "stdout",
     "output_type": "stream",
     "text": [
      "[[3. 1. 1. 0. 0. 3. 7. 0.]]\n"
     ]
    }
   ],
   "source": [
    "arr = np.array([[3,1.0,1.0,0,0,3,7,False]])\n",
    "pred = pd.DataFrame(arr, columns = ['bedrooms','bathrooms','floors', 'waterfront', 'view', 'condition', 'grade','Renovated'])"
   ]
  },
  {
   "cell_type": "code",
   "execution_count": 163,
   "id": "e96eeff0",
   "metadata": {},
   "outputs": [
    {
     "data": {
      "text/plain": [
       "array([225000.])"
      ]
     },
     "execution_count": 163,
     "metadata": {},
     "output_type": "execute_result"
    }
   ],
   "source": [
    "MLPC.predict(pred)"
   ]
  },
  {
   "cell_type": "code",
   "execution_count": 172,
   "id": "23a96be9",
   "metadata": {},
   "outputs": [
    {
     "name": "stdout",
     "output_type": "stream",
     "text": [
      "{'pera': [10, 5], 'uva': [2, 8], 'maça': 55, 'abacaxi': 25, 'laranja': 15}\n"
     ]
    }
   ],
   "source": [
    "cesta_frutas = {'pera':[10,5], 'uva':[2, 8], 'maça':55, 'abacaxi':25, 'laranja':15}\n",
    "print(cesta_frutas)"
   ]
  },
  {
   "cell_type": "code",
   "execution_count": 179,
   "id": "93159f15",
   "metadata": {},
   "outputs": [
    {
     "name": "stdout",
     "output_type": "stream",
     "text": [
      "pera: [10, 5]\n",
      "uva: [2, 8]\n",
      "maça: 55\n",
      "abacaxi: 25\n",
      "laranja: 15\n"
     ]
    }
   ],
   "source": [
    "for fruta, qtd in cesta_frutas.items():\n",
    "    print(fruta +\": \"+str(qtd))"
   ]
  },
  {
   "cell_type": "code",
   "execution_count": null,
   "id": "71af8ed3",
   "metadata": {},
   "outputs": [],
   "source": []
  }
 ],
 "metadata": {
  "kernelspec": {
   "display_name": "Python 3 (ipykernel)",
   "language": "python",
   "name": "python3"
  },
  "language_info": {
   "codemirror_mode": {
    "name": "ipython",
    "version": 3
   },
   "file_extension": ".py",
   "mimetype": "text/x-python",
   "name": "python",
   "nbconvert_exporter": "python",
   "pygments_lexer": "ipython3",
   "version": "3.9.7"
  }
 },
 "nbformat": 4,
 "nbformat_minor": 5
}
