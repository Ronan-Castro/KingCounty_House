{
 "cells": [
  {
   "cell_type": "markdown",
   "id": "03a24d73",
   "metadata": {},
   "source": [
    "<h1>Importando os Dados</h1>"
   ]
  },
  {
   "cell_type": "code",
   "execution_count": 1,
   "id": "742b9b37",
   "metadata": {},
   "outputs": [
    {
     "data": {
      "text/html": [
       "<div>\n",
       "<style scoped>\n",
       "    .dataframe tbody tr th:only-of-type {\n",
       "        vertical-align: middle;\n",
       "    }\n",
       "\n",
       "    .dataframe tbody tr th {\n",
       "        vertical-align: top;\n",
       "    }\n",
       "\n",
       "    .dataframe thead th {\n",
       "        text-align: right;\n",
       "    }\n",
       "</style>\n",
       "<table border=\"1\" class=\"dataframe\">\n",
       "  <thead>\n",
       "    <tr style=\"text-align: right;\">\n",
       "      <th></th>\n",
       "      <th>id</th>\n",
       "      <th>date</th>\n",
       "      <th>price</th>\n",
       "      <th>bedrooms</th>\n",
       "      <th>bathrooms</th>\n",
       "      <th>sqft_living</th>\n",
       "      <th>sqft_lot</th>\n",
       "      <th>floors</th>\n",
       "      <th>waterfront</th>\n",
       "      <th>view</th>\n",
       "      <th>...</th>\n",
       "      <th>grade</th>\n",
       "      <th>sqft_above</th>\n",
       "      <th>sqft_basement</th>\n",
       "      <th>yr_built</th>\n",
       "      <th>yr_renovated</th>\n",
       "      <th>zipcode</th>\n",
       "      <th>lat</th>\n",
       "      <th>long</th>\n",
       "      <th>sqft_living15</th>\n",
       "      <th>sqft_lot15</th>\n",
       "    </tr>\n",
       "  </thead>\n",
       "  <tbody>\n",
       "    <tr>\n",
       "      <th>11528</th>\n",
       "      <td>7203101610</td>\n",
       "      <td>2014-05-12</td>\n",
       "      <td>265000.0</td>\n",
       "      <td>2</td>\n",
       "      <td>1.00</td>\n",
       "      <td>1290</td>\n",
       "      <td>2828</td>\n",
       "      <td>2.0</td>\n",
       "      <td>0</td>\n",
       "      <td>0</td>\n",
       "      <td>...</td>\n",
       "      <td>7</td>\n",
       "      <td>1290</td>\n",
       "      <td>0</td>\n",
       "      <td>2008</td>\n",
       "      <td>0</td>\n",
       "      <td>98053</td>\n",
       "      <td>47,6968</td>\n",
       "      <td>-122,0250</td>\n",
       "      <td>1290</td>\n",
       "      <td>2628</td>\n",
       "    </tr>\n",
       "    <tr>\n",
       "      <th>5398</th>\n",
       "      <td>2141330050</td>\n",
       "      <td>2014-05-20</td>\n",
       "      <td>760000.0</td>\n",
       "      <td>4</td>\n",
       "      <td>1.75</td>\n",
       "      <td>2450</td>\n",
       "      <td>13300</td>\n",
       "      <td>1.0</td>\n",
       "      <td>0</td>\n",
       "      <td>2</td>\n",
       "      <td>...</td>\n",
       "      <td>9</td>\n",
       "      <td>1630</td>\n",
       "      <td>820</td>\n",
       "      <td>1987</td>\n",
       "      <td>0</td>\n",
       "      <td>98006</td>\n",
       "      <td>47,5564</td>\n",
       "      <td>-122,1300</td>\n",
       "      <td>3150</td>\n",
       "      <td>15500</td>\n",
       "    </tr>\n",
       "    <tr>\n",
       "      <th>9663</th>\n",
       "      <td>2794700120</td>\n",
       "      <td>2014-09-12</td>\n",
       "      <td>496000.0</td>\n",
       "      <td>3</td>\n",
       "      <td>3.50</td>\n",
       "      <td>3090</td>\n",
       "      <td>27598</td>\n",
       "      <td>2.0</td>\n",
       "      <td>0</td>\n",
       "      <td>2</td>\n",
       "      <td>...</td>\n",
       "      <td>9</td>\n",
       "      <td>2020</td>\n",
       "      <td>1070</td>\n",
       "      <td>1995</td>\n",
       "      <td>0</td>\n",
       "      <td>98070</td>\n",
       "      <td>47,3541</td>\n",
       "      <td>-122,4530</td>\n",
       "      <td>2180</td>\n",
       "      <td>17085</td>\n",
       "    </tr>\n",
       "    <tr>\n",
       "      <th>21042</th>\n",
       "      <td>1389600040</td>\n",
       "      <td>2014-12-26</td>\n",
       "      <td>255000.0</td>\n",
       "      <td>4</td>\n",
       "      <td>2.50</td>\n",
       "      <td>1987</td>\n",
       "      <td>6000</td>\n",
       "      <td>2.0</td>\n",
       "      <td>0</td>\n",
       "      <td>0</td>\n",
       "      <td>...</td>\n",
       "      <td>7</td>\n",
       "      <td>1987</td>\n",
       "      <td>0</td>\n",
       "      <td>2011</td>\n",
       "      <td>0</td>\n",
       "      <td>98001</td>\n",
       "      <td>47,2679</td>\n",
       "      <td>-122,2550</td>\n",
       "      <td>1880</td>\n",
       "      <td>9589</td>\n",
       "    </tr>\n",
       "    <tr>\n",
       "      <th>20106</th>\n",
       "      <td>7217400389</td>\n",
       "      <td>2015-04-01</td>\n",
       "      <td>547500.0</td>\n",
       "      <td>3</td>\n",
       "      <td>3.25</td>\n",
       "      <td>1720</td>\n",
       "      <td>1977</td>\n",
       "      <td>2.0</td>\n",
       "      <td>0</td>\n",
       "      <td>0</td>\n",
       "      <td>...</td>\n",
       "      <td>8</td>\n",
       "      <td>1360</td>\n",
       "      <td>360</td>\n",
       "      <td>2007</td>\n",
       "      <td>0</td>\n",
       "      <td>98122</td>\n",
       "      <td>47,6127</td>\n",
       "      <td>-122,2990</td>\n",
       "      <td>1720</td>\n",
       "      <td>3420</td>\n",
       "    </tr>\n",
       "    <tr>\n",
       "      <th>17698</th>\n",
       "      <td>2215900930</td>\n",
       "      <td>2014-05-09</td>\n",
       "      <td>225000.0</td>\n",
       "      <td>3</td>\n",
       "      <td>2.50</td>\n",
       "      <td>2000</td>\n",
       "      <td>9202</td>\n",
       "      <td>2.0</td>\n",
       "      <td>0</td>\n",
       "      <td>0</td>\n",
       "      <td>...</td>\n",
       "      <td>7</td>\n",
       "      <td>2000</td>\n",
       "      <td>0</td>\n",
       "      <td>1992</td>\n",
       "      <td>0</td>\n",
       "      <td>98038</td>\n",
       "      <td>47,3516</td>\n",
       "      <td>-122,0570</td>\n",
       "      <td>1750</td>\n",
       "      <td>7827</td>\n",
       "    </tr>\n",
       "    <tr>\n",
       "      <th>19020</th>\n",
       "      <td>3630020150</td>\n",
       "      <td>2015-03-10</td>\n",
       "      <td>425000.0</td>\n",
       "      <td>3</td>\n",
       "      <td>2.50</td>\n",
       "      <td>1480</td>\n",
       "      <td>1386</td>\n",
       "      <td>3.0</td>\n",
       "      <td>0</td>\n",
       "      <td>0</td>\n",
       "      <td>...</td>\n",
       "      <td>8</td>\n",
       "      <td>1480</td>\n",
       "      <td>0</td>\n",
       "      <td>2005</td>\n",
       "      <td>0</td>\n",
       "      <td>98029</td>\n",
       "      <td>47,5468</td>\n",
       "      <td>-121,9980</td>\n",
       "      <td>1470</td>\n",
       "      <td>1593</td>\n",
       "    </tr>\n",
       "    <tr>\n",
       "      <th>3280</th>\n",
       "      <td>8818400490</td>\n",
       "      <td>2014-06-11</td>\n",
       "      <td>527000.0</td>\n",
       "      <td>2</td>\n",
       "      <td>1.75</td>\n",
       "      <td>1640</td>\n",
       "      <td>4080</td>\n",
       "      <td>1.0</td>\n",
       "      <td>0</td>\n",
       "      <td>0</td>\n",
       "      <td>...</td>\n",
       "      <td>7</td>\n",
       "      <td>840</td>\n",
       "      <td>800</td>\n",
       "      <td>1921</td>\n",
       "      <td>0</td>\n",
       "      <td>98105</td>\n",
       "      <td>47,6645</td>\n",
       "      <td>-122,3260</td>\n",
       "      <td>1980</td>\n",
       "      <td>4080</td>\n",
       "    </tr>\n",
       "    <tr>\n",
       "      <th>3755</th>\n",
       "      <td>5515600088</td>\n",
       "      <td>2014-11-21</td>\n",
       "      <td>194820.0</td>\n",
       "      <td>3</td>\n",
       "      <td>1.50</td>\n",
       "      <td>1100</td>\n",
       "      <td>32700</td>\n",
       "      <td>1.0</td>\n",
       "      <td>0</td>\n",
       "      <td>0</td>\n",
       "      <td>...</td>\n",
       "      <td>7</td>\n",
       "      <td>1100</td>\n",
       "      <td>0</td>\n",
       "      <td>1967</td>\n",
       "      <td>0</td>\n",
       "      <td>98001</td>\n",
       "      <td>47,3186</td>\n",
       "      <td>-122,2890</td>\n",
       "      <td>1616</td>\n",
       "      <td>32700</td>\n",
       "    </tr>\n",
       "    <tr>\n",
       "      <th>6310</th>\n",
       "      <td>8114000020</td>\n",
       "      <td>2015-01-28</td>\n",
       "      <td>310650.0</td>\n",
       "      <td>3</td>\n",
       "      <td>1.75</td>\n",
       "      <td>1510</td>\n",
       "      <td>12408</td>\n",
       "      <td>1.0</td>\n",
       "      <td>0</td>\n",
       "      <td>0</td>\n",
       "      <td>...</td>\n",
       "      <td>7</td>\n",
       "      <td>1510</td>\n",
       "      <td>0</td>\n",
       "      <td>1969</td>\n",
       "      <td>0</td>\n",
       "      <td>98059</td>\n",
       "      <td>47,5069</td>\n",
       "      <td>-122,1410</td>\n",
       "      <td>1480</td>\n",
       "      <td>17800</td>\n",
       "    </tr>\n",
       "  </tbody>\n",
       "</table>\n",
       "<p>10 rows × 21 columns</p>\n",
       "</div>"
      ],
      "text/plain": [
       "               id        date     price  bedrooms  bathrooms  sqft_living  \\\n",
       "11528  7203101610  2014-05-12  265000.0         2       1.00         1290   \n",
       "5398   2141330050  2014-05-20  760000.0         4       1.75         2450   \n",
       "9663   2794700120  2014-09-12  496000.0         3       3.50         3090   \n",
       "21042  1389600040  2014-12-26  255000.0         4       2.50         1987   \n",
       "20106  7217400389  2015-04-01  547500.0         3       3.25         1720   \n",
       "17698  2215900930  2014-05-09  225000.0         3       2.50         2000   \n",
       "19020  3630020150  2015-03-10  425000.0         3       2.50         1480   \n",
       "3280   8818400490  2014-06-11  527000.0         2       1.75         1640   \n",
       "3755   5515600088  2014-11-21  194820.0         3       1.50         1100   \n",
       "6310   8114000020  2015-01-28  310650.0         3       1.75         1510   \n",
       "\n",
       "       sqft_lot  floors  waterfront  view  ...  grade  sqft_above  \\\n",
       "11528      2828     2.0           0     0  ...      7        1290   \n",
       "5398      13300     1.0           0     2  ...      9        1630   \n",
       "9663      27598     2.0           0     2  ...      9        2020   \n",
       "21042      6000     2.0           0     0  ...      7        1987   \n",
       "20106      1977     2.0           0     0  ...      8        1360   \n",
       "17698      9202     2.0           0     0  ...      7        2000   \n",
       "19020      1386     3.0           0     0  ...      8        1480   \n",
       "3280       4080     1.0           0     0  ...      7         840   \n",
       "3755      32700     1.0           0     0  ...      7        1100   \n",
       "6310      12408     1.0           0     0  ...      7        1510   \n",
       "\n",
       "       sqft_basement  yr_built  yr_renovated  zipcode      lat       long  \\\n",
       "11528              0      2008             0    98053  47,6968  -122,0250   \n",
       "5398             820      1987             0    98006  47,5564  -122,1300   \n",
       "9663            1070      1995             0    98070  47,3541  -122,4530   \n",
       "21042              0      2011             0    98001  47,2679  -122,2550   \n",
       "20106            360      2007             0    98122  47,6127  -122,2990   \n",
       "17698              0      1992             0    98038  47,3516  -122,0570   \n",
       "19020              0      2005             0    98029  47,5468  -121,9980   \n",
       "3280             800      1921             0    98105  47,6645  -122,3260   \n",
       "3755               0      1967             0    98001  47,3186  -122,2890   \n",
       "6310               0      1969             0    98059  47,5069  -122,1410   \n",
       "\n",
       "      sqft_living15  sqft_lot15  \n",
       "11528          1290        2628  \n",
       "5398           3150       15500  \n",
       "9663           2180       17085  \n",
       "21042          1880        9589  \n",
       "20106          1720        3420  \n",
       "17698          1750        7827  \n",
       "19020          1470        1593  \n",
       "3280           1980        4080  \n",
       "3755           1616       32700  \n",
       "6310           1480       17800  \n",
       "\n",
       "[10 rows x 21 columns]"
      ]
     },
     "execution_count": 1,
     "metadata": {},
     "output_type": "execute_result"
    }
   ],
   "source": [
    "import pandas as pd\n",
    "import numpy as np\n",
    "import matplotlib.pyplot as plt\n",
    "import seaborn as sns\n",
    "\n",
    "DataFrame = pd.read_csv('kc_house_data.csv', encoding='UTF-8', sep=\";\")\n",
    "DataFrame.sample(10)"
   ]
  },
  {
   "cell_type": "markdown",
   "id": "f27da6bb",
   "metadata": {},
   "source": [
    "<h3>A empresa, House Rocket, deseja obter infromações e o direcionamento de mercado de casas na cidade de King County, USA, para isto ela levantou as seguintes questões: </h3>\n",
    "<h3> \n",
    "    <ol>\n",
    "    <li>Quais casas o CEO da House Rocket deveria comprar e por qual preço de compra?</li>  <br>   \n",
    "    <li>Uma vez a casa em posse da empresa, qual o melhor momento para vendê-las e qual seria o preço da venda?</li>   <br>  \n",
    "    <li> A House Rocket deveria fazer uma reforma para aumentar o preço da venda? Quais seriam as sugestões de mudanças? Qual o incremento no preço dado por cada opção de reforma?</li>       \n",
    "    </ol>\n",
    "</h3>"
   ]
  },
  {
   "cell_type": "markdown",
   "id": "36f06712",
   "metadata": {},
   "source": [
    "<h6>Informações</h6>\n",
    "\n",
    "sqft_basement = tamanho do porão\n",
    "\n",
    "sqft_above = tamanho segundo andar\n",
    "\n",
    "yr_built = ano de construção\n",
    "\n",
    "yr_renovated = ano da reforma"
   ]
  },
  {
   "cell_type": "markdown",
   "id": "0ffd9520",
   "metadata": {},
   "source": [
    "# Observando casas reformadas para calcular sua valorização"
   ]
  },
  {
   "cell_type": "code",
   "execution_count": 2,
   "id": "758c0548",
   "metadata": {
    "scrolled": false
   },
   "outputs": [],
   "source": [
    "Renovated = DataFrame[DataFrame['yr_renovated']!=0]\n",
    "Unrenovated = DataFrame[DataFrame['yr_renovated']==0]"
   ]
  },
  {
   "cell_type": "code",
   "execution_count": 3,
   "id": "2aff7bea",
   "metadata": {},
   "outputs": [
    {
     "data": {
      "text/plain": [
       "id               7129300520\n",
       "date             2014-10-13\n",
       "price              221900.0\n",
       "bedrooms                  3\n",
       "bathrooms               1.0\n",
       "sqft_living            1180\n",
       "sqft_lot               5650\n",
       "floors                  1.0\n",
       "waterfront                0\n",
       "view                      0\n",
       "condition                 3\n",
       "grade                     7\n",
       "sqft_above             1180\n",
       "sqft_basement             0\n",
       "yr_built               1955\n",
       "yr_renovated              0\n",
       "zipcode               98178\n",
       "lat                 47,5112\n",
       "long              -122,2570\n",
       "sqft_living15          1340\n",
       "sqft_lot15             5650\n",
       "Name: 0, dtype: object"
      ]
     },
     "execution_count": 3,
     "metadata": {},
     "output_type": "execute_result"
    }
   ],
   "source": [
    "DataFrame.loc[0,:]"
   ]
  },
  {
   "cell_type": "code",
   "execution_count": 4,
   "id": "f4de286e",
   "metadata": {},
   "outputs": [
    {
     "data": {
      "text/plain": [
       "1446211405.583151"
      ]
     },
     "execution_count": 4,
     "metadata": {},
     "output_type": "execute_result"
    }
   ],
   "source": [
    "Ren = Renovated['price'].mean()\n",
    "Ren"
   ]
  },
  {
   "cell_type": "code",
   "execution_count": 5,
   "id": "559705ca",
   "metadata": {},
   "outputs": [
    {
     "data": {
      "text/plain": [
       "529524767.00782645"
      ]
     },
     "execution_count": 5,
     "metadata": {},
     "output_type": "execute_result"
    }
   ],
   "source": [
    "Unr = Unrenovated['price'].mean()\n",
    "Unr"
   ]
  },
  {
   "cell_type": "code",
   "execution_count": 6,
   "id": "bed1e69f",
   "metadata": {},
   "outputs": [
    {
     "name": "stdout",
     "output_type": "stream",
     "text": [
      "916686638.5753247\n"
     ]
    }
   ],
   "source": [
    "print(Ren - Unr)"
   ]
  },
  {
   "cell_type": "markdown",
   "id": "0c3c7a12",
   "metadata": {},
   "source": [
    "<h3> Pelos passos acima podemos perceber que na média as casas reformadas são mais valorizadas que as casas sem reforma.\n",
    "    \n",
    "Sendo assim seria interessante o CEO reformar a casa antes de Vendê-la.\n",
    "</h3>\n",
    "\n",
    "<h3> Seguindo esta lógica, o recomendado seria o CEO comprar uma casa mais barata para reformar e revender.<br>\n",
    "    \n",
    "Primeiramente será analisada a casa que esteja entre as mais antigas e será verificado se esta resulta na casa mais barata, ou em um preço baixo.</h3>\n",
    "\n"
   ]
  },
  {
   "cell_type": "markdown",
   "id": "cff44364",
   "metadata": {},
   "source": [
    "# Buscando a casa mais antiga para comparar com o preço da mais barata"
   ]
  },
  {
   "cell_type": "code",
   "execution_count": 7,
   "id": "e50ef7f7",
   "metadata": {},
   "outputs": [
    {
     "name": "stdout",
     "output_type": "stream",
     "text": [
      "               id        date     price  bedrooms  bathrooms  sqft_living  \\\n",
      "14001  2354300456  2015-03-11  130000.0         2        1.0          600   \n",
      "\n",
      "       sqft_lot  floors  waterfront  view  ...  grade  sqft_above  \\\n",
      "14001      1500     1.0           0     0  ...      4         600   \n",
      "\n",
      "       sqft_basement  yr_built  yr_renovated  zipcode      lat       long  \\\n",
      "14001              0      1900             0    98027  47,5289  -122,0330   \n",
      "\n",
      "      sqft_living15  sqft_lot15  \n",
      "14001          1130        6000  \n",
      "\n",
      "[1 rows x 21 columns]\n"
     ]
    },
    {
     "data": {
      "text/plain": [
       "14001    4\n",
       "Name: condition, dtype: int64"
      ]
     },
     "execution_count": 7,
     "metadata": {},
     "output_type": "execute_result"
    }
   ],
   "source": [
    "Cheaper = Unrenovated[Unrenovated['yr_built'] == Unrenovated['yr_built'].min()]\n",
    "CheapestElderHouse = Cheaper[Cheaper['price'] == Cheaper['price'].min()]\n",
    "print(CheapestElderHouse)\n",
    "CheapestElderHouse['condition']"
   ]
  },
  {
   "cell_type": "code",
   "execution_count": 8,
   "id": "2d4c6357",
   "metadata": {},
   "outputs": [
    {
     "name": "stdout",
     "output_type": "stream",
     "text": [
      "              id        date    price  bedrooms  bathrooms  sqft_living  \\\n",
      "1149  3421079032  2015-02-17  75000.0         1        0.0          670   \n",
      "\n",
      "      sqft_lot  floors  waterfront  view  ...  grade  sqft_above  \\\n",
      "1149     43377     1.0           0     0  ...      3         670   \n",
      "\n",
      "      sqft_basement  yr_built  yr_renovated  zipcode      lat       long  \\\n",
      "1149              0      1966             0    98022  47,2638  -121,9060   \n",
      "\n",
      "     sqft_living15  sqft_lot15  \n",
      "1149          1160       42882  \n",
      "\n",
      "[1 rows x 21 columns]\n"
     ]
    },
    {
     "data": {
      "text/plain": [
       "1149    3\n",
       "Name: condition, dtype: int64"
      ]
     },
     "execution_count": 8,
     "metadata": {},
     "output_type": "execute_result"
    }
   ],
   "source": [
    "CheapestHouse = Unrenovated[Unrenovated['price'] == Unrenovated['price'].min()]\n",
    "print(CheapestHouse)\n",
    "CheapestHouse['condition']"
   ]
  },
  {
   "cell_type": "markdown",
   "id": "f534327e",
   "metadata": {},
   "source": [
    "<h3> Diferente do esperado, nos resultados acima foi encontrada a casa mais antiga não renovada no valor de 130 mil, e também a mais barata encontrada no banco de dados, no valor de 75 mil.\n",
    "    \n",
    "    Analisando os preços pode-se dizer que não existe motivos evidentes para o CEO comprar a casa mais antiga, pois ambas casas tem o espaço de construção parecido (sqft_living) e apesar da casa de 75 mil estar numa condição pior e ter menos banheiros e quartos, isto pode ser solucionado na reforma, valorizando a casa, além de pagar 55 mil a menos. <br>\n",
    "    \n",
    "Apenas faria sentido comprar a casa antiga se fosse para uso imediato, sem pretensões de lucro, pois ela dispõe de uma melhor condição de moradia e recursos que a casa de 75 mil.\n",
    "    \n",
    "<br>\n",
    "Sendo assim seria indicado que o CEO comprasse casas baratas no geral, entre 75 mil e 100mil, não importando muito com seu tempo de construção, uma vez que este não indica uma diminuição nos preços e nem com suas condições e itens como banheiros e quartos, uma vez que estes itens poderiam ser construidos numa reforma desde que o \"sqft_lot\" o possibilite.\n",
    "</h3>"
   ]
  },
  {
   "cell_type": "markdown",
   "id": "74f9c32b",
   "metadata": {},
   "source": [
    "# Entendendo se o ZipCode impacta nos preços das casas"
   ]
  },
  {
   "cell_type": "code",
   "execution_count": 9,
   "id": "7cdfe33e",
   "metadata": {},
   "outputs": [
    {
     "name": "stdout",
     "output_type": "stream",
     "text": [
      "ZipCode com casas mais caras em média 98039 valor médio 14294837700.0\n"
     ]
    }
   ],
   "source": [
    "df = DataFrame.groupby('zipcode').mean()\n",
    "df2 = DataFrame.groupby('zipcode').median()\n",
    "df3 = DataFrame.groupby('zipcode').std()\n",
    "ExpensiveZip = df[df['price'] == df['price'].max()]\n",
    "print('ZipCode com casas mais caras em média', ExpensiveZip.index.values[0], 'valor médio', df['price'].max())"
   ]
  },
  {
   "cell_type": "code",
   "execution_count": 10,
   "id": "6939d7a4",
   "metadata": {},
   "outputs": [
    {
     "name": "stdout",
     "output_type": "stream",
     "text": [
      "ZipCode com as casas de médias mais baratas fica no  [98002] valor médio de: 234284\n",
      "média geral é de: 568290860\n",
      "ZipCode com as casas de menor mediana fica no  [98002 98168] valor médio de: 235000\n",
      "média geral é de: 450000\n",
      "ZipCode com as casas com menor desvio padrão fica no  [98002] valor médio de: 52041\n",
      "média geral é de: 8516008693\n"
     ]
    }
   ],
   "source": [
    "CheapZip = df[df['price'] == df['price'].min()]\n",
    "CheapZipmedian = df2[df2['price'] == df2['price'].min()]\n",
    "CheapZipstd = df3[df3['price'] == df3['price'].min()]\n",
    "generalMean = DataFrame['price'].mean()\n",
    "generalMedian = DataFrame['price'].median()\n",
    "generalstd = DataFrame['price'].std()\n",
    "print('ZipCode com as casas de médias mais baratas fica no ',CheapZip.index.values,\n",
    "      'valor médio de: %i' %(df['price'].min()))\n",
    "print('média geral é de: %i' %(generalMean))\n",
    "print('ZipCode com as casas de menor mediana fica no ',CheapZipmedian.index.values,\n",
    "      'valor médio de: %i' %(df2['price'].min()))\n",
    "print('média geral é de: %i' %(generalMedian))\n",
    "print('ZipCode com as casas com menor desvio padrão fica no ',CheapZipstd.index.values,\n",
    "      'valor médio de: %i' %(df3['price'].min()))\n",
    "print('média geral é de: %i' %(generalstd))"
   ]
  },
  {
   "cell_type": "markdown",
   "id": "fc1bdc0a",
   "metadata": {},
   "source": [
    "<h3> Outra variável que pode impactar o preço da casa é a localização, podemos análisar isso através da coluna \"zipcode\", e como visto anteriormente nos resultados seria interessante evitar o zipcode 98002, já que as medidas estatísticas apontam para um baixo valor das casas além de uma taxa de preço com pequenas variações, ou seja, muito provavelmente a localização tem grande impacto no valor da casa.<br>\n",
    "\n",
    "<br>\n",
    "Sabendo o valor médio das casas em King County, é possível afirmar que a reforma é uma boa estratégia, uma vez que o valor médio das casas reformadas, que é de 1.446.211.405, é maior que o valor médio das casas em geral e das casas não reformadas, como visto anteriormente.\n",
    "</h3>"
   ]
  },
  {
   "cell_type": "code",
   "execution_count": 11,
   "id": "8be60abf",
   "metadata": {
    "scrolled": false
   },
   "outputs": [
    {
     "data": {
      "text/html": [
       "<div>\n",
       "<style scoped>\n",
       "    .dataframe tbody tr th:only-of-type {\n",
       "        vertical-align: middle;\n",
       "    }\n",
       "\n",
       "    .dataframe tbody tr th {\n",
       "        vertical-align: top;\n",
       "    }\n",
       "\n",
       "    .dataframe thead th {\n",
       "        text-align: right;\n",
       "    }\n",
       "</style>\n",
       "<table border=\"1\" class=\"dataframe\">\n",
       "  <thead>\n",
       "    <tr style=\"text-align: right;\">\n",
       "      <th></th>\n",
       "      <th>percentage</th>\n",
       "    </tr>\n",
       "  </thead>\n",
       "  <tbody>\n",
       "    <tr>\n",
       "      <th>311</th>\n",
       "      <td>0.000084</td>\n",
       "    </tr>\n",
       "    <tr>\n",
       "      <th>185</th>\n",
       "      <td>0.000246</td>\n",
       "    </tr>\n",
       "    <tr>\n",
       "      <th>235</th>\n",
       "      <td>0.000406</td>\n",
       "    </tr>\n",
       "    <tr>\n",
       "      <th>4</th>\n",
       "      <td>0.000416</td>\n",
       "    </tr>\n",
       "    <tr>\n",
       "      <th>69</th>\n",
       "      <td>0.000785</td>\n",
       "    </tr>\n",
       "    <tr>\n",
       "      <th>...</th>\n",
       "      <td>...</td>\n",
       "    </tr>\n",
       "    <tr>\n",
       "      <th>217</th>\n",
       "      <td>2404.460813</td>\n",
       "    </tr>\n",
       "    <tr>\n",
       "      <th>103</th>\n",
       "      <td>3751.724138</td>\n",
       "    </tr>\n",
       "    <tr>\n",
       "      <th>215</th>\n",
       "      <td>5375.000000</td>\n",
       "    </tr>\n",
       "    <tr>\n",
       "      <th>299</th>\n",
       "      <td>11495.327103</td>\n",
       "    </tr>\n",
       "    <tr>\n",
       "      <th>91</th>\n",
       "      <td>718875.816993</td>\n",
       "    </tr>\n",
       "  </tbody>\n",
       "</table>\n",
       "<p>177 rows × 1 columns</p>\n",
       "</div>"
      ],
      "text/plain": [
       "        percentage\n",
       "311       0.000084\n",
       "185       0.000246\n",
       "235       0.000406\n",
       "4         0.000416\n",
       "69        0.000785\n",
       "..             ...\n",
       "217    2404.460813\n",
       "103    3751.724138\n",
       "215    5375.000000\n",
       "299   11495.327103\n",
       "91   718875.816993\n",
       "\n",
       "[177 rows x 1 columns]"
      ]
     },
     "execution_count": 11,
     "metadata": {},
     "output_type": "execute_result"
    }
   ],
   "source": [
    "table = DataFrame.iloc[0:0]\n",
    "\n",
    "count = 0\n",
    "valor = DataFrame['id'].duplicated(keep=False)#vetor 'valor' com valores de true ou false para ids duplicados no BD\n",
    "\n",
    "#LOCALIZANDO IDS IGUAIS, OU SEJA VALORES DIFERENTES DA MESMA CASA\n",
    "\n",
    "for i in valor:#pegando os dados do BD que tem ids duplicados por meio do vetor 'valor'\n",
    "    if i == True:\n",
    "        table = table.append(DataFrame.loc[count,:])\n",
    "        \n",
    "    count+=1\n",
    "        \n",
    "table = table.sort_values(by=['id'])\n",
    "vetorizing = table['id'].to_numpy()\n",
    "vetorizing = vetorizing.tolist()\n",
    "meanProfit = vetorizing\n",
    "\n",
    "#CALCULANDO A VALORIZAÇÃO/DESVALORIZAÇÃO PELO TEMPO ENTRE OS IDS IGUAIS E SALVANDO OS VALORES EM meanProfit\n",
    "\n",
    "for i in range(0,len(vetorizing),1):\n",
    "    if(i+1 < len(vetorizing)):\n",
    "        if(vetorizing[i] == vetorizing[i+1]):\n",
    "            locActual = DataFrame.loc[i,:]\n",
    "            locProx = DataFrame.loc[i+1,:]\n",
    "            if locActual['date'] > locProx['date']:\n",
    "                meanProfit[i] =  (locActual['price']/locProx['price'])\n",
    "            else:\n",
    "                meanProfit[i] = (locProx['price']/locActual['price'])\n",
    "        else:\n",
    "            meanProfit[i] = 0\n",
    "    else:\n",
    "        meanProfit[i] = 0\n",
    "        \n",
    "#montando DataFrame com a valorização ou desvalorização dos imóveis\n",
    "df_meanProfit = pd.DataFrame(meanProfit, columns = ['percentage'])    \n",
    "df_meanProfit = df_meanProfit[df_meanProfit['percentage'] != 0]\n",
    "#Passando de lista para DataFrame e retirando valores zerados\n",
    "\n",
    "df_meanProfit.sort_values(by=['percentage'])"
   ]
  },
  {
   "cell_type": "markdown",
   "id": "95804877",
   "metadata": {},
   "source": [
    "<h3> É possível perceber que existem algumas porcentagens atuando como outliers para cima, como um aumento de 718875.81%, quanto para baixo, como um \"aumento\" de 0.000084%, ou seja, uma diminuição. Sendo assim será removido tanto os 5 maiores quanto os 5 menores valores  </h3>"
   ]
  },
  {
   "cell_type": "code",
   "execution_count": 12,
   "id": "2825ba70",
   "metadata": {},
   "outputs": [
    {
     "data": {
      "text/html": [
       "<div>\n",
       "<style scoped>\n",
       "    .dataframe tbody tr th:only-of-type {\n",
       "        vertical-align: middle;\n",
       "    }\n",
       "\n",
       "    .dataframe tbody tr th {\n",
       "        vertical-align: top;\n",
       "    }\n",
       "\n",
       "    .dataframe thead th {\n",
       "        text-align: right;\n",
       "    }\n",
       "</style>\n",
       "<table border=\"1\" class=\"dataframe\">\n",
       "  <thead>\n",
       "    <tr style=\"text-align: right;\">\n",
       "      <th></th>\n",
       "      <th>percentage</th>\n",
       "    </tr>\n",
       "  </thead>\n",
       "  <tbody>\n",
       "    <tr>\n",
       "      <th>313</th>\n",
       "      <td>0.001012</td>\n",
       "    </tr>\n",
       "    <tr>\n",
       "      <th>269</th>\n",
       "      <td>0.002125</td>\n",
       "    </tr>\n",
       "    <tr>\n",
       "      <th>245</th>\n",
       "      <td>0.151250</td>\n",
       "    </tr>\n",
       "    <tr>\n",
       "      <th>191</th>\n",
       "      <td>0.208949</td>\n",
       "    </tr>\n",
       "    <tr>\n",
       "      <th>327</th>\n",
       "      <td>0.251858</td>\n",
       "    </tr>\n",
       "    <tr>\n",
       "      <th>...</th>\n",
       "      <td>...</td>\n",
       "    </tr>\n",
       "    <tr>\n",
       "      <th>183</th>\n",
       "      <td>5.107034</td>\n",
       "    </tr>\n",
       "    <tr>\n",
       "      <th>20</th>\n",
       "      <td>5.194805</td>\n",
       "    </tr>\n",
       "    <tr>\n",
       "      <th>49</th>\n",
       "      <td>5.921053</td>\n",
       "    </tr>\n",
       "    <tr>\n",
       "      <th>153</th>\n",
       "      <td>6.428571</td>\n",
       "    </tr>\n",
       "    <tr>\n",
       "      <th>281</th>\n",
       "      <td>12.058824</td>\n",
       "    </tr>\n",
       "  </tbody>\n",
       "</table>\n",
       "<p>167 rows × 1 columns</p>\n",
       "</div>"
      ],
      "text/plain": [
       "     percentage\n",
       "313    0.001012\n",
       "269    0.002125\n",
       "245    0.151250\n",
       "191    0.208949\n",
       "327    0.251858\n",
       "..          ...\n",
       "183    5.107034\n",
       "20     5.194805\n",
       "49     5.921053\n",
       "153    6.428571\n",
       "281   12.058824\n",
       "\n",
       "[167 rows x 1 columns]"
      ]
     },
     "execution_count": 12,
     "metadata": {},
     "output_type": "execute_result"
    }
   ],
   "source": [
    "for i in range(5):\n",
    "    df_meanProfit = df_meanProfit[df_meanProfit['percentage'] != df_meanProfit['percentage'].max()]\n",
    "    df_meanProfit = df_meanProfit[df_meanProfit['percentage'] != df_meanProfit['percentage'].min()]\n",
    "df_meanProfit.sort_values(by=['percentage'])\n",
    "#Aqui já é possível ver valores mais 'reais', para realização de uma boa análise"
   ]
  },
  {
   "cell_type": "code",
   "execution_count": 13,
   "id": "a1cf17d5",
   "metadata": {},
   "outputs": [
    {
     "data": {
      "text/plain": [
       "percentage    1.251853\n",
       "dtype: float64"
      ]
     },
     "execution_count": 13,
     "metadata": {},
     "output_type": "execute_result"
    }
   ],
   "source": [
    "df_meanProfit.mean()"
   ]
  },
  {
   "cell_type": "code",
   "execution_count": 14,
   "id": "7d5c985c",
   "metadata": {},
   "outputs": [
    {
     "data": {
      "text/plain": [
       "percentage    0.982759\n",
       "dtype: float64"
      ]
     },
     "execution_count": 14,
     "metadata": {},
     "output_type": "execute_result"
    }
   ],
   "source": [
    "df_meanProfit.median()"
   ]
  },
  {
   "cell_type": "code",
   "execution_count": 15,
   "id": "fc9c681c",
   "metadata": {},
   "outputs": [
    {
     "data": {
      "text/html": [
       "<div>\n",
       "<style scoped>\n",
       "    .dataframe tbody tr th:only-of-type {\n",
       "        vertical-align: middle;\n",
       "    }\n",
       "\n",
       "    .dataframe tbody tr th {\n",
       "        vertical-align: top;\n",
       "    }\n",
       "\n",
       "    .dataframe thead th {\n",
       "        text-align: right;\n",
       "    }\n",
       "</style>\n",
       "<table border=\"1\" class=\"dataframe\">\n",
       "  <thead>\n",
       "    <tr style=\"text-align: right;\">\n",
       "      <th></th>\n",
       "      <th>percentage</th>\n",
       "    </tr>\n",
       "  </thead>\n",
       "  <tbody>\n",
       "    <tr>\n",
       "      <th>0</th>\n",
       "      <td>0.575</td>\n",
       "    </tr>\n",
       "    <tr>\n",
       "      <th>1</th>\n",
       "      <td>0.600</td>\n",
       "    </tr>\n",
       "  </tbody>\n",
       "</table>\n",
       "</div>"
      ],
      "text/plain": [
       "   percentage\n",
       "0       0.575\n",
       "1       0.600"
      ]
     },
     "execution_count": 15,
     "metadata": {},
     "output_type": "execute_result"
    }
   ],
   "source": [
    "df_meanProfit.mode()"
   ]
  },
  {
   "cell_type": "code",
   "execution_count": 16,
   "id": "f1ccc155",
   "metadata": {},
   "outputs": [
    {
     "data": {
      "text/plain": [
       "<AxesSubplot:title={'center':'Distribuição de Frequências - Acumulo dos valores dos calculos da valorização com o tempo'}, xlabel='Porcentagem de valorização', ylabel='Count'>"
      ]
     },
     "execution_count": 16,
     "metadata": {},
     "output_type": "execute_result"
    },
    {
     "data": {
      "image/png": "[encoded data removed]",
      "text/plain": [
       "<Figure size 864x432 with 1 Axes>"
      ]
     },
     "metadata": {
      "needs_background": "light"
     },
     "output_type": "display_data"
    }
   ],
   "source": [
    "ax = sns.histplot((df_meanProfit-1)*100, bins = 70, kde = True)\n",
    "\n",
    "ax.figure.set_size_inches(12, 6)\n",
    "ax.set_title('Distribuição de Frequências - Acumulo dos valores dos calculos da valorização com o tempo', fontsize=18)\n",
    "ax.set_xlabel('Porcentagem de valorização', fontsize=14)\n",
    "ax"
   ]
  },
  {
   "cell_type": "markdown",
   "id": "7846a286",
   "metadata": {},
   "source": [
    "<h2> Pode-se inferir pelo resultado da média que as casas tendem a valorizar cerca de 25% com o tempo, porém se analisarmos a mediana, a moda e o gráfico acima, é possível observar que o maioria das casas tendem a desvalorizar com o tempo, uma vez que a mediana é menor que 1, ou seja, existe uma desvalorização na maioria das casas, o que também é possível de se observar no gráfico. Sendo assim, apenas esperar o tempo passar, não garantirá uma venda em um valor maior.\n",
    "<br><br><br>\n",
    "    Abaixo é explorado em qual mês o valor de venda é maior de acordo com os dados.\n",
    "</h2>"
   ]
  },
  {
   "cell_type": "code",
   "execution_count": 17,
   "id": "126738ac",
   "metadata": {
    "scrolled": true
   },
   "outputs": [
    {
     "name": "stdout",
     "output_type": "stream",
     "text": [
      "a média de valor no mês 1 é de: 3.8E+08\n",
      "a média de valor no mês 2 é de: 5.3E+08\n",
      "a média de valor no mês 3 é de: 4.3E+08\n",
      "a média de valor no mês 4 é de: 2.2E+08\n",
      "a média de valor no mês 5 é de: 5.1E+08\n",
      "a média de valor no mês 6 é de: 5.2E+08\n",
      "a média de valor no mês 7 é de: 1.1E+09\n",
      "a média de valor no mês 8 é de: 6.6E+08\n",
      "a média de valor no mês 9 é de: 5.9E+08\n",
      "a média de valor no mês 10 é de: 7.6E+08\n",
      "a média de valor no mês 11 é de: 4.3E+08\n",
      "a média de valor no mês 12 é de: 6.0E+08\n"
     ]
    }
   ],
   "source": [
    "DataFrame['date'] = pd.to_datetime(DataFrame['date'])\n",
    "for i in range(12):\n",
    "    meanMonth = DataFrame[DataFrame['date'].dt.month == i+1]\n",
    "    print('a média de valor no mês', i+1, 'é de:', format(meanMonth['price'].mean(),'.1E'))"
   ]
  },
  {
   "cell_type": "code",
   "execution_count": 18,
   "id": "796026a9",
   "metadata": {},
   "outputs": [
    {
     "data": {
      "text/plain": [
       "<AxesSubplot:title={'center':'Média dos preços das casas de acordo com o mês'}, xlabel='Mês', ylabel='Preço em Bilhões'>"
      ]
     },
     "execution_count": 18,
     "metadata": {},
     "output_type": "execute_result"
    },
    {
     "data": {
      "image/png": "[encoded data removed]",
      "text/plain": [
       "<Figure size 864x432 with 1 Axes>"
      ]
     },
     "metadata": {
      "needs_background": "light"
     },
     "output_type": "display_data"
    }
   ],
   "source": [
    "data_month = DataFrame\n",
    "data_month['month'] = data_month['date'].dt.month\n",
    "\n",
    "\n",
    "ax = sns.barplot(x = [i for i in range(1,13)], y =data_month.groupby('month').price.mean())\n",
    "\n",
    "ax.figure.set_size_inches(12, 6)\n",
    "ax.set_title('Média dos preços das casas de acordo com o mês', fontsize=18)\n",
    "ax.set_xlabel('Mês', fontsize=14)\n",
    "ax.set_ylabel('Preço em Bilhões', fontsize=14)\n",
    "ax"
   ]
  },
  {
   "cell_type": "markdown",
   "id": "64fd625d",
   "metadata": {},
   "source": [
    "<h2> Vimos que o valor de vendas começa a aumentar em maio(5) atinge o auge em julho(7) e\n",
    "em seguida os valores diminuem alcançando uma baixa em novembro(11), se igualando com vendas do primeiro semestre exceto abril(4).<br><br><br> Abaixo a análise a ser feita vai além dos meses mas também em qual ano foram feitas essas vendas.</h2>"
   ]
  },
  {
   "cell_type": "code",
   "execution_count": 19,
   "id": "75d20dff",
   "metadata": {},
   "outputs": [
    {
     "name": "stdout",
     "output_type": "stream",
     "text": [
      "a média de valor no mês 1 no ano de 2014 é de: NAN\n",
      "a média de valor no mês 2 no ano de 2014 é de: NAN\n",
      "a média de valor no mês 3 no ano de 2014 é de: NAN\n",
      "a média de valor no mês 4 no ano de 2014 é de: NAN\n",
      "a média de valor no mês 5 no ano de 2014 é de: 3.1E+08\n",
      "a média de valor no mês 6 no ano de 2014 é de: 5.2E+08\n",
      "a média de valor no mês 7 no ano de 2014 é de: 1.1E+09\n",
      "a média de valor no mês 8 no ano de 2014 é de: 6.6E+08\n",
      "a média de valor no mês 9 no ano de 2014 é de: 5.9E+08\n",
      "a média de valor no mês 10 no ano de 2014 é de: 7.6E+08\n",
      "a média de valor no mês 11 no ano de 2014 é de: 4.3E+08\n",
      "a média de valor no mês 12 no ano de 2014 é de: 6.0E+08\n",
      "a média de valor no mês 1 no ano de 2015 é de: 3.8E+08\n",
      "a média de valor no mês 2 no ano de 2015 é de: 5.3E+08\n",
      "a média de valor no mês 3 no ano de 2015 é de: 4.3E+08\n",
      "a média de valor no mês 4 no ano de 2015 é de: 2.2E+08\n",
      "a média de valor no mês 5 no ano de 2015 é de: 1.0E+09\n",
      "a média de valor no mês 6 no ano de 2015 é de: NAN\n",
      "a média de valor no mês 7 no ano de 2015 é de: NAN\n",
      "a média de valor no mês 8 no ano de 2015 é de: NAN\n",
      "a média de valor no mês 9 no ano de 2015 é de: NAN\n",
      "a média de valor no mês 10 no ano de 2015 é de: NAN\n",
      "a média de valor no mês 11 no ano de 2015 é de: NAN\n",
      "a média de valor no mês 12 no ano de 2015 é de: NAN\n"
     ]
    }
   ],
   "source": [
    "for j in range(2014, 2016, 1):\n",
    "    for i in range(12):\n",
    "        meanMonth = DataFrame[DataFrame['date'].dt.month == i+1]\n",
    "        meanMonthPerYear = meanMonth[meanMonth['date'].dt.year == j]\n",
    "        print('a média de valor no mês', i+1, 'no ano de', j,'é de:', format(meanMonthPerYear['price'].mean(),'.1E'))"
   ]
  },
  {
   "cell_type": "code",
   "execution_count": 20,
   "id": "9dfcd41d",
   "metadata": {},
   "outputs": [
    {
     "data": {
      "text/plain": [
       "Index(['2015/4', '2014/7', '2014/6', '2014/8', '2014/10', '2015/3', '2014/9',\n",
       "       '2014/5', '2014/12', '2014/11', '2015/2', '2015/1', '2015/5'],\n",
       "      dtype='object')"
      ]
     },
     "execution_count": 20,
     "metadata": {},
     "output_type": "execute_result"
    }
   ],
   "source": [
    "data_month = DataFrame\n",
    "data_month['year-month'] = (data_month['date'].dt.year).astype(str) + '/' + (data_month['date'].dt.month).astype(str)\n",
    "\n",
    "label = data_month['year-month'].value_counts().index\n",
    "\n",
    "\n",
    "label \n"
   ]
  },
  {
   "cell_type": "code",
   "execution_count": 21,
   "id": "6f2fa079",
   "metadata": {},
   "outputs": [
    {
     "data": {
      "text/plain": [
       "Index(['2014/10', '2014/11', '2014/12', '2014/5', '2014/6', '2014/7', '2014/8',\n",
       "       '2014/9', '2015/1', '2015/2', '2015/3', '2015/4', '2015/5'],\n",
       "      dtype='object', name='year-month')"
      ]
     },
     "execution_count": 21,
     "metadata": {},
     "output_type": "execute_result"
    }
   ],
   "source": [
    "label = ['2015/04', '2014/07', '2014/06', '2014/08', '2014/10', '2015/03', '2014/09',\n",
    "       '2014/05', '2014/12', '2014/11', '2015/02', '2015/01', '2015/05']\n",
    "label = sorted(label)\n",
    "values = data_month.groupby('year-month').price.mean()\n",
    "\n",
    "values.index"
   ]
  },
  {
   "cell_type": "code",
   "execution_count": 22,
   "id": "7785055e",
   "metadata": {},
   "outputs": [
    {
     "data": {
      "text/plain": [
       "<AxesSubplot:title={'center':'Média dos preços das casas de acordo com o mês e ano'}, xlabel='Ano / Mês', ylabel='Preço em Bilhões'>"
      ]
     },
     "execution_count": 22,
     "metadata": {},
     "output_type": "execute_result"
    },
    {
     "data": {
      "image/png": "[encoded data removed]",
      "text/plain": [
       "<Figure size 864x432 with 1 Axes>"
      ]
     },
     "metadata": {
      "needs_background": "light"
     },
     "output_type": "display_data"
    }
   ],
   "source": [
    "values.index = ['2014/10', '2014/11', '2014/12', '2014/05', '2014/06', '2014/07', '2014/08',\n",
    "       '2014/09', '2015/01', '2015/02', '2015/03', '2015/04', '2015/05']\n",
    "\n",
    "ax = sns.barplot(x = label , y = values.sort_index())\n",
    "ax.figure.set_size_inches(12, 6)\n",
    "ax.set_title('Média dos preços das casas de acordo com o mês e ano', fontsize=18)\n",
    "ax.set_xlabel('Ano / Mês', fontsize=14)\n",
    "ax.set_ylabel('Preço em Bilhões', fontsize=14)\n",
    "ax"
   ]
  },
  {
   "cell_type": "markdown",
   "id": "915cea7e",
   "metadata": {},
   "source": [
    "<h2> Nesta análise vê-se que os dados confirmam a ideia de que as vendas a partir de julho tendem a ser maiores e também é possível inferir uma valorização nas casas de 2014 para 2015, desta forma uma estratégia de negócio seria esperar a valorização do imóvel de um ano para o outro, se esta for uma opção viável.<br><br><br> A análise abaixo busca compreender o impacto do número de banheiros no valor da casa.</h2>"
   ]
  },
  {
   "cell_type": "code",
   "execution_count": 23,
   "id": "0108934c",
   "metadata": {
    "scrolled": false
   },
   "outputs": [
    {
     "name": "stdout",
     "output_type": "stream",
     "text": [
      "a média de valor para 0 banheiros é de: 1.3E+10\n",
      "a média de valor para 7.5 banheiros é de: 4.5E+05\n",
      "a média de valor para 7.75 banheiros é de: 6.9E+09\n",
      "a média de valor para 8 banheiros é de: 5.0E+06\n",
      "a média de valor para 1.0 banheiros é de: 2.7E+07\n",
      "a média de valor para 1.25 banheiros é de: 2.9E+08\n",
      "a média de valor para 1.5 banheiros é de: 8.2E+06\n",
      "a média de valor para 1.75 banheiros é de: 6.2E+07\n",
      "a média de valor para 2.0 banheiros é de: 2.4E+07\n",
      "a média de valor para 2.25 banheiros é de: 2.8E+08\n",
      "a média de valor para 2.5 banheiros é de: 2.9E+08\n",
      "a média de valor para 2.75 banheiros é de: 8.6E+08\n",
      "a média de valor para 3.0 banheiros é de: 6.6E+08\n",
      "a média de valor para 3.25 banheiros é de: 3.5E+09\n",
      "a média de valor para 3.5 banheiros é de: 2.9E+09\n",
      "a média de valor para 3.75 banheiros é de: 3.8E+09\n",
      "a média de valor para 4.0 banheiros é de: 6.9E+09\n",
      "a média de valor para 4.25 banheiros é de: 7.3E+09\n",
      "a média de valor para 4.5 banheiros é de: 9.0E+09\n",
      "a média de valor para 4.75 banheiros é de: 2.2E+10\n",
      "a média de valor para 5.0 banheiros é de: 6.9E+09\n",
      "a média de valor para 5.25 banheiros é de: 4.7E+09\n",
      "a média de valor para 5.5 banheiros é de: 5.5E+08\n",
      "a média de valor para 5.75 banheiros é de: 2.5E+06\n",
      "a média de valor para 6.0 banheiros é de: 1.6E+09\n",
      "a média de valor para 6.25 banheiros é de: 1.4E+09\n",
      "a média de valor para 6.5 banheiros é de: 1.1E+11\n",
      "a média de valor para 6.75 banheiros é de: 2.3E+09\n",
      "a média de valor para 7.0 banheiros é de: NAN\n",
      "a média de valor para 7.25 banheiros é de: NAN\n"
     ]
    }
   ],
   "source": [
    "bathrooms = DataFrame['bathrooms'].value_counts().sort_index()\n",
    "save = bathrooms.tolist()\n",
    "#print(bathrooms)\n",
    "for i in range(len(bathrooms)):\n",
    "    if i>3:\n",
    "        meanVal = DataFrame[DataFrame['bathrooms'] == (i/4)]\n",
    "        print('a média de valor para', i*0.25, 'banheiros é de:', format(meanVal['price'].mean(),'.1E'))\n",
    "        save[i-3] = (meanVal['price'].mean())\n",
    "    else:\n",
    "        if i == 0:\n",
    "            meanVal = DataFrame[DataFrame['bathrooms'] == i]\n",
    "            print('a média de valor para', i, 'banheiros é de:', format(meanVal['price'].mean(),'.1E'))\n",
    "            save[i] = (meanVal['price'].mean())\n",
    "            \n",
    "        elif i==1:\n",
    "            meanVal = DataFrame[DataFrame['bathrooms'] == 7.5]\n",
    "            print('a média de valor para', 7.5, 'banheiros é de:', format(meanVal['price'].mean(),'.1E'))\n",
    "            save[27] = (meanVal['price'].mean())\n",
    "            \n",
    "        elif i==2:\n",
    "            meanVal = DataFrame[DataFrame['bathrooms'] == 7.75]\n",
    "            print('a média de valor para', 7.75, 'banheiros é de:', format(meanVal['price'].mean(),'.1E'))\n",
    "            save[28] = (meanVal['price'].mean())\n",
    "\n",
    "        elif i==3:\n",
    "            meanVal = DataFrame[DataFrame['bathrooms'] == 8]\n",
    "            print('a média de valor para', 8, 'banheiros é de:', format(meanVal['price'].mean(),'.1E'))\n",
    "            save[29] = (meanVal['price'].mean())\n"
   ]
  },
  {
   "cell_type": "code",
   "execution_count": 24,
   "id": "cc0ee886",
   "metadata": {},
   "outputs": [
    {
     "data": {
      "text/plain": [
       "37012954.615439855"
      ]
     },
     "execution_count": 24,
     "metadata": {},
     "output_type": "execute_result"
    }
   ],
   "source": [
    "classes = [0, 0.99, 1.99, 2.99, 3.99, 4.99, 5.99, 6.99, 100]\n",
    "labels = [0, 1, 2, 3, 4, 5, 6, '7+']\n",
    "df_bathrooms = DataFrame\n",
    "df_bathrooms['frequencia'] =  pd.cut(x = df_bathrooms.bathrooms,\n",
    "         bins = classes,\n",
    "         labels = labels,\n",
    "         include_lowest = True)\n",
    "df_bathrooms[df_bathrooms['frequencia'] == 1].price.mean()"
   ]
  },
  {
   "cell_type": "code",
   "execution_count": 25,
   "id": "eef594f5",
   "metadata": {},
   "outputs": [
    {
     "data": {
      "text/plain": [
       "Text(0, 0.5, 'Preço em 10 Bilhões')"
      ]
     },
     "execution_count": 25,
     "metadata": {},
     "output_type": "execute_result"
    },
    {
     "data": {
      "image/png": "[encoded data removed]",
      "text/plain": [
       "<Figure size 864x432 with 1 Axes>"
      ]
     },
     "metadata": {
      "needs_background": "light"
     },
     "output_type": "display_data"
    }
   ],
   "source": [
    "ax = sns.barplot(x = labels, y = df_bathrooms.groupby('frequencia').price.mean())\n",
    "\n",
    "ax.figure.set_size_inches(12, 6)\n",
    "ax.set_title('Média dos preços das casas de acordo com o número de banheiros', fontsize=18)\n",
    "ax.set_xlabel('Número de banheiros', fontsize=14)\n",
    "ax.set_ylabel('Preço em 10 Bilhões', fontsize=14)"
   ]
  },
  {
   "cell_type": "code",
   "execution_count": 26,
   "id": "ececf0bb",
   "metadata": {},
   "outputs": [
    {
     "data": {
      "text/plain": [
       "Text(0, 0.5, 'Preço em 100 Milhões')"
      ]
     },
     "execution_count": 26,
     "metadata": {},
     "output_type": "execute_result"
    },
    {
     "data": {
      "image/png": "[encoded data removed]",
      "text/plain": [
       "<Figure size 864x432 with 1 Axes>"
      ]
     },
     "metadata": {
      "needs_background": "light"
     },
     "output_type": "display_data"
    }
   ],
   "source": [
    "ax = sns.barplot(x = labels, y = df_bathrooms.groupby('frequencia').price.median())\n",
    "\n",
    "ax.figure.set_size_inches(12, 6)\n",
    "ax.set_title('Mediana dos preços das casas de acordo com o número de banheiros', fontsize=18)\n",
    "ax.set_xlabel('Número de banheiros', fontsize=14)\n",
    "ax.set_ylabel('Preço em 100 Milhões', fontsize=14)"
   ]
  },
  {
   "cell_type": "code",
   "execution_count": 27,
   "id": "e865e222",
   "metadata": {},
   "outputs": [
    {
     "data": {
      "text/plain": [
       "Text(0, 0.5, 'Preço em 10 Bilhões')"
      ]
     },
     "execution_count": 27,
     "metadata": {},
     "output_type": "execute_result"
    },
    {
     "data": {
      "image/png": "[encoded data removed]",
      "text/plain": [
       "<Figure size 864x432 with 1 Axes>"
      ]
     },
     "metadata": {
      "needs_background": "light"
     },
     "output_type": "display_data"
    }
   ],
   "source": [
    "ax = sns.barplot(x = labels, y = df_bathrooms.groupby('frequencia').price.std())\n",
    "\n",
    "ax.figure.set_size_inches(12, 6)\n",
    "ax.set_title('Desvio padrão dos preços das casas de acordo com o número de banheiros', fontsize=18)\n",
    "ax.set_xlabel('Número de banheiros', fontsize=14)\n",
    "ax.set_ylabel('Preço em 10 Bilhões', fontsize=14)"
   ]
  },
  {
   "cell_type": "markdown",
   "id": "429e207f",
   "metadata": {},
   "source": [
    "<h2> Pode-se observar que o número de banheiros provavelmente não é a variável que mais afeta o preço das casas, porém é interessante analisar que as casas da classe 6 banheiros tem uma valorização alta.</h2>"
   ]
  },
  {
   "cell_type": "markdown",
   "id": "9ed36d19",
   "metadata": {},
   "source": [
    "<h2> As análises abaixo serão feitas de mesma forma, mas levará em conta o número de quartos, andares, fontes de água frontal e view(que eu assumi como vista para pontos turísticos ou então paisagens).</h2>"
   ]
  },
  {
   "cell_type": "code",
   "execution_count": 28,
   "id": "43406ba9",
   "metadata": {},
   "outputs": [
    {
     "name": "stdout",
     "output_type": "stream",
     "text": [
      "a média de valor para 0 quarto(s) é de: 1.0E+10\n",
      "a média de valor para 1 quarto(s) é de: 6.6E+06\n",
      "a média de valor para 2 quarto(s) é de: 1.1E+08\n",
      "a média de valor para 3 quarto(s) é de: 1.3E+08\n",
      "a média de valor para 4 quarto(s) é de: 7.7E+08\n",
      "a média de valor para 5 quarto(s) é de: 3.1E+09\n",
      "a média de valor para 6 quarto(s) é de: 6.9E+08\n",
      "a média de valor para 7 quarto(s) é de: 1.1E+08\n",
      "a média de valor para 8 quarto(s) é de: 1.1E+06\n",
      "a média de valor para 9 quarto(s) é de: 8.9E+05\n",
      "a média de valor para 10 quarto(s) é de: 3.8E+08\n",
      "a média de valor para 11 quarto(s) é de: 5.2E+05\n",
      "a média de valor para 33 quartos é de: 6.4E+05\n"
     ]
    }
   ],
   "source": [
    "bedrooms = DataFrame['bedrooms'].value_counts().sort_index()\n",
    "save = bedrooms.tolist()\n",
    "#print(bedrooms)\n",
    "for i in range(len(bedrooms)):\n",
    "    if i == 12:\n",
    "        meanVal = DataFrame[DataFrame['bedrooms'] == 33]\n",
    "        print('a média de valor para', 33, 'quartos é de:', format(meanVal['price'].mean(),'.1E'))\n",
    "        save[i] = (meanVal['price'].mean())\n",
    "    else:    \n",
    "        meanVal = DataFrame[DataFrame['bedrooms'] == i]\n",
    "        print('a média de valor para', i, 'quarto(s) é de:', format(meanVal['price'].mean(),'.1E'))\n",
    "        save[i] = (meanVal['price'].mean())\n",
    "\n",
    "        \n",
    "    \n",
    "    "
   ]
  },
  {
   "cell_type": "code",
   "execution_count": 29,
   "id": "35639944",
   "metadata": {},
   "outputs": [
    {
     "data": {
      "text/plain": [
       "6577708.211055276"
      ]
     },
     "execution_count": 29,
     "metadata": {},
     "output_type": "execute_result"
    }
   ],
   "source": [
    "classes = [0, 0.99, 1.99, 2.99, 3.99, 4.99, 5.99, 6.99, 100]\n",
    "labels = [0, 1, 2, 3, 4, 5, 6, '7+']\n",
    "df_bedrooms = DataFrame\n",
    "df_bedrooms['frequencia'] =  pd.cut(x = df_bedrooms.bedrooms,\n",
    "         bins = classes,\n",
    "         labels = labels,\n",
    "         include_lowest = True)\n",
    "df_bathrooms[df_bathrooms['frequencia'] == 1].price.mean()"
   ]
  },
  {
   "cell_type": "code",
   "execution_count": 30,
   "id": "b09cf25b",
   "metadata": {},
   "outputs": [
    {
     "data": {
      "text/plain": [
       "Text(0, 0.5, 'Preço em 10 Bilhões')"
      ]
     },
     "execution_count": 30,
     "metadata": {},
     "output_type": "execute_result"
    },
    {
     "data": {
      "image/png": "[encoded data removed]",
      "text/plain": [
       "<Figure size 864x432 with 1 Axes>"
      ]
     },
     "metadata": {
      "needs_background": "light"
     },
     "output_type": "display_data"
    }
   ],
   "source": [
    "ax = sns.barplot(x = labels, y = df_bedrooms.groupby('frequencia').price.mean())\n",
    "\n",
    "ax.figure.set_size_inches(12, 6)\n",
    "ax.set_title('Média dos preços das casas de acordo com o número de quartos', fontsize=18)\n",
    "ax.set_xlabel('Número de quartos', fontsize=14)\n",
    "ax.set_ylabel('Preço em 10 Bilhões', fontsize=14)"
   ]
  },
  {
   "cell_type": "code",
   "execution_count": 31,
   "id": "0e467168",
   "metadata": {},
   "outputs": [
    {
     "data": {
      "text/plain": [
       "Text(0, 0.5, 'Preço')"
      ]
     },
     "execution_count": 31,
     "metadata": {},
     "output_type": "execute_result"
    },
    {
     "data": {
      "image/png": "[encoded data removed]",
      "text/plain": [
       "<Figure size 864x432 with 1 Axes>"
      ]
     },
     "metadata": {
      "needs_background": "light"
     },
     "output_type": "display_data"
    }
   ],
   "source": [
    "ax = sns.barplot(x = labels, y = df_bedrooms.groupby('frequencia').price.median())\n",
    "\n",
    "ax.figure.set_size_inches(12, 6)\n",
    "ax.set_title('Mediana dos preços das casas de acordo com o número de quartos', fontsize=18)\n",
    "ax.set_xlabel('Número de quartos', fontsize=14)\n",
    "ax.set_ylabel('Preço', fontsize=14)"
   ]
  },
  {
   "cell_type": "code",
   "execution_count": 32,
   "id": "4600be4d",
   "metadata": {},
   "outputs": [
    {
     "data": {
      "text/plain": [
       "Text(0, 0.5, 'Preço em 10 Bilhões')"
      ]
     },
     "execution_count": 32,
     "metadata": {},
     "output_type": "execute_result"
    },
    {
     "data": {
      "image/png": "[encoded data removed]",
      "text/plain": [
       "<Figure size 864x432 with 1 Axes>"
      ]
     },
     "metadata": {
      "needs_background": "light"
     },
     "output_type": "display_data"
    }
   ],
   "source": [
    "ax = sns.barplot(x = labels, y = df_bedrooms.groupby('frequencia').price.std())\n",
    "\n",
    "ax.figure.set_size_inches(12, 6)\n",
    "ax.set_title('Desvio padrão dos preços das casas de acordo com o número de quartos', fontsize=18)\n",
    "ax.set_xlabel('Número de quartos', fontsize=14)\n",
    "ax.set_ylabel('Preço em 10 Bilhões', fontsize=14)"
   ]
  },
  {
   "cell_type": "markdown",
   "id": "d9967b79",
   "metadata": {},
   "source": [
    "<h2> Pela média é possível concluir que ter quartos é uma decisão ruim, o que me faz pensar que estes dados não são apenas de casas e sim de qualquer construção, incluindo edifícios para negócios. Entretanto, observando a mediana e desvio padrão podemos perceber que o aumento de quartos tende a aumentar a mediana e o desvio padrão em comparação com a média, sendo assim podemos concluir que o número de quartos influência o valor de uma casa, não de um edifício de negócio onde não existe a necessidade de um quarto. Sendo assim percebo que para analisar melhor a base de dados seria necessário separar as casas das demais construções.</h2>"
   ]
  },
  {
   "cell_type": "code",
   "execution_count": 33,
   "id": "5c2389e2",
   "metadata": {},
   "outputs": [
    {
     "name": "stdout",
     "output_type": "stream",
     "text": [
      "a média de valor para 1.0 andar(es) é de: 1.7E+08\n",
      "a média de valor para 1.5 andar(es) é de: 3.6E+08\n",
      "a média de valor para 2.0 andar(es) é de: 1.1E+09\n",
      "a média de valor para 2.5 andar(es) é de: 1.3E+09\n",
      "a média de valor para 3.0 andar(es) é de: 5.5E+08\n",
      "a média de valor para 3.5 andar(es) é de: 1.4E+08\n"
     ]
    }
   ],
   "source": [
    "floors = DataFrame['floors'].value_counts().sort_index()\n",
    "save = floors.tolist()\n",
    "#print(floors)\n",
    "for i in range(len(floors)):\n",
    "    meanVal = DataFrame[DataFrame['floors'] == ((i*0.5)+1)]\n",
    "    print('a média de valor para', ((i*0.5)+1), 'andar(es) é de:', format(meanVal['price'].mean(),'.1E'))\n",
    "    save[i] = (meanVal['price'].mean())\n"
   ]
  },
  {
   "cell_type": "code",
   "execution_count": 34,
   "id": "8a948134",
   "metadata": {},
   "outputs": [],
   "source": [
    "classes = [1, 1.99, 2.99, 100]\n",
    "labels = [ 1, 2, '3+']\n",
    "df_floors = DataFrame\n",
    "df_floors['frequencia'] =  pd.cut(x = df_floors.floors,\n",
    "         bins = classes,\n",
    "         labels = labels,\n",
    "         include_lowest = True)"
   ]
  },
  {
   "cell_type": "code",
   "execution_count": 35,
   "id": "6055b77b",
   "metadata": {},
   "outputs": [
    {
     "data": {
      "text/plain": [
       "Text(0, 0.5, 'Preço em Bilhões')"
      ]
     },
     "execution_count": 35,
     "metadata": {},
     "output_type": "execute_result"
    },
    {
     "data": {
      "image/png": "[encoded data removed]",
      "text/plain": [
       "<Figure size 864x432 with 1 Axes>"
      ]
     },
     "metadata": {
      "needs_background": "light"
     },
     "output_type": "display_data"
    }
   ],
   "source": [
    "ax = sns.barplot(x = labels, y = df_floors.groupby('frequencia').price.mean())\n",
    "\n",
    "ax.figure.set_size_inches(12, 6)\n",
    "ax.set_title('Média dos preços das casas de acordo com o número de andares', fontsize=18)\n",
    "ax.set_xlabel('Número de andares', fontsize=14)\n",
    "ax.set_ylabel('Preço em Bilhões', fontsize=14)"
   ]
  },
  {
   "cell_type": "code",
   "execution_count": 36,
   "id": "09ba3cab",
   "metadata": {},
   "outputs": [
    {
     "data": {
      "text/plain": [
       "Text(0, 0.5, 'Preço')"
      ]
     },
     "execution_count": 36,
     "metadata": {},
     "output_type": "execute_result"
    },
    {
     "data": {
      "image/png": "[encoded data removed]",
      "text/plain": [
       "<Figure size 864x432 with 1 Axes>"
      ]
     },
     "metadata": {
      "needs_background": "light"
     },
     "output_type": "display_data"
    }
   ],
   "source": [
    "ax = sns.barplot(x = labels, y = df_floors.groupby('frequencia').price.median())\n",
    "\n",
    "ax.figure.set_size_inches(12, 6)\n",
    "ax.set_title('Mediana dos preços das casas de acordo com o número de andares', fontsize=18)\n",
    "ax.set_xlabel('Número de andares', fontsize=14)\n",
    "ax.set_ylabel('Preço', fontsize=14)"
   ]
  },
  {
   "cell_type": "code",
   "execution_count": 37,
   "id": "a88683d8",
   "metadata": {},
   "outputs": [
    {
     "data": {
      "text/plain": [
       "Text(0, 0.5, 'Preço em 10 Bilhões')"
      ]
     },
     "execution_count": 37,
     "metadata": {},
     "output_type": "execute_result"
    },
    {
     "data": {
      "image/png": "[encoded data removed]",
      "text/plain": [
       "<Figure size 864x432 with 1 Axes>"
      ]
     },
     "metadata": {
      "needs_background": "light"
     },
     "output_type": "display_data"
    }
   ],
   "source": [
    "ax = sns.barplot(x = labels, y = df_floors.groupby('frequencia').price.std())\n",
    "\n",
    "ax.figure.set_size_inches(12, 6)\n",
    "ax.set_title('Desvio Padrão dos preços das casas de acordo com o número de andares', fontsize=18)\n",
    "ax.set_xlabel('Número de andares', fontsize=14)\n",
    "ax.set_ylabel('Preço em 10 Bilhões', fontsize=14)"
   ]
  },
  {
   "cell_type": "markdown",
   "id": "b371f75c",
   "metadata": {},
   "source": [
    "<h2> Assim como nos dados sobre banheiros, nos dados de andares vemos que o ideal do imóvel é ter 2 andares, pois este se mantém em alta tanto na média quanto na mediana, porém como seu desvio padrão também é elevado, podemos concluir que não é somente a quantidade de andares que afetará o preço da casa ou edifício.</h2>"
   ]
  },
  {
   "cell_type": "code",
   "execution_count": 38,
   "id": "4c12cede",
   "metadata": {},
   "outputs": [
    {
     "name": "stdout",
     "output_type": "stream",
     "text": [
      "a média de valor para 0 fonte de água frontal é de: 5.5E+08\n",
      "a média de valor para 1 fonte de água frontal é de: 2.6E+09\n"
     ]
    }
   ],
   "source": [
    "waterfront = DataFrame['waterfront'].value_counts().sort_index()\n",
    "save = waterfront.tolist()\n",
    "#print(waterfront)\n",
    "for i in range(len(waterfront)):\n",
    "    meanVal = DataFrame[DataFrame['waterfront'] == i]\n",
    "    print('a média de valor para', i, 'fonte de água frontal é de:', format(meanVal['price'].mean(),'.1E'))\n",
    "    save[i] = (meanVal['price'].mean())"
   ]
  },
  {
   "cell_type": "code",
   "execution_count": 39,
   "id": "11bb4a04",
   "metadata": {},
   "outputs": [
    {
     "data": {
      "text/plain": [
       "Text(0, 0.5, 'Preço em Bilhões')"
      ]
     },
     "execution_count": 39,
     "metadata": {},
     "output_type": "execute_result"
    },
    {
     "data": {
      "image/png": "[encoded data removed]",
      "text/plain": [
       "<Figure size 864x432 with 1 Axes>"
      ]
     },
     "metadata": {
      "needs_background": "light"
     },
     "output_type": "display_data"
    }
   ],
   "source": [
    "ax = sns.barplot(x = [0,1], y = df_floors.groupby('waterfront').price.mean())\n",
    "\n",
    "ax.figure.set_size_inches(12, 6)\n",
    "ax.set_title('Média dos preços das casas de acordo com o número de fontes de água frontal', fontsize=18)\n",
    "ax.set_xlabel('Número de fontes de água frontal', fontsize=14)\n",
    "ax.set_ylabel('Preço em Bilhões', fontsize=14)"
   ]
  },
  {
   "cell_type": "code",
   "execution_count": 40,
   "id": "5014ac25",
   "metadata": {},
   "outputs": [
    {
     "data": {
      "text/plain": [
       "Text(0, 0.5, 'Preço em Milhões')"
      ]
     },
     "execution_count": 40,
     "metadata": {},
     "output_type": "execute_result"
    },
    {
     "data": {
      "image/png": "[encoded data removed]",
      "text/plain": [
       "<Figure size 864x432 with 1 Axes>"
      ]
     },
     "metadata": {
      "needs_background": "light"
     },
     "output_type": "display_data"
    }
   ],
   "source": [
    "ax = sns.barplot(x = [0,1], y = df_floors.groupby('waterfront').price.median())\n",
    "\n",
    "ax.figure.set_size_inches(12, 6)\n",
    "ax.set_title('Média dos preços das casas de acordo com o número de fontes de água frontal', fontsize=18)\n",
    "ax.set_xlabel('Número de fontes de água frontal', fontsize=14)\n",
    "ax.set_ylabel('Preço em Milhões', fontsize=14)"
   ]
  },
  {
   "cell_type": "code",
   "execution_count": 41,
   "id": "a8b4052e",
   "metadata": {},
   "outputs": [
    {
     "data": {
      "text/plain": [
       "Text(0, 0.5, 'Preço em 10 Bilhões')"
      ]
     },
     "execution_count": 41,
     "metadata": {},
     "output_type": "execute_result"
    },
    {
     "data": {
      "image/png": "[encoded data removed]",
      "text/plain": [
       "<Figure size 864x432 with 1 Axes>"
      ]
     },
     "metadata": {
      "needs_background": "light"
     },
     "output_type": "display_data"
    }
   ],
   "source": [
    "ax = sns.barplot(x = [0,1], y = df_floors.groupby('waterfront').price.std())\n",
    "\n",
    "ax.figure.set_size_inches(12, 6)\n",
    "ax.set_title('Média dos preços das casas de acordo com o número de fontes de água frontal', fontsize=18)\n",
    "ax.set_xlabel('Número de fontes de água frontal', fontsize=14)\n",
    "ax.set_ylabel('Preço em 10 Bilhões', fontsize=14)"
   ]
  },
  {
   "cell_type": "markdown",
   "id": "06091312",
   "metadata": {},
   "source": [
    "<h2> Sobre os resultados acima, vemos que com uma mediana na casa dos milhões e com o desvio padrão e média na casa dos bilhões podemos concluir que a fonte pode até influênciar o valor, mas certamente não é um fator principal neste quesito.</h2>"
   ]
  },
  {
   "cell_type": "code",
   "execution_count": 42,
   "id": "f9c0f010",
   "metadata": {},
   "outputs": [
    {
     "name": "stdout",
     "output_type": "stream",
     "text": [
      "a média de valor para 0 vista(s) é de: 3.8E+08\n",
      "a média de valor para 1 vista(s) é de: 1.9E+09\n",
      "a média de valor para 2 vista(s) é de: 1.3E+09\n",
      "a média de valor para 3 vista(s) é de: 2.7E+09\n",
      "a média de valor para 4 vista(s) é de: 4.9E+09\n"
     ]
    }
   ],
   "source": [
    "view = DataFrame['view'].value_counts().sort_index()\n",
    "save = view.tolist()\n",
    "#print(view)\n",
    "for i in range(len(view)):\n",
    "    meanVal = DataFrame[DataFrame['view'] == i]\n",
    "    print('a média de valor para', i, 'vista(s) é de:', format(meanVal['price'].mean(),'.1E'))\n",
    "    save[i] = (meanVal['price'].mean())"
   ]
  },
  {
   "cell_type": "code",
   "execution_count": 43,
   "id": "51845442",
   "metadata": {},
   "outputs": [],
   "source": [
    "classes = [0, 0.99, 1.99, 2.99, 3.99, 100]\n",
    "labels = [ 0, 1, 2, 3, '4+']\n",
    "df_view = DataFrame\n",
    "df_view['frequencia'] =  pd.cut(x = df_view.view,\n",
    "         bins = classes,\n",
    "         labels = labels,\n",
    "         include_lowest = True)"
   ]
  },
  {
   "cell_type": "code",
   "execution_count": 44,
   "id": "05cdda25",
   "metadata": {},
   "outputs": [
    {
     "data": {
      "text/plain": [
       "Text(0, 0.5, 'Preço em Bilhões')"
      ]
     },
     "execution_count": 44,
     "metadata": {},
     "output_type": "execute_result"
    },
    {
     "data": {
      "image/png": "[encoded data removed]",
      "text/plain": [
       "<Figure size 864x432 with 1 Axes>"
      ]
     },
     "metadata": {
      "needs_background": "light"
     },
     "output_type": "display_data"
    }
   ],
   "source": [
    "ax = sns.barplot(x = labels, y = df_view.groupby('frequencia').price.mean())\n",
    "\n",
    "ax.figure.set_size_inches(12, 6)\n",
    "ax.set_title('Média dos preços das casas de acordo com o número de \"vista\"', fontsize=18)\n",
    "ax.set_xlabel('Número de \"vista\"', fontsize=14)\n",
    "ax.set_ylabel('Preço em Bilhões', fontsize=14)"
   ]
  },
  {
   "cell_type": "code",
   "execution_count": 45,
   "id": "1da14b90",
   "metadata": {},
   "outputs": [
    {
     "data": {
      "text/plain": [
       "Text(0, 0.5, 'Preço em Milhões')"
      ]
     },
     "execution_count": 45,
     "metadata": {},
     "output_type": "execute_result"
    },
    {
     "data": {
      "image/png": "[encoded data removed]",
      "text/plain": [
       "<Figure size 864x432 with 1 Axes>"
      ]
     },
     "metadata": {
      "needs_background": "light"
     },
     "output_type": "display_data"
    }
   ],
   "source": [
    "ax = sns.barplot(x = labels, y = df_view.groupby('frequencia').price.median())\n",
    "\n",
    "ax.figure.set_size_inches(12, 6)\n",
    "ax.set_title('Média dos preços das casas de acordo com o número de \"vista\"', fontsize=18)\n",
    "ax.set_xlabel('Número de \"vista\"', fontsize=14)\n",
    "ax.set_ylabel('Preço em Milhões', fontsize=14)"
   ]
  },
  {
   "cell_type": "code",
   "execution_count": 46,
   "id": "5b8b16f6",
   "metadata": {},
   "outputs": [
    {
     "data": {
      "text/plain": [
       "Text(0, 0.5, 'Preço em 10 Bilhões')"
      ]
     },
     "execution_count": 46,
     "metadata": {},
     "output_type": "execute_result"
    },
    {
     "data": {
      "image/png": "[encoded data removed]",
      "text/plain": [
       "<Figure size 864x432 with 1 Axes>"
      ]
     },
     "metadata": {
      "needs_background": "light"
     },
     "output_type": "display_data"
    }
   ],
   "source": [
    "ax = sns.barplot(x = labels, y = df_view.groupby('frequencia').price.std())\n",
    "\n",
    "ax.figure.set_size_inches(12, 6)\n",
    "ax.set_title('Média dos preços das casas de acordo com o número de \"vista\"', fontsize=18)\n",
    "ax.set_xlabel('Número de \"vista\"', fontsize=14)\n",
    "ax.set_ylabel('Preço em 10 Bilhões', fontsize=14)"
   ]
  },
  {
   "cell_type": "markdown",
   "id": "a43ca92d",
   "metadata": {},
   "source": [
    "<h2> Pelos dados acima pode-se dizer que é interessante para a empresa observar quais casas possuem uma(1) vista no mínimo e de preferência 4 vistas. Isso se dá por conta da média e mediana crescente de acordo com o n° de vistas, porém o desvio padrão é muito alto. Sendo assim, a vista afeta o preço, porém não é garantia de uma valorização gigantesca na casa.</h2>\n",
    "\n",
    "\n",
    "<br>\n",
    "<br>\n",
    "<br>\n",
    "\n",
    "<h2>Respondendo as perguntas do início:</h2>"
   ]
  },
  {
   "cell_type": "code",
   "execution_count": 47,
   "id": "0ac84ae6",
   "metadata": {},
   "outputs": [],
   "source": [
    "classes = [0, 2000, 5000, 10000, 12000, 100000]\n",
    "labels = [ '0-2000', '2000-5000', '5000-10000', '10000-12000', '12000+']\n",
    "\n",
    "df_sqf = DataFrame\n",
    "df_sqf['frequencia'] = pd.cut(x = df_sqf.sqft_living,\n",
    "         bins = classes,\n",
    "         labels = labels,\n",
    "         include_lowest = True)"
   ]
  },
  {
   "cell_type": "code",
   "execution_count": 48,
   "id": "333ff060",
   "metadata": {},
   "outputs": [
    {
     "data": {
      "text/plain": [
       "Text(0, 0.5, 'Preço em 10 Bilhões')"
      ]
     },
     "execution_count": 48,
     "metadata": {},
     "output_type": "execute_result"
    },
    {
     "data": {
      "image/png": "[encoded data removed]",
      "text/plain": [
       "<Figure size 864x432 with 1 Axes>"
      ]
     },
     "metadata": {
      "needs_background": "light"
     },
     "output_type": "display_data"
    }
   ],
   "source": [
    "ax = sns.barplot(x = labels, y = df_sqf.groupby('frequencia').price.mean())\n",
    "\n",
    "ax.figure.set_size_inches(12, 6)\n",
    "ax.set_title('Média dos preços das casas de acordo com o número de \"vista\"', fontsize=18)\n",
    "ax.set_xlabel('Número de \"vista\"', fontsize=14)\n",
    "ax.set_ylabel('Preço em 10 Bilhões', fontsize=14)"
   ]
  },
  {
   "cell_type": "code",
   "execution_count": 49,
   "id": "624e0f6d",
   "metadata": {},
   "outputs": [
    {
     "data": {
      "text/plain": [
       "Text(0, 0.5, 'Preço em 10 Bilhões')"
      ]
     },
     "execution_count": 49,
     "metadata": {},
     "output_type": "execute_result"
    },
    {
     "data": {
      "image/png": "[encoded data removed]",
      "text/plain": [
       "<Figure size 864x432 with 1 Axes>"
      ]
     },
     "metadata": {
      "needs_background": "light"
     },
     "output_type": "display_data"
    }
   ],
   "source": [
    "ax = sns.barplot(x = labels, y = df_sqf.groupby('frequencia').price.median())\n",
    "\n",
    "ax.figure.set_size_inches(12, 6)\n",
    "ax.set_title('Média dos preços das casas de acordo com o número de \"vista\"', fontsize=18)\n",
    "ax.set_xlabel('Número de \"vista\"', fontsize=14)\n",
    "ax.set_ylabel('Preço em 10 Bilhões', fontsize=14)"
   ]
  },
  {
   "cell_type": "code",
   "execution_count": 50,
   "id": "4a42077f",
   "metadata": {},
   "outputs": [
    {
     "data": {
      "text/plain": [
       "Text(0, 0.5, 'Preço em 10 Bilhões')"
      ]
     },
     "execution_count": 50,
     "metadata": {},
     "output_type": "execute_result"
    },
    {
     "data": {
      "image/png": "[encoded data removed]",
      "text/plain": [
       "<Figure size 864x432 with 1 Axes>"
      ]
     },
     "metadata": {
      "needs_background": "light"
     },
     "output_type": "display_data"
    }
   ],
   "source": [
    "ax = sns.barplot(x = labels, y = df_sqf.groupby('frequencia').price.std())\n",
    "\n",
    "ax.figure.set_size_inches(12, 6)\n",
    "ax.set_title('Média dos preços das casas de acordo com o número de \"vista\"', fontsize=18)\n",
    "ax.set_xlabel('Número de \"vista\"', fontsize=14)\n",
    "ax.set_ylabel('Preço em 10 Bilhões', fontsize=14)"
   ]
  },
  {
   "cell_type": "markdown",
   "id": "17a9e0b3",
   "metadata": {},
   "source": [
    "<h2> 1. Quais casas o CEO da House Rocket deveria comprar e por qual preço de compra? </h2>\n",
    "\n",
    "<h3>Em resumo as casas que o CEO da House Rocket deveria comprar são:\n",
    "    <ol>\n",
    "        <li>Casas com valores menores que 200 mil</li>\n",
    "        <li>De preferência casas passíveis de serem reformadas, ou seja, que não tenham sido reformadas.</li>\n",
    "        <li>De preferência casas no ZipCode 98039.</li>\n",
    "        <li>Casas de 3 a 5 banheiros, e caso não tenha ao ser comprado é indicada a construção dos mesmos na reforma.</li>\n",
    "        <li>Casas de 2 a 5 quartos, e caso não tenha ao ser comprado é indicada a construção dos mesmos na reforma.</li>\n",
    "        <li>Casas de 2 andares, e caso não tenha ao ser comprado é indicada a construção dos mesmos na reforma.</li>\n",
    "        <li>Casas com 1 fonte de água frontal, e caso não tenha ao ser comprado é indicada a construção da mesma na reforma.</li>\n",
    "        <li>Casas com vista e de preferência com o valor igual a 4.</li>\n",
    "    </ol>\n",
    "</h3>"
   ]
  },
  {
   "cell_type": "code",
   "execution_count": 51,
   "id": "7bccd507",
   "metadata": {},
   "outputs": [
    {
     "data": {
      "text/html": [
       "<div>\n",
       "<style scoped>\n",
       "    .dataframe tbody tr th:only-of-type {\n",
       "        vertical-align: middle;\n",
       "    }\n",
       "\n",
       "    .dataframe tbody tr th {\n",
       "        vertical-align: top;\n",
       "    }\n",
       "\n",
       "    .dataframe thead th {\n",
       "        text-align: right;\n",
       "    }\n",
       "</style>\n",
       "<table border=\"1\" class=\"dataframe\">\n",
       "  <thead>\n",
       "    <tr style=\"text-align: right;\">\n",
       "      <th></th>\n",
       "      <th>id</th>\n",
       "      <th>date</th>\n",
       "      <th>price</th>\n",
       "      <th>bedrooms</th>\n",
       "      <th>bathrooms</th>\n",
       "      <th>sqft_living</th>\n",
       "      <th>sqft_lot</th>\n",
       "      <th>floors</th>\n",
       "      <th>waterfront</th>\n",
       "      <th>view</th>\n",
       "      <th>...</th>\n",
       "      <th>yr_built</th>\n",
       "      <th>yr_renovated</th>\n",
       "      <th>zipcode</th>\n",
       "      <th>lat</th>\n",
       "      <th>long</th>\n",
       "      <th>sqft_living15</th>\n",
       "      <th>sqft_lot15</th>\n",
       "      <th>month</th>\n",
       "      <th>year-month</th>\n",
       "      <th>frequencia</th>\n",
       "    </tr>\n",
       "  </thead>\n",
       "  <tbody>\n",
       "    <tr>\n",
       "      <th>4768</th>\n",
       "      <td>4045500130</td>\n",
       "      <td>2014-09-09</td>\n",
       "      <td>154000.0</td>\n",
       "      <td>2</td>\n",
       "      <td>1.00</td>\n",
       "      <td>1040</td>\n",
       "      <td>20524</td>\n",
       "      <td>1.0</td>\n",
       "      <td>0</td>\n",
       "      <td>3</td>\n",
       "      <td>...</td>\n",
       "      <td>1949</td>\n",
       "      <td>1989</td>\n",
       "      <td>98014</td>\n",
       "      <td>47,6981</td>\n",
       "      <td>-121,8750</td>\n",
       "      <td>1880</td>\n",
       "      <td>38996</td>\n",
       "      <td>9</td>\n",
       "      <td>2014/9</td>\n",
       "      <td>0-2000</td>\n",
       "    </tr>\n",
       "    <tr>\n",
       "      <th>1626</th>\n",
       "      <td>5016003230</td>\n",
       "      <td>2015-02-18</td>\n",
       "      <td>169317.0</td>\n",
       "      <td>2</td>\n",
       "      <td>1.00</td>\n",
       "      <td>790</td>\n",
       "      <td>4000</td>\n",
       "      <td>1.0</td>\n",
       "      <td>0</td>\n",
       "      <td>2</td>\n",
       "      <td>...</td>\n",
       "      <td>1908</td>\n",
       "      <td>0</td>\n",
       "      <td>98112</td>\n",
       "      <td>47,6248</td>\n",
       "      <td>-122,3010</td>\n",
       "      <td>1700</td>\n",
       "      <td>4200</td>\n",
       "      <td>2</td>\n",
       "      <td>2015/2</td>\n",
       "      <td>0-2000</td>\n",
       "    </tr>\n",
       "    <tr>\n",
       "      <th>16842</th>\n",
       "      <td>226109056</td>\n",
       "      <td>2015-03-26</td>\n",
       "      <td>170000.0</td>\n",
       "      <td>1</td>\n",
       "      <td>0.75</td>\n",
       "      <td>850</td>\n",
       "      <td>5600</td>\n",
       "      <td>1.0</td>\n",
       "      <td>0</td>\n",
       "      <td>2</td>\n",
       "      <td>...</td>\n",
       "      <td>1903</td>\n",
       "      <td>1994</td>\n",
       "      <td>98019</td>\n",
       "      <td>47,7654</td>\n",
       "      <td>-121,4800</td>\n",
       "      <td>900</td>\n",
       "      <td>12250</td>\n",
       "      <td>3</td>\n",
       "      <td>2015/3</td>\n",
       "      <td>0-2000</td>\n",
       "    </tr>\n",
       "    <tr>\n",
       "      <th>1849</th>\n",
       "      <td>6052400575</td>\n",
       "      <td>2014-05-14</td>\n",
       "      <td>175000.0</td>\n",
       "      <td>2</td>\n",
       "      <td>1.00</td>\n",
       "      <td>1170</td>\n",
       "      <td>8925</td>\n",
       "      <td>1.0</td>\n",
       "      <td>0</td>\n",
       "      <td>2</td>\n",
       "      <td>...</td>\n",
       "      <td>1911</td>\n",
       "      <td>0</td>\n",
       "      <td>98198</td>\n",
       "      <td>47,4017</td>\n",
       "      <td>-122,3210</td>\n",
       "      <td>1380</td>\n",
       "      <td>7440</td>\n",
       "      <td>5</td>\n",
       "      <td>2014/5</td>\n",
       "      <td>0-2000</td>\n",
       "    </tr>\n",
       "    <tr>\n",
       "      <th>15248</th>\n",
       "      <td>1320069249</td>\n",
       "      <td>2014-10-20</td>\n",
       "      <td>192500.0</td>\n",
       "      <td>1</td>\n",
       "      <td>1.00</td>\n",
       "      <td>470</td>\n",
       "      <td>63737</td>\n",
       "      <td>1.0</td>\n",
       "      <td>0</td>\n",
       "      <td>2</td>\n",
       "      <td>...</td>\n",
       "      <td>1924</td>\n",
       "      <td>0</td>\n",
       "      <td>98022</td>\n",
       "      <td>47,2163</td>\n",
       "      <td>-121,9840</td>\n",
       "      <td>1350</td>\n",
       "      <td>46762</td>\n",
       "      <td>10</td>\n",
       "      <td>2014/10</td>\n",
       "      <td>0-2000</td>\n",
       "    </tr>\n",
       "  </tbody>\n",
       "</table>\n",
       "<p>5 rows × 24 columns</p>\n",
       "</div>"
      ],
      "text/plain": [
       "               id       date     price  bedrooms  bathrooms  sqft_living  \\\n",
       "4768   4045500130 2014-09-09  154000.0         2       1.00         1040   \n",
       "1626   5016003230 2015-02-18  169317.0         2       1.00          790   \n",
       "16842   226109056 2015-03-26  170000.0         1       0.75          850   \n",
       "1849   6052400575 2014-05-14  175000.0         2       1.00         1170   \n",
       "15248  1320069249 2014-10-20  192500.0         1       1.00          470   \n",
       "\n",
       "       sqft_lot  floors  waterfront  view  ...  yr_built  yr_renovated  \\\n",
       "4768      20524     1.0           0     3  ...      1949          1989   \n",
       "1626       4000     1.0           0     2  ...      1908             0   \n",
       "16842      5600     1.0           0     2  ...      1903          1994   \n",
       "1849       8925     1.0           0     2  ...      1911             0   \n",
       "15248     63737     1.0           0     2  ...      1924             0   \n",
       "\n",
       "       zipcode      lat       long  sqft_living15  sqft_lot15 month  \\\n",
       "4768     98014  47,6981  -121,8750           1880       38996     9   \n",
       "1626     98112  47,6248  -122,3010           1700        4200     2   \n",
       "16842    98019  47,7654  -121,4800            900       12250     3   \n",
       "1849     98198  47,4017  -122,3210           1380        7440     5   \n",
       "15248    98022  47,2163  -121,9840           1350       46762    10   \n",
       "\n",
       "      year-month  frequencia  \n",
       "4768      2014/9      0-2000  \n",
       "1626      2015/2      0-2000  \n",
       "16842     2015/3      0-2000  \n",
       "1849      2014/5      0-2000  \n",
       "15248    2014/10      0-2000  \n",
       "\n",
       "[5 rows x 24 columns]"
      ]
     },
     "execution_count": 51,
     "metadata": {},
     "output_type": "execute_result"
    }
   ],
   "source": [
    "wantedHouses = DataFrame.iloc[0:0]\n",
    "\n",
    "#1\n",
    "df1 = DataFrame[DataFrame['price'] < 200000]\n",
    "\n",
    "#2\n",
    "#df1 = df1[df1['zipcode'] == 98039]\n",
    "\n",
    "#4\n",
    "\n",
    "wantedHouses = wantedHouses.append(df1[df1['bathrooms'] <= 5])\n",
    "\n",
    "#5\n",
    "df1 = wantedHouses \n",
    "wantedHouses = wantedHouses.loc[wantedHouses['bedrooms'] <= 5]\n",
    "\n",
    "#6\n",
    "df1 = wantedHouses \n",
    "wantedHouses = wantedHouses.loc[wantedHouses['floors'] <= 2]\n",
    "\n",
    "#7 não há casas que tenham fonte\n",
    "wantedHouses = wantedHouses.loc[wantedHouses['waterfront'] <= 1]\n",
    "\n",
    "#8\n",
    "\n",
    "wantedHouses = wantedHouses[wantedHouses['view'] > 0]\n",
    "\n",
    "wantedHouses.sort_values(by = 'price')"
   ]
  },
  {
   "cell_type": "code",
   "execution_count": 52,
   "id": "ed9ee766",
   "metadata": {},
   "outputs": [
    {
     "data": {
      "text/plain": [
       "15106.967565816869"
      ]
     },
     "execution_count": 52,
     "metadata": {},
     "output_type": "execute_result"
    }
   ],
   "source": [
    "DataFrame['sqft_lot'].mean()"
   ]
  },
  {
   "cell_type": "markdown",
   "id": "5de8bb70",
   "metadata": {},
   "source": [
    "<h3> Essas seriam as 5 melhores opções. Dado as condições possíveis, uma vez que no zipcode preferencial não estão dentro da faixa de preço.\n",
    "    <br><br>\n",
    "A melhor opção seria o imóvel de id igual a 1320069249 com o valor de 192mil, pois é uma casa que atende os requisitos e dado ao seu grande espaço de terreno após uma reforma a empresa conseguiria ter um lucro com a casa, uma vez que uma casa renovada tem a expectativa de aumento, além das outras melhorias possíveis de novos quartos, banheiros, andares e uma fonte de água também podem aumentar o lucro, e por fim ainda sobrar espaço no terreno. \n",
    "    <br><br>\n",
    "    Tudo isso levado em conta, é possível que a divisão deste terreno seja utilizado para construção de novas casas, pois o terreno deste imóvel é enorme, dado por \"sqft_lot\" = 63737, sendo 4 vezes o tamanho médio dos imóveis, desta forma além de lucrar com a reforma na casa já existente é possível lucrar com novos imóveis construídos.</h3>"
   ]
  },
  {
   "cell_type": "markdown",
   "id": "fe3c2ae2",
   "metadata": {},
   "source": [
    "<h2> 2. Uma vez a casa em posse da empresa, qual o melhor momento para vendê-las e qual seria o preço da venda? </h2>\n",
    "\n",
    "<h3>\n",
    "    Caso a casa passe após a reforma de 1 quarto para 3 quartos, 1 banheiro para 3 banheiros, 2 andares e uma fonte de água na frente da casa. É possível que o valor desta casa triplique facilmente, uma vez que os dados informam que essas alterações seriam suficientes para aumentar o valor da casa em mais de 10 vezes, porém sabemos que somente essas alterações não seriam suficientes, seria necessário um maior conhecimento do mercado local, analisar seu posicionamento (zipcode) entre outros fatores que não é possível ser analisado pelos dados. Desta forma a afirmação de que o valor possa triplicar não foge à realidade dos dados e nem à realidade dos negócios, podendo assim dar um \"norte\" para empresa sobre um possível retorno na venda da casa pós reforma.\n",
    "    \n",
    "</h3>"
   ]
  },
  {
   "cell_type": "markdown",
   "id": "0b5ffa03",
   "metadata": {},
   "source": [
    "<h2> 3. A House Rocket deveria fazer uma reforma para aumentar o preço da venda? Quais seriam as sugestões de mudanças? Qual o incremento no preço dado por cada opção de reforma? </h2>"
   ]
  },
  {
   "cell_type": "markdown",
   "id": "5ef027f9",
   "metadata": {},
   "source": [
    "<h3>\n",
    "    <ol>\n",
    "        <li> A House Rocket deveria fazer uma reforma para aumentar o preço da venda?</li>\n",
    "            <p style=\"font-size: 18px;\">-Sim, seria recomendado pois como foi analisado é esperado uma valorização após a reforma, baseado na média de valores das casas reformadas e das não reformadas.</p><br>\n",
    "        <li> Quais seriam as sugestões de mudanças?</li>\n",
    "        <p>Como foi visto anteriormente os requisitos para uma casa com um bom valor de mercado são os seguintes:</p>\n",
    "        <p>\n",
    "        * 3 a 5 banheiros.<br>\n",
    "        * 2 a 5 quartos.<br>\n",
    "        * 2 andares.<br>\n",
    "        * 1 fonte de água frontal.<br>\n",
    "        * vista e de preferência com o valor igual a 4.</p><br>\n",
    "        <p> Os dados indicam um aumento muito absurdo, exemplo: o preço médio de casas de um banheiro para casas com 5 banheiros é de 100 vezes o preço. <br><br> A análise que pode ser feita é de que existe um aumento no valor da casa se esta possuir mais recursos, como mais banheiros, quartos, etc. Sendo assim, pode-se dizer que os valores citados acima seriam encontrados em casas com uma maior valorização, mas que não necessáriamente, você ter 5 banheiros em uma casa esta terá sua valorização multiplicada por 100.</p><br>\n",
    "        <li> Qual o incremento no preço dado por cada opção de reforma?</li>\n",
    "        <p>Essa informação está muito enviesada nos dados, uma vez que não temos uma mesma casa (mesmo ID) que tenha construído mais um banheiro ou um quarto. Sendo assim, seria necessárias casas que tenham havido mudanças em sua construção, por exemplo, uma casa que tenha construído mais um banheiro, para saber o impacto do mesmo no preço, isso acontecendo diversas vezes poderíamos calcular um valor de valorização mais exato.<br>\n",
    "Com os dados atuais a única afirmação possível de ser feita é que dado uma casa com os requisitos citados acima, o esperado é que esta tenha um alto valor em relação a casas que não cumprem esses requisitos.\n",
    "</p><br>\n",
    "    </ol>\n",
    "    \n",
    "</h3>\n",
    "\n",
    "   "
   ]
  },
  {
   "cell_type": "code",
   "execution_count": 65,
   "id": "0db81f1d",
   "metadata": {},
   "outputs": [
    {
     "data": {
      "text/plain": [
       "Text(0, 0.5, 'Preço em 10 Bilhões')"
      ]
     },
     "execution_count": 65,
     "metadata": {},
     "output_type": "execute_result"
    },
    {
     "data": {
      "image/png": "[encoded data removed]",
      "text/plain": [
       "<Figure size 864x432 with 1 Axes>"
      ]
     },
     "metadata": {
      "needs_background": "light"
     },
     "output_type": "display_data"
    }
   ],
   "source": [
    "ax = sns.boxplot(y = DataFrame.price)\n",
    "\n",
    "ax.figure.set_size_inches(12, 6)\n",
    "ax.set_title('Média dos preços das casas de acordo com o número de \"vista\"', fontsize=18)\n",
    "ax.set_xlabel('Número de \"vista\"', fontsize=14)\n",
    "ax.set_ylabel('Preço em 10 Bilhões', fontsize=14)"
   ]
  },
  {
   "cell_type": "code",
   "execution_count": 64,
   "id": "2c723181",
   "metadata": {},
   "outputs": [
    {
     "data": {
      "text/plain": [
       "Text(0, 0.5, 'Preço em 10 Bilhões')"
      ]
     },
     "execution_count": 64,
     "metadata": {},
     "output_type": "execute_result"
    },
    {
     "data": {
      "image/png": "[encoded data removed]",
      "text/plain": [
       "<Figure size 864x432 with 1 Axes>"
      ]
     },
     "metadata": {
      "needs_background": "light"
     },
     "output_type": "display_data"
    }
   ],
   "source": [
    "ax = sns.boxplot(y = DataFrame.query('price < 1000000').price)\n",
    "\n",
    "ax.figure.set_size_inches(12, 6)\n",
    "ax.set_title('Média dos preços das casas de acordo com o número de \"vista\"', fontsize=18)\n",
    "ax.set_xlabel('Número de \"vista\"', fontsize=14)\n",
    "ax.set_ylabel('Preço em 10 Bilhões', fontsize=14)"
   ]
  },
  {
   "cell_type": "markdown",
   "id": "a9eb41f1",
   "metadata": {},
   "source": [
    "<h1>Dado os boxplots, é notada a presença de diversos outliers que distorcem as informações. Sendo assim, o projeto será refatorado dividindo as bases em duas bases de dados, Casas e Casas de Luxo.</h1>"
   ]
  }
 ],
 "metadata": {
  "kernelspec": {
   "display_name": "Python 3",
   "language": "python",
   "name": "python3"
  },
  "language_info": {
   "codemirror_mode": {
    "name": "ipython",
    "version": 3
   },
   "file_extension": ".py",
   "mimetype": "text/x-python",
   "name": "python",
   "nbconvert_exporter": "python",
   "pygments_lexer": "ipython3",
   "version": "3.8.8"
  }
 },
 "nbformat": 4,
 "nbformat_minor": 5
}
