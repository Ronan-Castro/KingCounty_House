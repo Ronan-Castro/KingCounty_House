{
 "cells": [
  {
   "cell_type": "markdown",
   "metadata": {},
   "source": [
    "<h1>Importando os Dados</h1>"
   ]
  },
  {
   "cell_type": "code",
   "execution_count": 2,
   "metadata": {},
   "outputs": [
    {
     "data": {
      "text/html": [
       "<div>\n",
       "<style>\n",
       "    .dataframe thead tr:only-child th {\n",
       "        text-align: right;\n",
       "    }\n",
       "\n",
       "    .dataframe thead th {\n",
       "        text-align: left;\n",
       "    }\n",
       "\n",
       "    .dataframe tbody tr th {\n",
       "        vertical-align: top;\n",
       "    }\n",
       "</style>\n",
       "<table border=\"1\" class=\"dataframe\">\n",
       "  <thead>\n",
       "    <tr style=\"text-align: right;\">\n",
       "      <th></th>\n",
       "      <th>id</th>\n",
       "      <th>date</th>\n",
       "      <th>price</th>\n",
       "      <th>bedrooms</th>\n",
       "      <th>bathrooms</th>\n",
       "      <th>sqft_living</th>\n",
       "      <th>sqft_lot</th>\n",
       "      <th>floors</th>\n",
       "      <th>waterfront</th>\n",
       "      <th>view</th>\n",
       "      <th>...</th>\n",
       "      <th>grade</th>\n",
       "      <th>sqft_above</th>\n",
       "      <th>sqft_basement</th>\n",
       "      <th>yr_built</th>\n",
       "      <th>yr_renovated</th>\n",
       "      <th>zipcode</th>\n",
       "      <th>lat</th>\n",
       "      <th>long</th>\n",
       "      <th>sqft_living15</th>\n",
       "      <th>sqft_lot15</th>\n",
       "    </tr>\n",
       "  </thead>\n",
       "  <tbody>\n",
       "    <tr>\n",
       "      <th>19843</th>\n",
       "      <td>7853321180</td>\n",
       "      <td>2014-12-22</td>\n",
       "      <td>465000.0</td>\n",
       "      <td>5</td>\n",
       "      <td>2.50</td>\n",
       "      <td>2550</td>\n",
       "      <td>6405</td>\n",
       "      <td>2.0</td>\n",
       "      <td>0</td>\n",
       "      <td>0</td>\n",
       "      <td>...</td>\n",
       "      <td>7</td>\n",
       "      <td>2550</td>\n",
       "      <td>0</td>\n",
       "      <td>2008</td>\n",
       "      <td>0</td>\n",
       "      <td>98065</td>\n",
       "      <td>47,5191</td>\n",
       "      <td>-121,8690</td>\n",
       "      <td>2190</td>\n",
       "      <td>5900</td>\n",
       "    </tr>\n",
       "    <tr>\n",
       "      <th>13074</th>\n",
       "      <td>7129304225</td>\n",
       "      <td>2015-01-08</td>\n",
       "      <td>305000.0</td>\n",
       "      <td>4</td>\n",
       "      <td>2.25</td>\n",
       "      <td>2340</td>\n",
       "      <td>5250</td>\n",
       "      <td>2.0</td>\n",
       "      <td>0</td>\n",
       "      <td>0</td>\n",
       "      <td>...</td>\n",
       "      <td>7</td>\n",
       "      <td>2340</td>\n",
       "      <td>0</td>\n",
       "      <td>1965</td>\n",
       "      <td>0</td>\n",
       "      <td>98118</td>\n",
       "      <td>47,5183</td>\n",
       "      <td>-122,2660</td>\n",
       "      <td>1540</td>\n",
       "      <td>5250</td>\n",
       "    </tr>\n",
       "    <tr>\n",
       "      <th>500</th>\n",
       "      <td>7852170140</td>\n",
       "      <td>2015-05-10</td>\n",
       "      <td>650000.0</td>\n",
       "      <td>4</td>\n",
       "      <td>2.50</td>\n",
       "      <td>3180</td>\n",
       "      <td>5438</td>\n",
       "      <td>2.0</td>\n",
       "      <td>0</td>\n",
       "      <td>0</td>\n",
       "      <td>...</td>\n",
       "      <td>9</td>\n",
       "      <td>3180</td>\n",
       "      <td>0</td>\n",
       "      <td>2003</td>\n",
       "      <td>0</td>\n",
       "      <td>98065</td>\n",
       "      <td>47,5416</td>\n",
       "      <td>-121,8640</td>\n",
       "      <td>3030</td>\n",
       "      <td>5335</td>\n",
       "    </tr>\n",
       "    <tr>\n",
       "      <th>19314</th>\n",
       "      <td>2720069019</td>\n",
       "      <td>2014-11-03</td>\n",
       "      <td>316000.0</td>\n",
       "      <td>3</td>\n",
       "      <td>1.75</td>\n",
       "      <td>1120</td>\n",
       "      <td>98445</td>\n",
       "      <td>1.5</td>\n",
       "      <td>0</td>\n",
       "      <td>2</td>\n",
       "      <td>...</td>\n",
       "      <td>7</td>\n",
       "      <td>1120</td>\n",
       "      <td>0</td>\n",
       "      <td>1917</td>\n",
       "      <td>0</td>\n",
       "      <td>98022</td>\n",
       "      <td>47,1853</td>\n",
       "      <td>-122,0170</td>\n",
       "      <td>1620</td>\n",
       "      <td>34200</td>\n",
       "    </tr>\n",
       "    <tr>\n",
       "      <th>3396</th>\n",
       "      <td>2721049059</td>\n",
       "      <td>2014-05-28</td>\n",
       "      <td>225000.0</td>\n",
       "      <td>3</td>\n",
       "      <td>2.00</td>\n",
       "      <td>2030</td>\n",
       "      <td>24829</td>\n",
       "      <td>1.0</td>\n",
       "      <td>0</td>\n",
       "      <td>0</td>\n",
       "      <td>...</td>\n",
       "      <td>7</td>\n",
       "      <td>1220</td>\n",
       "      <td>810</td>\n",
       "      <td>1979</td>\n",
       "      <td>0</td>\n",
       "      <td>98001</td>\n",
       "      <td>47,2718</td>\n",
       "      <td>-122,2910</td>\n",
       "      <td>1980</td>\n",
       "      <td>15204</td>\n",
       "    </tr>\n",
       "    <tr>\n",
       "      <th>16132</th>\n",
       "      <td>1246700050</td>\n",
       "      <td>2014-06-12</td>\n",
       "      <td>370000.0</td>\n",
       "      <td>2</td>\n",
       "      <td>1.00</td>\n",
       "      <td>1220</td>\n",
       "      <td>17172</td>\n",
       "      <td>1.0</td>\n",
       "      <td>0</td>\n",
       "      <td>0</td>\n",
       "      <td>...</td>\n",
       "      <td>6</td>\n",
       "      <td>1220</td>\n",
       "      <td>0</td>\n",
       "      <td>1947</td>\n",
       "      <td>0</td>\n",
       "      <td>98033</td>\n",
       "      <td>47,6934</td>\n",
       "      <td>-122,1630</td>\n",
       "      <td>1510</td>\n",
       "      <td>12915</td>\n",
       "    </tr>\n",
       "    <tr>\n",
       "      <th>7577</th>\n",
       "      <td>50300220</td>\n",
       "      <td>2015-02-12</td>\n",
       "      <td>363000.0</td>\n",
       "      <td>4</td>\n",
       "      <td>2.50</td>\n",
       "      <td>2180</td>\n",
       "      <td>9281</td>\n",
       "      <td>2.0</td>\n",
       "      <td>0</td>\n",
       "      <td>0</td>\n",
       "      <td>...</td>\n",
       "      <td>8</td>\n",
       "      <td>2180</td>\n",
       "      <td>0</td>\n",
       "      <td>2004</td>\n",
       "      <td>0</td>\n",
       "      <td>98042</td>\n",
       "      <td>47,3673</td>\n",
       "      <td>-122,0720</td>\n",
       "      <td>2520</td>\n",
       "      <td>9520</td>\n",
       "    </tr>\n",
       "    <tr>\n",
       "      <th>15921</th>\n",
       "      <td>7831800460</td>\n",
       "      <td>2014-05-02</td>\n",
       "      <td>235000.0</td>\n",
       "      <td>2</td>\n",
       "      <td>1.00</td>\n",
       "      <td>1210</td>\n",
       "      <td>9400</td>\n",
       "      <td>1.0</td>\n",
       "      <td>0</td>\n",
       "      <td>0</td>\n",
       "      <td>...</td>\n",
       "      <td>6</td>\n",
       "      <td>1210</td>\n",
       "      <td>0</td>\n",
       "      <td>1949</td>\n",
       "      <td>0</td>\n",
       "      <td>98106</td>\n",
       "      <td>47,5342</td>\n",
       "      <td>-122,3600</td>\n",
       "      <td>1580</td>\n",
       "      <td>6026</td>\n",
       "    </tr>\n",
       "    <tr>\n",
       "      <th>19200</th>\n",
       "      <td>123039147</td>\n",
       "      <td>2015-03-19</td>\n",
       "      <td>464950.0</td>\n",
       "      <td>3</td>\n",
       "      <td>2.00</td>\n",
       "      <td>2190</td>\n",
       "      <td>19800</td>\n",
       "      <td>1.0</td>\n",
       "      <td>0</td>\n",
       "      <td>0</td>\n",
       "      <td>...</td>\n",
       "      <td>7</td>\n",
       "      <td>2190</td>\n",
       "      <td>0</td>\n",
       "      <td>1994</td>\n",
       "      <td>0</td>\n",
       "      <td>98146</td>\n",
       "      <td>47,5106</td>\n",
       "      <td>-122,3650</td>\n",
       "      <td>1640</td>\n",
       "      <td>9719</td>\n",
       "    </tr>\n",
       "    <tr>\n",
       "      <th>2233</th>\n",
       "      <td>255400070</td>\n",
       "      <td>2014-07-01</td>\n",
       "      <td>875000.0</td>\n",
       "      <td>5</td>\n",
       "      <td>3.50</td>\n",
       "      <td>3840</td>\n",
       "      <td>8279</td>\n",
       "      <td>2.0</td>\n",
       "      <td>0</td>\n",
       "      <td>0</td>\n",
       "      <td>...</td>\n",
       "      <td>9</td>\n",
       "      <td>3840</td>\n",
       "      <td>0</td>\n",
       "      <td>2001</td>\n",
       "      <td>0</td>\n",
       "      <td>98074</td>\n",
       "      <td>47,6039</td>\n",
       "      <td>-122,0590</td>\n",
       "      <td>3570</td>\n",
       "      <td>8279</td>\n",
       "    </tr>\n",
       "  </tbody>\n",
       "</table>\n",
       "<p>10 rows × 21 columns</p>\n",
       "</div>"
      ],
      "text/plain": [
       "               id        date     price  bedrooms  bathrooms  sqft_living  \\\n",
       "19843  7853321180  2014-12-22  465000.0         5       2.50         2550   \n",
       "13074  7129304225  2015-01-08  305000.0         4       2.25         2340   \n",
       "500    7852170140  2015-05-10  650000.0         4       2.50         3180   \n",
       "19314  2720069019  2014-11-03  316000.0         3       1.75         1120   \n",
       "3396   2721049059  2014-05-28  225000.0         3       2.00         2030   \n",
       "16132  1246700050  2014-06-12  370000.0         2       1.00         1220   \n",
       "7577     50300220  2015-02-12  363000.0         4       2.50         2180   \n",
       "15921  7831800460  2014-05-02  235000.0         2       1.00         1210   \n",
       "19200   123039147  2015-03-19  464950.0         3       2.00         2190   \n",
       "2233    255400070  2014-07-01  875000.0         5       3.50         3840   \n",
       "\n",
       "       sqft_lot  floors  waterfront  view     ...      grade  sqft_above  \\\n",
       "19843      6405     2.0           0     0     ...          7        2550   \n",
       "13074      5250     2.0           0     0     ...          7        2340   \n",
       "500        5438     2.0           0     0     ...          9        3180   \n",
       "19314     98445     1.5           0     2     ...          7        1120   \n",
       "3396      24829     1.0           0     0     ...          7        1220   \n",
       "16132     17172     1.0           0     0     ...          6        1220   \n",
       "7577       9281     2.0           0     0     ...          8        2180   \n",
       "15921      9400     1.0           0     0     ...          6        1210   \n",
       "19200     19800     1.0           0     0     ...          7        2190   \n",
       "2233       8279     2.0           0     0     ...          9        3840   \n",
       "\n",
       "       sqft_basement  yr_built  yr_renovated  zipcode      lat       long  \\\n",
       "19843              0      2008             0    98065  47,5191  -121,8690   \n",
       "13074              0      1965             0    98118  47,5183  -122,2660   \n",
       "500                0      2003             0    98065  47,5416  -121,8640   \n",
       "19314              0      1917             0    98022  47,1853  -122,0170   \n",
       "3396             810      1979             0    98001  47,2718  -122,2910   \n",
       "16132              0      1947             0    98033  47,6934  -122,1630   \n",
       "7577               0      2004             0    98042  47,3673  -122,0720   \n",
       "15921              0      1949             0    98106  47,5342  -122,3600   \n",
       "19200              0      1994             0    98146  47,5106  -122,3650   \n",
       "2233               0      2001             0    98074  47,6039  -122,0590   \n",
       "\n",
       "      sqft_living15  sqft_lot15  \n",
       "19843          2190        5900  \n",
       "13074          1540        5250  \n",
       "500            3030        5335  \n",
       "19314          1620       34200  \n",
       "3396           1980       15204  \n",
       "16132          1510       12915  \n",
       "7577           2520        9520  \n",
       "15921          1580        6026  \n",
       "19200          1640        9719  \n",
       "2233           3570        8279  \n",
       "\n",
       "[10 rows x 21 columns]"
      ]
     },
     "execution_count": 2,
     "metadata": {},
     "output_type": "execute_result"
    }
   ],
   "source": [
    "import pandas as pd\n",
    "import numpy as np\n",
    "import matplotlib.pyplot as plt\n",
    "import seaborn as sns\n",
    "\n",
    "DataFrame = pd.read_csv('kc_house_data.csv', encoding='UTF-8', sep=\";\")\n",
    "DataFrame.sample(10)"
   ]
  },
  {
   "cell_type": "code",
   "execution_count": 34,
   "metadata": {},
   "outputs": [
    {
     "name": "stderr",
     "output_type": "stream",
     "text": [
      "Invalid requirement: '#or'\n",
      "Traceback (most recent call last):\n",
      "  File \"C:\\ProgramData\\Anaconda3\\lib\\site-packages\\pip\\_vendor\\packaging\\requirements.py\", line 92, in __init__\n",
      "    req = REQUIREMENT.parseString(requirement_string)\n",
      "  File \"C:\\ProgramData\\Anaconda3\\lib\\site-packages\\pip\\_vendor\\pyparsing.py\", line 1617, in parseString\n",
      "    raise exc\n",
      "  File \"C:\\ProgramData\\Anaconda3\\lib\\site-packages\\pip\\_vendor\\pyparsing.py\", line 1607, in parseString\n",
      "    loc, tokens = self._parse( instring, 0 )\n",
      "  File \"C:\\ProgramData\\Anaconda3\\lib\\site-packages\\pip\\_vendor\\pyparsing.py\", line 1379, in _parseNoCache\n",
      "    loc,tokens = self.parseImpl( instring, preloc, doActions )\n",
      "  File \"C:\\ProgramData\\Anaconda3\\lib\\site-packages\\pip\\_vendor\\pyparsing.py\", line 3376, in parseImpl\n",
      "    loc, exprtokens = e._parse( instring, loc, doActions )\n",
      "  File \"C:\\ProgramData\\Anaconda3\\lib\\site-packages\\pip\\_vendor\\pyparsing.py\", line 1379, in _parseNoCache\n",
      "    loc,tokens = self.parseImpl( instring, preloc, doActions )\n",
      "  File \"C:\\ProgramData\\Anaconda3\\lib\\site-packages\\pip\\_vendor\\pyparsing.py\", line 3698, in parseImpl\n",
      "    return self.expr._parse( instring, loc, doActions, callPreParse=False )\n",
      "  File \"C:\\ProgramData\\Anaconda3\\lib\\site-packages\\pip\\_vendor\\pyparsing.py\", line 1379, in _parseNoCache\n",
      "    loc,tokens = self.parseImpl( instring, preloc, doActions )\n",
      "  File \"C:\\ProgramData\\Anaconda3\\lib\\site-packages\\pip\\_vendor\\pyparsing.py\", line 3359, in parseImpl\n",
      "    loc, resultlist = self.exprs[0]._parse( instring, loc, doActions, callPreParse=False )\n",
      "  File \"C:\\ProgramData\\Anaconda3\\lib\\site-packages\\pip\\_vendor\\pyparsing.py\", line 1383, in _parseNoCache\n",
      "    loc,tokens = self.parseImpl( instring, preloc, doActions )\n",
      "  File \"C:\\ProgramData\\Anaconda3\\lib\\site-packages\\pip\\_vendor\\pyparsing.py\", line 2670, in parseImpl\n",
      "    raise ParseException(instring, loc, self.errmsg, self)\n",
      "pip._vendor.pyparsing.ParseException: Expected W:(abcd...) (at char 0), (line:1, col:1)\n",
      "\n",
      "During handling of the above exception, another exception occurred:\n",
      "\n",
      "Traceback (most recent call last):\n",
      "  File \"C:\\ProgramData\\Anaconda3\\lib\\site-packages\\pip\\req\\req_install.py\", line 82, in __init__\n",
      "    req = Requirement(req)\n",
      "  File \"C:\\ProgramData\\Anaconda3\\lib\\site-packages\\pip\\_vendor\\packaging\\requirements.py\", line 96, in __init__\n",
      "    requirement_string[e.loc:e.loc + 8]))\n",
      "pip._vendor.packaging.requirements.InvalidRequirement: Invalid requirement, parse error at \"'#or'\"\n",
      "\n",
      "You are using pip version 9.0.1, however version 22.0.4 is available.\n",
      "You should consider upgrading via the 'python -m pip install --upgrade pip' command.\n"
     ]
    }
   ],
   "source": [
    "!pip install seaborn --upgrade #or also !pip install seaborn==0.9.0"
   ]
  },
  {
   "cell_type": "code",
   "execution_count": 14,
   "metadata": {},
   "outputs": [
    {
     "name": "stdout",
     "output_type": "stream",
     "text": [
      "75000.0\n"
     ]
    },
    {
     "data": {
      "text/plain": [
       "316875000000.0"
      ]
     },
     "execution_count": 14,
     "metadata": {},
     "output_type": "execute_result"
    }
   ],
   "source": [
    "print(DataFrame.price.min())\n",
    "DataFrame.price.max()\n"
   ]
  },
  {
   "cell_type": "markdown",
   "metadata": {},
   "source": [
    "<h3>A empresa, House Rocket, deseja obter infromações e o direcionamento de mercado de casas na cidade de King County, USA, para isto ela levantou as seguintes questões: </h3>\n",
    "<h3> \n",
    "    <ol>\n",
    "    <li>Quais casas o CEO da House Rocket deveria comprar e por qual preço de compra?</li>  <br>   \n",
    "    <li>Uma vez a casa em posse da empresa, qual o melhor momento para vendê-las e qual seria o preço da venda?</li>   <br>  \n",
    "    <li> A House Rocket deveria fazer uma reforma para aumentar o preço da venda? Quais seriam as sugestões de mudanças? Qual o incremento no preço dado por cada opção de reforma?</li>       \n",
    "    </ol>\n",
    "</h3>"
   ]
  },
  {
   "cell_type": "markdown",
   "metadata": {},
   "source": [
    "<h6>Informações</h6>\n",
    "\n",
    "sqft_basement = tamanho do porão\n",
    "\n",
    "sqft_above = tamanho segundo andar\n",
    "\n",
    "yr_built = ano de construção\n",
    "\n",
    "yr_renovated = ano da reforma"
   ]
  },
  {
   "cell_type": "markdown",
   "metadata": {},
   "source": [
    "# Observando casas reformadas para calcular sua valorização"
   ]
  },
  {
   "cell_type": "code",
   "execution_count": 3,
   "metadata": {
    "collapsed": true,
    "scrolled": false
   },
   "outputs": [],
   "source": [
    "Renovated = DataFrame[DataFrame['yr_renovated']!=0]\n",
    "Unrenovated = DataFrame[DataFrame['yr_renovated']==0]"
   ]
  },
  {
   "cell_type": "code",
   "execution_count": 4,
   "metadata": {},
   "outputs": [
    {
     "data": {
      "text/plain": [
       "id               7129300520\n",
       "date             2014-10-13\n",
       "price                221900\n",
       "bedrooms                  3\n",
       "bathrooms                 1\n",
       "sqft_living            1180\n",
       "sqft_lot               5650\n",
       "floors                    1\n",
       "waterfront                0\n",
       "view                      0\n",
       "condition                 3\n",
       "grade                     7\n",
       "sqft_above             1180\n",
       "sqft_basement             0\n",
       "yr_built               1955\n",
       "yr_renovated              0\n",
       "zipcode               98178\n",
       "lat                 47,5112\n",
       "long              -122,2570\n",
       "sqft_living15          1340\n",
       "sqft_lot15             5650\n",
       "Name: 0, dtype: object"
      ]
     },
     "execution_count": 4,
     "metadata": {},
     "output_type": "execute_result"
    }
   ],
   "source": [
    "DataFrame.loc[0,:]"
   ]
  },
  {
   "cell_type": "code",
   "execution_count": 5,
   "metadata": {},
   "outputs": [
    {
     "data": {
      "text/plain": [
       "1446211405.583151"
      ]
     },
     "execution_count": 5,
     "metadata": {},
     "output_type": "execute_result"
    }
   ],
   "source": [
    "Ren = Renovated['price'].mean()\n",
    "Ren"
   ]
  },
  {
   "cell_type": "code",
   "execution_count": 6,
   "metadata": {},
   "outputs": [
    {
     "data": {
      "text/plain": [
       "529524767.00782645"
      ]
     },
     "execution_count": 6,
     "metadata": {},
     "output_type": "execute_result"
    }
   ],
   "source": [
    "Unr = Unrenovated['price'].mean()\n",
    "Unr"
   ]
  },
  {
   "cell_type": "code",
   "execution_count": 7,
   "metadata": {},
   "outputs": [
    {
     "name": "stdout",
     "output_type": "stream",
     "text": [
      "916686638.5753247\n"
     ]
    }
   ],
   "source": [
    "print(Ren - Unr)"
   ]
  },
  {
   "cell_type": "markdown",
   "metadata": {},
   "source": [
    "<h3> Pelos passos acima podemos perceber que na média as casas reformadas são mais valorizadas que as casas sem reforma.\n",
    "    \n",
    "Sendo assim seria interessante o CEO reformar a casa antes de Vendê-la.\n",
    "</h3>\n",
    "\n",
    "<h3> Seguindo esta lógica, o recomendado seria o CEO comprar uma casa mais barata para reformar e revender.<br>\n",
    "    \n",
    "Primeiramente será analisada a casa que esteja entre as mais antigas e será verificado se esta resulta na casa mais barata, ou em um preço baixo.</h3>\n",
    "\n"
   ]
  },
  {
   "cell_type": "markdown",
   "metadata": {},
   "source": [
    "# Buscando a casa mais antiga para comparar com o preço da mais barata"
   ]
  },
  {
   "cell_type": "code",
   "execution_count": 8,
   "metadata": {},
   "outputs": [
    {
     "name": "stdout",
     "output_type": "stream",
     "text": [
      "               id        date     price  bedrooms  bathrooms  sqft_living  \\\n",
      "14001  2354300456  2015-03-11  130000.0         2        1.0          600   \n",
      "\n",
      "       sqft_lot  floors  waterfront  view     ...      grade  sqft_above  \\\n",
      "14001      1500     1.0           0     0     ...          4         600   \n",
      "\n",
      "       sqft_basement  yr_built  yr_renovated  zipcode      lat       long  \\\n",
      "14001              0      1900             0    98027  47,5289  -122,0330   \n",
      "\n",
      "      sqft_living15  sqft_lot15  \n",
      "14001          1130        6000  \n",
      "\n",
      "[1 rows x 21 columns]\n"
     ]
    },
    {
     "data": {
      "text/plain": [
       "14001    4\n",
       "Name: condition, dtype: int64"
      ]
     },
     "execution_count": 8,
     "metadata": {},
     "output_type": "execute_result"
    }
   ],
   "source": [
    "Cheaper = Unrenovated[Unrenovated['yr_built'] == Unrenovated['yr_built'].min()]\n",
    "CheapestElderHouse = Cheaper[Cheaper['price'] == Cheaper['price'].min()]\n",
    "print(CheapestElderHouse)\n",
    "CheapestElderHouse['condition']"
   ]
  },
  {
   "cell_type": "code",
   "execution_count": 9,
   "metadata": {},
   "outputs": [
    {
     "name": "stdout",
     "output_type": "stream",
     "text": [
      "              id        date    price  bedrooms  bathrooms  sqft_living  \\\n",
      "1149  3421079032  2015-02-17  75000.0         1        0.0          670   \n",
      "\n",
      "      sqft_lot  floors  waterfront  view     ...      grade  sqft_above  \\\n",
      "1149     43377     1.0           0     0     ...          3         670   \n",
      "\n",
      "      sqft_basement  yr_built  yr_renovated  zipcode      lat       long  \\\n",
      "1149              0      1966             0    98022  47,2638  -121,9060   \n",
      "\n",
      "     sqft_living15  sqft_lot15  \n",
      "1149          1160       42882  \n",
      "\n",
      "[1 rows x 21 columns]\n"
     ]
    },
    {
     "data": {
      "text/plain": [
       "1149    3\n",
       "Name: condition, dtype: int64"
      ]
     },
     "execution_count": 9,
     "metadata": {},
     "output_type": "execute_result"
    }
   ],
   "source": [
    "CheapestHouse = Unrenovated[Unrenovated['price'] == Unrenovated['price'].min()]\n",
    "print(CheapestHouse)\n",
    "CheapestHouse['condition']"
   ]
  },
  {
   "cell_type": "markdown",
   "metadata": {},
   "source": [
    "<h3> Diferente do esperado, nos resultados acima foi encontrada a casa mais antiga não renovada no valor de 130 mil, e também a mais barata encontrada no banco de dados, no valor de 75 mil.\n",
    "    \n",
    "    Analisando os preços pode-se dizer que não existe motivos evidentes para o CEO comprar a casa mais antiga, pois ambas casas tem o espaço de construção parecido (sqft_living) e apesar da casa de 75 mil estar numa condição pior e ter menos banheiros e quartos, isto pode ser solucionado na reforma, valorizando a casa, além de pagar 55 mil a menos. <br>\n",
    "    \n",
    "Apenas faria sentido comprar a casa antiga se fosse para uso imediato, sem pretensões de lucro, pois ela dispõe de uma melhor condição de moradia e recursos que a casa de 75 mil.\n",
    "    \n",
    "<br>\n",
    "Sendo assim seria indicado que o CEO comprasse casas baratas no geral, entre 75 mil e 100mil, não importando muito com seu tempo de construção, uma vez que este não indica uma diminuição nos preços e nem com suas condições e itens como banheiros e quartos, uma vez que estes itens poderiam ser construidos numa reforma desde que o \"sqft_lot\" o possibilite.\n",
    "</h3>"
   ]
  },
  {
   "cell_type": "markdown",
   "metadata": {},
   "source": [
    "# Entendendo se o ZipCode impacta nos preços das casas"
   ]
  },
  {
   "cell_type": "code",
   "execution_count": 10,
   "metadata": {},
   "outputs": [
    {
     "name": "stdout",
     "output_type": "stream",
     "text": [
      "ZipCode com casas mais caras em média 98039 valor médio 14294837700.0\n"
     ]
    }
   ],
   "source": [
    "df = DataFrame.groupby('zipcode').mean()\n",
    "df2 = DataFrame.groupby('zipcode').median()\n",
    "df3 = DataFrame.groupby('zipcode').std()\n",
    "ExpensiveZip = df[df['price'] == df['price'].max()]\n",
    "print('ZipCode com casas mais caras em média', ExpensiveZip.index.values[0], 'valor médio', df['price'].max())"
   ]
  },
  {
   "cell_type": "code",
   "execution_count": 11,
   "metadata": {},
   "outputs": [
    {
     "name": "stdout",
     "output_type": "stream",
     "text": [
      "ZipCode com as casas de médias mais baratas fica no  [98002] valor médio de: 234284\n",
      "média geral é de: 568290860\n",
      "ZipCode com as casas de menor mediana fica no  [98002 98168] valor médio de: 235000\n",
      "média geral é de: 450000\n",
      "ZipCode com as casas com menor desvio padrão fica no  [98002] valor médio de: 52041\n",
      "média geral é de: 8516008693\n"
     ]
    }
   ],
   "source": [
    "CheapZip = df[df['price'] == df['price'].min()]\n",
    "CheapZipmedian = df2[df2['price'] == df2['price'].min()]\n",
    "CheapZipstd = df3[df3['price'] == df3['price'].min()]\n",
    "generalMean = DataFrame['price'].mean()\n",
    "generalMedian = DataFrame['price'].median()\n",
    "generalstd = DataFrame['price'].std()\n",
    "print('ZipCode com as casas de médias mais baratas fica no ',CheapZip.index.values,\n",
    "      'valor médio de: %i' %(df['price'].min()))\n",
    "print('média geral é de: %i' %(generalMean))\n",
    "print('ZipCode com as casas de menor mediana fica no ',CheapZipmedian.index.values,\n",
    "      'valor médio de: %i' %(df2['price'].min()))\n",
    "print('média geral é de: %i' %(generalMedian))\n",
    "print('ZipCode com as casas com menor desvio padrão fica no ',CheapZipstd.index.values,\n",
    "      'valor médio de: %i' %(df3['price'].min()))\n",
    "print('média geral é de: %i' %(generalstd))"
   ]
  },
  {
   "cell_type": "markdown",
   "metadata": {},
   "source": [
    "<h3> Outra variável que pode impactar o preço da casa é a localização, podemos análisar isso através da coluna \"zipcode\", e como visto anteriormente nos resultados seria interessante evitar o zipcode 98002, já que as medidas estatísticas apontam para um baixo valor das casas além de uma taxa de preço com pequenas variações, ou seja, muito provavelmente a localização tem grande impacto no valor da casa.<br>\n",
    "\n",
    "<br>\n",
    "Sabendo o valor médio das casas em King County, é possível afirmar que a reforma é uma boa estratégia, uma vez que o valor médio das casas reformadas, que é de 1.446.211.405, é maior que o valor médio das casas em geral e das casas não reformadas, como visto anteriormente.\n",
    "</h3>"
   ]
  },
  {
   "cell_type": "code",
   "execution_count": 19,
   "metadata": {
    "scrolled": false
   },
   "outputs": [
    {
     "data": {
      "text/html": [
       "<div>\n",
       "<style>\n",
       "    .dataframe thead tr:only-child th {\n",
       "        text-align: right;\n",
       "    }\n",
       "\n",
       "    .dataframe thead th {\n",
       "        text-align: left;\n",
       "    }\n",
       "\n",
       "    .dataframe tbody tr th {\n",
       "        vertical-align: top;\n",
       "    }\n",
       "</style>\n",
       "<table border=\"1\" class=\"dataframe\">\n",
       "  <thead>\n",
       "    <tr style=\"text-align: right;\">\n",
       "      <th></th>\n",
       "      <th>percentage</th>\n",
       "    </tr>\n",
       "  </thead>\n",
       "  <tbody>\n",
       "    <tr>\n",
       "      <th>59</th>\n",
       "      <td>0.000099</td>\n",
       "    </tr>\n",
       "    <tr>\n",
       "      <th>1</th>\n",
       "      <td>0.001012</td>\n",
       "    </tr>\n",
       "    <tr>\n",
       "      <th>37</th>\n",
       "      <td>0.001024</td>\n",
       "    </tr>\n",
       "    <tr>\n",
       "      <th>118</th>\n",
       "      <td>0.945946</td>\n",
       "    </tr>\n",
       "    <tr>\n",
       "      <th>42</th>\n",
       "      <td>0.960686</td>\n",
       "    </tr>\n",
       "    <tr>\n",
       "      <th>7</th>\n",
       "      <td>0.976628</td>\n",
       "    </tr>\n",
       "    <tr>\n",
       "      <th>91</th>\n",
       "      <td>0.978000</td>\n",
       "    </tr>\n",
       "    <tr>\n",
       "      <th>137</th>\n",
       "      <td>0.990291</td>\n",
       "    </tr>\n",
       "    <tr>\n",
       "      <th>131</th>\n",
       "      <td>1.000000</td>\n",
       "    </tr>\n",
       "    <tr>\n",
       "      <th>33</th>\n",
       "      <td>1.000000</td>\n",
       "    </tr>\n",
       "    <tr>\n",
       "      <th>49</th>\n",
       "      <td>1.008902</td>\n",
       "    </tr>\n",
       "    <tr>\n",
       "      <th>98</th>\n",
       "      <td>1.009281</td>\n",
       "    </tr>\n",
       "    <tr>\n",
       "      <th>13</th>\n",
       "      <td>1.010568</td>\n",
       "    </tr>\n",
       "    <tr>\n",
       "      <th>22</th>\n",
       "      <td>1.018519</td>\n",
       "    </tr>\n",
       "    <tr>\n",
       "      <th>99</th>\n",
       "      <td>1.020408</td>\n",
       "    </tr>\n",
       "    <tr>\n",
       "      <th>138</th>\n",
       "      <td>1.030769</td>\n",
       "    </tr>\n",
       "    <tr>\n",
       "      <th>95</th>\n",
       "      <td>1.033333</td>\n",
       "    </tr>\n",
       "    <tr>\n",
       "      <th>2</th>\n",
       "      <td>1.036638</td>\n",
       "    </tr>\n",
       "    <tr>\n",
       "      <th>52</th>\n",
       "      <td>1.042945</td>\n",
       "    </tr>\n",
       "    <tr>\n",
       "      <th>104</th>\n",
       "      <td>1.054463</td>\n",
       "    </tr>\n",
       "    <tr>\n",
       "      <th>35</th>\n",
       "      <td>1.061693</td>\n",
       "    </tr>\n",
       "    <tr>\n",
       "      <th>96</th>\n",
       "      <td>1.062007</td>\n",
       "    </tr>\n",
       "    <tr>\n",
       "      <th>126</th>\n",
       "      <td>1.065089</td>\n",
       "    </tr>\n",
       "    <tr>\n",
       "      <th>156</th>\n",
       "      <td>1.067647</td>\n",
       "    </tr>\n",
       "    <tr>\n",
       "      <th>19</th>\n",
       "      <td>1.071429</td>\n",
       "    </tr>\n",
       "    <tr>\n",
       "      <th>34</th>\n",
       "      <td>1.074286</td>\n",
       "    </tr>\n",
       "    <tr>\n",
       "      <th>125</th>\n",
       "      <td>1.075964</td>\n",
       "    </tr>\n",
       "    <tr>\n",
       "      <th>158</th>\n",
       "      <td>1.078261</td>\n",
       "    </tr>\n",
       "    <tr>\n",
       "      <th>76</th>\n",
       "      <td>1.090909</td>\n",
       "    </tr>\n",
       "    <tr>\n",
       "      <th>67</th>\n",
       "      <td>1.128571</td>\n",
       "    </tr>\n",
       "    <tr>\n",
       "      <th>...</th>\n",
       "      <td>...</td>\n",
       "    </tr>\n",
       "    <tr>\n",
       "      <th>71</th>\n",
       "      <td>1.877729</td>\n",
       "    </tr>\n",
       "    <tr>\n",
       "      <th>77</th>\n",
       "      <td>1.897805</td>\n",
       "    </tr>\n",
       "    <tr>\n",
       "      <th>30</th>\n",
       "      <td>1.910738</td>\n",
       "    </tr>\n",
       "    <tr>\n",
       "      <th>140</th>\n",
       "      <td>1.914286</td>\n",
       "    </tr>\n",
       "    <tr>\n",
       "      <th>44</th>\n",
       "      <td>1.917098</td>\n",
       "    </tr>\n",
       "    <tr>\n",
       "      <th>10</th>\n",
       "      <td>1.939163</td>\n",
       "    </tr>\n",
       "    <tr>\n",
       "      <th>72</th>\n",
       "      <td>1.950000</td>\n",
       "    </tr>\n",
       "    <tr>\n",
       "      <th>90</th>\n",
       "      <td>1.972973</td>\n",
       "    </tr>\n",
       "    <tr>\n",
       "      <th>106</th>\n",
       "      <td>1.973913</td>\n",
       "    </tr>\n",
       "    <tr>\n",
       "      <th>70</th>\n",
       "      <td>2.114286</td>\n",
       "    </tr>\n",
       "    <tr>\n",
       "      <th>134</th>\n",
       "      <td>2.122449</td>\n",
       "    </tr>\n",
       "    <tr>\n",
       "      <th>82</th>\n",
       "      <td>2.130984</td>\n",
       "    </tr>\n",
       "    <tr>\n",
       "      <th>109</th>\n",
       "      <td>2.176636</td>\n",
       "    </tr>\n",
       "    <tr>\n",
       "      <th>79</th>\n",
       "      <td>2.205403</td>\n",
       "    </tr>\n",
       "    <tr>\n",
       "      <th>20</th>\n",
       "      <td>2.211538</td>\n",
       "    </tr>\n",
       "    <tr>\n",
       "      <th>84</th>\n",
       "      <td>2.249166</td>\n",
       "    </tr>\n",
       "    <tr>\n",
       "      <th>143</th>\n",
       "      <td>2.261905</td>\n",
       "    </tr>\n",
       "    <tr>\n",
       "      <th>130</th>\n",
       "      <td>2.277916</td>\n",
       "    </tr>\n",
       "    <tr>\n",
       "      <th>55</th>\n",
       "      <td>2.280000</td>\n",
       "    </tr>\n",
       "    <tr>\n",
       "      <th>124</th>\n",
       "      <td>2.311561</td>\n",
       "    </tr>\n",
       "    <tr>\n",
       "      <th>64</th>\n",
       "      <td>2.319149</td>\n",
       "    </tr>\n",
       "    <tr>\n",
       "      <th>94</th>\n",
       "      <td>2.326531</td>\n",
       "    </tr>\n",
       "    <tr>\n",
       "      <th>108</th>\n",
       "      <td>2.371429</td>\n",
       "    </tr>\n",
       "    <tr>\n",
       "      <th>157</th>\n",
       "      <td>2.444444</td>\n",
       "    </tr>\n",
       "    <tr>\n",
       "      <th>63</th>\n",
       "      <td>2.681707</td>\n",
       "    </tr>\n",
       "    <tr>\n",
       "      <th>87</th>\n",
       "      <td>2.764706</td>\n",
       "    </tr>\n",
       "    <tr>\n",
       "      <th>127</th>\n",
       "      <td>2.969697</td>\n",
       "    </tr>\n",
       "    <tr>\n",
       "      <th>145</th>\n",
       "      <td>3.308271</td>\n",
       "    </tr>\n",
       "    <tr>\n",
       "      <th>120</th>\n",
       "      <td>4.218009</td>\n",
       "    </tr>\n",
       "    <tr>\n",
       "      <th>123</th>\n",
       "      <td>1115.384615</td>\n",
       "    </tr>\n",
       "  </tbody>\n",
       "</table>\n",
       "<p>159 rows × 1 columns</p>\n",
       "</div>"
      ],
      "text/plain": [
       "      percentage\n",
       "59      0.000099\n",
       "1       0.001012\n",
       "37      0.001024\n",
       "118     0.945946\n",
       "42      0.960686\n",
       "7       0.976628\n",
       "91      0.978000\n",
       "137     0.990291\n",
       "131     1.000000\n",
       "33      1.000000\n",
       "49      1.008902\n",
       "98      1.009281\n",
       "13      1.010568\n",
       "22      1.018519\n",
       "99      1.020408\n",
       "138     1.030769\n",
       "95      1.033333\n",
       "2       1.036638\n",
       "52      1.042945\n",
       "104     1.054463\n",
       "35      1.061693\n",
       "96      1.062007\n",
       "126     1.065089\n",
       "156     1.067647\n",
       "19      1.071429\n",
       "34      1.074286\n",
       "125     1.075964\n",
       "158     1.078261\n",
       "76      1.090909\n",
       "67      1.128571\n",
       "..           ...\n",
       "71      1.877729\n",
       "77      1.897805\n",
       "30      1.910738\n",
       "140     1.914286\n",
       "44      1.917098\n",
       "10      1.939163\n",
       "72      1.950000\n",
       "90      1.972973\n",
       "106     1.973913\n",
       "70      2.114286\n",
       "134     2.122449\n",
       "82      2.130984\n",
       "109     2.176636\n",
       "79      2.205403\n",
       "20      2.211538\n",
       "84      2.249166\n",
       "143     2.261905\n",
       "130     2.277916\n",
       "55      2.280000\n",
       "124     2.311561\n",
       "64      2.319149\n",
       "94      2.326531\n",
       "108     2.371429\n",
       "157     2.444444\n",
       "63      2.681707\n",
       "87      2.764706\n",
       "127     2.969697\n",
       "145     3.308271\n",
       "120     4.218009\n",
       "123  1115.384615\n",
       "\n",
       "[159 rows x 1 columns]"
      ]
     },
     "execution_count": 19,
     "metadata": {},
     "output_type": "execute_result"
    }
   ],
   "source": [
    "ID_Duplo = DataFrame[DataFrame['id'].duplicated(keep = False)]\n",
    "\n",
    "ID_Duplo_Length = ID_Duplo.shape[0]\n",
    "#CALCULANDO A VALORIZAÇÃO/DESVALORIZAÇÃO PELO TEMPO ENTRE OS IDS IGUAIS E SALVANDO OS VALORES EM meanProfit\n",
    "meanProfit = []\n",
    "for i in range(0, ID_Duplo_Length, 2):\n",
    "    if(i+1 < ID_Duplo_Length):\n",
    "        locActual = ID_Duplo.iloc[i,:]\n",
    "        locProx = ID_Duplo.iloc[i+1,:]\n",
    "        if(locActual.id == locProx.id):\n",
    "            if locActual['date'] > locProx['date']:\n",
    "                meanProfit.append(locActual['price']/locProx['price'])\n",
    "            else:\n",
    "                meanProfit.append(locProx['price']/locActual['price'])\n",
    "        else:\n",
    "            meanProfit.append(0)\n",
    "    else:\n",
    "        meanProfit.append(0)\n",
    "        \n",
    "#montando DataFrame com a valorização ou desvalorização dos imóveis\n",
    "df_meanProfit = pd.DataFrame(meanProfit, columns = ['percentage'])    \n",
    "df_meanProfit = df_meanProfit[df_meanProfit['percentage'] != 0]\n",
    "#Passando de lista para DataFrame e retirando valores zerados\n",
    "\n",
    "df_meanProfit.sort_values(by=['percentage'])"
   ]
  },
  {
   "cell_type": "markdown",
   "metadata": {},
   "source": [
    "<h3> É possível perceber que existem algumas porcentagens atuando como outliers para cima, como um aumento de 718875.81%, quanto para baixo, como um \"aumento\" de 0.000084%, ou seja, uma diminuição. Sendo assim será removido tanto os 5 maiores quanto os 5 menores valores  </h3>"
   ]
  },
  {
   "cell_type": "code",
   "execution_count": 23,
   "metadata": {},
   "outputs": [
    {
     "data": {
      "text/html": [
       "<div>\n",
       "<style>\n",
       "    .dataframe thead tr:only-child th {\n",
       "        text-align: right;\n",
       "    }\n",
       "\n",
       "    .dataframe thead th {\n",
       "        text-align: left;\n",
       "    }\n",
       "\n",
       "    .dataframe tbody tr th {\n",
       "        vertical-align: top;\n",
       "    }\n",
       "</style>\n",
       "<table border=\"1\" class=\"dataframe\">\n",
       "  <thead>\n",
       "    <tr style=\"text-align: right;\">\n",
       "      <th></th>\n",
       "      <th>percentage</th>\n",
       "    </tr>\n",
       "  </thead>\n",
       "  <tbody>\n",
       "    <tr>\n",
       "      <th>96</th>\n",
       "      <td>1.062007</td>\n",
       "    </tr>\n",
       "    <tr>\n",
       "      <th>126</th>\n",
       "      <td>1.065089</td>\n",
       "    </tr>\n",
       "    <tr>\n",
       "      <th>156</th>\n",
       "      <td>1.067647</td>\n",
       "    </tr>\n",
       "    <tr>\n",
       "      <th>19</th>\n",
       "      <td>1.071429</td>\n",
       "    </tr>\n",
       "    <tr>\n",
       "      <th>34</th>\n",
       "      <td>1.074286</td>\n",
       "    </tr>\n",
       "    <tr>\n",
       "      <th>125</th>\n",
       "      <td>1.075964</td>\n",
       "    </tr>\n",
       "    <tr>\n",
       "      <th>158</th>\n",
       "      <td>1.078261</td>\n",
       "    </tr>\n",
       "    <tr>\n",
       "      <th>76</th>\n",
       "      <td>1.090909</td>\n",
       "    </tr>\n",
       "    <tr>\n",
       "      <th>67</th>\n",
       "      <td>1.128571</td>\n",
       "    </tr>\n",
       "    <tr>\n",
       "      <th>110</th>\n",
       "      <td>1.144928</td>\n",
       "    </tr>\n",
       "    <tr>\n",
       "      <th>152</th>\n",
       "      <td>1.146043</td>\n",
       "    </tr>\n",
       "    <tr>\n",
       "      <th>149</th>\n",
       "      <td>1.166667</td>\n",
       "    </tr>\n",
       "    <tr>\n",
       "      <th>66</th>\n",
       "      <td>1.200000</td>\n",
       "    </tr>\n",
       "    <tr>\n",
       "      <th>147</th>\n",
       "      <td>1.205674</td>\n",
       "    </tr>\n",
       "    <tr>\n",
       "      <th>53</th>\n",
       "      <td>1.231084</td>\n",
       "    </tr>\n",
       "    <tr>\n",
       "      <th>28</th>\n",
       "      <td>1.238095</td>\n",
       "    </tr>\n",
       "    <tr>\n",
       "      <th>92</th>\n",
       "      <td>1.238095</td>\n",
       "    </tr>\n",
       "    <tr>\n",
       "      <th>16</th>\n",
       "      <td>1.280000</td>\n",
       "    </tr>\n",
       "    <tr>\n",
       "      <th>62</th>\n",
       "      <td>1.299750</td>\n",
       "    </tr>\n",
       "    <tr>\n",
       "      <th>51</th>\n",
       "      <td>1.311111</td>\n",
       "    </tr>\n",
       "    <tr>\n",
       "      <th>88</th>\n",
       "      <td>1.321867</td>\n",
       "    </tr>\n",
       "    <tr>\n",
       "      <th>65</th>\n",
       "      <td>1.342667</td>\n",
       "    </tr>\n",
       "    <tr>\n",
       "      <th>36</th>\n",
       "      <td>1.343636</td>\n",
       "    </tr>\n",
       "    <tr>\n",
       "      <th>50</th>\n",
       "      <td>1.348958</td>\n",
       "    </tr>\n",
       "    <tr>\n",
       "      <th>9</th>\n",
       "      <td>1.356618</td>\n",
       "    </tr>\n",
       "    <tr>\n",
       "      <th>117</th>\n",
       "      <td>1.366460</td>\n",
       "    </tr>\n",
       "    <tr>\n",
       "      <th>80</th>\n",
       "      <td>1.378151</td>\n",
       "    </tr>\n",
       "    <tr>\n",
       "      <th>25</th>\n",
       "      <td>1.382353</td>\n",
       "    </tr>\n",
       "    <tr>\n",
       "      <th>39</th>\n",
       "      <td>1.390604</td>\n",
       "    </tr>\n",
       "    <tr>\n",
       "      <th>12</th>\n",
       "      <td>1.404651</td>\n",
       "    </tr>\n",
       "    <tr>\n",
       "      <th>...</th>\n",
       "      <td>...</td>\n",
       "    </tr>\n",
       "    <tr>\n",
       "      <th>151</th>\n",
       "      <td>1.708571</td>\n",
       "    </tr>\n",
       "    <tr>\n",
       "      <th>141</th>\n",
       "      <td>1.721944</td>\n",
       "    </tr>\n",
       "    <tr>\n",
       "      <th>119</th>\n",
       "      <td>1.722222</td>\n",
       "    </tr>\n",
       "    <tr>\n",
       "      <th>97</th>\n",
       "      <td>1.727564</td>\n",
       "    </tr>\n",
       "    <tr>\n",
       "      <th>103</th>\n",
       "      <td>1.731250</td>\n",
       "    </tr>\n",
       "    <tr>\n",
       "      <th>11</th>\n",
       "      <td>1.738088</td>\n",
       "    </tr>\n",
       "    <tr>\n",
       "      <th>54</th>\n",
       "      <td>1.738710</td>\n",
       "    </tr>\n",
       "    <tr>\n",
       "      <th>81</th>\n",
       "      <td>1.750000</td>\n",
       "    </tr>\n",
       "    <tr>\n",
       "      <th>132</th>\n",
       "      <td>1.757049</td>\n",
       "    </tr>\n",
       "    <tr>\n",
       "      <th>136</th>\n",
       "      <td>1.757143</td>\n",
       "    </tr>\n",
       "    <tr>\n",
       "      <th>73</th>\n",
       "      <td>1.758621</td>\n",
       "    </tr>\n",
       "    <tr>\n",
       "      <th>15</th>\n",
       "      <td>1.787440</td>\n",
       "    </tr>\n",
       "    <tr>\n",
       "      <th>57</th>\n",
       "      <td>1.794709</td>\n",
       "    </tr>\n",
       "    <tr>\n",
       "      <th>17</th>\n",
       "      <td>1.800554</td>\n",
       "    </tr>\n",
       "    <tr>\n",
       "      <th>32</th>\n",
       "      <td>1.805556</td>\n",
       "    </tr>\n",
       "    <tr>\n",
       "      <th>83</th>\n",
       "      <td>1.806452</td>\n",
       "    </tr>\n",
       "    <tr>\n",
       "      <th>56</th>\n",
       "      <td>1.807692</td>\n",
       "    </tr>\n",
       "    <tr>\n",
       "      <th>43</th>\n",
       "      <td>1.811594</td>\n",
       "    </tr>\n",
       "    <tr>\n",
       "      <th>112</th>\n",
       "      <td>1.837838</td>\n",
       "    </tr>\n",
       "    <tr>\n",
       "      <th>27</th>\n",
       "      <td>1.862857</td>\n",
       "    </tr>\n",
       "    <tr>\n",
       "      <th>71</th>\n",
       "      <td>1.877729</td>\n",
       "    </tr>\n",
       "    <tr>\n",
       "      <th>77</th>\n",
       "      <td>1.897805</td>\n",
       "    </tr>\n",
       "    <tr>\n",
       "      <th>30</th>\n",
       "      <td>1.910738</td>\n",
       "    </tr>\n",
       "    <tr>\n",
       "      <th>140</th>\n",
       "      <td>1.914286</td>\n",
       "    </tr>\n",
       "    <tr>\n",
       "      <th>44</th>\n",
       "      <td>1.917098</td>\n",
       "    </tr>\n",
       "    <tr>\n",
       "      <th>10</th>\n",
       "      <td>1.939163</td>\n",
       "    </tr>\n",
       "    <tr>\n",
       "      <th>72</th>\n",
       "      <td>1.950000</td>\n",
       "    </tr>\n",
       "    <tr>\n",
       "      <th>90</th>\n",
       "      <td>1.972973</td>\n",
       "    </tr>\n",
       "    <tr>\n",
       "      <th>106</th>\n",
       "      <td>1.973913</td>\n",
       "    </tr>\n",
       "    <tr>\n",
       "      <th>70</th>\n",
       "      <td>2.114286</td>\n",
       "    </tr>\n",
       "  </tbody>\n",
       "</table>\n",
       "<p>118 rows × 1 columns</p>\n",
       "</div>"
      ],
      "text/plain": [
       "     percentage\n",
       "96     1.062007\n",
       "126    1.065089\n",
       "156    1.067647\n",
       "19     1.071429\n",
       "34     1.074286\n",
       "125    1.075964\n",
       "158    1.078261\n",
       "76     1.090909\n",
       "67     1.128571\n",
       "110    1.144928\n",
       "152    1.146043\n",
       "149    1.166667\n",
       "66     1.200000\n",
       "147    1.205674\n",
       "53     1.231084\n",
       "28     1.238095\n",
       "92     1.238095\n",
       "16     1.280000\n",
       "62     1.299750\n",
       "51     1.311111\n",
       "88     1.321867\n",
       "65     1.342667\n",
       "36     1.343636\n",
       "50     1.348958\n",
       "9      1.356618\n",
       "117    1.366460\n",
       "80     1.378151\n",
       "25     1.382353\n",
       "39     1.390604\n",
       "12     1.404651\n",
       "..          ...\n",
       "151    1.708571\n",
       "141    1.721944\n",
       "119    1.722222\n",
       "97     1.727564\n",
       "103    1.731250\n",
       "11     1.738088\n",
       "54     1.738710\n",
       "81     1.750000\n",
       "132    1.757049\n",
       "136    1.757143\n",
       "73     1.758621\n",
       "15     1.787440\n",
       "57     1.794709\n",
       "17     1.800554\n",
       "32     1.805556\n",
       "83     1.806452\n",
       "56     1.807692\n",
       "43     1.811594\n",
       "112    1.837838\n",
       "27     1.862857\n",
       "71     1.877729\n",
       "77     1.897805\n",
       "30     1.910738\n",
       "140    1.914286\n",
       "44     1.917098\n",
       "10     1.939163\n",
       "72     1.950000\n",
       "90     1.972973\n",
       "106    1.973913\n",
       "70     2.114286\n",
       "\n",
       "[118 rows x 1 columns]"
      ]
     },
     "execution_count": 23,
     "metadata": {},
     "output_type": "execute_result"
    }
   ],
   "source": [
    "for i in range(5):\n",
    "    df_meanProfit = df_meanProfit[df_meanProfit['percentage'] != df_meanProfit['percentage'].max()]\n",
    "    df_meanProfit = df_meanProfit[df_meanProfit['percentage'] != df_meanProfit['percentage'].min()]\n",
    "df_meanProfit.sort_values(by=['percentage'])\n",
    "#Aqui já é possível ver valores mais 'reais', para realização de uma boa análise"
   ]
  },
  {
   "cell_type": "code",
   "execution_count": 24,
   "metadata": {},
   "outputs": [
    {
     "data": {
      "text/plain": [
       "percentage    1.547665\n",
       "dtype: float64"
      ]
     },
     "execution_count": 24,
     "metadata": {},
     "output_type": "execute_result"
    }
   ],
   "source": [
    "df_meanProfit.mean()"
   ]
  },
  {
   "cell_type": "code",
   "execution_count": 25,
   "metadata": {},
   "outputs": [
    {
     "data": {
      "text/plain": [
       "percentage    1.57918\n",
       "dtype: float64"
      ]
     },
     "execution_count": 25,
     "metadata": {},
     "output_type": "execute_result"
    }
   ],
   "source": [
    "df_meanProfit.median()"
   ]
  },
  {
   "cell_type": "code",
   "execution_count": 26,
   "metadata": {},
   "outputs": [
    {
     "data": {
      "text/html": [
       "<div>\n",
       "<style>\n",
       "    .dataframe thead tr:only-child th {\n",
       "        text-align: right;\n",
       "    }\n",
       "\n",
       "    .dataframe thead th {\n",
       "        text-align: left;\n",
       "    }\n",
       "\n",
       "    .dataframe tbody tr th {\n",
       "        vertical-align: top;\n",
       "    }\n",
       "</style>\n",
       "<table border=\"1\" class=\"dataframe\">\n",
       "  <thead>\n",
       "    <tr style=\"text-align: right;\">\n",
       "      <th></th>\n",
       "      <th>percentage</th>\n",
       "    </tr>\n",
       "  </thead>\n",
       "  <tbody>\n",
       "    <tr>\n",
       "      <th>0</th>\n",
       "      <td>1.238095</td>\n",
       "    </tr>\n",
       "  </tbody>\n",
       "</table>\n",
       "</div>"
      ],
      "text/plain": [
       "   percentage\n",
       "0    1.238095"
      ]
     },
     "execution_count": 26,
     "metadata": {},
     "output_type": "execute_result"
    }
   ],
   "source": [
    "df_meanProfit.mode()"
   ]
  },
  {
   "cell_type": "code",
   "execution_count": 31,
   "metadata": {},
   "outputs": [
    {
     "ename": "AttributeError",
     "evalue": "module 'seaborn' has no attribute 'histplot'",
     "output_type": "error",
     "traceback": [
      "\u001b[1;31m---------------------------------------------------------------------------\u001b[0m",
      "\u001b[1;31mAttributeError\u001b[0m                            Traceback (most recent call last)",
      "\u001b[1;32m<ipython-input-31-11b86dc2d231>\u001b[0m in \u001b[0;36m<module>\u001b[1;34m()\u001b[0m\n\u001b[1;32m----> 1\u001b[1;33m \u001b[0max\u001b[0m \u001b[1;33m=\u001b[0m \u001b[0msns\u001b[0m\u001b[1;33m.\u001b[0m\u001b[0mhistplot\u001b[0m\u001b[1;33m(\u001b[0m\u001b[1;33m(\u001b[0m\u001b[0mdf_meanProfit\u001b[0m\u001b[1;33m-\u001b[0m\u001b[1;36m1\u001b[0m\u001b[1;33m)\u001b[0m\u001b[1;33m*\u001b[0m\u001b[1;36m100\u001b[0m\u001b[1;33m,\u001b[0m \u001b[0mbins\u001b[0m \u001b[1;33m=\u001b[0m \u001b[1;36m70\u001b[0m\u001b[1;33m,\u001b[0m \u001b[0mkde\u001b[0m \u001b[1;33m=\u001b[0m \u001b[1;32mTrue\u001b[0m\u001b[1;33m)\u001b[0m\u001b[1;33m\u001b[0m\u001b[0m\n\u001b[0m\u001b[0;32m      2\u001b[0m \u001b[1;33m\u001b[0m\u001b[0m\n\u001b[0;32m      3\u001b[0m \u001b[0max\u001b[0m\u001b[1;33m.\u001b[0m\u001b[0mfigure\u001b[0m\u001b[1;33m.\u001b[0m\u001b[0mset_size_inches\u001b[0m\u001b[1;33m(\u001b[0m\u001b[1;36m12\u001b[0m\u001b[1;33m,\u001b[0m \u001b[1;36m6\u001b[0m\u001b[1;33m)\u001b[0m\u001b[1;33m\u001b[0m\u001b[0m\n\u001b[0;32m      4\u001b[0m \u001b[0max\u001b[0m\u001b[1;33m.\u001b[0m\u001b[0mset_title\u001b[0m\u001b[1;33m(\u001b[0m\u001b[1;34m'Distribuição de Frequências - Acumulo dos valores dos calculos da valorização com o tempo'\u001b[0m\u001b[1;33m,\u001b[0m \u001b[0mfontsize\u001b[0m\u001b[1;33m=\u001b[0m\u001b[1;36m18\u001b[0m\u001b[1;33m)\u001b[0m\u001b[1;33m\u001b[0m\u001b[0m\n\u001b[0;32m      5\u001b[0m \u001b[0max\u001b[0m\u001b[1;33m.\u001b[0m\u001b[0mset_xlabel\u001b[0m\u001b[1;33m(\u001b[0m\u001b[1;34m'Porcentagem de valorização'\u001b[0m\u001b[1;33m,\u001b[0m \u001b[0mfontsize\u001b[0m\u001b[1;33m=\u001b[0m\u001b[1;36m14\u001b[0m\u001b[1;33m)\u001b[0m\u001b[1;33m\u001b[0m\u001b[0m\n",
      "\u001b[1;31mAttributeError\u001b[0m: module 'seaborn' has no attribute 'histplot'"
     ]
    }
   ],
   "source": [
    "ax = sns.histplot((df_meanProfit-1)*100, bins = 70, kde = True)\n",
    "\n",
    "ax.figure.set_size_inches(12, 6)\n",
    "ax.set_title('Distribuição de Frequências - Acumulo dos valores dos calculos da valorização com o tempo', fontsize=18)\n",
    "ax.set_xlabel('Porcentagem de valorização', fontsize=14)\n",
    "ax"
   ]
  },
  {
   "cell_type": "markdown",
   "metadata": {},
   "source": [
    "<h2> Pode-se inferir pelo resultado da média que as casas tendem a valorizar cerca de 25% com o tempo, porém se analisarmos a mediana, a moda e o gráfico acima, é possível observar que o maioria das casas tendem a desvalorizar com o tempo, uma vez que a mediana é menor que 1, ou seja, existe uma desvalorização na maioria das casas, o que também é possível de se observar no gráfico. Sendo assim, apenas esperar o tempo passar, não garantirá uma venda em um valor maior.\n",
    "<br><br><br>\n",
    "    Abaixo é explorado em qual mês o valor de venda é maior de acordo com os dados.\n",
    "</h2>"
   ]
  },
  {
   "cell_type": "code",
   "execution_count": null,
   "metadata": {
    "collapsed": true,
    "scrolled": true
   },
   "outputs": [],
   "source": [
    "DataFrame['date'] = pd.to_datetime(DataFrame['date'])\n",
    "for i in range(12):\n",
    "    meanMonth = DataFrame[DataFrame['date'].dt.month == i+1]\n",
    "    print('a média de valor no mês', i+1, 'é de:', format(meanMonth['price'].mean(),'.1E'))"
   ]
  },
  {
   "cell_type": "code",
   "execution_count": null,
   "metadata": {
    "collapsed": true
   },
   "outputs": [],
   "source": [
    "data_month = DataFrame\n",
    "data_month['month'] = data_month['date'].dt.month\n",
    "\n",
    "\n",
    "ax = sns.barplot(x = [i for i in range(1,13)], y =data_month.groupby('month').price.mean())\n",
    "\n",
    "ax.figure.set_size_inches(12, 6)\n",
    "ax.set_title('Média dos preços das casas de acordo com o mês', fontsize=18)\n",
    "ax.set_xlabel('Mês', fontsize=14)\n",
    "ax.set_ylabel('Preço em Bilhões', fontsize=14)\n",
    "ax"
   ]
  },
  {
   "cell_type": "markdown",
   "metadata": {},
   "source": [
    "<h2> Vimos que o valor de vendas começa a aumentar em maio(5) atinge o auge em julho(7) e\n",
    "em seguida os valores diminuem alcançando uma baixa em novembro(11), se igualando com vendas do primeiro semestre exceto abril(4).<br><br><br> Abaixo a análise a ser feita vai além dos meses mas também em qual ano foram feitas essas vendas.</h2>"
   ]
  },
  {
   "cell_type": "code",
   "execution_count": null,
   "metadata": {
    "collapsed": true,
    "scrolled": true
   },
   "outputs": [],
   "source": [
    "for j in range(2014, 2016, 1):\n",
    "    for i in range(12):\n",
    "        meanMonth = DataFrame[DataFrame['date'].dt.month == i+1]\n",
    "        meanMonthPerYear = meanMonth[meanMonth['date'].dt.year == j]\n",
    "        print('a média de valor no mês', i+1, 'no ano de', j,'é de:', format(meanMonthPerYear['price'].mean(),'.1E'))"
   ]
  },
  {
   "cell_type": "code",
   "execution_count": null,
   "metadata": {
    "collapsed": true
   },
   "outputs": [],
   "source": [
    "data_month = DataFrame\n",
    "data_month['year-month'] = (data_month['date'].dt.year).astype(str) + '/' + (data_month['date'].dt.month).astype(str)\n",
    "\n",
    "label = data_month['year-month'].value_counts().index\n",
    "\n",
    "\n",
    "label \n"
   ]
  },
  {
   "cell_type": "code",
   "execution_count": null,
   "metadata": {
    "collapsed": true
   },
   "outputs": [],
   "source": [
    "label = ['2015/04', '2014/07', '2014/06', '2014/08', '2014/10', '2015/03', '2014/09',\n",
    "       '2014/05', '2014/12', '2014/11', '2015/02', '2015/01', '2015/05']\n",
    "label = sorted(label)\n",
    "values = data_month.groupby('year-month').price.mean()\n",
    "\n",
    "values.index"
   ]
  },
  {
   "cell_type": "code",
   "execution_count": null,
   "metadata": {
    "collapsed": true
   },
   "outputs": [],
   "source": [
    "values.index = ['2014/10', '2014/11', '2014/12', '2014/05', '2014/06', '2014/07', '2014/08',\n",
    "       '2014/09', '2015/01', '2015/02', '2015/03', '2015/04', '2015/05']\n",
    "\n",
    "ax = sns.barplot(x = label , y = values.sort_index())\n",
    "ax.figure.set_size_inches(12, 6)\n",
    "ax.set_title('Média dos preços das casas de acordo com o mês e ano', fontsize=18)\n",
    "ax.set_xlabel('Ano / Mês', fontsize=14)\n",
    "ax.set_ylabel('Preço em Bilhões', fontsize=14)\n",
    "ax"
   ]
  },
  {
   "cell_type": "markdown",
   "metadata": {},
   "source": [
    "<h2> Nesta análise vê-se que os dados confirmam a ideia de que as vendas a partir de julho tendem a ser maiores e também é possível inferir uma valorização nas casas de 2014 para 2015, desta forma uma estratégia de negócio seria esperar a valorização do imóvel de um ano para o outro, se esta for uma opção viável.<br><br><br> A análise abaixo busca compreender o impacto do número de banheiros no valor da casa.</h2>"
   ]
  },
  {
   "cell_type": "code",
   "execution_count": null,
   "metadata": {
    "collapsed": true,
    "scrolled": false
   },
   "outputs": [],
   "source": [
    "bathrooms = DataFrame['bathrooms'].value_counts().sort_index()\n",
    "save = bathrooms.tolist()\n",
    "#print(bathrooms)\n",
    "for i in range(len(bathrooms)):\n",
    "    if i>3:\n",
    "        meanVal = DataFrame[DataFrame['bathrooms'] == (i/4)]\n",
    "        print('a média de valor para', i*0.25, 'banheiros é de:', format(meanVal['price'].mean(),'.1E'))\n",
    "        save[i-3] = (meanVal['price'].mean())\n",
    "    else:\n",
    "        if i == 0:\n",
    "            meanVal = DataFrame[DataFrame['bathrooms'] == i]\n",
    "            print('a média de valor para', i, 'banheiros é de:', format(meanVal['price'].mean(),'.1E'))\n",
    "            save[i] = (meanVal['price'].mean())\n",
    "            \n",
    "        elif i==1:\n",
    "            meanVal = DataFrame[DataFrame['bathrooms'] == 7.5]\n",
    "            print('a média de valor para', 7.5, 'banheiros é de:', format(meanVal['price'].mean(),'.1E'))\n",
    "            save[27] = (meanVal['price'].mean())\n",
    "            \n",
    "        elif i==2:\n",
    "            meanVal = DataFrame[DataFrame['bathrooms'] == 7.75]\n",
    "            print('a média de valor para', 7.75, 'banheiros é de:', format(meanVal['price'].mean(),'.1E'))\n",
    "            save[28] = (meanVal['price'].mean())\n",
    "\n",
    "        elif i==3:\n",
    "            meanVal = DataFrame[DataFrame['bathrooms'] == 8]\n",
    "            print('a média de valor para', 8, 'banheiros é de:', format(meanVal['price'].mean(),'.1E'))\n",
    "            save[29] = (meanVal['price'].mean())\n"
   ]
  },
  {
   "cell_type": "code",
   "execution_count": null,
   "metadata": {
    "collapsed": true
   },
   "outputs": [],
   "source": [
    "classes = [0, 0.99, 1.99, 2.99, 3.99, 4.99, 5.99, 6.99, 100]\n",
    "labels = [0, 1, 2, 3, 4, 5, 6, '7+']\n",
    "df_bathrooms = DataFrame\n",
    "df_bathrooms['frequencia'] =  pd.cut(x = df_bathrooms.bathrooms,\n",
    "         bins = classes,\n",
    "         labels = labels,\n",
    "         include_lowest = True)\n",
    "df_bathrooms[df_bathrooms['frequencia'] == 1].price.mean()"
   ]
  },
  {
   "cell_type": "code",
   "execution_count": null,
   "metadata": {
    "collapsed": true
   },
   "outputs": [],
   "source": [
    "ax = sns.barplot(x = labels, y = df_bathrooms.groupby('frequencia').price.mean())\n",
    "\n",
    "ax.figure.set_size_inches(12, 6)\n",
    "ax.set_title('Média dos preços das casas de acordo com o número de banheiros', fontsize=18)\n",
    "ax.set_xlabel('Número de banheiros', fontsize=14)\n",
    "ax.set_ylabel('Preço em 10 Bilhões', fontsize=14)"
   ]
  },
  {
   "cell_type": "code",
   "execution_count": null,
   "metadata": {
    "collapsed": true
   },
   "outputs": [],
   "source": [
    "ax = sns.barplot(x = labels, y = df_bathrooms.groupby('frequencia').price.median())\n",
    "\n",
    "ax.figure.set_size_inches(12, 6)\n",
    "ax.set_title('Mediana dos preços das casas de acordo com o número de banheiros', fontsize=18)\n",
    "ax.set_xlabel('Número de banheiros', fontsize=14)\n",
    "ax.set_ylabel('Preço em 100 Milhões', fontsize=14)"
   ]
  },
  {
   "cell_type": "code",
   "execution_count": null,
   "metadata": {
    "collapsed": true
   },
   "outputs": [],
   "source": [
    "ax = sns.barplot(x = labels, y = df_bathrooms.groupby('frequencia').price.std())\n",
    "\n",
    "ax.figure.set_size_inches(12, 6)\n",
    "ax.set_title('Desvio padrão dos preços das casas de acordo com o número de banheiros', fontsize=18)\n",
    "ax.set_xlabel('Número de banheiros', fontsize=14)\n",
    "ax.set_ylabel('Preço em 10 Bilhões', fontsize=14)"
   ]
  },
  {
   "cell_type": "markdown",
   "metadata": {},
   "source": [
    "<h2> Pode-se observar que o número de banheiros provavelmente não é a variável que mais afeta o preço das casas, porém é interessante analisar que as casas da classe 6 banheiros tem uma valorização alta.</h2>"
   ]
  },
  {
   "cell_type": "markdown",
   "metadata": {},
   "source": [
    "<h2> As análises abaixo serão feitas de mesma forma, mas levará em conta o número de quartos, andares, fontes de água frontal e view(que eu assumi como vista para pontos turísticos ou então paisagens).</h2>"
   ]
  },
  {
   "cell_type": "code",
   "execution_count": null,
   "metadata": {
    "collapsed": true
   },
   "outputs": [],
   "source": [
    "bedrooms = DataFrame['bedrooms'].value_counts().sort_index()\n",
    "save = bedrooms.tolist()\n",
    "#print(bedrooms)\n",
    "for i in range(len(bedrooms)):\n",
    "    if i == 12:\n",
    "        meanVal = DataFrame[DataFrame['bedrooms'] == 33]\n",
    "        print('a média de valor para', 33, 'quartos é de:', format(meanVal['price'].mean(),'.1E'))\n",
    "        save[i] = (meanVal['price'].mean())\n",
    "    else:    \n",
    "        meanVal = DataFrame[DataFrame['bedrooms'] == i]\n",
    "        print('a média de valor para', i, 'quarto(s) é de:', format(meanVal['price'].mean(),'.1E'))\n",
    "        save[i] = (meanVal['price'].mean())\n",
    "\n",
    "        \n",
    "    \n",
    "    "
   ]
  },
  {
   "cell_type": "code",
   "execution_count": null,
   "metadata": {
    "collapsed": true
   },
   "outputs": [],
   "source": [
    "classes = [0, 0.99, 1.99, 2.99, 3.99, 4.99, 5.99, 6.99, 100]\n",
    "labels = [0, 1, 2, 3, 4, 5, 6, '7+']\n",
    "df_bedrooms = DataFrame\n",
    "df_bedrooms['frequencia'] =  pd.cut(x = df_bedrooms.bedrooms,\n",
    "         bins = classes,\n",
    "         labels = labels,\n",
    "         include_lowest = True)\n",
    "df_bathrooms[df_bathrooms['frequencia'] == 1].price.mean()"
   ]
  },
  {
   "cell_type": "code",
   "execution_count": null,
   "metadata": {
    "collapsed": true
   },
   "outputs": [],
   "source": [
    "ax = sns.barplot(x = labels, y = df_bedrooms.groupby('frequencia').price.mean())\n",
    "\n",
    "ax.figure.set_size_inches(12, 6)\n",
    "ax.set_title('Média dos preços das casas de acordo com o número de quartos', fontsize=18)\n",
    "ax.set_xlabel('Número de quartos', fontsize=14)\n",
    "ax.set_ylabel('Preço em 10 Bilhões', fontsize=14)"
   ]
  },
  {
   "cell_type": "code",
   "execution_count": null,
   "metadata": {
    "collapsed": true
   },
   "outputs": [],
   "source": [
    "ax = sns.barplot(x = labels, y = df_bedrooms.groupby('frequencia').price.median())\n",
    "\n",
    "ax.figure.set_size_inches(12, 6)\n",
    "ax.set_title('Mediana dos preços das casas de acordo com o número de quartos', fontsize=18)\n",
    "ax.set_xlabel('Número de quartos', fontsize=14)\n",
    "ax.set_ylabel('Preço', fontsize=14)"
   ]
  },
  {
   "cell_type": "code",
   "execution_count": null,
   "metadata": {
    "collapsed": true
   },
   "outputs": [],
   "source": [
    "ax = sns.barplot(x = labels, y = df_bedrooms.groupby('frequencia').price.std())\n",
    "\n",
    "ax.figure.set_size_inches(12, 6)\n",
    "ax.set_title('Desvio padrão dos preços das casas de acordo com o número de quartos', fontsize=18)\n",
    "ax.set_xlabel('Número de quartos', fontsize=14)\n",
    "ax.set_ylabel('Preço em 10 Bilhões', fontsize=14)"
   ]
  },
  {
   "cell_type": "markdown",
   "metadata": {},
   "source": [
    "<h2> Pela média é possível concluir que ter quartos é uma decisão ruim, o que me faz pensar que estes dados não são apenas de casas e sim de qualquer construção, incluindo edifícios para negócios. Entretanto, observando a mediana e desvio padrão podemos perceber que o aumento de quartos tende a aumentar a mediana e o desvio padrão em comparação com a média, sendo assim podemos concluir que o número de quartos influência o valor de uma casa, não de um edifício de negócio onde não existe a necessidade de um quarto. Sendo assim percebo que para analisar melhor a base de dados seria necessário separar as casas das demais construções.</h2>"
   ]
  },
  {
   "cell_type": "code",
   "execution_count": null,
   "metadata": {
    "collapsed": true
   },
   "outputs": [],
   "source": [
    "floors = DataFrame['floors'].value_counts().sort_index()\n",
    "save = floors.tolist()\n",
    "#print(floors)\n",
    "for i in range(len(floors)):\n",
    "    meanVal = DataFrame[DataFrame['floors'] == ((i*0.5)+1)]\n",
    "    print('a média de valor para', ((i*0.5)+1), 'andar(es) é de:', format(meanVal['price'].mean(),'.1E'))\n",
    "    save[i] = (meanVal['price'].mean())\n"
   ]
  },
  {
   "cell_type": "code",
   "execution_count": null,
   "metadata": {
    "collapsed": true
   },
   "outputs": [],
   "source": [
    "classes = [1, 1.99, 2.99, 100]\n",
    "labels = [ 1, 2, '3+']\n",
    "df_floors = DataFrame\n",
    "df_floors['frequencia'] =  pd.cut(x = df_floors.floors,\n",
    "         bins = classes,\n",
    "         labels = labels,\n",
    "         include_lowest = True)"
   ]
  },
  {
   "cell_type": "code",
   "execution_count": null,
   "metadata": {
    "collapsed": true
   },
   "outputs": [],
   "source": [
    "ax = sns.barplot(x = labels, y = df_floors.groupby('frequencia').price.mean())\n",
    "\n",
    "ax.figure.set_size_inches(12, 6)\n",
    "ax.set_title('Média dos preços das casas de acordo com o número de andares', fontsize=18)\n",
    "ax.set_xlabel('Número de andares', fontsize=14)\n",
    "ax.set_ylabel('Preço em Bilhões', fontsize=14)"
   ]
  },
  {
   "cell_type": "code",
   "execution_count": null,
   "metadata": {
    "collapsed": true
   },
   "outputs": [],
   "source": [
    "ax = sns.barplot(x = labels, y = df_floors.groupby('frequencia').price.median())\n",
    "\n",
    "ax.figure.set_size_inches(12, 6)\n",
    "ax.set_title('Mediana dos preços das casas de acordo com o número de andares', fontsize=18)\n",
    "ax.set_xlabel('Número de andares', fontsize=14)\n",
    "ax.set_ylabel('Preço', fontsize=14)"
   ]
  },
  {
   "cell_type": "code",
   "execution_count": null,
   "metadata": {
    "collapsed": true
   },
   "outputs": [],
   "source": [
    "ax = sns.barplot(x = labels, y = df_floors.groupby('frequencia').price.std())\n",
    "\n",
    "ax.figure.set_size_inches(12, 6)\n",
    "ax.set_title('Desvio Padrão dos preços das casas de acordo com o número de andares', fontsize=18)\n",
    "ax.set_xlabel('Número de andares', fontsize=14)\n",
    "ax.set_ylabel('Preço em 10 Bilhões', fontsize=14)"
   ]
  },
  {
   "cell_type": "markdown",
   "metadata": {},
   "source": [
    "<h2> Assim como nos dados sobre banheiros, nos dados de andares vemos que o ideal do imóvel é ter 2 andares, pois este se mantém em alta tanto na média quanto na mediana, porém como seu desvio padrão também é elevado, podemos concluir que não é somente a quantidade de andares que afetará o preço da casa ou edifício.</h2>"
   ]
  },
  {
   "cell_type": "code",
   "execution_count": null,
   "metadata": {
    "collapsed": true
   },
   "outputs": [],
   "source": [
    "waterfront = DataFrame['waterfront'].value_counts().sort_index()\n",
    "save = waterfront.tolist()\n",
    "#print(waterfront)\n",
    "for i in range(len(waterfront)):\n",
    "    meanVal = DataFrame[DataFrame['waterfront'] == i]\n",
    "    print('a média de valor para', i, 'fonte de água frontal é de:', format(meanVal['price'].mean(),'.1E'))\n",
    "    save[i] = (meanVal['price'].mean())"
   ]
  },
  {
   "cell_type": "code",
   "execution_count": null,
   "metadata": {
    "collapsed": true
   },
   "outputs": [],
   "source": [
    "ax = sns.barplot(x = [0,1], y = df_floors.groupby('waterfront').price.mean())\n",
    "\n",
    "ax.figure.set_size_inches(12, 6)\n",
    "ax.set_title('Média dos preços das casas de acordo com o número de fontes de água frontal', fontsize=18)\n",
    "ax.set_xlabel('Número de fontes de água frontal', fontsize=14)\n",
    "ax.set_ylabel('Preço em Bilhões', fontsize=14)"
   ]
  },
  {
   "cell_type": "code",
   "execution_count": null,
   "metadata": {
    "collapsed": true
   },
   "outputs": [],
   "source": [
    "ax = sns.barplot(x = [0,1], y = df_floors.groupby('waterfront').price.median())\n",
    "\n",
    "ax.figure.set_size_inches(12, 6)\n",
    "ax.set_title('Média dos preços das casas de acordo com o número de fontes de água frontal', fontsize=18)\n",
    "ax.set_xlabel('Número de fontes de água frontal', fontsize=14)\n",
    "ax.set_ylabel('Preço em Milhões', fontsize=14)"
   ]
  },
  {
   "cell_type": "code",
   "execution_count": null,
   "metadata": {
    "collapsed": true
   },
   "outputs": [],
   "source": [
    "ax = sns.barplot(x = [0,1], y = df_floors.groupby('waterfront').price.std())\n",
    "\n",
    "ax.figure.set_size_inches(12, 6)\n",
    "ax.set_title('Média dos preços das casas de acordo com o número de fontes de água frontal', fontsize=18)\n",
    "ax.set_xlabel('Número de fontes de água frontal', fontsize=14)\n",
    "ax.set_ylabel('Preço em 10 Bilhões', fontsize=14)"
   ]
  },
  {
   "cell_type": "markdown",
   "metadata": {},
   "source": [
    "<h2> Sobre os resultados acima, vemos que com uma mediana na casa dos milhões e com o desvio padrão e média na casa dos bilhões podemos concluir que a fonte pode até influênciar o valor, mas certamente não é um fator principal neste quesito.</h2>"
   ]
  },
  {
   "cell_type": "code",
   "execution_count": null,
   "metadata": {
    "collapsed": true
   },
   "outputs": [],
   "source": [
    "view = DataFrame['view'].value_counts().sort_index()\n",
    "save = view.tolist()\n",
    "#print(view)\n",
    "for i in range(len(view)):\n",
    "    meanVal = DataFrame[DataFrame['view'] == i]\n",
    "    print('a média de valor para', i, 'vista(s) é de:', format(meanVal['price'].mean(),'.1E'))\n",
    "    save[i] = (meanVal['price'].mean())"
   ]
  },
  {
   "cell_type": "code",
   "execution_count": null,
   "metadata": {
    "collapsed": true
   },
   "outputs": [],
   "source": [
    "classes = [0, 0.99, 1.99, 2.99, 3.99, 100]\n",
    "labels = [ 0, 1, 2, 3, '4+']\n",
    "df_view = DataFrame\n",
    "df_view['frequencia'] =  pd.cut(x = df_view.view,\n",
    "         bins = classes,\n",
    "         labels = labels,\n",
    "         include_lowest = True)"
   ]
  },
  {
   "cell_type": "code",
   "execution_count": null,
   "metadata": {
    "collapsed": true
   },
   "outputs": [],
   "source": [
    "ax = sns.barplot(x = labels, y = df_view.groupby('frequencia').price.mean())\n",
    "\n",
    "ax.figure.set_size_inches(12, 6)\n",
    "ax.set_title('Média dos preços das casas de acordo com o número de \"vista\"', fontsize=18)\n",
    "ax.set_xlabel('Número de \"vista\"', fontsize=14)\n",
    "ax.set_ylabel('Preço em Bilhões', fontsize=14)"
   ]
  },
  {
   "cell_type": "code",
   "execution_count": null,
   "metadata": {
    "collapsed": true
   },
   "outputs": [],
   "source": [
    "ax = sns.barplot(x = labels, y = df_view.groupby('frequencia').price.median())\n",
    "\n",
    "ax.figure.set_size_inches(12, 6)\n",
    "ax.set_title('Média dos preços das casas de acordo com o número de \"vista\"', fontsize=18)\n",
    "ax.set_xlabel('Número de \"vista\"', fontsize=14)\n",
    "ax.set_ylabel('Preço em Milhões', fontsize=14)"
   ]
  },
  {
   "cell_type": "code",
   "execution_count": null,
   "metadata": {
    "collapsed": true
   },
   "outputs": [],
   "source": [
    "ax = sns.barplot(x = labels, y = df_view.groupby('frequencia').price.std())\n",
    "\n",
    "ax.figure.set_size_inches(12, 6)\n",
    "ax.set_title('Média dos preços das casas de acordo com o número de \"vista\"', fontsize=18)\n",
    "ax.set_xlabel('Número de \"vista\"', fontsize=14)\n",
    "ax.set_ylabel('Preço em 10 Bilhões', fontsize=14)"
   ]
  },
  {
   "cell_type": "markdown",
   "metadata": {},
   "source": [
    "<h2> Pelos dados acima pode-se dizer que é interessante para a empresa observar quais casas possuem uma(1) vista no mínimo e de preferência 4 vistas. Isso se dá por conta da média e mediana crescente de acordo com o n° de vistas, porém o desvio padrão é muito alto. Sendo assim, a vista afeta o preço, porém não é garantia de uma valorização gigantesca na casa.</h2>\n",
    "\n",
    "\n",
    "<br>\n",
    "<br>\n",
    "<br>\n",
    "\n",
    "<h2>Respondendo as perguntas do início:</h2>"
   ]
  },
  {
   "cell_type": "code",
   "execution_count": null,
   "metadata": {
    "collapsed": true
   },
   "outputs": [],
   "source": [
    "classes = [0, 2000, 5000, 10000, 12000, 100000]\n",
    "labels = [ '0-2000', '2000-5000', '5000-10000', '10000-12000', '12000+']\n",
    "\n",
    "df_sqf = DataFrame\n",
    "df_sqf['frequencia'] = pd.cut(x = df_sqf.sqft_living,\n",
    "         bins = classes,\n",
    "         labels = labels,\n",
    "         include_lowest = True)"
   ]
  },
  {
   "cell_type": "code",
   "execution_count": null,
   "metadata": {
    "collapsed": true
   },
   "outputs": [],
   "source": [
    "ax = sns.barplot(x = labels, y = df_sqf.groupby('frequencia').price.mean())\n",
    "\n",
    "ax.figure.set_size_inches(12, 6)\n",
    "ax.set_title('Média dos preços das casas de acordo com o número de \"vista\"', fontsize=18)\n",
    "ax.set_xlabel('Número de \"vista\"', fontsize=14)\n",
    "ax.set_ylabel('Preço em 10 Bilhões', fontsize=14)"
   ]
  },
  {
   "cell_type": "code",
   "execution_count": null,
   "metadata": {
    "collapsed": true
   },
   "outputs": [],
   "source": [
    "ax = sns.barplot(x = labels, y = df_sqf.groupby('frequencia').price.median())\n",
    "\n",
    "ax.figure.set_size_inches(12, 6)\n",
    "ax.set_title('Média dos preços das casas de acordo com o número de \"vista\"', fontsize=18)\n",
    "ax.set_xlabel('Número de \"vista\"', fontsize=14)\n",
    "ax.set_ylabel('Preço em 10 Bilhões', fontsize=14)"
   ]
  },
  {
   "cell_type": "code",
   "execution_count": null,
   "metadata": {
    "collapsed": true
   },
   "outputs": [],
   "source": [
    "ax = sns.barplot(x = labels, y = df_sqf.groupby('frequencia').price.std())\n",
    "\n",
    "ax.figure.set_size_inches(12, 6)\n",
    "ax.set_title('Média dos preços das casas de acordo com o número de \"vista\"', fontsize=18)\n",
    "ax.set_xlabel('Número de \"vista\"', fontsize=14)\n",
    "ax.set_ylabel('Preço em 10 Bilhões', fontsize=14)"
   ]
  },
  {
   "cell_type": "markdown",
   "metadata": {},
   "source": [
    "<h2> 1. Quais casas o CEO da House Rocket deveria comprar e por qual preço de compra? </h2>\n",
    "\n",
    "<h3>Em resumo as casas que o CEO da House Rocket deveria comprar são:\n",
    "    <ol>\n",
    "        <li>Casas com valores menores que 200 mil</li>\n",
    "        <li>De preferência casas passíveis de serem reformadas, ou seja, que não tenham sido reformadas.</li>\n",
    "        <li>De preferência casas no ZipCode 98039.</li>\n",
    "        <li>Casas de 3 a 5 banheiros, e caso não tenha ao ser comprado é indicada a construção dos mesmos na reforma.</li>\n",
    "        <li>Casas de 2 a 5 quartos, e caso não tenha ao ser comprado é indicada a construção dos mesmos na reforma.</li>\n",
    "        <li>Casas de 2 andares, e caso não tenha ao ser comprado é indicada a construção dos mesmos na reforma.</li>\n",
    "        <li>Casas com 1 fonte de água frontal, e caso não tenha ao ser comprado é indicada a construção da mesma na reforma.</li>\n",
    "        <li>Casas com vista e de preferência com o valor igual a 4.</li>\n",
    "    </ol>\n",
    "</h3>"
   ]
  },
  {
   "cell_type": "code",
   "execution_count": null,
   "metadata": {
    "collapsed": true
   },
   "outputs": [],
   "source": [
    "wantedHouses = DataFrame.iloc[0:0]\n",
    "\n",
    "#1\n",
    "df1 = DataFrame[DataFrame['price'] < 200000]\n",
    "\n",
    "#2\n",
    "#df1 = df1[df1['zipcode'] == 98039]\n",
    "\n",
    "#4\n",
    "\n",
    "wantedHouses = wantedHouses.append(df1[df1['bathrooms'] <= 5])\n",
    "\n",
    "#5\n",
    "df1 = wantedHouses \n",
    "wantedHouses = wantedHouses.loc[wantedHouses['bedrooms'] <= 5]\n",
    "\n",
    "#6\n",
    "df1 = wantedHouses \n",
    "wantedHouses = wantedHouses.loc[wantedHouses['floors'] <= 2]\n",
    "\n",
    "#7 não há casas que tenham fonte\n",
    "wantedHouses = wantedHouses.loc[wantedHouses['waterfront'] <= 1]\n",
    "\n",
    "#8\n",
    "\n",
    "wantedHouses = wantedHouses[wantedHouses['view'] > 0]\n",
    "\n",
    "wantedHouses.sort_values(by = 'price')"
   ]
  },
  {
   "cell_type": "code",
   "execution_count": null,
   "metadata": {
    "collapsed": true
   },
   "outputs": [],
   "source": [
    "DataFrame['sqft_lot'].mean()"
   ]
  },
  {
   "cell_type": "markdown",
   "metadata": {},
   "source": [
    "<h3> Essas seriam as 5 melhores opções. Dado as condições possíveis, uma vez que no zipcode preferencial não estão dentro da faixa de preço.\n",
    "    <br><br>\n",
    "A melhor opção seria o imóvel de id igual a 1320069249 com o valor de 192mil, pois é uma casa que atende os requisitos e dado ao seu grande espaço de terreno após uma reforma a empresa conseguiria ter um lucro com a casa, uma vez que uma casa renovada tem a expectativa de aumento, além das outras melhorias possíveis de novos quartos, banheiros, andares e uma fonte de água também podem aumentar o lucro, e por fim ainda sobrar espaço no terreno. \n",
    "    <br><br>\n",
    "    Tudo isso levado em conta, é possível que a divisão deste terreno seja utilizado para construção de novas casas, pois o terreno deste imóvel é enorme, dado por \"sqft_lot\" = 63737, sendo 4 vezes o tamanho médio dos imóveis, desta forma além de lucrar com a reforma na casa já existente é possível lucrar com novos imóveis construídos.</h3>"
   ]
  },
  {
   "cell_type": "markdown",
   "metadata": {},
   "source": [
    "<h2> 2. Uma vez a casa em posse da empresa, qual o melhor momento para vendê-las e qual seria o preço da venda? </h2>\n",
    "\n",
    "<h3>\n",
    "    Caso a casa passe após a reforma de 1 quarto para 3 quartos, 1 banheiro para 3 banheiros, 2 andares e uma fonte de água na frente da casa. É possível que o valor desta casa triplique facilmente, uma vez que os dados informam que essas alterações seriam suficientes para aumentar o valor da casa em mais de 10 vezes, porém sabemos que somente essas alterações não seriam suficientes, seria necessário um maior conhecimento do mercado local, analisar seu posicionamento (zipcode) entre outros fatores que não é possível ser analisado pelos dados. Desta forma a afirmação de que o valor possa triplicar não foge à realidade dos dados e nem à realidade dos negócios, podendo assim dar um \"norte\" para empresa sobre um possível retorno na venda da casa pós reforma.\n",
    "    \n",
    "</h3>"
   ]
  },
  {
   "cell_type": "markdown",
   "metadata": {},
   "source": [
    "<h2> 3. A House Rocket deveria fazer uma reforma para aumentar o preço da venda? Quais seriam as sugestões de mudanças? Qual o incremento no preço dado por cada opção de reforma? </h2>"
   ]
  },
  {
   "cell_type": "markdown",
   "metadata": {},
   "source": [
    "<h3>\n",
    "    <ol>\n",
    "        <li> A House Rocket deveria fazer uma reforma para aumentar o preço da venda?</li>\n",
    "            <p style=\"font-size: 18px;\">-Sim, seria recomendado pois como foi analisado é esperado uma valorização após a reforma, baseado na média de valores das casas reformadas e das não reformadas.</p><br>\n",
    "        <li> Quais seriam as sugestões de mudanças?</li>\n",
    "        <p>Como foi visto anteriormente os requisitos para uma casa com um bom valor de mercado são os seguintes:</p>\n",
    "        <p>\n",
    "        * 3 a 5 banheiros.<br>\n",
    "        * 2 a 5 quartos.<br>\n",
    "        * 2 andares.<br>\n",
    "        * 1 fonte de água frontal.<br>\n",
    "        * vista e de preferência com o valor igual a 4.</p><br>\n",
    "        <p> Os dados indicam um aumento muito absurdo, exemplo: o preço médio de casas de um banheiro para casas com 5 banheiros é de 100 vezes o preço. <br><br> A análise que pode ser feita é de que existe um aumento no valor da casa se esta possuir mais recursos, como mais banheiros, quartos, etc. Sendo assim, pode-se dizer que os valores citados acima seriam encontrados em casas com uma maior valorização, mas que não necessáriamente, você ter 5 banheiros em uma casa esta terá sua valorização multiplicada por 100.</p><br>\n",
    "        <li> Qual o incremento no preço dado por cada opção de reforma?</li>\n",
    "        <p>Essa informação está muito enviesada nos dados, uma vez que não temos uma mesma casa (mesmo ID) que tenha construído mais um banheiro ou um quarto. Sendo assim, seria necessárias casas que tenham havido mudanças em sua construção, por exemplo, uma casa que tenha construído mais um banheiro, para saber o impacto do mesmo no preço, isso acontecendo diversas vezes poderíamos calcular um valor de valorização mais exato.<br>\n",
    "Com os dados atuais a única afirmação possível de ser feita é que dado uma casa com os requisitos citados acima, o esperado é que esta tenha um alto valor em relação a casas que não cumprem esses requisitos.\n",
    "</p><br>\n",
    "    </ol>\n",
    "    \n",
    "</h3>\n",
    "\n",
    "   "
   ]
  },
  {
   "cell_type": "code",
   "execution_count": null,
   "metadata": {
    "collapsed": true
   },
   "outputs": [],
   "source": [
    "ax = sns.boxplot(y = DataFrame.price)\n",
    "\n",
    "ax.figure.set_size_inches(12, 6)\n",
    "ax.set_title('Média dos preços das casas de acordo com o número de \"vista\"', fontsize=18)\n",
    "ax.set_xlabel('Número de \"vista\"', fontsize=14)\n",
    "ax.set_ylabel('Preço em 10 Bilhões', fontsize=14)"
   ]
  },
  {
   "cell_type": "code",
   "execution_count": null,
   "metadata": {
    "collapsed": true
   },
   "outputs": [],
   "source": [
    "ax = sns.boxplot(y = DataFrame.query('price < 1000000').price)\n",
    "\n",
    "ax.figure.set_size_inches(12, 6)\n",
    "ax.set_title('Média dos preços das casas de acordo com o número de \"vista\"', fontsize=18)\n",
    "ax.set_xlabel('Número de \"vista\"', fontsize=14)\n",
    "ax.set_ylabel('Preço em 10 Bilhões', fontsize=14)"
   ]
  },
  {
   "cell_type": "markdown",
   "metadata": {},
   "source": [
    "<h1>Dado os boxplots, é notada a presença de diversos outliers que distorcem as informações. Sendo assim, o projeto será refatorado dividindo as bases em duas bases de dados, Casas e Casas de Luxo.</h1>"
   ]
  }
 ],
 "metadata": {
  "kernelspec": {
   "display_name": "Python 3",
   "language": "python",
   "name": "python3"
  },
  "language_info": {
   "codemirror_mode": {
    "name": "ipython",
    "version": 3
   },
   "file_extension": ".py",
   "mimetype": "text/x-python",
   "name": "python",
   "nbconvert_exporter": "python",
   "pygments_lexer": "ipython3",
   "version": "3.6.1"
  }
 },
 "nbformat": 4,
 "nbformat_minor": 5
}
